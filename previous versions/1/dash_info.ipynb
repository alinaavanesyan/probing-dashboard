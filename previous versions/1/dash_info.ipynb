{
 "cells": [
  {
   "cell_type": "code",
   "execution_count": 16,
   "metadata": {},
   "outputs": [],
   "source": [
    "import dash\n",
    "from dash import dcc\n",
    "from dash import html\n",
    "import pandas as pd\n",
    "import plotly.express as px\n",
    "import json\n",
    "from glob import glob\n",
    "import json\n",
    "from multiprocessing import Pool, RLock\n",
    "import pandas as pd\n",
    "import multiprocessing as mp\n",
    "import seaborn as sn\n",
    "import numpy as np\n",
    "import pandas as pd\n",
    "import matplotlib.pyplot as plt\n",
    "import plotly.graph_objects as go\n",
    "from dash import Dash, dcc, html, Input, Output\n",
    "import plotly.graph_objs as go\n",
    "from plotly.subplots import make_subplots\n",
    "import dash_bootstrap_components as dbc\n",
    "from dash import html\n",
    "from statistics import mean\n",
    "import math\n",
    "from collections import OrderedDict\n",
    "import collections\n",
    "\n",
    "app = dash.Dash(__name__, external_stylesheets=[dbc.themes.FLATLY])\n",
    "\n",
    "server = app.server\n",
    "\n",
    "hits = glob(\"Probing_framework4/results/*/*/*.json\", recursive=True)\n",
    "\n",
    "lang_file = pd.read_csv('all_languages.csv', delimiter=';')\n",
    "\n",
    "all_categories = {}\n",
    "count2 = {}\n",
    "all_layers = {}\n",
    "all_layers_lang = {}\n",
    "lang_files = {}\n",
    "\n",
    "for file_name in hits: \n",
    "    file = open(file_name)\n",
    "    data_file = json.loads(file.read())\n",
    "    lang = data_file[\"params\"][\"task_language\"]\n",
    "    a = lang_file.loc[lang_file['Codes'].isin([lang])]\n",
    "    lang_full = a.iloc[0]['Language']\n",
    "    a = a.iloc[0]['Family']\n",
    "    if a not in lang_files.keys():\n",
    "        lang_files[a] = {}\n",
    "        lang_files[a][lang] = []\n",
    "        lang_files[a][lang].append(file_name)\n",
    "    else:\n",
    "        if lang not in lang_files[a].keys():\n",
    "            lang_files[a][lang] = []\n",
    "            lang_files[a][lang].append(file_name)\n",
    "        else:\n",
    "\n",
    "            lang_files[a][lang].append(file_name)\n",
    "\n",
    "    cat = data_file[\"params\"][\"task_category\"]\n",
    "    if a not in all_layers.keys():\n",
    "        all_layers[a] = {}\n",
    "        all_layers[a]['f1'] = {}\n",
    "        all_layers[a]['accuracy'] = {}\n",
    "    if a not in all_categories.keys():\n",
    "        all_categories[a] = {}\n",
    "        all_categories[a]['f1'] = {}\n",
    "        all_categories[a]['accuracy'] = {}\n",
    "    if cat not in all_categories[a]['f1'].keys():\n",
    "        all_categories[a]['f1'][cat] = 0\n",
    "        all_categories[a]['accuracy'][cat] = 0\n",
    "    number = len(data_file[\"results\"][\"test_score\"][\"f1\"])\n",
    "    if lang_full not in all_layers_lang.keys():\n",
    "        all_layers_lang[lang_full] = {}\n",
    "        all_layers_lang[lang_full]['f1'] = {}\n",
    "        all_layers_lang[lang_full]['accuracy'] = {}\n",
    "    if cat not in all_layers_lang[lang_full]['f1'].keys():\n",
    "        all_layers_lang[lang_full]['f1'][cat] = {}\n",
    "        all_layers_lang[lang_full]['accuracy'][cat] = {}\n",
    "    for b in range(0,24):\n",
    "        all_categories[a]['f1'][cat] += data_file[\"results\"][\"test_score\"][\"f1\"][str(b)][0]\n",
    "        all_categories[a]['accuracy'][cat] += data_file[\"results\"][\"test_score\"][\"accuracy\"][str(b)][0]\n",
    "        if b not in all_layers[a]['f1'].keys():\n",
    "            all_layers[a][\"f1\"][b] = 0\n",
    "            all_layers[a][\"accuracy\"][b] = 0\n",
    "        all_layers[a][\"f1\"][b] += data_file[\"results\"][\"test_score\"][\"f1\"][str(b)][0]\n",
    "        all_layers[a][\"accuracy\"][b] += data_file[\"results\"][\"test_score\"][\"accuracy\"][str(b)][0]\n",
    "        if b not in all_layers_lang[lang_full]['f1'][cat].keys():\n",
    "            all_layers_lang[lang_full]['f1'][cat][b] = round(data_file[\"results\"][\"test_score\"][\"f1\"][str(b)][0], 3)\n",
    "            all_layers_lang[lang_full]['accuracy'][cat][b] = round(data_file[\"results\"][\"test_score\"][\"accuracy\"][str(b)][0], 3)\n",
    "    all_categories[a]['f1'][cat] = round(all_categories[a]['f1'][cat]/24, 3)\n",
    "    all_categories[a]['accuracy'][cat] = round(all_categories[a]['accuracy'][cat]/24, 3)\n",
    "    if a not in count2.keys():\n",
    "        count2[a] = 1\n",
    "    else:\n",
    "            count2[a] += 1\n",
    "\n",
    "\n",
    "\n",
    "middle_values = {}\n",
    "for k in all_categories.keys():\n",
    "    middle_values[k] = 0\n",
    "    count = 0\n",
    "    for key in all_categories[k]['f1']:\n",
    "        count += 1\n",
    "        middle_values[k] += all_categories[k]['f1'][key]\n",
    "    middle_values[k] = round(middle_values[k]/count, 3)\n",
    "    count = 0\n",
    "\n",
    "middle_values['[Basque]*'] = middle_values.pop('-')\n",
    "\n",
    "size = {}\n",
    "families = all_categories.keys()\n",
    "for f in families:\n",
    "    number = len(lang_file[(lang_file['Family'] == f)])\n",
    "    size[f] = number\n",
    "\n",
    "df = pd.DataFrame(list(middle_values.items()), columns = ['Family', 'Middle'])\n",
    "df['Size'] = size.values()\n",
    "\n",
    "structure = {}\n",
    "\n",
    "families = all_categories.keys()\n",
    "for f in families:\n",
    "    lang = lang_file[(lang_file['Family'] == f)]\n",
    "    lang_list = lang['Language'].tolist()\n",
    "    structure[f] = lang_list\n",
    "\n",
    "\n",
    "for k in all_layers.keys():\n",
    "    for el in all_layers[k][\"f1\"].keys():\n",
    "        all_layers[k][\"f1\"][el] = round(all_layers[k][\"f1\"][el]/count2[k], 3)\n",
    "    for el in all_layers[k][\"accuracy\"].keys():\n",
    "        all_layers[k][\"accuracy\"][el] = round(all_layers[k][\"accuracy\"][el]/count2[k], 3)\n",
    "\n",
    "lang_and_cat = {}\n",
    "for k in lang_files.keys():\n",
    "    for language in lang_files[k]:\n",
    "        for file_path in lang_files[k][language]:\n",
    "            file = open(file_path)\n",
    "            data_file = json.loads(file.read())\n",
    "            cat = data_file[\"params\"][\"task_category\"]\n",
    "            lang = data_file[\"params\"][\"task_language\"]\n",
    "            a = lang_file.loc[lang_file['Codes'].isin([lang])]\n",
    "            a = a.iloc[0]['Language']\n",
    "            if k not in lang_and_cat.keys():\n",
    "                lang_and_cat[k] = {}\n",
    "            if a not in lang_and_cat[k].keys():\n",
    "                lang_and_cat[k][a] = {'f1':{}, 'accuracy': {}}\n",
    "            if cat not in lang_and_cat[k][a]['f1'].keys():\n",
    "                lang_and_cat[k][a]['f1'][cat] = 0\n",
    "                lang_and_cat[k][a]['accuracy'][cat]= 0\n",
    "                for b in range(0,24):\n",
    "                    lang_and_cat[k][a]['f1'][cat] += data_file[\"results\"][\"test_score\"][\"f1\"][str(b)][0]\n",
    "                    lang_and_cat[k][a]['accuracy'][cat] += data_file[\"results\"][\"test_score\"][\"accuracy\"][str(b)][0]\n",
    "                    \n",
    "                lang_and_cat[k][a]['f1'][cat] = round(lang_and_cat[k][a]['f1'][cat]/24, 3)\n",
    "                lang_and_cat[k][a]['accuracy'][cat] = round(lang_and_cat[k][a]['accuracy'][cat]/24, 3)\n",
    "            else:\n",
    "                new_f1 = 0\n",
    "                new_accuracy = 0 \n",
    "                for b in range(0,24):\n",
    "                    new_f1 += data_file[\"results\"][\"test_score\"][\"f1\"][str(b)][0]\n",
    "                    new_accuracy += data_file[\"results\"][\"test_score\"][\"accuracy\"][str(b)][0]\n",
    "                new_f1 = round(new_f1/24, 3)\n",
    "                new_accuracy = round(new_accuracy/24, 3)\n",
    "\n",
    "                lang_and_cat[k][a]['f1'][cat] = round((lang_and_cat[k][a]['f1'][cat] + new_f1)/2, 3)\n",
    "                lang_and_cat[k][a]['accuracy'][cat] = round((lang_and_cat[k][a]['accuracy'][cat] + new_accuracy)/2, 3)\n",
    "\n",
    "cat_statistics = {}\n",
    "for k in lang_and_cat.keys():\n",
    "    cat_statistics[k] = {}\n",
    "    for l in lang_and_cat[k].keys():\n",
    "        for category in lang_and_cat[k][l]['f1']:\n",
    "            if category not in cat_statistics[k]:\n",
    "                cat_statistics[k][category] = {}\n",
    "                cat_statistics[k][category][l] = lang_and_cat[k][l]['f1'][category]\n",
    "            else:\n",
    "                cat_statistics[k][category][l] = lang_and_cat[k][l]['f1'][category]\n",
    "\n",
    "cat_itog = {}\n",
    "for fam in cat_statistics.keys():\n",
    "    cat_itog[fam] = {}\n",
    "    for category in cat_statistics[fam].keys():\n",
    "        if len(list(cat_statistics[fam][category].keys())) > 1:\n",
    "            min_cat = min(cat_statistics[fam][category].items(), key=lambda x: x[1])\n",
    "            max_cat = max(cat_statistics[fam][category].items(), key=lambda x: x[1])\n",
    "            cat_itog[fam][category] = [min_cat, max_cat]\n",
    "        else:\n",
    "            lang = list(cat_statistics[fam][category].keys())[0]\n",
    "            cat_itog[fam][category] = f'Категория в данной языковой семье представлена (или проверена) только в одном языке - {lang} - {cat_statistics[fam][category][lang]}'\n",
    "\n",
    "\n",
    "df2 = pd.DataFrame(columns = ['Языковая семья', 'Категория', 'Минимальное значение', 'Максимальное значение'])\n",
    "for fam in cat_itog.keys():\n",
    "    for category in cat_itog[fam].keys():\n",
    "        if isinstance(cat_itog[fam][category], list):\n",
    "            row = [fam, category, cat_itog[fam][category][0], cat_itog[fam][category][1]]\n",
    "            df2.loc[len(df2.index)] = row\n",
    "        else:\n",
    "            row = [fam, category, cat_itog[fam][category], cat_itog[fam][category]]\n",
    "            df2.loc[len(df2.index)] = row\n",
    "\n",
    "\n",
    "\n",
    "\n",
    "all_layers_lang_middle = {}\n",
    "for k in all_layers_lang.keys():\n",
    "    all_layers_lang_middle[k] = {}\n",
    "    for b in range(24):\n",
    "        all_layers_lang_middle[k][b] = 0\n",
    "        for n in all_layers_lang[k]['f1'].keys():\n",
    "            all_layers_lang_middle[k][b] += all_layers_lang[k]['f1'][n][b]\n",
    "            all_layers_lang_middle[k][b] = all_layers_lang_middle[k][b]/2\n",
    "        all_layers_lang_middle[k][b] = round(all_layers_lang_middle[k][b], 3)\n",
    "\n",
    "\n",
    "full_layers = {}\n",
    "for file_name in hits: \n",
    "    file = open(file_name)\n",
    "    data_file = json.loads(file.read())\n",
    "    lang = data_file[\"params\"][\"task_language\"]\n",
    "    a = lang_file.loc[lang_file['Codes'].isin([lang])]\n",
    "    a = a.iloc[0]['Language']\n",
    "    # a = a.iloc[0]['Family']\n",
    "    cat = data_file[\"params\"][\"task_category\"]\n",
    "    if a not in full_layers.keys():\n",
    "        full_layers[a] = {}\n",
    "        full_layers[a]['f1'] = {}\n",
    "        full_layers[a]['accuracy'] = {}\n",
    "    if cat not in full_layers[a]['f1'].keys():\n",
    "        full_layers[a]['f1'][cat] = {}\n",
    "        full_layers[a]['accuracy'][cat] = {}\n",
    "\n",
    "    for b in range(24):\n",
    "        full_layers[a]['f1'][cat][b] = round(data_file[\"results\"][\"test_score\"][\"f1\"][str(b)][0], 3)\n",
    "        full_layers[a]['accuracy'][cat][b] = round(data_file[\"results\"][\"test_score\"][\"accuracy\"][str(b)][0], 3)\n",
    "\n",
    "\n",
    "# This method is to calculate the distance formula between two points\n",
    "def euc_dist(pt1, pt2):\n",
    "    return math.sqrt((pt2[0]-pt1[0])*(pt2[0]-pt1[0])+(pt2[1]-pt1[1])*(pt2[1]-pt1[1]))\n",
    " \n",
    "# This is the specific process of calculating the Frechet Distance distance, which is calculated recursively\n",
    "def _c(ca,i,j,P,Q):\n",
    "    if ca[i,j] > -1:\n",
    "        return ca[i,j]\n",
    "    elif i == 0 and j == 0:\n",
    "        ca[i,j] = euc_dist(P[0],Q[0])\n",
    "    elif i > 0 and j == 0:\n",
    "        ca[i,j] = max(_c(ca,i-1,0,P,Q),euc_dist(P[i],Q[0]))\n",
    "    elif i == 0 and j > 0:\n",
    "        ca[i,j] = max(_c(ca,0,j-1,P,Q),euc_dist(P[0],Q[j]))\n",
    "    elif i > 0 and j > 0:\n",
    "        ca[i,j] = max(min(_c(ca,i-1,j,P,Q),_c(ca,i-1,j-1,P,Q),_c(ca,i,j-1,P,Q)),euc_dist(P[i],Q[j]))\n",
    "    else:\n",
    "        ca[i,j] = float(\"inf\")\n",
    "    return ca[i,j]\n",
    " \n",
    " # This is the method called for us\n",
    "def frechet_distance(P,Q):\n",
    "    ca = np.ones((len(P),len(Q)))\n",
    "    ca = np.multiply(ca,-1)\n",
    "    return _c(ca, len(P)-1, len(Q)-1, P, Q) # ca is the matrix of a*b (3*4), 2, 3\n",
    " \n",
    "\n",
    "df1 = pd.DataFrame(columns = ['Name', 'x', 'y', 'Category'])\n",
    "for element in full_layers.keys():\n",
    "    cats = full_layers[element]['f1'].keys()\n",
    "    for cat in cats:\n",
    "        name = []\n",
    "        cats = []\n",
    "        layers = full_layers[str(element)]['f1'][cat]\n",
    "        graph_data = {'Layers': list(layers.keys()), \n",
    "            'Middle': list(layers.values())}\n",
    "        graph_data = pd.DataFrame(graph_data)\n",
    "        x = graph_data['Layers']\n",
    "        y = graph_data['Middle']\n",
    "        for i in x:\n",
    "            name.append(element)\n",
    "            cats.append(cat)\n",
    "        df_temp = pd.DataFrame(columns = ['Name', 'x', 'y', 'Category'])\n",
    "        df_temp['Name'] = name\n",
    "        df_temp['x'] = x\n",
    "        df_temp['y'] = y\n",
    "        df_temp['Category'] = cats\n",
    "        frames = [df1, df_temp]\n",
    "        df1 = pd.concat(frames)"
   ]
  },
  {
   "attachments": {},
   "cell_type": "markdown",
   "metadata": {},
   "source": [
    "### Графики"
   ]
  },
  {
   "cell_type": "code",
   "execution_count": 24,
   "metadata": {},
   "outputs": [
    {
     "name": "stdout",
     "output_type": "stream",
     "text": [
      "['Marathi', 'Urdu', 'Hindi', 'Bengali']\n"
     ]
    },
    {
     "data": {
      "application/vnd.plotly.v1+json": {
       "config": {
        "plotlyServerURL": "https://plot.ly"
       },
       "data": [
        {
         "hovertemplate": "Name=Marathi<br>x=%{x}<br>y=%{y}<extra></extra>",
         "legendgroup": "Marathi",
         "line": {
          "color": "#636efa",
          "dash": "solid"
         },
         "marker": {
          "symbol": "circle"
         },
         "mode": "lines",
         "name": "Marathi",
         "orientation": "v",
         "showlegend": true,
         "type": "scatter",
         "x": [
          0,
          1,
          2,
          3,
          4,
          5,
          6,
          7,
          8,
          9,
          10,
          11,
          12,
          13,
          14,
          15,
          16,
          17,
          18,
          19,
          20,
          21,
          22,
          23
         ],
         "xaxis": "x",
         "y": [
          0.497,
          0.497,
          0.495,
          0.535,
          0.493,
          0.492,
          0.518,
          0.382,
          0.437,
          0.479,
          0.439,
          0.495,
          0.495,
          0.494,
          0.409,
          0.53,
          0.524,
          0.497,
          0.497,
          0.526,
          0.497,
          0.495,
          0.466,
          0.499
         ],
         "yaxis": "y"
        },
        {
         "hovertemplate": "Name=Urdu<br>x=%{x}<br>y=%{y}<extra></extra>",
         "legendgroup": "Urdu",
         "line": {
          "color": "#EF553B",
          "dash": "solid"
         },
         "marker": {
          "symbol": "circle"
         },
         "mode": "lines",
         "name": "Urdu",
         "orientation": "v",
         "showlegend": true,
         "type": "scatter",
         "x": [
          0,
          1,
          2,
          3,
          4,
          5,
          6,
          7,
          8,
          9,
          10,
          11,
          12,
          13,
          14,
          15,
          16,
          17,
          18,
          19,
          20,
          21,
          22,
          23
         ],
         "xaxis": "x",
         "y": [
          0.755,
          0.587,
          0.683,
          0.514,
          0.755,
          0.755,
          0.587,
          0.69,
          0.678,
          0.755,
          0.684,
          0.587,
          0.683,
          0.596,
          0.779,
          0.755,
          0.585,
          0.756,
          0.779,
          0.755,
          0.755,
          0.58,
          0.587,
          0.756
         ],
         "yaxis": "y"
        },
        {
         "hovertemplate": "Name=Hindi<br>x=%{x}<br>y=%{y}<extra></extra>",
         "legendgroup": "Hindi",
         "line": {
          "color": "#00cc96",
          "dash": "solid"
         },
         "marker": {
          "symbol": "circle"
         },
         "mode": "lines",
         "name": "Hindi",
         "orientation": "v",
         "showlegend": true,
         "type": "scatter",
         "x": [
          0,
          1,
          2,
          3,
          4,
          5,
          6,
          7,
          8,
          9,
          10,
          11,
          12,
          13,
          14,
          15,
          16,
          17,
          18,
          19,
          20,
          21,
          22,
          23
         ],
         "xaxis": "x",
         "y": [
          0.758,
          0.757,
          0.732,
          0.763,
          0.758,
          0.625,
          0.756,
          0.727,
          0.754,
          0.758,
          0.752,
          0.758,
          0.759,
          0.757,
          0.73,
          0.626,
          0.64,
          0.755,
          0.753,
          0.626,
          0.758,
          0.597,
          0.755,
          0.623
         ],
         "yaxis": "y"
        },
        {
         "hovertemplate": "Name=Bengali<br>x=%{x}<br>y=%{y}<extra></extra>",
         "legendgroup": "Bengali",
         "line": {
          "color": "#ab63fa",
          "dash": "solid"
         },
         "marker": {
          "symbol": "circle"
         },
         "mode": "lines",
         "name": "Bengali",
         "orientation": "v",
         "showlegend": true,
         "type": "scatter",
         "x": [
          0,
          1,
          2,
          3,
          4,
          5,
          6,
          7,
          8,
          9,
          10,
          11,
          12,
          13,
          14,
          15,
          16,
          17,
          18,
          19,
          20,
          21,
          22,
          23
         ],
         "xaxis": "x",
         "y": [
          0.561,
          0.496,
          0.483,
          0.496,
          0.573,
          0.532,
          0.573,
          0.578,
          0.57,
          0.573,
          0.573,
          0.561,
          0.573,
          0.573,
          0.534,
          0.52,
          0.532,
          0.573,
          0.49,
          0.538,
          0.573,
          0.538,
          0.396,
          0.532
         ],
         "yaxis": "y"
        },
        {
         "hovertemplate": "Name=Common trend<br>x=%{x}<br>y=%{y}<extra></extra>",
         "legendgroup": "Common trend",
         "line": {
          "color": "black",
          "dash": "dot",
          "width": 2
         },
         "marker": {
          "symbol": "circle"
         },
         "mode": "lines",
         "name": "Common trend",
         "orientation": "v",
         "showlegend": true,
         "type": "scatter",
         "x": [
          0,
          1,
          2,
          3,
          4,
          5,
          6,
          7,
          8,
          9,
          10,
          11,
          12,
          13,
          14,
          15,
          16,
          17,
          18,
          19,
          20,
          21,
          22,
          23
         ],
         "xaxis": "x",
         "y": [
          0.498,
          0.5,
          0.501,
          0.477,
          0.513,
          0.517,
          0.521,
          0.503,
          0.508,
          0.49,
          0.508,
          0.488,
          0.507,
          0.5,
          0.499,
          0.508,
          0.483,
          0.512,
          0.501,
          0.511,
          0.5,
          0.508,
          0.514,
          0.525
         ],
         "yaxis": "y"
        }
       ],
       "layout": {
        "legend": {
         "title": {
          "text": "Name"
         },
         "tracegroupgap": 0
        },
        "margin": {
         "t": 60
        },
        "template": {
         "data": {
          "bar": [
           {
            "error_x": {
             "color": "#2a3f5f"
            },
            "error_y": {
             "color": "#2a3f5f"
            },
            "marker": {
             "line": {
              "color": "#E5ECF6",
              "width": 0.5
             },
             "pattern": {
              "fillmode": "overlay",
              "size": 10,
              "solidity": 0.2
             }
            },
            "type": "bar"
           }
          ],
          "barpolar": [
           {
            "marker": {
             "line": {
              "color": "#E5ECF6",
              "width": 0.5
             },
             "pattern": {
              "fillmode": "overlay",
              "size": 10,
              "solidity": 0.2
             }
            },
            "type": "barpolar"
           }
          ],
          "carpet": [
           {
            "aaxis": {
             "endlinecolor": "#2a3f5f",
             "gridcolor": "white",
             "linecolor": "white",
             "minorgridcolor": "white",
             "startlinecolor": "#2a3f5f"
            },
            "baxis": {
             "endlinecolor": "#2a3f5f",
             "gridcolor": "white",
             "linecolor": "white",
             "minorgridcolor": "white",
             "startlinecolor": "#2a3f5f"
            },
            "type": "carpet"
           }
          ],
          "choropleth": [
           {
            "colorbar": {
             "outlinewidth": 0,
             "ticks": ""
            },
            "type": "choropleth"
           }
          ],
          "contour": [
           {
            "colorbar": {
             "outlinewidth": 0,
             "ticks": ""
            },
            "colorscale": [
             [
              0,
              "#0d0887"
             ],
             [
              0.1111111111111111,
              "#46039f"
             ],
             [
              0.2222222222222222,
              "#7201a8"
             ],
             [
              0.3333333333333333,
              "#9c179e"
             ],
             [
              0.4444444444444444,
              "#bd3786"
             ],
             [
              0.5555555555555556,
              "#d8576b"
             ],
             [
              0.6666666666666666,
              "#ed7953"
             ],
             [
              0.7777777777777778,
              "#fb9f3a"
             ],
             [
              0.8888888888888888,
              "#fdca26"
             ],
             [
              1,
              "#f0f921"
             ]
            ],
            "type": "contour"
           }
          ],
          "contourcarpet": [
           {
            "colorbar": {
             "outlinewidth": 0,
             "ticks": ""
            },
            "type": "contourcarpet"
           }
          ],
          "heatmap": [
           {
            "colorbar": {
             "outlinewidth": 0,
             "ticks": ""
            },
            "colorscale": [
             [
              0,
              "#0d0887"
             ],
             [
              0.1111111111111111,
              "#46039f"
             ],
             [
              0.2222222222222222,
              "#7201a8"
             ],
             [
              0.3333333333333333,
              "#9c179e"
             ],
             [
              0.4444444444444444,
              "#bd3786"
             ],
             [
              0.5555555555555556,
              "#d8576b"
             ],
             [
              0.6666666666666666,
              "#ed7953"
             ],
             [
              0.7777777777777778,
              "#fb9f3a"
             ],
             [
              0.8888888888888888,
              "#fdca26"
             ],
             [
              1,
              "#f0f921"
             ]
            ],
            "type": "heatmap"
           }
          ],
          "heatmapgl": [
           {
            "colorbar": {
             "outlinewidth": 0,
             "ticks": ""
            },
            "colorscale": [
             [
              0,
              "#0d0887"
             ],
             [
              0.1111111111111111,
              "#46039f"
             ],
             [
              0.2222222222222222,
              "#7201a8"
             ],
             [
              0.3333333333333333,
              "#9c179e"
             ],
             [
              0.4444444444444444,
              "#bd3786"
             ],
             [
              0.5555555555555556,
              "#d8576b"
             ],
             [
              0.6666666666666666,
              "#ed7953"
             ],
             [
              0.7777777777777778,
              "#fb9f3a"
             ],
             [
              0.8888888888888888,
              "#fdca26"
             ],
             [
              1,
              "#f0f921"
             ]
            ],
            "type": "heatmapgl"
           }
          ],
          "histogram": [
           {
            "marker": {
             "pattern": {
              "fillmode": "overlay",
              "size": 10,
              "solidity": 0.2
             }
            },
            "type": "histogram"
           }
          ],
          "histogram2d": [
           {
            "colorbar": {
             "outlinewidth": 0,
             "ticks": ""
            },
            "colorscale": [
             [
              0,
              "#0d0887"
             ],
             [
              0.1111111111111111,
              "#46039f"
             ],
             [
              0.2222222222222222,
              "#7201a8"
             ],
             [
              0.3333333333333333,
              "#9c179e"
             ],
             [
              0.4444444444444444,
              "#bd3786"
             ],
             [
              0.5555555555555556,
              "#d8576b"
             ],
             [
              0.6666666666666666,
              "#ed7953"
             ],
             [
              0.7777777777777778,
              "#fb9f3a"
             ],
             [
              0.8888888888888888,
              "#fdca26"
             ],
             [
              1,
              "#f0f921"
             ]
            ],
            "type": "histogram2d"
           }
          ],
          "histogram2dcontour": [
           {
            "colorbar": {
             "outlinewidth": 0,
             "ticks": ""
            },
            "colorscale": [
             [
              0,
              "#0d0887"
             ],
             [
              0.1111111111111111,
              "#46039f"
             ],
             [
              0.2222222222222222,
              "#7201a8"
             ],
             [
              0.3333333333333333,
              "#9c179e"
             ],
             [
              0.4444444444444444,
              "#bd3786"
             ],
             [
              0.5555555555555556,
              "#d8576b"
             ],
             [
              0.6666666666666666,
              "#ed7953"
             ],
             [
              0.7777777777777778,
              "#fb9f3a"
             ],
             [
              0.8888888888888888,
              "#fdca26"
             ],
             [
              1,
              "#f0f921"
             ]
            ],
            "type": "histogram2dcontour"
           }
          ],
          "mesh3d": [
           {
            "colorbar": {
             "outlinewidth": 0,
             "ticks": ""
            },
            "type": "mesh3d"
           }
          ],
          "parcoords": [
           {
            "line": {
             "colorbar": {
              "outlinewidth": 0,
              "ticks": ""
             }
            },
            "type": "parcoords"
           }
          ],
          "pie": [
           {
            "automargin": true,
            "type": "pie"
           }
          ],
          "scatter": [
           {
            "fillpattern": {
             "fillmode": "overlay",
             "size": 10,
             "solidity": 0.2
            },
            "type": "scatter"
           }
          ],
          "scatter3d": [
           {
            "line": {
             "colorbar": {
              "outlinewidth": 0,
              "ticks": ""
             }
            },
            "marker": {
             "colorbar": {
              "outlinewidth": 0,
              "ticks": ""
             }
            },
            "type": "scatter3d"
           }
          ],
          "scattercarpet": [
           {
            "marker": {
             "colorbar": {
              "outlinewidth": 0,
              "ticks": ""
             }
            },
            "type": "scattercarpet"
           }
          ],
          "scattergeo": [
           {
            "marker": {
             "colorbar": {
              "outlinewidth": 0,
              "ticks": ""
             }
            },
            "type": "scattergeo"
           }
          ],
          "scattergl": [
           {
            "marker": {
             "colorbar": {
              "outlinewidth": 0,
              "ticks": ""
             }
            },
            "type": "scattergl"
           }
          ],
          "scattermapbox": [
           {
            "marker": {
             "colorbar": {
              "outlinewidth": 0,
              "ticks": ""
             }
            },
            "type": "scattermapbox"
           }
          ],
          "scatterpolar": [
           {
            "marker": {
             "colorbar": {
              "outlinewidth": 0,
              "ticks": ""
             }
            },
            "type": "scatterpolar"
           }
          ],
          "scatterpolargl": [
           {
            "marker": {
             "colorbar": {
              "outlinewidth": 0,
              "ticks": ""
             }
            },
            "type": "scatterpolargl"
           }
          ],
          "scatterternary": [
           {
            "marker": {
             "colorbar": {
              "outlinewidth": 0,
              "ticks": ""
             }
            },
            "type": "scatterternary"
           }
          ],
          "surface": [
           {
            "colorbar": {
             "outlinewidth": 0,
             "ticks": ""
            },
            "colorscale": [
             [
              0,
              "#0d0887"
             ],
             [
              0.1111111111111111,
              "#46039f"
             ],
             [
              0.2222222222222222,
              "#7201a8"
             ],
             [
              0.3333333333333333,
              "#9c179e"
             ],
             [
              0.4444444444444444,
              "#bd3786"
             ],
             [
              0.5555555555555556,
              "#d8576b"
             ],
             [
              0.6666666666666666,
              "#ed7953"
             ],
             [
              0.7777777777777778,
              "#fb9f3a"
             ],
             [
              0.8888888888888888,
              "#fdca26"
             ],
             [
              1,
              "#f0f921"
             ]
            ],
            "type": "surface"
           }
          ],
          "table": [
           {
            "cells": {
             "fill": {
              "color": "#EBF0F8"
             },
             "line": {
              "color": "white"
             }
            },
            "header": {
             "fill": {
              "color": "#C8D4E3"
             },
             "line": {
              "color": "white"
             }
            },
            "type": "table"
           }
          ]
         },
         "layout": {
          "annotationdefaults": {
           "arrowcolor": "#2a3f5f",
           "arrowhead": 0,
           "arrowwidth": 1
          },
          "autotypenumbers": "strict",
          "coloraxis": {
           "colorbar": {
            "outlinewidth": 0,
            "ticks": ""
           }
          },
          "colorscale": {
           "diverging": [
            [
             0,
             "#8e0152"
            ],
            [
             0.1,
             "#c51b7d"
            ],
            [
             0.2,
             "#de77ae"
            ],
            [
             0.3,
             "#f1b6da"
            ],
            [
             0.4,
             "#fde0ef"
            ],
            [
             0.5,
             "#f7f7f7"
            ],
            [
             0.6,
             "#e6f5d0"
            ],
            [
             0.7,
             "#b8e186"
            ],
            [
             0.8,
             "#7fbc41"
            ],
            [
             0.9,
             "#4d9221"
            ],
            [
             1,
             "#276419"
            ]
           ],
           "sequential": [
            [
             0,
             "#0d0887"
            ],
            [
             0.1111111111111111,
             "#46039f"
            ],
            [
             0.2222222222222222,
             "#7201a8"
            ],
            [
             0.3333333333333333,
             "#9c179e"
            ],
            [
             0.4444444444444444,
             "#bd3786"
            ],
            [
             0.5555555555555556,
             "#d8576b"
            ],
            [
             0.6666666666666666,
             "#ed7953"
            ],
            [
             0.7777777777777778,
             "#fb9f3a"
            ],
            [
             0.8888888888888888,
             "#fdca26"
            ],
            [
             1,
             "#f0f921"
            ]
           ],
           "sequentialminus": [
            [
             0,
             "#0d0887"
            ],
            [
             0.1111111111111111,
             "#46039f"
            ],
            [
             0.2222222222222222,
             "#7201a8"
            ],
            [
             0.3333333333333333,
             "#9c179e"
            ],
            [
             0.4444444444444444,
             "#bd3786"
            ],
            [
             0.5555555555555556,
             "#d8576b"
            ],
            [
             0.6666666666666666,
             "#ed7953"
            ],
            [
             0.7777777777777778,
             "#fb9f3a"
            ],
            [
             0.8888888888888888,
             "#fdca26"
            ],
            [
             1,
             "#f0f921"
            ]
           ]
          },
          "colorway": [
           "#636efa",
           "#EF553B",
           "#00cc96",
           "#ab63fa",
           "#FFA15A",
           "#19d3f3",
           "#FF6692",
           "#B6E880",
           "#FF97FF",
           "#FECB52"
          ],
          "font": {
           "color": "#2a3f5f"
          },
          "geo": {
           "bgcolor": "white",
           "lakecolor": "white",
           "landcolor": "#E5ECF6",
           "showlakes": true,
           "showland": true,
           "subunitcolor": "white"
          },
          "hoverlabel": {
           "align": "left"
          },
          "hovermode": "closest",
          "mapbox": {
           "style": "light"
          },
          "paper_bgcolor": "white",
          "plot_bgcolor": "#E5ECF6",
          "polar": {
           "angularaxis": {
            "gridcolor": "white",
            "linecolor": "white",
            "ticks": ""
           },
           "bgcolor": "#E5ECF6",
           "radialaxis": {
            "gridcolor": "white",
            "linecolor": "white",
            "ticks": ""
           }
          },
          "scene": {
           "xaxis": {
            "backgroundcolor": "#E5ECF6",
            "gridcolor": "white",
            "gridwidth": 2,
            "linecolor": "white",
            "showbackground": true,
            "ticks": "",
            "zerolinecolor": "white"
           },
           "yaxis": {
            "backgroundcolor": "#E5ECF6",
            "gridcolor": "white",
            "gridwidth": 2,
            "linecolor": "white",
            "showbackground": true,
            "ticks": "",
            "zerolinecolor": "white"
           },
           "zaxis": {
            "backgroundcolor": "#E5ECF6",
            "gridcolor": "white",
            "gridwidth": 2,
            "linecolor": "white",
            "showbackground": true,
            "ticks": "",
            "zerolinecolor": "white"
           }
          },
          "shapedefaults": {
           "line": {
            "color": "#2a3f5f"
           }
          },
          "ternary": {
           "aaxis": {
            "gridcolor": "white",
            "linecolor": "white",
            "ticks": ""
           },
           "baxis": {
            "gridcolor": "white",
            "linecolor": "white",
            "ticks": ""
           },
           "bgcolor": "#E5ECF6",
           "caxis": {
            "gridcolor": "white",
            "linecolor": "white",
            "ticks": ""
           }
          },
          "title": {
           "x": 0.05
          },
          "xaxis": {
           "automargin": true,
           "gridcolor": "white",
           "linecolor": "white",
           "ticks": "",
           "title": {
            "standoff": 15
           },
           "zerolinecolor": "white",
           "zerolinewidth": 2
          },
          "yaxis": {
           "automargin": true,
           "gridcolor": "white",
           "linecolor": "white",
           "ticks": "",
           "title": {
            "standoff": 15
           },
           "zerolinecolor": "white",
           "zerolinewidth": 2
          }
         }
        },
        "xaxis": {
         "anchor": "y",
         "domain": [
          0,
          1
         ],
         "title": {
          "text": "x"
         }
        },
        "yaxis": {
         "anchor": "x",
         "domain": [
          0,
          1
         ],
         "title": {
          "text": "y"
         }
        }
       }
      }
     },
     "metadata": {},
     "output_type": "display_data"
    }
   ],
   "source": [
    "def update_output(family, quantity):\n",
    "    df4 = pd.DataFrame(columns = ['Name', 'x', 'y'])\n",
    "    lst = all_layers_lang_middle.keys()\n",
    "    if family:\n",
    "        new_lst = []\n",
    "        for lang in lst:\n",
    "            if lang in structure[family]:\n",
    "                new_lst.append(lang)\n",
    "    if new_lst:\n",
    "        for el in new_lst:\n",
    "            name = []\n",
    "            layers = all_layers_lang_middle[el]\n",
    "            graph_data = {'Layers': list(layers.keys()), \n",
    "                'Middle': list(layers.values())}\n",
    "            graph_data = pd.DataFrame(graph_data)\n",
    "            x = graph_data['Layers']\n",
    "            y = graph_data['Middle']\n",
    "            for i in x:\n",
    "                name.append(el)\n",
    "            df = pd.DataFrame(columns = ['Name', 'x', 'y'])\n",
    "            df['Name'] = name\n",
    "            df['x'] = x\n",
    "            df['y'] = y\n",
    "            frames = [df4, df]\n",
    "            df4 = pd.concat(frames)\n",
    "    if len(df4['Name'].unique()) != 1:\n",
    "        middle_values = {}\n",
    "        spec_check = {}\n",
    "        spec_lang = {}\n",
    "        names = df4['Name'].unique()\n",
    "        for name in names:\n",
    "            middle_values[name] = {}\n",
    "            for b in range(24):\n",
    "                middle_values[name][b] = 0\n",
    "                a = df4.loc[df4['x'].isin([b])]\n",
    "                a = a['y'].tolist()\n",
    "                spec = df4.loc[df4['Name'].isin([name])]\n",
    "                spec = spec.loc[spec['x'].isin([b])]\n",
    "                spec = spec['y']\n",
    "                spec_index = a.index(float(spec))\n",
    "                del a[spec_index]\n",
    "                middle_values[name][b] = round(mean(a), 3)\n",
    "        for k in middle_values.keys():\n",
    "            spec_lang[k] = 0\n",
    "            for i in middle_values[k].keys():\n",
    "                spec = df4.loc[df4['Name'].isin([name])]\n",
    "                spec = spec.loc[spec['x'].isin([b])]\n",
    "                spec = float(spec['y'])            \n",
    "                compr = abs(spec - middle_values[k][i])\n",
    "                if compr >= 0.3:\n",
    "                    spec_lang[k] += 1\n",
    "\n",
    "        spec_lang = dict(sorted(spec_lang.items(), key=lambda x: -x[1]))\n",
    "\n",
    "        lst = []\n",
    "        count = 0\n",
    "        for k in spec_lang.keys():\n",
    "            if count != quantity:\n",
    "                lst.append(k)\n",
    "                count += 1\n",
    "            else:\n",
    "                break\n",
    "\n",
    "        df5 = pd.DataFrame(columns = ['Name', 'x', 'y'])\n",
    "        print(lst)\n",
    "        for el in lst:\n",
    "            name = []\n",
    "            layers = all_layers_lang_middle[el]\n",
    "            graph_data = {'Layers': list(layers.keys()), \n",
    "                'Middle': list(layers.values())}\n",
    "            graph_data = pd.DataFrame(graph_data)\n",
    "            x = graph_data['Layers']\n",
    "            y = graph_data['Middle']\n",
    "            for i in x:\n",
    "                name.append(el)\n",
    "            df = pd.DataFrame(columns = ['Name', 'x', 'y'])\n",
    "            df['Name'] = name\n",
    "            df['x'] = x\n",
    "            df['y'] = y\n",
    "            frames = [df5, df]\n",
    "            df5 = pd.concat(frames)\n",
    "    else:\n",
    "        df5 = pd.DataFrame(columns = ['Name', 'x', 'y'])\n",
    "        for el in df4['Name'].unique():\n",
    "            name = []\n",
    "            layers = all_layers_lang_middle[el]\n",
    "            graph_data = {'Layers': list(layers.keys()), \n",
    "                'Middle': list(layers.values())}\n",
    "            graph_data = pd.DataFrame(graph_data)\n",
    "            x = graph_data['Layers']\n",
    "            y = graph_data['Middle']\n",
    "            for i in x:\n",
    "                name.append(el)\n",
    "            df = pd.DataFrame(columns = ['Name', 'x', 'y'])\n",
    "            df['Name'] = name\n",
    "            df['x'] = x\n",
    "            df['y'] = y\n",
    "            frames = [df5, df]\n",
    "            df5 = pd.concat(frames)\n",
    "    middle_values_com = {}\n",
    "    for b in range(24):\n",
    "        middle_values_com[b] = 0\n",
    "        a = df4.loc[df4['x'].isin([b])]\n",
    "        a = a['y'].tolist()\n",
    "        for name in lst:\n",
    "            spec = df4.loc[df4['Name'].isin([name])]\n",
    "            spec = spec.loc[spec['x'].isin([b])]\n",
    "            spec = spec['y']\n",
    "            spec_index = a.index(float(spec))\n",
    "            del a[spec_index]\n",
    "        middle_values_com[b] = round(mean(a), 3)\n",
    "    \n",
    "    name = []\n",
    "    layers = middle_values_com\n",
    "    graph_data = {'Layers': list(layers.keys()), \n",
    "        'Middle': list(layers.values())}\n",
    "    graph_data = pd.DataFrame(graph_data)\n",
    "    x = graph_data['Layers']\n",
    "    y = graph_data['Middle']\n",
    "    df = pd.DataFrame(columns = ['Name', 'x', 'y'])\n",
    "    for i in x:\n",
    "        name.append('Common trend')\n",
    "    df['Name'] = name\n",
    "    df['x'] = x\n",
    "    df['y'] = y\n",
    "    frames = [df5, df]\n",
    "    df5 = pd.concat(frames)\n",
    "\n",
    "    fig = px.line(df5, x = 'x', y = 'y', color='Name')\n",
    "    fig.update_traces(patch={\"line\": {\"color\": \"black\", \"width\": 2, \"dash\": 'dot'}}, selector={\"legendgroup\": \"Common trend\"}) \n",
    "\n",
    "    return fig\n",
    "\n",
    "update_output('Indo-European', 4)\n",
    "    "
   ]
  },
  {
   "attachments": {},
   "cell_type": "markdown",
   "metadata": {},
   "source": [
    "### График 2"
   ]
  },
  {
   "cell_type": "code",
   "execution_count": 23,
   "metadata": {},
   "outputs": [
    {
     "data": {
      "application/vnd.plotly.v1+json": {
       "config": {
        "plotlyServerURL": "https://plot.ly"
       },
       "data": [
        {
         "hovertemplate": "Name=Beja<br>Category=Case<br>x=%{x}<br>y=%{y}<extra></extra>",
         "legendgroup": "Beja",
         "line": {
          "color": "#636efa",
          "dash": "solid"
         },
         "marker": {
          "symbol": "circle"
         },
         "mode": "lines",
         "name": "Beja",
         "orientation": "v",
         "showlegend": true,
         "type": "scatter",
         "x": [
          0,
          1,
          2,
          3,
          4,
          5,
          6,
          7,
          8,
          9,
          10,
          11,
          12,
          13,
          14,
          15,
          16,
          17,
          18,
          19,
          20,
          21,
          22,
          23
         ],
         "xaxis": "x16",
         "y": [
          0.733,
          0.333,
          0.333,
          0.733,
          0.333,
          0.333,
          0.333,
          0.333,
          0.333,
          0.733,
          0.333,
          0.333,
          0.333,
          0.333,
          0.333,
          0.733,
          0.733,
          0.333,
          0.2,
          0.333,
          0.733,
          0.333,
          0.733,
          0.333
         ],
         "yaxis": "y16"
        },
        {
         "hovertemplate": "Name=Beja<br>Category=Gender<br>x=%{x}<br>y=%{y}<extra></extra>",
         "legendgroup": "Beja",
         "line": {
          "color": "#636efa",
          "dash": "solid"
         },
         "marker": {
          "symbol": "circle"
         },
         "mode": "lines",
         "name": "Beja",
         "orientation": "v",
         "showlegend": false,
         "type": "scatter",
         "x": [
          0,
          1,
          2,
          3,
          4,
          5,
          6,
          7,
          8,
          9,
          10,
          11,
          12,
          13,
          14,
          15,
          16,
          17,
          18,
          19,
          20,
          21,
          22,
          23
         ],
         "xaxis": "x17",
         "y": [
          0.711,
          0.711,
          0.711,
          0.711,
          0.711,
          0.711,
          0.711,
          0.711,
          0.711,
          0.711,
          0.711,
          0.6,
          0.711,
          0.711,
          0.711,
          0.711,
          0.711,
          0.711,
          0.711,
          0.711,
          0.711,
          0.711,
          0.711,
          0.711
         ],
         "yaxis": "y17"
        },
        {
         "hovertemplate": "Name=Beja<br>Category=Aspect<br>x=%{x}<br>y=%{y}<extra></extra>",
         "legendgroup": "Beja",
         "line": {
          "color": "#636efa",
          "dash": "solid"
         },
         "marker": {
          "symbol": "circle"
         },
         "mode": "lines",
         "name": "Beja",
         "orientation": "v",
         "showlegend": false,
         "type": "scatter",
         "x": [
          0,
          1,
          2,
          3,
          4,
          5,
          6,
          7,
          8,
          9,
          10,
          11,
          12,
          13,
          14,
          15,
          16,
          17,
          18,
          19,
          20,
          21,
          22,
          23
         ],
         "xaxis": "x12",
         "y": [
          0.45,
          0.45,
          0.45,
          0.45,
          0.781,
          0.45,
          0.45,
          0.45,
          0.781,
          0.781,
          0.781,
          0.45,
          0.45,
          0.45,
          0.45,
          0.45,
          0.45,
          0.45,
          0.781,
          0.781,
          0.781,
          0.45,
          0.45,
          0.45
         ],
         "yaxis": "y12"
        },
        {
         "hovertemplate": "Name=Beja<br>Category=VerbClass<br>x=%{x}<br>y=%{y}<extra></extra>",
         "legendgroup": "Beja",
         "line": {
          "color": "#636efa",
          "dash": "solid"
         },
         "marker": {
          "symbol": "circle"
         },
         "mode": "lines",
         "name": "Beja",
         "orientation": "v",
         "showlegend": false,
         "type": "scatter",
         "x": [
          0,
          1,
          2,
          3,
          4,
          5,
          6,
          7,
          8,
          9,
          10,
          11,
          12,
          13,
          14,
          15,
          16,
          17,
          18,
          19,
          20,
          21,
          22,
          23
         ],
         "xaxis": "x6",
         "y": [
          0.711,
          0.711,
          0.711,
          0.711,
          0.711,
          0.711,
          0.711,
          0.711,
          0.711,
          0.711,
          0.711,
          1,
          1,
          0.711,
          0.711,
          0.711,
          1,
          1,
          1,
          1,
          1,
          0.711,
          0.711,
          0.711
         ],
         "yaxis": "y6"
        },
        {
         "hovertemplate": "Name=Arabic<br>Category=Case<br>x=%{x}<br>y=%{y}<extra></extra>",
         "legendgroup": "Arabic",
         "line": {
          "color": "#EF553B",
          "dash": "solid"
         },
         "marker": {
          "symbol": "circle"
         },
         "mode": "lines",
         "name": "Arabic",
         "orientation": "v",
         "showlegend": true,
         "type": "scatter",
         "x": [
          0,
          1,
          2,
          3,
          4,
          5,
          6,
          7,
          8,
          9,
          10,
          11,
          12,
          13,
          14,
          15,
          16,
          17,
          18,
          19,
          20,
          21,
          22,
          23
         ],
         "xaxis": "x16",
         "y": [
          0.051,
          0.048,
          0.051,
          0.051,
          0.524,
          0.524,
          0.051,
          0.524,
          0.524,
          0.524,
          0.524,
          0.051,
          0.524,
          0.524,
          0.524,
          0.524,
          0.051,
          0.524,
          0.524,
          0.524,
          0.048,
          0.048,
          0.524,
          0.524
         ],
         "yaxis": "y16"
        },
        {
         "hovertemplate": "Name=Arabic<br>Category=Number<br>x=%{x}<br>y=%{y}<extra></extra>",
         "legendgroup": "Arabic",
         "line": {
          "color": "#EF553B",
          "dash": "solid"
         },
         "marker": {
          "symbol": "circle"
         },
         "mode": "lines",
         "name": "Arabic",
         "orientation": "v",
         "showlegend": false,
         "type": "scatter",
         "x": [
          0,
          1,
          2,
          3,
          4,
          5,
          6,
          7,
          8,
          9,
          10,
          11,
          12,
          13,
          14,
          15,
          16,
          17,
          18,
          19,
          20,
          21,
          22,
          23
         ],
         "xaxis": "x18",
         "y": [
          0.942,
          0.942,
          0.942,
          0.942,
          0.942,
          0.942,
          0.942,
          0.942,
          0.942,
          0.942,
          0.942,
          0.942,
          0.942,
          0.942,
          0.942,
          0.942,
          0.942,
          0.942,
          0.942,
          0.942,
          0.942,
          0.942,
          0.942,
          0.942
         ],
         "yaxis": "y18"
        },
        {
         "hovertemplate": "Name=Arabic<br>Category=Person<br>x=%{x}<br>y=%{y}<extra></extra>",
         "legendgroup": "Arabic",
         "line": {
          "color": "#EF553B",
          "dash": "solid"
         },
         "marker": {
          "symbol": "circle"
         },
         "mode": "lines",
         "name": "Arabic",
         "orientation": "v",
         "showlegend": false,
         "type": "scatter",
         "x": [
          0,
          1,
          2,
          3,
          4,
          5,
          6,
          7,
          8,
          9,
          10,
          11,
          12,
          13,
          14,
          15,
          16,
          17,
          18,
          19,
          20,
          21,
          22,
          23
         ],
         "xaxis": "x13",
         "y": [
          0.933,
          0.933,
          0.933,
          0.933,
          0.933,
          0.933,
          0.933,
          0.933,
          0.933,
          0.933,
          0.933,
          0.933,
          0.933,
          0.933,
          0.933,
          0.933,
          0.933,
          0.933,
          0.933,
          0.933,
          0.933,
          0.933,
          0.933,
          0.933
         ],
         "yaxis": "y13"
        },
        {
         "hovertemplate": "Name=Arabic<br>Category=Voice<br>x=%{x}<br>y=%{y}<extra></extra>",
         "legendgroup": "Arabic",
         "line": {
          "color": "#EF553B",
          "dash": "solid"
         },
         "marker": {
          "symbol": "circle"
         },
         "mode": "lines",
         "name": "Arabic",
         "orientation": "v",
         "showlegend": false,
         "type": "scatter",
         "x": [
          0,
          1,
          2,
          3,
          4,
          5,
          6,
          7,
          8,
          9,
          10,
          11,
          12,
          13,
          14,
          15,
          16,
          17,
          18,
          19,
          20,
          21,
          22,
          23
         ],
         "xaxis": "x15",
         "y": [
          0.924,
          0.924,
          0.924,
          0.924,
          0.924,
          0.924,
          0.924,
          0.924,
          0.924,
          0.924,
          0.924,
          0.924,
          0.924,
          0.924,
          0.924,
          0.924,
          0.924,
          0.924,
          0.924,
          0.924,
          0.924,
          0.924,
          0.924,
          0.924
         ],
         "yaxis": "y15"
        },
        {
         "hovertemplate": "Name=Arabic<br>Category=Definite<br>x=%{x}<br>y=%{y}<extra></extra>",
         "legendgroup": "Arabic",
         "line": {
          "color": "#EF553B",
          "dash": "solid"
         },
         "marker": {
          "symbol": "circle"
         },
         "mode": "lines",
         "name": "Arabic",
         "orientation": "v",
         "showlegend": false,
         "type": "scatter",
         "x": [
          0,
          1,
          2,
          3,
          4,
          5,
          6,
          7,
          8,
          9,
          10,
          11,
          12,
          13,
          14,
          15,
          16,
          17,
          18,
          19,
          20,
          21,
          22,
          23
         ],
         "xaxis": "x10",
         "y": [
          0.118,
          0.216,
          0.118,
          0.118,
          0.118,
          0.118,
          0.216,
          0.216,
          0.216,
          0.216,
          0.118,
          0.174,
          0.118,
          0.118,
          0.118,
          0.118,
          0.118,
          0.216,
          0.118,
          0.118,
          0.216,
          0.216,
          0.117,
          0.216
         ],
         "yaxis": "y10"
        },
        {
         "hovertemplate": "Name=Arabic<br>Category=Animacy<br>x=%{x}<br>y=%{y}<extra></extra>",
         "legendgroup": "Arabic",
         "line": {
          "color": "#EF553B",
          "dash": "solid"
         },
         "marker": {
          "symbol": "circle"
         },
         "mode": "lines",
         "name": "Arabic",
         "orientation": "v",
         "showlegend": false,
         "type": "scatter",
         "x": [
          0,
          1,
          2,
          3,
          4,
          5,
          6,
          7,
          8,
          9,
          10,
          11,
          12,
          13,
          14,
          15,
          16,
          17,
          18,
          19,
          20,
          21,
          22,
          23
         ],
         "xaxis": "x11",
         "y": [
          0.681,
          0.681,
          0.681,
          0.681,
          0.681,
          0.681,
          0.681,
          0.681,
          0.681,
          0.681,
          0.681,
          0.681,
          0.681,
          0.101,
          0.681,
          0.681,
          0.681,
          0.681,
          0.681,
          0.681,
          0.681,
          0.681,
          0.681,
          0.681
         ],
         "yaxis": "y11"
        },
        {
         "hovertemplate": "Name=Arabic<br>Category=Aspect<br>x=%{x}<br>y=%{y}<extra></extra>",
         "legendgroup": "Arabic",
         "line": {
          "color": "#EF553B",
          "dash": "solid"
         },
         "marker": {
          "symbol": "circle"
         },
         "mode": "lines",
         "name": "Arabic",
         "orientation": "v",
         "showlegend": false,
         "type": "scatter",
         "x": [
          0,
          1,
          2,
          3,
          4,
          5,
          6,
          7,
          8,
          9,
          10,
          11,
          12,
          13,
          14,
          15,
          16,
          17,
          18,
          19,
          20,
          21,
          22,
          23
         ],
         "xaxis": "x12",
         "y": [
          0.6,
          0.6,
          0.6,
          0.6,
          0.6,
          0.6,
          0.124,
          0.6,
          0.6,
          0.124,
          0.6,
          0.124,
          0.6,
          0.124,
          0.6,
          0.6,
          0.124,
          0.6,
          0.124,
          0.124,
          0.124,
          0.124,
          0.124,
          0.124
         ],
         "yaxis": "y12"
        },
        {
         "hovertemplate": "Name=Arabic<br>Category=Mood<br>x=%{x}<br>y=%{y}<extra></extra>",
         "legendgroup": "Arabic",
         "line": {
          "color": "#EF553B",
          "dash": "solid"
         },
         "marker": {
          "symbol": "circle"
         },
         "mode": "lines",
         "name": "Arabic",
         "orientation": "v",
         "showlegend": false,
         "type": "scatter",
         "x": [
          0,
          1,
          2,
          3,
          4,
          5,
          6,
          7,
          8,
          9,
          10,
          11,
          12,
          13,
          14,
          15,
          16,
          17,
          18,
          19,
          20,
          21,
          22,
          23
         ],
         "xaxis": "x7",
         "y": [
          0.945,
          0.945,
          0.945,
          0.945,
          0.945,
          0.945,
          0.945,
          0.945,
          0.945,
          0.945,
          0.945,
          0.945,
          0.945,
          0.945,
          0.945,
          0.945,
          0.945,
          0.945,
          0.945,
          0.945,
          0.945,
          0.945,
          0.945,
          0.945
         ],
         "yaxis": "y7"
        },
        {
         "hovertemplate": "Name=Arabic<br>Category=Tense<br>x=%{x}<br>y=%{y}<extra></extra>",
         "legendgroup": "Arabic",
         "line": {
          "color": "#EF553B",
          "dash": "solid"
         },
         "marker": {
          "symbol": "circle"
         },
         "mode": "lines",
         "name": "Arabic",
         "orientation": "v",
         "showlegend": false,
         "type": "scatter",
         "x": [
          0,
          1,
          2,
          3,
          4,
          5,
          6,
          7,
          8,
          9,
          10,
          11,
          12,
          13,
          14,
          15,
          16,
          17,
          18,
          19,
          20,
          21,
          22,
          23
         ],
         "xaxis": "x8",
         "y": [
          0.499,
          0.499,
          0.022,
          0.476,
          0.499,
          0.476,
          0.476,
          0.476,
          0.499,
          0.175,
          0.499,
          0.499,
          0.499,
          0.499,
          0.476,
          0.499,
          0.499,
          0.476,
          0.476,
          0.499,
          0.476,
          0.476,
          0.476,
          0.476
         ],
         "yaxis": "y8"
        },
        {
         "hovertemplate": "Name=Arabic<br>Category=NumForm<br>x=%{x}<br>y=%{y}<extra></extra>",
         "legendgroup": "Arabic",
         "line": {
          "color": "#EF553B",
          "dash": "solid"
         },
         "marker": {
          "symbol": "circle"
         },
         "mode": "lines",
         "name": "Arabic",
         "orientation": "v",
         "showlegend": false,
         "type": "scatter",
         "x": [
          0,
          1,
          2,
          3,
          4,
          5,
          6,
          7,
          8,
          9,
          10,
          11,
          12,
          13,
          14,
          15,
          16,
          17,
          18,
          19,
          20,
          21,
          22,
          23
         ],
         "xaxis": "x9",
         "y": [
          0.812,
          0.812,
          0.812,
          0.812,
          0.812,
          0.812,
          0.029,
          0.812,
          0.812,
          0.812,
          0.029,
          0.812,
          0.812,
          0.812,
          0.812,
          0.812,
          0.812,
          0.812,
          0.812,
          0.812,
          0.812,
          0.812,
          0.812,
          0.812
         ],
         "yaxis": "y9"
        },
        {
         "hovertemplate": "Name=Arabic<br>Category=NumValue<br>x=%{x}<br>y=%{y}<extra></extra>",
         "legendgroup": "Arabic",
         "line": {
          "color": "#EF553B",
          "dash": "solid"
         },
         "marker": {
          "symbol": "circle"
         },
         "mode": "lines",
         "name": "Arabic",
         "orientation": "v",
         "showlegend": false,
         "type": "scatter",
         "x": [
          0,
          1,
          2,
          3,
          4,
          5,
          6,
          7,
          8,
          9,
          10,
          11,
          12,
          13,
          14,
          15,
          16,
          17,
          18,
          19,
          20,
          21,
          22,
          23
         ],
         "xaxis": "x4",
         "y": [
          0.897,
          0.897,
          0.897,
          0.897,
          0.897,
          0.897,
          0,
          0.897,
          0.897,
          0.897,
          0.897,
          0.897,
          0.897,
          0.897,
          0.897,
          0.897,
          0.897,
          0.897,
          0.897,
          0.897,
          0.897,
          0.897,
          0.897,
          0.897
         ],
         "yaxis": "y4"
        },
        {
         "hovertemplate": "Name=Arabic<br>Category=PronType<br>x=%{x}<br>y=%{y}<extra></extra>",
         "legendgroup": "Arabic",
         "line": {
          "color": "#EF553B",
          "dash": "solid"
         },
         "marker": {
          "symbol": "circle"
         },
         "mode": "lines",
         "name": "Arabic",
         "orientation": "v",
         "showlegend": false,
         "type": "scatter",
         "x": [
          0,
          1,
          2,
          3,
          4,
          5,
          6,
          7,
          8,
          9,
          10,
          11,
          12,
          13,
          14,
          15,
          16,
          17,
          18,
          19,
          20,
          21,
          22,
          23
         ],
         "xaxis": "x5",
         "y": [
          0.991,
          0.991,
          0.991,
          0.991,
          0.991,
          0.991,
          0.991,
          0.991,
          0.991,
          0.991,
          0.991,
          0.991,
          0.991,
          0.991,
          0.991,
          0.991,
          0.991,
          0.991,
          0.991,
          0.991,
          0.991,
          0.991,
          0.991,
          0.991
         ],
         "yaxis": "y5"
        },
        {
         "hovertemplate": "Name=Coptic<br>Category=Gender<br>x=%{x}<br>y=%{y}<extra></extra>",
         "legendgroup": "Coptic",
         "line": {
          "color": "#00cc96",
          "dash": "solid"
         },
         "marker": {
          "symbol": "circle"
         },
         "mode": "lines",
         "name": "Coptic",
         "orientation": "v",
         "showlegend": true,
         "type": "scatter",
         "x": [
          0,
          1,
          2,
          3,
          4,
          5,
          6,
          7,
          8,
          9,
          10,
          11,
          12,
          13,
          14,
          15,
          16,
          17,
          18,
          19,
          20,
          21,
          22,
          23
         ],
         "xaxis": "x17",
         "y": [
          0.075,
          0.692,
          0.692,
          0.692,
          0.692,
          0.692,
          0.075,
          0.692,
          0.081,
          0.692,
          0.692,
          0.692,
          0.692,
          0.692,
          0.692,
          0.692,
          0.692,
          0.692,
          0.692,
          0.692,
          0.692,
          0.692,
          0.692,
          0.075
         ],
         "yaxis": "y17"
        },
        {
         "hovertemplate": "Name=Coptic<br>Category=Person<br>x=%{x}<br>y=%{y}<extra></extra>",
         "legendgroup": "Coptic",
         "line": {
          "color": "#00cc96",
          "dash": "solid"
         },
         "marker": {
          "symbol": "circle"
         },
         "mode": "lines",
         "name": "Coptic",
         "orientation": "v",
         "showlegend": false,
         "type": "scatter",
         "x": [
          0,
          1,
          2,
          3,
          4,
          5,
          6,
          7,
          8,
          9,
          10,
          11,
          12,
          13,
          14,
          15,
          16,
          17,
          18,
          19,
          20,
          21,
          22,
          23
         ],
         "xaxis": "x13",
         "y": [
          0.092,
          0.5,
          0.5,
          0.026,
          0.092,
          0.5,
          0.026,
          0.092,
          0.093,
          0.093,
          0.093,
          0.5,
          0.092,
          0.5,
          0.5,
          0.5,
          0.093,
          0.5,
          0.026,
          0.093,
          0.5,
          0.092,
          0.026,
          0.5
         ],
         "yaxis": "y13"
        },
        {
         "hovertemplate": "Name=Coptic<br>Category=Definite<br>x=%{x}<br>y=%{y}<extra></extra>",
         "legendgroup": "Coptic",
         "line": {
          "color": "#00cc96",
          "dash": "solid"
         },
         "marker": {
          "symbol": "circle"
         },
         "mode": "lines",
         "name": "Coptic",
         "orientation": "v",
         "showlegend": false,
         "type": "scatter",
         "x": [
          0,
          1,
          2,
          3,
          4,
          5,
          6,
          7,
          8,
          9,
          10,
          11,
          12,
          13,
          14,
          15,
          16,
          17,
          18,
          19,
          20,
          21,
          22,
          23
         ],
         "xaxis": "x10",
         "y": [
          0.933,
          0.933,
          0.933,
          0.933,
          0.933,
          0.933,
          0.933,
          0.933,
          0.933,
          0.933,
          0.933,
          0.933,
          0.933,
          0.933,
          0.933,
          0.933,
          0.933,
          0.933,
          0.933,
          0.933,
          0.933,
          0.933,
          0.009,
          0.933
         ],
         "yaxis": "y10"
        },
        {
         "hovertemplate": "Name=Coptic<br>Category=Gender[psor]<br>x=%{x}<br>y=%{y}<extra></extra>",
         "legendgroup": "Coptic",
         "line": {
          "color": "#00cc96",
          "dash": "solid"
         },
         "marker": {
          "symbol": "circle"
         },
         "mode": "lines",
         "name": "Coptic",
         "orientation": "v",
         "showlegend": false,
         "type": "scatter",
         "x": [
          0,
          1,
          2,
          3,
          4,
          5,
          6,
          7,
          8,
          9,
          10,
          11,
          12,
          13,
          14,
          15,
          16,
          17,
          18,
          19,
          20,
          21,
          22,
          23
         ],
         "xaxis": "x",
         "y": [
          0.015,
          0.867,
          0.867,
          0.867,
          0.867,
          0.867,
          0.867,
          0.015,
          0.867,
          0.867,
          0.867,
          0.867,
          0.867,
          0.867,
          0.015,
          0.867,
          0.867,
          0.867,
          0.867,
          0.867,
          0.015,
          0.867,
          0.015,
          0.867
         ],
         "yaxis": "y"
        },
        {
         "hovertemplate": "Name=Coptic<br>Category=Number[psor]<br>x=%{x}<br>y=%{y}<extra></extra>",
         "legendgroup": "Coptic",
         "line": {
          "color": "#00cc96",
          "dash": "solid"
         },
         "marker": {
          "symbol": "circle"
         },
         "mode": "lines",
         "name": "Coptic",
         "orientation": "v",
         "showlegend": false,
         "type": "scatter",
         "x": [
          0,
          1,
          2,
          3,
          4,
          5,
          6,
          7,
          8,
          9,
          10,
          11,
          12,
          13,
          14,
          15,
          16,
          17,
          18,
          19,
          20,
          21,
          22,
          23
         ],
         "xaxis": "x2",
         "y": [
          0.577,
          0.138,
          0.577,
          0.577,
          0.593,
          0.577,
          0.138,
          0.577,
          0.577,
          0.577,
          0.577,
          0.577,
          0.577,
          0.577,
          0.577,
          0.577,
          0.577,
          0.138,
          0.577,
          0.577,
          0.138,
          0.577,
          0.577,
          0.577
         ],
         "yaxis": "y2"
        },
        {
         "hovertemplate": "Name=Amharic<br>Category=Gender<br>x=%{x}<br>y=%{y}<extra></extra>",
         "legendgroup": "Amharic",
         "line": {
          "color": "#ab63fa",
          "dash": "solid"
         },
         "marker": {
          "symbol": "circle"
         },
         "mode": "lines",
         "name": "Amharic",
         "orientation": "v",
         "showlegend": true,
         "type": "scatter",
         "x": [
          0,
          1,
          2,
          3,
          4,
          5,
          6,
          7,
          8,
          9,
          10,
          11,
          12,
          13,
          14,
          15,
          16,
          17,
          18,
          19,
          20,
          21,
          22,
          23
         ],
         "xaxis": "x17",
         "y": [
          0.112,
          0.618,
          0.618,
          0.091,
          0.112,
          0.112,
          0.618,
          0.618,
          0.112,
          0.112,
          0.112,
          0.091,
          0.618,
          0.618,
          0.112,
          0.618,
          0.618,
          0.618,
          0.618,
          0.112,
          0.618,
          0.112,
          0.618,
          0.618
         ],
         "yaxis": "y17"
        },
        {
         "hovertemplate": "Name=Amharic<br>Category=Number<br>x=%{x}<br>y=%{y}<extra></extra>",
         "legendgroup": "Amharic",
         "line": {
          "color": "#ab63fa",
          "dash": "solid"
         },
         "marker": {
          "symbol": "circle"
         },
         "mode": "lines",
         "name": "Amharic",
         "orientation": "v",
         "showlegend": false,
         "type": "scatter",
         "x": [
          0,
          1,
          2,
          3,
          4,
          5,
          6,
          7,
          8,
          9,
          10,
          11,
          12,
          13,
          14,
          15,
          16,
          17,
          18,
          19,
          20,
          21,
          22,
          23
         ],
         "xaxis": "x18",
         "y": [
          0.834,
          0.834,
          0.834,
          0.834,
          0.834,
          0.834,
          0.834,
          0.834,
          0.834,
          0.834,
          0.834,
          0.834,
          0.834,
          0.834,
          0.834,
          0.834,
          0.834,
          0.834,
          0.834,
          0.834,
          0.834,
          0.023,
          0.834,
          0.834
         ],
         "yaxis": "y18"
        },
        {
         "hovertemplate": "Name=Amharic<br>Category=Person<br>x=%{x}<br>y=%{y}<extra></extra>",
         "legendgroup": "Amharic",
         "line": {
          "color": "#ab63fa",
          "dash": "solid"
         },
         "marker": {
          "symbol": "circle"
         },
         "mode": "lines",
         "name": "Amharic",
         "orientation": "v",
         "showlegend": false,
         "type": "scatter",
         "x": [
          0,
          1,
          2,
          3,
          4,
          5,
          6,
          7,
          8,
          9,
          10,
          11,
          12,
          13,
          14,
          15,
          16,
          17,
          18,
          19,
          20,
          21,
          22,
          23
         ],
         "xaxis": "x13",
         "y": [
          0.714,
          0.714,
          0.714,
          0.714,
          0.714,
          0.714,
          0.714,
          0.714,
          0.714,
          0.714,
          0.714,
          0.714,
          0.714,
          0.05,
          0.714,
          0.714,
          0.714,
          0.714,
          0.714,
          0.714,
          0.714,
          0.714,
          0.714,
          0.031
         ],
         "yaxis": "y13"
        },
        {
         "hovertemplate": "Name=Amharic<br>Category=VerbForm<br>x=%{x}<br>y=%{y}<extra></extra>",
         "legendgroup": "Amharic",
         "line": {
          "color": "#ab63fa",
          "dash": "solid"
         },
         "marker": {
          "symbol": "circle"
         },
         "mode": "lines",
         "name": "Amharic",
         "orientation": "v",
         "showlegend": false,
         "type": "scatter",
         "x": [
          0,
          1,
          2,
          3,
          4,
          5,
          6,
          7,
          8,
          9,
          10,
          11,
          12,
          13,
          14,
          15,
          16,
          17,
          18,
          19,
          20,
          21,
          22,
          23
         ],
         "xaxis": "x14",
         "y": [
          0.811,
          0.067,
          0.811,
          0.811,
          0.811,
          0.811,
          0.811,
          0.811,
          0.811,
          0.811,
          0.811,
          0.811,
          0.811,
          0.067,
          0.811,
          0.811,
          0.811,
          0.811,
          0.811,
          0.811,
          0.811,
          0.711,
          0.711,
          0.811
         ],
         "yaxis": "y14"
        },
        {
         "hovertemplate": "Name=Amharic<br>Category=Voice<br>x=%{x}<br>y=%{y}<extra></extra>",
         "legendgroup": "Amharic",
         "line": {
          "color": "#ab63fa",
          "dash": "solid"
         },
         "marker": {
          "symbol": "circle"
         },
         "mode": "lines",
         "name": "Amharic",
         "orientation": "v",
         "showlegend": false,
         "type": "scatter",
         "x": [
          0,
          1,
          2,
          3,
          4,
          5,
          6,
          7,
          8,
          9,
          10,
          11,
          12,
          13,
          14,
          15,
          16,
          17,
          18,
          19,
          20,
          21,
          22,
          23
         ],
         "xaxis": "x15",
         "y": [
          0.196,
          0.271,
          0.271,
          0.271,
          0.271,
          0.271,
          0.271,
          0.271,
          0.271,
          0.271,
          0.271,
          0.271,
          0.271,
          0.271,
          0.383,
          0.402,
          0.271,
          0.271,
          0.196,
          0.196,
          0.196,
          0.271,
          0.402,
          0.191
         ],
         "yaxis": "y15"
        },
        {
         "hovertemplate": "Name=Assyrian<br>Category=Number<br>x=%{x}<br>y=%{y}<extra></extra>",
         "legendgroup": "Assyrian",
         "line": {
          "color": "#FFA15A",
          "dash": "solid"
         },
         "marker": {
          "symbol": "circle"
         },
         "mode": "lines",
         "name": "Assyrian",
         "orientation": "v",
         "showlegend": true,
         "type": "scatter",
         "x": [
          0,
          1,
          2,
          3,
          4,
          5,
          6,
          7,
          8,
          9,
          10,
          11,
          12,
          13,
          14,
          15,
          16,
          17,
          18,
          19,
          20,
          21,
          22,
          23
         ],
         "xaxis": "x18",
         "y": [
          0.711,
          0.711,
          0.711,
          0.711,
          0.711,
          0.067,
          0.711,
          0.711,
          0.711,
          0.711,
          0,
          0.711,
          0.711,
          0.711,
          0.711,
          0.711,
          0.711,
          0.711,
          0.711,
          0.711,
          0.711,
          0.711,
          0.711,
          0.711
         ],
         "yaxis": "y18"
        }
       ],
       "layout": {
        "annotations": [
         {
          "font": {},
          "showarrow": false,
          "text": "Category=Gender[psor]",
          "x": 0.15999999999999998,
          "xanchor": "center",
          "xref": "paper",
          "y": 0.10833333333333331,
          "yanchor": "bottom",
          "yref": "paper"
         },
         {
          "font": {},
          "showarrow": false,
          "text": "Category=Number[psor]",
          "x": 0.49999999999999994,
          "xanchor": "center",
          "xref": "paper",
          "y": 0.10833333333333331,
          "yanchor": "bottom",
          "yref": "paper"
         },
         {
          "font": {},
          "showarrow": false,
          "text": "Category=NumValue",
          "x": 0.15999999999999998,
          "xanchor": "center",
          "xref": "paper",
          "y": 0.2866666666666666,
          "yanchor": "bottom",
          "yref": "paper"
         },
         {
          "font": {},
          "showarrow": false,
          "text": "Category=PronType",
          "x": 0.49999999999999994,
          "xanchor": "center",
          "xref": "paper",
          "y": 0.2866666666666666,
          "yanchor": "bottom",
          "yref": "paper"
         },
         {
          "font": {},
          "showarrow": false,
          "text": "Category=VerbClass",
          "x": 0.8399999999999999,
          "xanchor": "center",
          "xref": "paper",
          "y": 0.2866666666666666,
          "yanchor": "bottom",
          "yref": "paper"
         },
         {
          "font": {},
          "showarrow": false,
          "text": "Category=Mood",
          "x": 0.15999999999999998,
          "xanchor": "center",
          "xref": "paper",
          "y": 0.46499999999999997,
          "yanchor": "bottom",
          "yref": "paper"
         },
         {
          "font": {},
          "showarrow": false,
          "text": "Category=Tense",
          "x": 0.49999999999999994,
          "xanchor": "center",
          "xref": "paper",
          "y": 0.46499999999999997,
          "yanchor": "bottom",
          "yref": "paper"
         },
         {
          "font": {},
          "showarrow": false,
          "text": "Category=NumForm",
          "x": 0.8399999999999999,
          "xanchor": "center",
          "xref": "paper",
          "y": 0.46499999999999997,
          "yanchor": "bottom",
          "yref": "paper"
         },
         {
          "font": {},
          "showarrow": false,
          "text": "Category=Definite",
          "x": 0.15999999999999998,
          "xanchor": "center",
          "xref": "paper",
          "y": 0.6433333333333332,
          "yanchor": "bottom",
          "yref": "paper"
         },
         {
          "font": {},
          "showarrow": false,
          "text": "Category=Animacy",
          "x": 0.49999999999999994,
          "xanchor": "center",
          "xref": "paper",
          "y": 0.6433333333333332,
          "yanchor": "bottom",
          "yref": "paper"
         },
         {
          "font": {},
          "showarrow": false,
          "text": "Category=Aspect",
          "x": 0.8399999999999999,
          "xanchor": "center",
          "xref": "paper",
          "y": 0.6433333333333332,
          "yanchor": "bottom",
          "yref": "paper"
         },
         {
          "font": {},
          "showarrow": false,
          "text": "Category=Person",
          "x": 0.15999999999999998,
          "xanchor": "center",
          "xref": "paper",
          "y": 0.8216666666666665,
          "yanchor": "bottom",
          "yref": "paper"
         },
         {
          "font": {},
          "showarrow": false,
          "text": "Category=VerbForm",
          "x": 0.49999999999999994,
          "xanchor": "center",
          "xref": "paper",
          "y": 0.8216666666666665,
          "yanchor": "bottom",
          "yref": "paper"
         },
         {
          "font": {},
          "showarrow": false,
          "text": "Category=Voice",
          "x": 0.8399999999999999,
          "xanchor": "center",
          "xref": "paper",
          "y": 0.8216666666666665,
          "yanchor": "bottom",
          "yref": "paper"
         },
         {
          "font": {},
          "showarrow": false,
          "text": "Category=Case",
          "x": 0.15999999999999998,
          "xanchor": "center",
          "xref": "paper",
          "y": 0.9999999999999999,
          "yanchor": "bottom",
          "yref": "paper"
         },
         {
          "font": {},
          "showarrow": false,
          "text": "Category=Gender",
          "x": 0.49999999999999994,
          "xanchor": "center",
          "xref": "paper",
          "y": 0.9999999999999999,
          "yanchor": "bottom",
          "yref": "paper"
         },
         {
          "font": {},
          "showarrow": false,
          "text": "Category=Number",
          "x": 0.8399999999999999,
          "xanchor": "center",
          "xref": "paper",
          "y": 0.9999999999999999,
          "yanchor": "bottom",
          "yref": "paper"
         }
        ],
        "legend": {
         "title": {
          "text": "Name"
         },
         "tracegroupgap": 0
        },
        "margin": {
         "t": 60
        },
        "template": {
         "data": {
          "bar": [
           {
            "error_x": {
             "color": "#2a3f5f"
            },
            "error_y": {
             "color": "#2a3f5f"
            },
            "marker": {
             "line": {
              "color": "#E5ECF6",
              "width": 0.5
             },
             "pattern": {
              "fillmode": "overlay",
              "size": 10,
              "solidity": 0.2
             }
            },
            "type": "bar"
           }
          ],
          "barpolar": [
           {
            "marker": {
             "line": {
              "color": "#E5ECF6",
              "width": 0.5
             },
             "pattern": {
              "fillmode": "overlay",
              "size": 10,
              "solidity": 0.2
             }
            },
            "type": "barpolar"
           }
          ],
          "carpet": [
           {
            "aaxis": {
             "endlinecolor": "#2a3f5f",
             "gridcolor": "white",
             "linecolor": "white",
             "minorgridcolor": "white",
             "startlinecolor": "#2a3f5f"
            },
            "baxis": {
             "endlinecolor": "#2a3f5f",
             "gridcolor": "white",
             "linecolor": "white",
             "minorgridcolor": "white",
             "startlinecolor": "#2a3f5f"
            },
            "type": "carpet"
           }
          ],
          "choropleth": [
           {
            "colorbar": {
             "outlinewidth": 0,
             "ticks": ""
            },
            "type": "choropleth"
           }
          ],
          "contour": [
           {
            "colorbar": {
             "outlinewidth": 0,
             "ticks": ""
            },
            "colorscale": [
             [
              0,
              "#0d0887"
             ],
             [
              0.1111111111111111,
              "#46039f"
             ],
             [
              0.2222222222222222,
              "#7201a8"
             ],
             [
              0.3333333333333333,
              "#9c179e"
             ],
             [
              0.4444444444444444,
              "#bd3786"
             ],
             [
              0.5555555555555556,
              "#d8576b"
             ],
             [
              0.6666666666666666,
              "#ed7953"
             ],
             [
              0.7777777777777778,
              "#fb9f3a"
             ],
             [
              0.8888888888888888,
              "#fdca26"
             ],
             [
              1,
              "#f0f921"
             ]
            ],
            "type": "contour"
           }
          ],
          "contourcarpet": [
           {
            "colorbar": {
             "outlinewidth": 0,
             "ticks": ""
            },
            "type": "contourcarpet"
           }
          ],
          "heatmap": [
           {
            "colorbar": {
             "outlinewidth": 0,
             "ticks": ""
            },
            "colorscale": [
             [
              0,
              "#0d0887"
             ],
             [
              0.1111111111111111,
              "#46039f"
             ],
             [
              0.2222222222222222,
              "#7201a8"
             ],
             [
              0.3333333333333333,
              "#9c179e"
             ],
             [
              0.4444444444444444,
              "#bd3786"
             ],
             [
              0.5555555555555556,
              "#d8576b"
             ],
             [
              0.6666666666666666,
              "#ed7953"
             ],
             [
              0.7777777777777778,
              "#fb9f3a"
             ],
             [
              0.8888888888888888,
              "#fdca26"
             ],
             [
              1,
              "#f0f921"
             ]
            ],
            "type": "heatmap"
           }
          ],
          "heatmapgl": [
           {
            "colorbar": {
             "outlinewidth": 0,
             "ticks": ""
            },
            "colorscale": [
             [
              0,
              "#0d0887"
             ],
             [
              0.1111111111111111,
              "#46039f"
             ],
             [
              0.2222222222222222,
              "#7201a8"
             ],
             [
              0.3333333333333333,
              "#9c179e"
             ],
             [
              0.4444444444444444,
              "#bd3786"
             ],
             [
              0.5555555555555556,
              "#d8576b"
             ],
             [
              0.6666666666666666,
              "#ed7953"
             ],
             [
              0.7777777777777778,
              "#fb9f3a"
             ],
             [
              0.8888888888888888,
              "#fdca26"
             ],
             [
              1,
              "#f0f921"
             ]
            ],
            "type": "heatmapgl"
           }
          ],
          "histogram": [
           {
            "marker": {
             "pattern": {
              "fillmode": "overlay",
              "size": 10,
              "solidity": 0.2
             }
            },
            "type": "histogram"
           }
          ],
          "histogram2d": [
           {
            "colorbar": {
             "outlinewidth": 0,
             "ticks": ""
            },
            "colorscale": [
             [
              0,
              "#0d0887"
             ],
             [
              0.1111111111111111,
              "#46039f"
             ],
             [
              0.2222222222222222,
              "#7201a8"
             ],
             [
              0.3333333333333333,
              "#9c179e"
             ],
             [
              0.4444444444444444,
              "#bd3786"
             ],
             [
              0.5555555555555556,
              "#d8576b"
             ],
             [
              0.6666666666666666,
              "#ed7953"
             ],
             [
              0.7777777777777778,
              "#fb9f3a"
             ],
             [
              0.8888888888888888,
              "#fdca26"
             ],
             [
              1,
              "#f0f921"
             ]
            ],
            "type": "histogram2d"
           }
          ],
          "histogram2dcontour": [
           {
            "colorbar": {
             "outlinewidth": 0,
             "ticks": ""
            },
            "colorscale": [
             [
              0,
              "#0d0887"
             ],
             [
              0.1111111111111111,
              "#46039f"
             ],
             [
              0.2222222222222222,
              "#7201a8"
             ],
             [
              0.3333333333333333,
              "#9c179e"
             ],
             [
              0.4444444444444444,
              "#bd3786"
             ],
             [
              0.5555555555555556,
              "#d8576b"
             ],
             [
              0.6666666666666666,
              "#ed7953"
             ],
             [
              0.7777777777777778,
              "#fb9f3a"
             ],
             [
              0.8888888888888888,
              "#fdca26"
             ],
             [
              1,
              "#f0f921"
             ]
            ],
            "type": "histogram2dcontour"
           }
          ],
          "mesh3d": [
           {
            "colorbar": {
             "outlinewidth": 0,
             "ticks": ""
            },
            "type": "mesh3d"
           }
          ],
          "parcoords": [
           {
            "line": {
             "colorbar": {
              "outlinewidth": 0,
              "ticks": ""
             }
            },
            "type": "parcoords"
           }
          ],
          "pie": [
           {
            "automargin": true,
            "type": "pie"
           }
          ],
          "scatter": [
           {
            "fillpattern": {
             "fillmode": "overlay",
             "size": 10,
             "solidity": 0.2
            },
            "type": "scatter"
           }
          ],
          "scatter3d": [
           {
            "line": {
             "colorbar": {
              "outlinewidth": 0,
              "ticks": ""
             }
            },
            "marker": {
             "colorbar": {
              "outlinewidth": 0,
              "ticks": ""
             }
            },
            "type": "scatter3d"
           }
          ],
          "scattercarpet": [
           {
            "marker": {
             "colorbar": {
              "outlinewidth": 0,
              "ticks": ""
             }
            },
            "type": "scattercarpet"
           }
          ],
          "scattergeo": [
           {
            "marker": {
             "colorbar": {
              "outlinewidth": 0,
              "ticks": ""
             }
            },
            "type": "scattergeo"
           }
          ],
          "scattergl": [
           {
            "marker": {
             "colorbar": {
              "outlinewidth": 0,
              "ticks": ""
             }
            },
            "type": "scattergl"
           }
          ],
          "scattermapbox": [
           {
            "marker": {
             "colorbar": {
              "outlinewidth": 0,
              "ticks": ""
             }
            },
            "type": "scattermapbox"
           }
          ],
          "scatterpolar": [
           {
            "marker": {
             "colorbar": {
              "outlinewidth": 0,
              "ticks": ""
             }
            },
            "type": "scatterpolar"
           }
          ],
          "scatterpolargl": [
           {
            "marker": {
             "colorbar": {
              "outlinewidth": 0,
              "ticks": ""
             }
            },
            "type": "scatterpolargl"
           }
          ],
          "scatterternary": [
           {
            "marker": {
             "colorbar": {
              "outlinewidth": 0,
              "ticks": ""
             }
            },
            "type": "scatterternary"
           }
          ],
          "surface": [
           {
            "colorbar": {
             "outlinewidth": 0,
             "ticks": ""
            },
            "colorscale": [
             [
              0,
              "#0d0887"
             ],
             [
              0.1111111111111111,
              "#46039f"
             ],
             [
              0.2222222222222222,
              "#7201a8"
             ],
             [
              0.3333333333333333,
              "#9c179e"
             ],
             [
              0.4444444444444444,
              "#bd3786"
             ],
             [
              0.5555555555555556,
              "#d8576b"
             ],
             [
              0.6666666666666666,
              "#ed7953"
             ],
             [
              0.7777777777777778,
              "#fb9f3a"
             ],
             [
              0.8888888888888888,
              "#fdca26"
             ],
             [
              1,
              "#f0f921"
             ]
            ],
            "type": "surface"
           }
          ],
          "table": [
           {
            "cells": {
             "fill": {
              "color": "#EBF0F8"
             },
             "line": {
              "color": "white"
             }
            },
            "header": {
             "fill": {
              "color": "#C8D4E3"
             },
             "line": {
              "color": "white"
             }
            },
            "type": "table"
           }
          ]
         },
         "layout": {
          "annotationdefaults": {
           "arrowcolor": "#2a3f5f",
           "arrowhead": 0,
           "arrowwidth": 1
          },
          "autotypenumbers": "strict",
          "coloraxis": {
           "colorbar": {
            "outlinewidth": 0,
            "ticks": ""
           }
          },
          "colorscale": {
           "diverging": [
            [
             0,
             "#8e0152"
            ],
            [
             0.1,
             "#c51b7d"
            ],
            [
             0.2,
             "#de77ae"
            ],
            [
             0.3,
             "#f1b6da"
            ],
            [
             0.4,
             "#fde0ef"
            ],
            [
             0.5,
             "#f7f7f7"
            ],
            [
             0.6,
             "#e6f5d0"
            ],
            [
             0.7,
             "#b8e186"
            ],
            [
             0.8,
             "#7fbc41"
            ],
            [
             0.9,
             "#4d9221"
            ],
            [
             1,
             "#276419"
            ]
           ],
           "sequential": [
            [
             0,
             "#0d0887"
            ],
            [
             0.1111111111111111,
             "#46039f"
            ],
            [
             0.2222222222222222,
             "#7201a8"
            ],
            [
             0.3333333333333333,
             "#9c179e"
            ],
            [
             0.4444444444444444,
             "#bd3786"
            ],
            [
             0.5555555555555556,
             "#d8576b"
            ],
            [
             0.6666666666666666,
             "#ed7953"
            ],
            [
             0.7777777777777778,
             "#fb9f3a"
            ],
            [
             0.8888888888888888,
             "#fdca26"
            ],
            [
             1,
             "#f0f921"
            ]
           ],
           "sequentialminus": [
            [
             0,
             "#0d0887"
            ],
            [
             0.1111111111111111,
             "#46039f"
            ],
            [
             0.2222222222222222,
             "#7201a8"
            ],
            [
             0.3333333333333333,
             "#9c179e"
            ],
            [
             0.4444444444444444,
             "#bd3786"
            ],
            [
             0.5555555555555556,
             "#d8576b"
            ],
            [
             0.6666666666666666,
             "#ed7953"
            ],
            [
             0.7777777777777778,
             "#fb9f3a"
            ],
            [
             0.8888888888888888,
             "#fdca26"
            ],
            [
             1,
             "#f0f921"
            ]
           ]
          },
          "colorway": [
           "#636efa",
           "#EF553B",
           "#00cc96",
           "#ab63fa",
           "#FFA15A",
           "#19d3f3",
           "#FF6692",
           "#B6E880",
           "#FF97FF",
           "#FECB52"
          ],
          "font": {
           "color": "#2a3f5f"
          },
          "geo": {
           "bgcolor": "white",
           "lakecolor": "white",
           "landcolor": "#E5ECF6",
           "showlakes": true,
           "showland": true,
           "subunitcolor": "white"
          },
          "hoverlabel": {
           "align": "left"
          },
          "hovermode": "closest",
          "mapbox": {
           "style": "light"
          },
          "paper_bgcolor": "white",
          "plot_bgcolor": "#E5ECF6",
          "polar": {
           "angularaxis": {
            "gridcolor": "white",
            "linecolor": "white",
            "ticks": ""
           },
           "bgcolor": "#E5ECF6",
           "radialaxis": {
            "gridcolor": "white",
            "linecolor": "white",
            "ticks": ""
           }
          },
          "scene": {
           "xaxis": {
            "backgroundcolor": "#E5ECF6",
            "gridcolor": "white",
            "gridwidth": 2,
            "linecolor": "white",
            "showbackground": true,
            "ticks": "",
            "zerolinecolor": "white"
           },
           "yaxis": {
            "backgroundcolor": "#E5ECF6",
            "gridcolor": "white",
            "gridwidth": 2,
            "linecolor": "white",
            "showbackground": true,
            "ticks": "",
            "zerolinecolor": "white"
           },
           "zaxis": {
            "backgroundcolor": "#E5ECF6",
            "gridcolor": "white",
            "gridwidth": 2,
            "linecolor": "white",
            "showbackground": true,
            "ticks": "",
            "zerolinecolor": "white"
           }
          },
          "shapedefaults": {
           "line": {
            "color": "#2a3f5f"
           }
          },
          "ternary": {
           "aaxis": {
            "gridcolor": "white",
            "linecolor": "white",
            "ticks": ""
           },
           "baxis": {
            "gridcolor": "white",
            "linecolor": "white",
            "ticks": ""
           },
           "bgcolor": "#E5ECF6",
           "caxis": {
            "gridcolor": "white",
            "linecolor": "white",
            "ticks": ""
           }
          },
          "title": {
           "x": 0.05
          },
          "xaxis": {
           "automargin": true,
           "gridcolor": "white",
           "linecolor": "white",
           "ticks": "",
           "title": {
            "standoff": 15
           },
           "zerolinecolor": "white",
           "zerolinewidth": 2
          },
          "yaxis": {
           "automargin": true,
           "gridcolor": "white",
           "linecolor": "white",
           "ticks": "",
           "title": {
            "standoff": 15
           },
           "zerolinecolor": "white",
           "zerolinewidth": 2
          }
         }
        },
        "xaxis": {
         "anchor": "y",
         "domain": [
          0,
          0.31999999999999995
         ],
         "title": {
          "text": "x"
         }
        },
        "xaxis10": {
         "anchor": "y10",
         "domain": [
          0,
          0.31999999999999995
         ],
         "matches": "x",
         "showticklabels": false
        },
        "xaxis11": {
         "anchor": "y11",
         "domain": [
          0.33999999999999997,
          0.6599999999999999
         ],
         "matches": "x",
         "showticklabels": false
        },
        "xaxis12": {
         "anchor": "y12",
         "domain": [
          0.6799999999999999,
          0.9999999999999999
         ],
         "matches": "x",
         "showticklabels": false
        },
        "xaxis13": {
         "anchor": "y13",
         "domain": [
          0,
          0.31999999999999995
         ],
         "matches": "x",
         "showticklabels": false
        },
        "xaxis14": {
         "anchor": "y14",
         "domain": [
          0.33999999999999997,
          0.6599999999999999
         ],
         "matches": "x",
         "showticklabels": false
        },
        "xaxis15": {
         "anchor": "y15",
         "domain": [
          0.6799999999999999,
          0.9999999999999999
         ],
         "matches": "x",
         "showticklabels": false
        },
        "xaxis16": {
         "anchor": "y16",
         "domain": [
          0,
          0.31999999999999995
         ],
         "matches": "x",
         "showticklabels": false
        },
        "xaxis17": {
         "anchor": "y17",
         "domain": [
          0.33999999999999997,
          0.6599999999999999
         ],
         "matches": "x",
         "showticklabels": false
        },
        "xaxis18": {
         "anchor": "y18",
         "domain": [
          0.6799999999999999,
          0.9999999999999999
         ],
         "matches": "x",
         "showticklabels": false
        },
        "xaxis2": {
         "anchor": "y2",
         "domain": [
          0.33999999999999997,
          0.6599999999999999
         ],
         "matches": "x",
         "title": {
          "text": "x"
         }
        },
        "xaxis3": {
         "anchor": "y3",
         "domain": [
          0.6799999999999999,
          0.9999999999999999
         ],
         "matches": "x",
         "title": {
          "text": "x"
         }
        },
        "xaxis4": {
         "anchor": "y4",
         "domain": [
          0,
          0.31999999999999995
         ],
         "matches": "x",
         "showticklabels": false
        },
        "xaxis5": {
         "anchor": "y5",
         "domain": [
          0.33999999999999997,
          0.6599999999999999
         ],
         "matches": "x",
         "showticklabels": false
        },
        "xaxis6": {
         "anchor": "y6",
         "domain": [
          0.6799999999999999,
          0.9999999999999999
         ],
         "matches": "x",
         "showticklabels": false
        },
        "xaxis7": {
         "anchor": "y7",
         "domain": [
          0,
          0.31999999999999995
         ],
         "matches": "x",
         "showticklabels": false
        },
        "xaxis8": {
         "anchor": "y8",
         "domain": [
          0.33999999999999997,
          0.6599999999999999
         ],
         "matches": "x",
         "showticklabels": false
        },
        "xaxis9": {
         "anchor": "y9",
         "domain": [
          0.6799999999999999,
          0.9999999999999999
         ],
         "matches": "x",
         "showticklabels": false
        },
        "yaxis": {
         "anchor": "x",
         "domain": [
          0,
          0.10833333333333331
         ],
         "title": {
          "text": "y"
         }
        },
        "yaxis10": {
         "anchor": "x10",
         "domain": [
          0.5349999999999999,
          0.6433333333333332
         ],
         "matches": "y",
         "title": {
          "text": "y"
         }
        },
        "yaxis11": {
         "anchor": "x11",
         "domain": [
          0.5349999999999999,
          0.6433333333333332
         ],
         "matches": "y",
         "showticklabels": false
        },
        "yaxis12": {
         "anchor": "x12",
         "domain": [
          0.5349999999999999,
          0.6433333333333332
         ],
         "matches": "y",
         "showticklabels": false
        },
        "yaxis13": {
         "anchor": "x13",
         "domain": [
          0.7133333333333333,
          0.8216666666666665
         ],
         "matches": "y",
         "title": {
          "text": "y"
         }
        },
        "yaxis14": {
         "anchor": "x14",
         "domain": [
          0.7133333333333333,
          0.8216666666666665
         ],
         "matches": "y",
         "showticklabels": false
        },
        "yaxis15": {
         "anchor": "x15",
         "domain": [
          0.7133333333333333,
          0.8216666666666665
         ],
         "matches": "y",
         "showticklabels": false
        },
        "yaxis16": {
         "anchor": "x16",
         "domain": [
          0.8916666666666666,
          0.9999999999999999
         ],
         "matches": "y",
         "title": {
          "text": "y"
         }
        },
        "yaxis17": {
         "anchor": "x17",
         "domain": [
          0.8916666666666666,
          0.9999999999999999
         ],
         "matches": "y",
         "showticklabels": false
        },
        "yaxis18": {
         "anchor": "x18",
         "domain": [
          0.8916666666666666,
          0.9999999999999999
         ],
         "matches": "y",
         "showticklabels": false
        },
        "yaxis2": {
         "anchor": "x2",
         "domain": [
          0,
          0.10833333333333331
         ],
         "matches": "y",
         "showticklabels": false
        },
        "yaxis3": {
         "anchor": "x3",
         "domain": [
          0,
          0.10833333333333331
         ],
         "matches": "y",
         "showticklabels": false
        },
        "yaxis4": {
         "anchor": "x4",
         "domain": [
          0.17833333333333332,
          0.2866666666666666
         ],
         "matches": "y",
         "title": {
          "text": "y"
         }
        },
        "yaxis5": {
         "anchor": "x5",
         "domain": [
          0.17833333333333332,
          0.2866666666666666
         ],
         "matches": "y",
         "showticklabels": false
        },
        "yaxis6": {
         "anchor": "x6",
         "domain": [
          0.17833333333333332,
          0.2866666666666666
         ],
         "matches": "y",
         "showticklabels": false
        },
        "yaxis7": {
         "anchor": "x7",
         "domain": [
          0.35666666666666663,
          0.46499999999999997
         ],
         "matches": "y",
         "title": {
          "text": "y"
         }
        },
        "yaxis8": {
         "anchor": "x8",
         "domain": [
          0.35666666666666663,
          0.46499999999999997
         ],
         "matches": "y",
         "showticklabels": false
        },
        "yaxis9": {
         "anchor": "x9",
         "domain": [
          0.35666666666666663,
          0.46499999999999997
         ],
         "matches": "y",
         "showticklabels": false
        }
       }
      }
     },
     "metadata": {},
     "output_type": "display_data"
    }
   ],
   "source": [
    "def update_output(family):\n",
    "    df_spec = pd.DataFrame(columns = ['Name', 'x', 'y', 'Category'])\n",
    "    df_spec2 = pd.DataFrame(columns = ['Name', 'x', 'y', 'Category'])\n",
    "    new_lst = structure[family]\n",
    "\n",
    "    for el in new_lst:\n",
    "        df_temp = df1.loc[df1['Name'].isin([el])]\n",
    "        frames = [df_spec, df_temp]\n",
    "        df_spec = pd.concat(frames)\n",
    "\n",
    "    for cat in df_spec['Category'].unique().tolist():\n",
    "        a = df_spec.loc[df_spec['Category'].isin([cat])]\n",
    "        \n",
    "        if len(a['Name'].unique().tolist()) > 2:\n",
    "            curves = {}\n",
    "\n",
    "            for index, raw in df_spec.iterrows():\n",
    "                if raw['Category'] not in curves.keys():\n",
    "                    curves[raw['Category']] = {}\n",
    "                if raw['Name'] not in curves[raw['Category']].keys():\n",
    "                    curves[raw['Category']][raw['Name']] = []\n",
    "                point = (raw['x'], raw['y'])\n",
    "                curves[raw['Category']][raw['Name']].append(point)\n",
    "\n",
    "            distances = {}\n",
    "            distances[cat] = {}\n",
    "            nam_line = list(curves[cat].keys())\n",
    "            for b in range(len(curves[cat].keys())):\n",
    "                nam_line_spec = list(curves[cat].keys())\n",
    "                del nam_line_spec[b]\n",
    "                line_1 = curves[cat][nam_line[b]]\n",
    "                lang_1 = nam_line[b]\n",
    "                for name in nam_line_spec:\n",
    "                    line_2 = curves[cat][name]\n",
    "                    lang_2 = name\n",
    "                    compar_name1 = f'{lang_1}:{lang_2}'\n",
    "                    compar_name2 = f'{lang_2}:{lang_1}'\n",
    "                    if compar_name1 and compar_name2 not in distances[cat].keys():\n",
    "                        distances[cat][compar_name1] = frechet_distance(line_1, line_2)\n",
    "\n",
    "            distances = dict(sorted(distances[cat].items(), key=lambda x: -x[1]))\n",
    "            compar_distances = {}\n",
    "            count = 0\n",
    "            dist_len = 0.8*len(distances.keys())\n",
    "            pattern1 = int()\n",
    "            for k in distances.keys():\n",
    "                count += 1\n",
    "                if pattern1 == 0:\n",
    "                    pattern1 =  0.95*distances[k]\n",
    "                n_index = k.index(':')\n",
    "                lang1 = k[0:n_index]\n",
    "                lang2 = k[n_index+1:]\n",
    "                if distances[k] >= pattern1:\n",
    "                    if count <= dist_len:\n",
    "                        if lang1 not in compar_distances.keys():\n",
    "                            compar_distances[lang1] = []\n",
    "                            compar_distances[lang1].append(lang1)\n",
    "                            compar_distances[lang1].append(lang2)\n",
    "                        else:\n",
    "                            compar_distances[lang1].append(lang2)\n",
    "                        if lang2 not in compar_distances.keys():\n",
    "                            compar_distances[lang2] = []\n",
    "                            compar_distances[lang2].append(lang2)\n",
    "                            compar_distances[lang2].append(lang1)\n",
    "                        else:\n",
    "                            compar_distances[lang2].append(lang1)\n",
    "            compar_distances = dict(sorted(compar_distances.items(), key=lambda item: len(item[1])))\n",
    "            [last] = collections.deque(compar_distances, maxlen=1)\n",
    "            need_lang = compar_distances[last]\n",
    "            \n",
    "            if len(need_lang) >= 6:\n",
    "                need_lang = need_lang[:6]\n",
    "\n",
    "            for el in need_lang:\n",
    "                b = df_spec2.loc[df_spec2['Category'].isin([cat])]\n",
    "                b = b['Name'].unique().tolist()\n",
    "                if el not in b:\n",
    "                    df_temp = df_spec.loc[df_spec['Name'].isin([el])]\n",
    "                    df_temp = df_temp.loc[df_temp['Category'].isin([cat])]\n",
    "                    frames = [df_spec2, df_temp]\n",
    "                    df_spec2 = pd.concat(frames)\n",
    "        else:\n",
    "            df_temp = df_spec[df_spec['Category'].isin([cat])]\n",
    "            frames = [df_spec2, df_temp]\n",
    "            df_spec2 = pd.concat(frames)\n",
    "    a = df_spec2.loc[df_spec2['Category'].isin(['Aspect'])]\n",
    "    fig = px.line(df_spec2, x='x', y='y', facet_col='Category', color='Name', facet_col_wrap=3)\n",
    "    return fig\n",
    "update_output('Afro-Asiatic')"
   ]
  },
  {
   "cell_type": "code",
   "execution_count": 22,
   "metadata": {},
   "outputs": [
    {
     "data": {
      "application/vnd.plotly.v1+json": {
       "config": {
        "plotlyServerURL": "https://plot.ly"
       },
       "data": [
        {
         "hovertemplate": "Name=Wolof<br>Parameter=min<br>Category=Aspect<br>x=%{x}<br>y=%{y}<extra></extra>",
         "legendgroup": "Wolof",
         "line": {
          "color": "#636efa",
          "dash": "solid"
         },
         "marker": {
          "symbol": "circle"
         },
         "mode": "lines",
         "name": "Wolof",
         "orientation": "v",
         "showlegend": true,
         "type": "scatter",
         "x": [
          0,
          1,
          2,
          3,
          4,
          5,
          6,
          7,
          8,
          9,
          10,
          11,
          12,
          13,
          14,
          15,
          16,
          17,
          18,
          19,
          20,
          21,
          22,
          23
         ],
         "xaxis": "x16",
         "y": [
          0.001,
          0.246,
          0.307,
          0.307,
          0.313,
          0.313,
          0.246,
          0.307,
          0.307,
          0.307,
          0.307,
          0.307,
          0.307,
          0.307,
          0.246,
          0.307,
          0.307,
          0.307,
          0.246,
          0.307,
          0.307,
          0.307,
          0.307,
          0.247
         ],
         "yaxis": "y16"
        },
        {
         "hovertemplate": "Name=Wolof<br>Parameter=min<br>Category=Case<br>x=%{x}<br>y=%{y}<extra></extra>",
         "legendgroup": "Wolof",
         "line": {
          "color": "#636efa",
          "dash": "solid"
         },
         "marker": {
          "symbol": "circle"
         },
         "mode": "lines",
         "name": "Wolof",
         "orientation": "v",
         "showlegend": false,
         "type": "scatter",
         "x": [
          0,
          1,
          2,
          3,
          4,
          5,
          6,
          7,
          8,
          9,
          10,
          11,
          12,
          13,
          14,
          15,
          16,
          17,
          18,
          19,
          20,
          21,
          22,
          23
         ],
         "xaxis": "x17",
         "y": [
          0.037,
          0.197,
          0.037,
          0.339,
          0.197,
          0.197,
          0.032,
          0.339,
          0.339,
          0.191,
          0.339,
          0.037,
          0.037,
          0.037,
          0.197,
          0.197,
          0.197,
          0.197,
          0.197,
          0.037,
          0.037,
          0.197,
          0.339,
          0.191
         ],
         "yaxis": "y17"
        },
        {
         "hovertemplate": "Name=Wolof<br>Parameter=min<br>Category=Definite<br>x=%{x}<br>y=%{y}<extra></extra>",
         "legendgroup": "Wolof",
         "line": {
          "color": "#636efa",
          "dash": "solid"
         },
         "marker": {
          "symbol": "circle"
         },
         "mode": "lines",
         "name": "Wolof",
         "orientation": "v",
         "showlegend": false,
         "type": "scatter",
         "x": [
          0,
          1,
          2,
          3,
          4,
          5,
          6,
          7,
          8,
          9,
          10,
          11,
          12,
          13,
          14,
          15,
          16,
          17,
          18,
          19,
          20,
          21,
          22,
          23
         ],
         "xaxis": "x18",
         "y": [
          0.664,
          0.664,
          0.664,
          0.664,
          0.664,
          0.664,
          0.664,
          0.664,
          0.664,
          0.664,
          0.664,
          0.664,
          0.664,
          0.664,
          0.664,
          0.664,
          0.664,
          0.664,
          0.664,
          0.664,
          0.664,
          0.664,
          0.664,
          0.664
         ],
         "yaxis": "y18"
        },
        {
         "hovertemplate": "Name=Wolof<br>Parameter=min<br>Category=Deixis<br>x=%{x}<br>y=%{y}<extra></extra>",
         "legendgroup": "Wolof",
         "line": {
          "color": "#636efa",
          "dash": "solid"
         },
         "marker": {
          "symbol": "circle"
         },
         "mode": "lines",
         "name": "Wolof",
         "orientation": "v",
         "showlegend": false,
         "type": "scatter",
         "x": [
          0,
          1,
          2,
          3,
          4,
          5,
          6,
          7,
          8,
          9,
          10,
          11,
          12,
          13,
          14,
          15,
          16,
          17,
          18,
          19,
          20,
          21,
          22,
          23
         ],
         "xaxis": "x19",
         "y": [
          0.839,
          0.839,
          0.839,
          0.839,
          0.839,
          0.839,
          0.839,
          0.839,
          0.839,
          0.839,
          0.839,
          0.839,
          0.839,
          0.839,
          0.839,
          0.839,
          0.839,
          0.839,
          0.839,
          0.839,
          0.839,
          0.839,
          0.839,
          0.839
         ],
         "yaxis": "y19"
        },
        {
         "hovertemplate": "Name=Wolof<br>Parameter=min<br>Category=DeixisRef<br>x=%{x}<br>y=%{y}<extra></extra>",
         "legendgroup": "Wolof",
         "line": {
          "color": "#636efa",
          "dash": "solid"
         },
         "marker": {
          "symbol": "circle"
         },
         "mode": "lines",
         "name": "Wolof",
         "orientation": "v",
         "showlegend": false,
         "type": "scatter",
         "x": [
          0,
          1,
          2,
          3,
          4,
          5,
          6,
          7,
          8,
          9,
          10,
          11,
          12,
          13,
          14,
          15,
          16,
          17,
          18,
          19,
          20,
          21,
          22,
          23
         ],
         "xaxis": "x20",
         "y": [
          0.356,
          0.308,
          0.356,
          0.308,
          0.308,
          0.356,
          0.356,
          0.308,
          0.356,
          0.356,
          0.356,
          0.356,
          0.356,
          0.356,
          0.356,
          0.356,
          0.356,
          0.356,
          0.356,
          0.356,
          0.308,
          0.356,
          0.356,
          0.356
         ],
         "yaxis": "y20"
        },
        {
         "hovertemplate": "Name=Wolof<br>Parameter=min<br>Category=FocusType<br>x=%{x}<br>y=%{y}<extra></extra>",
         "legendgroup": "Wolof",
         "line": {
          "color": "#636efa",
          "dash": "solid"
         },
         "marker": {
          "symbol": "circle"
         },
         "mode": "lines",
         "name": "Wolof",
         "orientation": "v",
         "showlegend": false,
         "type": "scatter",
         "x": [
          0,
          1,
          2,
          3,
          4,
          5,
          6,
          7,
          8,
          9,
          10,
          11,
          12,
          13,
          14,
          15,
          16,
          17,
          18,
          19,
          20,
          21,
          22,
          23
         ],
         "xaxis": "x21",
         "y": [
          0.088,
          0.29,
          0.166,
          0.29,
          0.29,
          0.29,
          0.088,
          0.088,
          0.088,
          0.088,
          0.29,
          0.29,
          0.29,
          0.088,
          0.29,
          0.29,
          0.29,
          0.29,
          0.29,
          0.29,
          0.088,
          0.29,
          0.29,
          0.29
         ],
         "yaxis": "y21"
        },
        {
         "hovertemplate": "Name=Wolof<br>Parameter=min<br>Category=Gender<br>x=%{x}<br>y=%{y}<extra></extra>",
         "legendgroup": "Wolof",
         "line": {
          "color": "#636efa",
          "dash": "solid"
         },
         "marker": {
          "symbol": "circle"
         },
         "mode": "lines",
         "name": "Wolof",
         "orientation": "v",
         "showlegend": false,
         "type": "scatter",
         "x": [
          0,
          1,
          2,
          3,
          4,
          5,
          6,
          7,
          8,
          9,
          10,
          11,
          12,
          13,
          14,
          15,
          16,
          17,
          18,
          19,
          20,
          21,
          22,
          23
         ],
         "xaxis": "x22",
         "y": [
          0.229,
          0.229,
          0.229,
          0.229,
          0.229,
          0.229,
          0.229,
          0.229,
          0.229,
          0.229,
          0.229,
          0.229,
          0.229,
          0.229,
          0.4,
          0.229,
          0.229,
          0.229,
          0.229,
          0.229,
          0.229,
          0.229,
          0.4,
          0.4
         ],
         "yaxis": "y22"
        },
        {
         "hovertemplate": "Name=Wolof<br>Parameter=min<br>Category=Mood<br>x=%{x}<br>y=%{y}<extra></extra>",
         "legendgroup": "Wolof",
         "line": {
          "color": "#636efa",
          "dash": "solid"
         },
         "marker": {
          "symbol": "circle"
         },
         "mode": "lines",
         "name": "Wolof",
         "orientation": "v",
         "showlegend": false,
         "type": "scatter",
         "x": [
          0,
          1,
          2,
          3,
          4,
          5,
          6,
          7,
          8,
          9,
          10,
          11,
          12,
          13,
          14,
          15,
          16,
          17,
          18,
          19,
          20,
          21,
          22,
          23
         ],
         "xaxis": "x23",
         "y": [
          0.977,
          0.977,
          0.977,
          0.977,
          0.977,
          0.977,
          0.977,
          0.977,
          0.977,
          0.977,
          0.977,
          0.977,
          0.977,
          0.977,
          0.977,
          0.977,
          0.977,
          0.977,
          0.977,
          0.977,
          0.977,
          0.977,
          0.977,
          0.977
         ],
         "yaxis": "y23"
        },
        {
         "hovertemplate": "Name=Wolof<br>Parameter=min<br>Category=NounClass<br>x=%{x}<br>y=%{y}<extra></extra>",
         "legendgroup": "Wolof",
         "line": {
          "color": "#636efa",
          "dash": "solid"
         },
         "marker": {
          "symbol": "circle"
         },
         "mode": "lines",
         "name": "Wolof",
         "orientation": "v",
         "showlegend": false,
         "type": "scatter",
         "x": [
          0,
          1,
          2,
          3,
          4,
          5,
          6,
          7,
          8,
          9,
          10,
          11,
          12,
          13,
          14,
          15,
          16,
          17,
          18,
          19,
          20,
          21,
          22,
          23
         ],
         "xaxis": "x24",
         "y": [
          0.003,
          0.005,
          0.003,
          0.003,
          0.003,
          0.016,
          0.016,
          0.021,
          0.005,
          0.066,
          0.005,
          0.01,
          0.003,
          0.003,
          0.003,
          0.003,
          0.003,
          0.062,
          0.005,
          0.005,
          0.003,
          0.003,
          0.003,
          0.003
         ],
         "yaxis": "y24"
        },
        {
         "hovertemplate": "Name=Wolof<br>Parameter=min<br>Category=NumType<br>x=%{x}<br>y=%{y}<extra></extra>",
         "legendgroup": "Wolof",
         "line": {
          "color": "#636efa",
          "dash": "solid"
         },
         "marker": {
          "symbol": "circle"
         },
         "mode": "lines",
         "name": "Wolof",
         "orientation": "v",
         "showlegend": false,
         "type": "scatter",
         "x": [
          0,
          1,
          2,
          3,
          4,
          5,
          6,
          7,
          8,
          9,
          10,
          11,
          12,
          13,
          14,
          15,
          16,
          17,
          18,
          19,
          20,
          21,
          22,
          23
         ],
         "xaxis": "x25",
         "y": [
          0.016,
          0.851,
          0.851,
          0.851,
          0.851,
          0.851,
          0.851,
          0.851,
          0.851,
          0.851,
          0.851,
          0.851,
          0.851,
          0.851,
          0.851,
          0.851,
          0.851,
          0.851,
          0.851,
          0.851,
          0.851,
          0.851,
          0.851,
          0.851
         ],
         "yaxis": "y25"
        },
        {
         "hovertemplate": "Name=Wolof<br>Parameter=min<br>Category=Number<br>x=%{x}<br>y=%{y}<extra></extra>",
         "legendgroup": "Wolof",
         "line": {
          "color": "#636efa",
          "dash": "solid"
         },
         "marker": {
          "symbol": "circle"
         },
         "mode": "lines",
         "name": "Wolof",
         "orientation": "v",
         "showlegend": false,
         "type": "scatter",
         "x": [
          0,
          1,
          2,
          3,
          4,
          5,
          6,
          7,
          8,
          9,
          10,
          11,
          12,
          13,
          14,
          15,
          16,
          17,
          18,
          19,
          20,
          21,
          22,
          23
         ],
         "xaxis": "x26",
         "y": [
          0.703,
          0.703,
          0.703,
          0.703,
          0.703,
          0.703,
          0.703,
          0.703,
          0.703,
          0.075,
          0.703,
          0.703,
          0.703,
          0.703,
          0.703,
          0.703,
          0.703,
          0.075,
          0.703,
          0.703,
          0.703,
          0.703,
          0.703,
          0.703
         ],
         "yaxis": "y26"
        },
        {
         "hovertemplate": "Name=Wolof<br>Parameter=min<br>Category=Person<br>x=%{x}<br>y=%{y}<extra></extra>",
         "legendgroup": "Wolof",
         "line": {
          "color": "#636efa",
          "dash": "solid"
         },
         "marker": {
          "symbol": "circle"
         },
         "mode": "lines",
         "name": "Wolof",
         "orientation": "v",
         "showlegend": false,
         "type": "scatter",
         "x": [
          0,
          1,
          2,
          3,
          4,
          5,
          6,
          7,
          8,
          9,
          10,
          11,
          12,
          13,
          14,
          15,
          16,
          17,
          18,
          19,
          20,
          21,
          22,
          23
         ],
         "xaxis": "x27",
         "y": [
          0.001,
          0.774,
          0.008,
          0.008,
          0.774,
          0.008,
          0.774,
          0.774,
          0.008,
          0.774,
          0.008,
          0.004,
          0.774,
          0.774,
          0.774,
          0.774,
          0.008,
          0.774,
          0.004,
          0.008,
          0.008,
          0.774,
          0.004,
          0.001
         ],
         "yaxis": "y27"
        },
        {
         "hovertemplate": "Name=Wolof<br>Parameter=min<br>Category=PronType<br>x=%{x}<br>y=%{y}<extra></extra>",
         "legendgroup": "Wolof",
         "line": {
          "color": "#636efa",
          "dash": "solid"
         },
         "marker": {
          "symbol": "circle"
         },
         "mode": "lines",
         "name": "Wolof",
         "orientation": "v",
         "showlegend": false,
         "type": "scatter",
         "x": [
          0,
          1,
          2,
          3,
          4,
          5,
          6,
          7,
          8,
          9,
          10,
          11,
          12,
          13,
          14,
          15,
          16,
          17,
          18,
          19,
          20,
          21,
          22,
          23
         ],
         "xaxis": "x28",
         "y": [
          0.056,
          0.066,
          0.056,
          0.066,
          0.052,
          0.066,
          0.056,
          0.066,
          0.066,
          0.066,
          0.066,
          0.066,
          0.066,
          0.066,
          0.062,
          0.066,
          0.066,
          0.066,
          0.066,
          0.066,
          0.066,
          0.062,
          0.005,
          0.062
         ],
         "yaxis": "y28"
        },
        {
         "hovertemplate": "Name=Wolof<br>Parameter=min<br>Category=Tense<br>x=%{x}<br>y=%{y}<extra></extra>",
         "legendgroup": "Wolof",
         "line": {
          "color": "#636efa",
          "dash": "solid"
         },
         "marker": {
          "symbol": "circle"
         },
         "mode": "lines",
         "name": "Wolof",
         "orientation": "v",
         "showlegend": false,
         "type": "scatter",
         "x": [
          0,
          1,
          2,
          3,
          4,
          5,
          6,
          7,
          8,
          9,
          10,
          11,
          12,
          13,
          14,
          15,
          16,
          17,
          18,
          19,
          20,
          21,
          22,
          23
         ],
         "xaxis": "x29",
         "y": [
          0.192,
          0.199,
          0.428,
          0.192,
          0.199,
          0.199,
          0.199,
          0.199,
          0.199,
          0.013,
          0.199,
          0.428,
          0.428,
          0.428,
          0.428,
          0.199,
          0.199,
          0.428,
          0.199,
          0.199,
          0.199,
          0.192,
          0.192,
          0.192
         ],
         "yaxis": "y29"
        },
        {
         "hovertemplate": "Name=Wolof<br>Parameter=min<br>Category=VerbForm<br>x=%{x}<br>y=%{y}<extra></extra>",
         "legendgroup": "Wolof",
         "line": {
          "color": "#636efa",
          "dash": "solid"
         },
         "marker": {
          "symbol": "circle"
         },
         "mode": "lines",
         "name": "Wolof",
         "orientation": "v",
         "showlegend": false,
         "type": "scatter",
         "x": [
          0,
          1,
          2,
          3,
          4,
          5,
          6,
          7,
          8,
          9,
          10,
          11,
          12,
          13,
          14,
          15,
          16,
          17,
          18,
          19,
          20,
          21,
          22,
          23
         ],
         "xaxis": "x30",
         "y": [
          0.968,
          0.968,
          0.968,
          0.968,
          0.968,
          0.968,
          0.968,
          0.968,
          0.968,
          0.968,
          0.968,
          0.968,
          0.968,
          0.968,
          0.968,
          0.968,
          0.968,
          0.968,
          0.968,
          0.968,
          0.968,
          0.968,
          0.968,
          0.968
         ],
         "yaxis": "y30"
        },
        {
         "hovertemplate": "Name=Wolof<br>Parameter=max<br>Category=Aspect<br>x=%{x}<br>y=%{y}<extra></extra>",
         "legendgroup": "Wolof",
         "line": {
          "color": "#636efa",
          "dash": "solid"
         },
         "marker": {
          "symbol": "circle"
         },
         "mode": "lines",
         "name": "Wolof",
         "orientation": "v",
         "showlegend": false,
         "type": "scatter",
         "x": [
          0,
          1,
          2,
          3,
          4,
          5,
          6,
          7,
          8,
          9,
          10,
          11,
          12,
          13,
          14,
          15,
          16,
          17,
          18,
          19,
          20,
          21,
          22,
          23
         ],
         "xaxis": "x",
         "y": [
          0.001,
          0.246,
          0.307,
          0.307,
          0.313,
          0.313,
          0.246,
          0.307,
          0.307,
          0.307,
          0.307,
          0.307,
          0.307,
          0.307,
          0.246,
          0.307,
          0.307,
          0.307,
          0.246,
          0.307,
          0.307,
          0.307,
          0.307,
          0.247
         ],
         "yaxis": "y"
        },
        {
         "hovertemplate": "Name=Wolof<br>Parameter=max<br>Category=Case<br>x=%{x}<br>y=%{y}<extra></extra>",
         "legendgroup": "Wolof",
         "line": {
          "color": "#636efa",
          "dash": "solid"
         },
         "marker": {
          "symbol": "circle"
         },
         "mode": "lines",
         "name": "Wolof",
         "orientation": "v",
         "showlegend": false,
         "type": "scatter",
         "x": [
          0,
          1,
          2,
          3,
          4,
          5,
          6,
          7,
          8,
          9,
          10,
          11,
          12,
          13,
          14,
          15,
          16,
          17,
          18,
          19,
          20,
          21,
          22,
          23
         ],
         "xaxis": "x2",
         "y": [
          0.037,
          0.197,
          0.037,
          0.339,
          0.197,
          0.197,
          0.032,
          0.339,
          0.339,
          0.191,
          0.339,
          0.037,
          0.037,
          0.037,
          0.197,
          0.197,
          0.197,
          0.197,
          0.197,
          0.037,
          0.037,
          0.197,
          0.339,
          0.191
         ],
         "yaxis": "y2"
        },
        {
         "hovertemplate": "Name=Wolof<br>Parameter=max<br>Category=Definite<br>x=%{x}<br>y=%{y}<extra></extra>",
         "legendgroup": "Wolof",
         "line": {
          "color": "#636efa",
          "dash": "solid"
         },
         "marker": {
          "symbol": "circle"
         },
         "mode": "lines",
         "name": "Wolof",
         "orientation": "v",
         "showlegend": false,
         "type": "scatter",
         "x": [
          0,
          1,
          2,
          3,
          4,
          5,
          6,
          7,
          8,
          9,
          10,
          11,
          12,
          13,
          14,
          15,
          16,
          17,
          18,
          19,
          20,
          21,
          22,
          23
         ],
         "xaxis": "x3",
         "y": [
          0.664,
          0.664,
          0.664,
          0.664,
          0.664,
          0.664,
          0.664,
          0.664,
          0.664,
          0.664,
          0.664,
          0.664,
          0.664,
          0.664,
          0.664,
          0.664,
          0.664,
          0.664,
          0.664,
          0.664,
          0.664,
          0.664,
          0.664,
          0.664
         ],
         "yaxis": "y3"
        },
        {
         "hovertemplate": "Name=Wolof<br>Parameter=max<br>Category=Deixis<br>x=%{x}<br>y=%{y}<extra></extra>",
         "legendgroup": "Wolof",
         "line": {
          "color": "#636efa",
          "dash": "solid"
         },
         "marker": {
          "symbol": "circle"
         },
         "mode": "lines",
         "name": "Wolof",
         "orientation": "v",
         "showlegend": false,
         "type": "scatter",
         "x": [
          0,
          1,
          2,
          3,
          4,
          5,
          6,
          7,
          8,
          9,
          10,
          11,
          12,
          13,
          14,
          15,
          16,
          17,
          18,
          19,
          20,
          21,
          22,
          23
         ],
         "xaxis": "x4",
         "y": [
          0.839,
          0.839,
          0.839,
          0.839,
          0.839,
          0.839,
          0.839,
          0.839,
          0.839,
          0.839,
          0.839,
          0.839,
          0.839,
          0.839,
          0.839,
          0.839,
          0.839,
          0.839,
          0.839,
          0.839,
          0.839,
          0.839,
          0.839,
          0.839
         ],
         "yaxis": "y4"
        },
        {
         "hovertemplate": "Name=Wolof<br>Parameter=max<br>Category=DeixisRef<br>x=%{x}<br>y=%{y}<extra></extra>",
         "legendgroup": "Wolof",
         "line": {
          "color": "#636efa",
          "dash": "solid"
         },
         "marker": {
          "symbol": "circle"
         },
         "mode": "lines",
         "name": "Wolof",
         "orientation": "v",
         "showlegend": false,
         "type": "scatter",
         "x": [
          0,
          1,
          2,
          3,
          4,
          5,
          6,
          7,
          8,
          9,
          10,
          11,
          12,
          13,
          14,
          15,
          16,
          17,
          18,
          19,
          20,
          21,
          22,
          23
         ],
         "xaxis": "x5",
         "y": [
          0.356,
          0.308,
          0.356,
          0.308,
          0.308,
          0.356,
          0.356,
          0.308,
          0.356,
          0.356,
          0.356,
          0.356,
          0.356,
          0.356,
          0.356,
          0.356,
          0.356,
          0.356,
          0.356,
          0.356,
          0.308,
          0.356,
          0.356,
          0.356
         ],
         "yaxis": "y5"
        },
        {
         "hovertemplate": "Name=Wolof<br>Parameter=max<br>Category=FocusType<br>x=%{x}<br>y=%{y}<extra></extra>",
         "legendgroup": "Wolof",
         "line": {
          "color": "#636efa",
          "dash": "solid"
         },
         "marker": {
          "symbol": "circle"
         },
         "mode": "lines",
         "name": "Wolof",
         "orientation": "v",
         "showlegend": false,
         "type": "scatter",
         "x": [
          0,
          1,
          2,
          3,
          4,
          5,
          6,
          7,
          8,
          9,
          10,
          11,
          12,
          13,
          14,
          15,
          16,
          17,
          18,
          19,
          20,
          21,
          22,
          23
         ],
         "xaxis": "x6",
         "y": [
          0.088,
          0.29,
          0.166,
          0.29,
          0.29,
          0.29,
          0.088,
          0.088,
          0.088,
          0.088,
          0.29,
          0.29,
          0.29,
          0.088,
          0.29,
          0.29,
          0.29,
          0.29,
          0.29,
          0.29,
          0.088,
          0.29,
          0.29,
          0.29
         ],
         "yaxis": "y6"
        },
        {
         "hovertemplate": "Name=Wolof<br>Parameter=max<br>Category=Gender<br>x=%{x}<br>y=%{y}<extra></extra>",
         "legendgroup": "Wolof",
         "line": {
          "color": "#636efa",
          "dash": "solid"
         },
         "marker": {
          "symbol": "circle"
         },
         "mode": "lines",
         "name": "Wolof",
         "orientation": "v",
         "showlegend": false,
         "type": "scatter",
         "x": [
          0,
          1,
          2,
          3,
          4,
          5,
          6,
          7,
          8,
          9,
          10,
          11,
          12,
          13,
          14,
          15,
          16,
          17,
          18,
          19,
          20,
          21,
          22,
          23
         ],
         "xaxis": "x7",
         "y": [
          0.229,
          0.229,
          0.229,
          0.229,
          0.229,
          0.229,
          0.229,
          0.229,
          0.229,
          0.229,
          0.229,
          0.229,
          0.229,
          0.229,
          0.4,
          0.229,
          0.229,
          0.229,
          0.229,
          0.229,
          0.229,
          0.229,
          0.4,
          0.4
         ],
         "yaxis": "y7"
        },
        {
         "hovertemplate": "Name=Wolof<br>Parameter=max<br>Category=Mood<br>x=%{x}<br>y=%{y}<extra></extra>",
         "legendgroup": "Wolof",
         "line": {
          "color": "#636efa",
          "dash": "solid"
         },
         "marker": {
          "symbol": "circle"
         },
         "mode": "lines",
         "name": "Wolof",
         "orientation": "v",
         "showlegend": false,
         "type": "scatter",
         "x": [
          0,
          1,
          2,
          3,
          4,
          5,
          6,
          7,
          8,
          9,
          10,
          11,
          12,
          13,
          14,
          15,
          16,
          17,
          18,
          19,
          20,
          21,
          22,
          23
         ],
         "xaxis": "x8",
         "y": [
          0.977,
          0.977,
          0.977,
          0.977,
          0.977,
          0.977,
          0.977,
          0.977,
          0.977,
          0.977,
          0.977,
          0.977,
          0.977,
          0.977,
          0.977,
          0.977,
          0.977,
          0.977,
          0.977,
          0.977,
          0.977,
          0.977,
          0.977,
          0.977
         ],
         "yaxis": "y8"
        },
        {
         "hovertemplate": "Name=Wolof<br>Parameter=max<br>Category=NounClass<br>x=%{x}<br>y=%{y}<extra></extra>",
         "legendgroup": "Wolof",
         "line": {
          "color": "#636efa",
          "dash": "solid"
         },
         "marker": {
          "symbol": "circle"
         },
         "mode": "lines",
         "name": "Wolof",
         "orientation": "v",
         "showlegend": false,
         "type": "scatter",
         "x": [
          0,
          1,
          2,
          3,
          4,
          5,
          6,
          7,
          8,
          9,
          10,
          11,
          12,
          13,
          14,
          15,
          16,
          17,
          18,
          19,
          20,
          21,
          22,
          23
         ],
         "xaxis": "x9",
         "y": [
          0.003,
          0.005,
          0.003,
          0.003,
          0.003,
          0.016,
          0.016,
          0.021,
          0.005,
          0.066,
          0.005,
          0.01,
          0.003,
          0.003,
          0.003,
          0.003,
          0.003,
          0.062,
          0.005,
          0.005,
          0.003,
          0.003,
          0.003,
          0.003
         ],
         "yaxis": "y9"
        },
        {
         "hovertemplate": "Name=Wolof<br>Parameter=max<br>Category=NumType<br>x=%{x}<br>y=%{y}<extra></extra>",
         "legendgroup": "Wolof",
         "line": {
          "color": "#636efa",
          "dash": "solid"
         },
         "marker": {
          "symbol": "circle"
         },
         "mode": "lines",
         "name": "Wolof",
         "orientation": "v",
         "showlegend": false,
         "type": "scatter",
         "x": [
          0,
          1,
          2,
          3,
          4,
          5,
          6,
          7,
          8,
          9,
          10,
          11,
          12,
          13,
          14,
          15,
          16,
          17,
          18,
          19,
          20,
          21,
          22,
          23
         ],
         "xaxis": "x10",
         "y": [
          0.016,
          0.851,
          0.851,
          0.851,
          0.851,
          0.851,
          0.851,
          0.851,
          0.851,
          0.851,
          0.851,
          0.851,
          0.851,
          0.851,
          0.851,
          0.851,
          0.851,
          0.851,
          0.851,
          0.851,
          0.851,
          0.851,
          0.851,
          0.851
         ],
         "yaxis": "y10"
        },
        {
         "hovertemplate": "Name=Wolof<br>Parameter=max<br>Category=Number<br>x=%{x}<br>y=%{y}<extra></extra>",
         "legendgroup": "Wolof",
         "line": {
          "color": "#636efa",
          "dash": "solid"
         },
         "marker": {
          "symbol": "circle"
         },
         "mode": "lines",
         "name": "Wolof",
         "orientation": "v",
         "showlegend": false,
         "type": "scatter",
         "x": [
          0,
          1,
          2,
          3,
          4,
          5,
          6,
          7,
          8,
          9,
          10,
          11,
          12,
          13,
          14,
          15,
          16,
          17,
          18,
          19,
          20,
          21,
          22,
          23
         ],
         "xaxis": "x11",
         "y": [
          0.703,
          0.703,
          0.703,
          0.703,
          0.703,
          0.703,
          0.703,
          0.703,
          0.703,
          0.075,
          0.703,
          0.703,
          0.703,
          0.703,
          0.703,
          0.703,
          0.703,
          0.075,
          0.703,
          0.703,
          0.703,
          0.703,
          0.703,
          0.703
         ],
         "yaxis": "y11"
        },
        {
         "hovertemplate": "Name=Wolof<br>Parameter=max<br>Category=Person<br>x=%{x}<br>y=%{y}<extra></extra>",
         "legendgroup": "Wolof",
         "line": {
          "color": "#636efa",
          "dash": "solid"
         },
         "marker": {
          "symbol": "circle"
         },
         "mode": "lines",
         "name": "Wolof",
         "orientation": "v",
         "showlegend": false,
         "type": "scatter",
         "x": [
          0,
          1,
          2,
          3,
          4,
          5,
          6,
          7,
          8,
          9,
          10,
          11,
          12,
          13,
          14,
          15,
          16,
          17,
          18,
          19,
          20,
          21,
          22,
          23
         ],
         "xaxis": "x12",
         "y": [
          0.001,
          0.774,
          0.008,
          0.008,
          0.774,
          0.008,
          0.774,
          0.774,
          0.008,
          0.774,
          0.008,
          0.004,
          0.774,
          0.774,
          0.774,
          0.774,
          0.008,
          0.774,
          0.004,
          0.008,
          0.008,
          0.774,
          0.004,
          0.001
         ],
         "yaxis": "y12"
        },
        {
         "hovertemplate": "Name=Wolof<br>Parameter=max<br>Category=PronType<br>x=%{x}<br>y=%{y}<extra></extra>",
         "legendgroup": "Wolof",
         "line": {
          "color": "#636efa",
          "dash": "solid"
         },
         "marker": {
          "symbol": "circle"
         },
         "mode": "lines",
         "name": "Wolof",
         "orientation": "v",
         "showlegend": false,
         "type": "scatter",
         "x": [
          0,
          1,
          2,
          3,
          4,
          5,
          6,
          7,
          8,
          9,
          10,
          11,
          12,
          13,
          14,
          15,
          16,
          17,
          18,
          19,
          20,
          21,
          22,
          23
         ],
         "xaxis": "x13",
         "y": [
          0.056,
          0.066,
          0.056,
          0.066,
          0.052,
          0.066,
          0.056,
          0.066,
          0.066,
          0.066,
          0.066,
          0.066,
          0.066,
          0.066,
          0.062,
          0.066,
          0.066,
          0.066,
          0.066,
          0.066,
          0.066,
          0.062,
          0.005,
          0.062
         ],
         "yaxis": "y13"
        },
        {
         "hovertemplate": "Name=Wolof<br>Parameter=max<br>Category=Tense<br>x=%{x}<br>y=%{y}<extra></extra>",
         "legendgroup": "Wolof",
         "line": {
          "color": "#636efa",
          "dash": "solid"
         },
         "marker": {
          "symbol": "circle"
         },
         "mode": "lines",
         "name": "Wolof",
         "orientation": "v",
         "showlegend": false,
         "type": "scatter",
         "x": [
          0,
          1,
          2,
          3,
          4,
          5,
          6,
          7,
          8,
          9,
          10,
          11,
          12,
          13,
          14,
          15,
          16,
          17,
          18,
          19,
          20,
          21,
          22,
          23
         ],
         "xaxis": "x14",
         "y": [
          0.192,
          0.199,
          0.428,
          0.192,
          0.199,
          0.199,
          0.199,
          0.199,
          0.199,
          0.013,
          0.199,
          0.428,
          0.428,
          0.428,
          0.428,
          0.199,
          0.199,
          0.428,
          0.199,
          0.199,
          0.199,
          0.192,
          0.192,
          0.192
         ],
         "yaxis": "y14"
        },
        {
         "hovertemplate": "Name=Wolof<br>Parameter=max<br>Category=VerbForm<br>x=%{x}<br>y=%{y}<extra></extra>",
         "legendgroup": "Wolof",
         "line": {
          "color": "#636efa",
          "dash": "solid"
         },
         "marker": {
          "symbol": "circle"
         },
         "mode": "lines",
         "name": "Wolof",
         "orientation": "v",
         "showlegend": false,
         "type": "scatter",
         "x": [
          0,
          1,
          2,
          3,
          4,
          5,
          6,
          7,
          8,
          9,
          10,
          11,
          12,
          13,
          14,
          15,
          16,
          17,
          18,
          19,
          20,
          21,
          22,
          23
         ],
         "xaxis": "x15",
         "y": [
          0.968,
          0.968,
          0.968,
          0.968,
          0.968,
          0.968,
          0.968,
          0.968,
          0.968,
          0.968,
          0.968,
          0.968,
          0.968,
          0.968,
          0.968,
          0.968,
          0.968,
          0.968,
          0.968,
          0.968,
          0.968,
          0.968,
          0.968,
          0.968
         ],
         "yaxis": "y15"
        },
        {
         "hovertemplate": "Name=Yoruba<br>Parameter=min<br>Category=Case<br>x=%{x}<br>y=%{y}<extra></extra>",
         "legendgroup": "Yoruba",
         "line": {
          "color": "#EF553B",
          "dash": "solid"
         },
         "marker": {
          "symbol": "circle"
         },
         "mode": "lines",
         "name": "Yoruba",
         "orientation": "v",
         "showlegend": true,
         "type": "scatter",
         "x": [
          0,
          1,
          2,
          3,
          4,
          5,
          6,
          7,
          8,
          9,
          10,
          11,
          12,
          13,
          14,
          15,
          16,
          17,
          18,
          19,
          20,
          21,
          22,
          23
         ],
         "xaxis": "x17",
         "y": [
          0.1,
          0.563,
          0.118,
          0.563,
          0.563,
          0.563,
          0.563,
          0.118,
          0.563,
          0.563,
          0.563,
          0.563,
          0.563,
          0.563,
          0.563,
          0.1,
          0.563,
          0.1,
          0.563,
          0.563,
          0.1,
          0.563,
          0.563,
          0.563
         ],
         "yaxis": "y17"
        },
        {
         "hovertemplate": "Name=Yoruba<br>Parameter=min<br>Category=Number<br>x=%{x}<br>y=%{y}<extra></extra>",
         "legendgroup": "Yoruba",
         "line": {
          "color": "#EF553B",
          "dash": "solid"
         },
         "marker": {
          "symbol": "circle"
         },
         "mode": "lines",
         "name": "Yoruba",
         "orientation": "v",
         "showlegend": false,
         "type": "scatter",
         "x": [
          0,
          1,
          2,
          3,
          4,
          5,
          6,
          7,
          8,
          9,
          10,
          11,
          12,
          13,
          14,
          15,
          16,
          17,
          18,
          19,
          20,
          21,
          22,
          23
         ],
         "xaxis": "x26",
         "y": [
          0.433,
          0.433,
          0.242,
          0.242,
          0.433,
          0.242,
          0.242,
          0.242,
          0.433,
          0.433,
          0.242,
          0.242,
          0.433,
          0.433,
          0.242,
          0.242,
          0.433,
          0.433,
          0.242,
          0.242,
          0.242,
          0.313,
          0.433,
          0.433
         ],
         "yaxis": "y26"
        },
        {
         "hovertemplate": "Name=Yoruba<br>Parameter=min<br>Category=Person<br>x=%{x}<br>y=%{y}<extra></extra>",
         "legendgroup": "Yoruba",
         "line": {
          "color": "#EF553B",
          "dash": "solid"
         },
         "marker": {
          "symbol": "circle"
         },
         "mode": "lines",
         "name": "Yoruba",
         "orientation": "v",
         "showlegend": false,
         "type": "scatter",
         "x": [
          0,
          1,
          2,
          3,
          4,
          5,
          6,
          7,
          8,
          9,
          10,
          11,
          12,
          13,
          14,
          15,
          16,
          17,
          18,
          19,
          20,
          21,
          22,
          23
         ],
         "xaxis": "x27",
         "y": [
          0.459,
          0.459,
          0.051,
          0.073,
          0.459,
          0.459,
          0.073,
          0.475,
          0.459,
          0.051,
          0.118,
          0.459,
          0.073,
          0.073,
          0.459,
          0.459,
          0.459,
          0.459,
          0.459,
          0.051,
          0.073,
          0.071,
          0.459,
          0.071
         ],
         "yaxis": "y27"
        },
        {
         "hovertemplate": "Name=Yoruba<br>Parameter=min<br>Category=PronType<br>x=%{x}<br>y=%{y}<extra></extra>",
         "legendgroup": "Yoruba",
         "line": {
          "color": "#EF553B",
          "dash": "solid"
         },
         "marker": {
          "symbol": "circle"
         },
         "mode": "lines",
         "name": "Yoruba",
         "orientation": "v",
         "showlegend": false,
         "type": "scatter",
         "x": [
          0,
          1,
          2,
          3,
          4,
          5,
          6,
          7,
          8,
          9,
          10,
          11,
          12,
          13,
          14,
          15,
          16,
          17,
          18,
          19,
          20,
          21,
          22,
          23
         ],
         "xaxis": "x28",
         "y": [
          0.502,
          0.009,
          0.502,
          0.502,
          0.502,
          0.502,
          0.519,
          0.519,
          0.502,
          0.502,
          0.502,
          0.019,
          0.519,
          0.502,
          0.019,
          0.019,
          0.502,
          0.502,
          0.502,
          0.019,
          0.019,
          0.519,
          0.019,
          0.502
         ],
         "yaxis": "y28"
        },
        {
         "hovertemplate": "Name=Yoruba<br>Parameter=max<br>Category=Case<br>x=%{x}<br>y=%{y}<extra></extra>",
         "legendgroup": "Yoruba",
         "line": {
          "color": "#EF553B",
          "dash": "solid"
         },
         "marker": {
          "symbol": "circle"
         },
         "mode": "lines",
         "name": "Yoruba",
         "orientation": "v",
         "showlegend": false,
         "type": "scatter",
         "x": [
          0,
          1,
          2,
          3,
          4,
          5,
          6,
          7,
          8,
          9,
          10,
          11,
          12,
          13,
          14,
          15,
          16,
          17,
          18,
          19,
          20,
          21,
          22,
          23
         ],
         "xaxis": "x2",
         "y": [
          0.1,
          0.563,
          0.118,
          0.563,
          0.563,
          0.563,
          0.563,
          0.118,
          0.563,
          0.563,
          0.563,
          0.563,
          0.563,
          0.563,
          0.563,
          0.1,
          0.563,
          0.1,
          0.563,
          0.563,
          0.1,
          0.563,
          0.563,
          0.563
         ],
         "yaxis": "y2"
        },
        {
         "hovertemplate": "Name=Yoruba<br>Parameter=max<br>Category=Number<br>x=%{x}<br>y=%{y}<extra></extra>",
         "legendgroup": "Yoruba",
         "line": {
          "color": "#EF553B",
          "dash": "solid"
         },
         "marker": {
          "symbol": "circle"
         },
         "mode": "lines",
         "name": "Yoruba",
         "orientation": "v",
         "showlegend": false,
         "type": "scatter",
         "x": [
          0,
          1,
          2,
          3,
          4,
          5,
          6,
          7,
          8,
          9,
          10,
          11,
          12,
          13,
          14,
          15,
          16,
          17,
          18,
          19,
          20,
          21,
          22,
          23
         ],
         "xaxis": "x11",
         "y": [
          0.433,
          0.433,
          0.242,
          0.242,
          0.433,
          0.242,
          0.242,
          0.242,
          0.433,
          0.433,
          0.242,
          0.242,
          0.433,
          0.433,
          0.242,
          0.242,
          0.433,
          0.433,
          0.242,
          0.242,
          0.242,
          0.313,
          0.433,
          0.433
         ],
         "yaxis": "y11"
        },
        {
         "hovertemplate": "Name=Yoruba<br>Parameter=max<br>Category=Person<br>x=%{x}<br>y=%{y}<extra></extra>",
         "legendgroup": "Yoruba",
         "line": {
          "color": "#EF553B",
          "dash": "solid"
         },
         "marker": {
          "symbol": "circle"
         },
         "mode": "lines",
         "name": "Yoruba",
         "orientation": "v",
         "showlegend": false,
         "type": "scatter",
         "x": [
          0,
          1,
          2,
          3,
          4,
          5,
          6,
          7,
          8,
          9,
          10,
          11,
          12,
          13,
          14,
          15,
          16,
          17,
          18,
          19,
          20,
          21,
          22,
          23
         ],
         "xaxis": "x12",
         "y": [
          0.459,
          0.459,
          0.051,
          0.073,
          0.459,
          0.459,
          0.073,
          0.475,
          0.459,
          0.051,
          0.118,
          0.459,
          0.073,
          0.073,
          0.459,
          0.459,
          0.459,
          0.459,
          0.459,
          0.051,
          0.073,
          0.071,
          0.459,
          0.071
         ],
         "yaxis": "y12"
        },
        {
         "hovertemplate": "Name=Yoruba<br>Parameter=max<br>Category=PronType<br>x=%{x}<br>y=%{y}<extra></extra>",
         "legendgroup": "Yoruba",
         "line": {
          "color": "#EF553B",
          "dash": "solid"
         },
         "marker": {
          "symbol": "circle"
         },
         "mode": "lines",
         "name": "Yoruba",
         "orientation": "v",
         "showlegend": false,
         "type": "scatter",
         "x": [
          0,
          1,
          2,
          3,
          4,
          5,
          6,
          7,
          8,
          9,
          10,
          11,
          12,
          13,
          14,
          15,
          16,
          17,
          18,
          19,
          20,
          21,
          22,
          23
         ],
         "xaxis": "x13",
         "y": [
          0.502,
          0.009,
          0.502,
          0.502,
          0.502,
          0.502,
          0.519,
          0.519,
          0.502,
          0.502,
          0.502,
          0.019,
          0.519,
          0.502,
          0.019,
          0.019,
          0.502,
          0.502,
          0.502,
          0.019,
          0.019,
          0.519,
          0.019,
          0.502
         ],
         "yaxis": "y13"
        }
       ],
       "layout": {
        "annotations": [
         {
          "font": {},
          "showarrow": false,
          "text": "Category=Aspect",
          "x": 0.02333333333333333,
          "xanchor": "center",
          "xref": "paper",
          "y": 1,
          "yanchor": "bottom",
          "yref": "paper"
         },
         {
          "font": {},
          "showarrow": false,
          "text": "Category=Case",
          "x": 0.09,
          "xanchor": "center",
          "xref": "paper",
          "y": 1,
          "yanchor": "bottom",
          "yref": "paper"
         },
         {
          "font": {},
          "showarrow": false,
          "text": "Category=Definite",
          "x": 0.15666666666666668,
          "xanchor": "center",
          "xref": "paper",
          "y": 1,
          "yanchor": "bottom",
          "yref": "paper"
         },
         {
          "font": {},
          "showarrow": false,
          "text": "Category=Deixis",
          "x": 0.22333333333333333,
          "xanchor": "center",
          "xref": "paper",
          "y": 1,
          "yanchor": "bottom",
          "yref": "paper"
         },
         {
          "font": {},
          "showarrow": false,
          "text": "Category=DeixisRef",
          "x": 0.29000000000000004,
          "xanchor": "center",
          "xref": "paper",
          "y": 1,
          "yanchor": "bottom",
          "yref": "paper"
         },
         {
          "font": {},
          "showarrow": false,
          "text": "Category=FocusType",
          "x": 0.3566666666666667,
          "xanchor": "center",
          "xref": "paper",
          "y": 1,
          "yanchor": "bottom",
          "yref": "paper"
         },
         {
          "font": {},
          "showarrow": false,
          "text": "Category=Gender",
          "x": 0.42333333333333334,
          "xanchor": "center",
          "xref": "paper",
          "y": 1,
          "yanchor": "bottom",
          "yref": "paper"
         },
         {
          "font": {},
          "showarrow": false,
          "text": "Category=Mood",
          "x": 0.49,
          "xanchor": "center",
          "xref": "paper",
          "y": 1,
          "yanchor": "bottom",
          "yref": "paper"
         },
         {
          "font": {},
          "showarrow": false,
          "text": "Category=NounClass",
          "x": 0.5566666666666666,
          "xanchor": "center",
          "xref": "paper",
          "y": 1,
          "yanchor": "bottom",
          "yref": "paper"
         },
         {
          "font": {},
          "showarrow": false,
          "text": "Category=NumType",
          "x": 0.6233333333333332,
          "xanchor": "center",
          "xref": "paper",
          "y": 1,
          "yanchor": "bottom",
          "yref": "paper"
         },
         {
          "font": {},
          "showarrow": false,
          "text": "Category=Number",
          "x": 0.6899999999999998,
          "xanchor": "center",
          "xref": "paper",
          "y": 1,
          "yanchor": "bottom",
          "yref": "paper"
         },
         {
          "font": {},
          "showarrow": false,
          "text": "Category=Person",
          "x": 0.7566666666666665,
          "xanchor": "center",
          "xref": "paper",
          "y": 1,
          "yanchor": "bottom",
          "yref": "paper"
         },
         {
          "font": {},
          "showarrow": false,
          "text": "Category=PronType",
          "x": 0.8233333333333331,
          "xanchor": "center",
          "xref": "paper",
          "y": 1,
          "yanchor": "bottom",
          "yref": "paper"
         },
         {
          "font": {},
          "showarrow": false,
          "text": "Category=Tense",
          "x": 0.8899999999999998,
          "xanchor": "center",
          "xref": "paper",
          "y": 1,
          "yanchor": "bottom",
          "yref": "paper"
         },
         {
          "font": {},
          "showarrow": false,
          "text": "Category=VerbForm",
          "x": 0.9566666666666664,
          "xanchor": "center",
          "xref": "paper",
          "y": 1,
          "yanchor": "bottom",
          "yref": "paper"
         },
         {
          "font": {},
          "showarrow": false,
          "text": "Parameter=max",
          "textangle": 90,
          "x": 0.9799999999999998,
          "xanchor": "left",
          "xref": "paper",
          "y": 0.2425,
          "yanchor": "middle",
          "yref": "paper"
         },
         {
          "font": {},
          "showarrow": false,
          "text": "Parameter=min",
          "textangle": 90,
          "x": 0.9799999999999998,
          "xanchor": "left",
          "xref": "paper",
          "y": 0.7575000000000001,
          "yanchor": "middle",
          "yref": "paper"
         }
        ],
        "legend": {
         "title": {
          "text": "Name"
         },
         "tracegroupgap": 0
        },
        "margin": {
         "t": 60
        },
        "template": {
         "data": {
          "bar": [
           {
            "error_x": {
             "color": "#2a3f5f"
            },
            "error_y": {
             "color": "#2a3f5f"
            },
            "marker": {
             "line": {
              "color": "#E5ECF6",
              "width": 0.5
             },
             "pattern": {
              "fillmode": "overlay",
              "size": 10,
              "solidity": 0.2
             }
            },
            "type": "bar"
           }
          ],
          "barpolar": [
           {
            "marker": {
             "line": {
              "color": "#E5ECF6",
              "width": 0.5
             },
             "pattern": {
              "fillmode": "overlay",
              "size": 10,
              "solidity": 0.2
             }
            },
            "type": "barpolar"
           }
          ],
          "carpet": [
           {
            "aaxis": {
             "endlinecolor": "#2a3f5f",
             "gridcolor": "white",
             "linecolor": "white",
             "minorgridcolor": "white",
             "startlinecolor": "#2a3f5f"
            },
            "baxis": {
             "endlinecolor": "#2a3f5f",
             "gridcolor": "white",
             "linecolor": "white",
             "minorgridcolor": "white",
             "startlinecolor": "#2a3f5f"
            },
            "type": "carpet"
           }
          ],
          "choropleth": [
           {
            "colorbar": {
             "outlinewidth": 0,
             "ticks": ""
            },
            "type": "choropleth"
           }
          ],
          "contour": [
           {
            "colorbar": {
             "outlinewidth": 0,
             "ticks": ""
            },
            "colorscale": [
             [
              0,
              "#0d0887"
             ],
             [
              0.1111111111111111,
              "#46039f"
             ],
             [
              0.2222222222222222,
              "#7201a8"
             ],
             [
              0.3333333333333333,
              "#9c179e"
             ],
             [
              0.4444444444444444,
              "#bd3786"
             ],
             [
              0.5555555555555556,
              "#d8576b"
             ],
             [
              0.6666666666666666,
              "#ed7953"
             ],
             [
              0.7777777777777778,
              "#fb9f3a"
             ],
             [
              0.8888888888888888,
              "#fdca26"
             ],
             [
              1,
              "#f0f921"
             ]
            ],
            "type": "contour"
           }
          ],
          "contourcarpet": [
           {
            "colorbar": {
             "outlinewidth": 0,
             "ticks": ""
            },
            "type": "contourcarpet"
           }
          ],
          "heatmap": [
           {
            "colorbar": {
             "outlinewidth": 0,
             "ticks": ""
            },
            "colorscale": [
             [
              0,
              "#0d0887"
             ],
             [
              0.1111111111111111,
              "#46039f"
             ],
             [
              0.2222222222222222,
              "#7201a8"
             ],
             [
              0.3333333333333333,
              "#9c179e"
             ],
             [
              0.4444444444444444,
              "#bd3786"
             ],
             [
              0.5555555555555556,
              "#d8576b"
             ],
             [
              0.6666666666666666,
              "#ed7953"
             ],
             [
              0.7777777777777778,
              "#fb9f3a"
             ],
             [
              0.8888888888888888,
              "#fdca26"
             ],
             [
              1,
              "#f0f921"
             ]
            ],
            "type": "heatmap"
           }
          ],
          "heatmapgl": [
           {
            "colorbar": {
             "outlinewidth": 0,
             "ticks": ""
            },
            "colorscale": [
             [
              0,
              "#0d0887"
             ],
             [
              0.1111111111111111,
              "#46039f"
             ],
             [
              0.2222222222222222,
              "#7201a8"
             ],
             [
              0.3333333333333333,
              "#9c179e"
             ],
             [
              0.4444444444444444,
              "#bd3786"
             ],
             [
              0.5555555555555556,
              "#d8576b"
             ],
             [
              0.6666666666666666,
              "#ed7953"
             ],
             [
              0.7777777777777778,
              "#fb9f3a"
             ],
             [
              0.8888888888888888,
              "#fdca26"
             ],
             [
              1,
              "#f0f921"
             ]
            ],
            "type": "heatmapgl"
           }
          ],
          "histogram": [
           {
            "marker": {
             "pattern": {
              "fillmode": "overlay",
              "size": 10,
              "solidity": 0.2
             }
            },
            "type": "histogram"
           }
          ],
          "histogram2d": [
           {
            "colorbar": {
             "outlinewidth": 0,
             "ticks": ""
            },
            "colorscale": [
             [
              0,
              "#0d0887"
             ],
             [
              0.1111111111111111,
              "#46039f"
             ],
             [
              0.2222222222222222,
              "#7201a8"
             ],
             [
              0.3333333333333333,
              "#9c179e"
             ],
             [
              0.4444444444444444,
              "#bd3786"
             ],
             [
              0.5555555555555556,
              "#d8576b"
             ],
             [
              0.6666666666666666,
              "#ed7953"
             ],
             [
              0.7777777777777778,
              "#fb9f3a"
             ],
             [
              0.8888888888888888,
              "#fdca26"
             ],
             [
              1,
              "#f0f921"
             ]
            ],
            "type": "histogram2d"
           }
          ],
          "histogram2dcontour": [
           {
            "colorbar": {
             "outlinewidth": 0,
             "ticks": ""
            },
            "colorscale": [
             [
              0,
              "#0d0887"
             ],
             [
              0.1111111111111111,
              "#46039f"
             ],
             [
              0.2222222222222222,
              "#7201a8"
             ],
             [
              0.3333333333333333,
              "#9c179e"
             ],
             [
              0.4444444444444444,
              "#bd3786"
             ],
             [
              0.5555555555555556,
              "#d8576b"
             ],
             [
              0.6666666666666666,
              "#ed7953"
             ],
             [
              0.7777777777777778,
              "#fb9f3a"
             ],
             [
              0.8888888888888888,
              "#fdca26"
             ],
             [
              1,
              "#f0f921"
             ]
            ],
            "type": "histogram2dcontour"
           }
          ],
          "mesh3d": [
           {
            "colorbar": {
             "outlinewidth": 0,
             "ticks": ""
            },
            "type": "mesh3d"
           }
          ],
          "parcoords": [
           {
            "line": {
             "colorbar": {
              "outlinewidth": 0,
              "ticks": ""
             }
            },
            "type": "parcoords"
           }
          ],
          "pie": [
           {
            "automargin": true,
            "type": "pie"
           }
          ],
          "scatter": [
           {
            "fillpattern": {
             "fillmode": "overlay",
             "size": 10,
             "solidity": 0.2
            },
            "type": "scatter"
           }
          ],
          "scatter3d": [
           {
            "line": {
             "colorbar": {
              "outlinewidth": 0,
              "ticks": ""
             }
            },
            "marker": {
             "colorbar": {
              "outlinewidth": 0,
              "ticks": ""
             }
            },
            "type": "scatter3d"
           }
          ],
          "scattercarpet": [
           {
            "marker": {
             "colorbar": {
              "outlinewidth": 0,
              "ticks": ""
             }
            },
            "type": "scattercarpet"
           }
          ],
          "scattergeo": [
           {
            "marker": {
             "colorbar": {
              "outlinewidth": 0,
              "ticks": ""
             }
            },
            "type": "scattergeo"
           }
          ],
          "scattergl": [
           {
            "marker": {
             "colorbar": {
              "outlinewidth": 0,
              "ticks": ""
             }
            },
            "type": "scattergl"
           }
          ],
          "scattermapbox": [
           {
            "marker": {
             "colorbar": {
              "outlinewidth": 0,
              "ticks": ""
             }
            },
            "type": "scattermapbox"
           }
          ],
          "scatterpolar": [
           {
            "marker": {
             "colorbar": {
              "outlinewidth": 0,
              "ticks": ""
             }
            },
            "type": "scatterpolar"
           }
          ],
          "scatterpolargl": [
           {
            "marker": {
             "colorbar": {
              "outlinewidth": 0,
              "ticks": ""
             }
            },
            "type": "scatterpolargl"
           }
          ],
          "scatterternary": [
           {
            "marker": {
             "colorbar": {
              "outlinewidth": 0,
              "ticks": ""
             }
            },
            "type": "scatterternary"
           }
          ],
          "surface": [
           {
            "colorbar": {
             "outlinewidth": 0,
             "ticks": ""
            },
            "colorscale": [
             [
              0,
              "#0d0887"
             ],
             [
              0.1111111111111111,
              "#46039f"
             ],
             [
              0.2222222222222222,
              "#7201a8"
             ],
             [
              0.3333333333333333,
              "#9c179e"
             ],
             [
              0.4444444444444444,
              "#bd3786"
             ],
             [
              0.5555555555555556,
              "#d8576b"
             ],
             [
              0.6666666666666666,
              "#ed7953"
             ],
             [
              0.7777777777777778,
              "#fb9f3a"
             ],
             [
              0.8888888888888888,
              "#fdca26"
             ],
             [
              1,
              "#f0f921"
             ]
            ],
            "type": "surface"
           }
          ],
          "table": [
           {
            "cells": {
             "fill": {
              "color": "#EBF0F8"
             },
             "line": {
              "color": "white"
             }
            },
            "header": {
             "fill": {
              "color": "#C8D4E3"
             },
             "line": {
              "color": "white"
             }
            },
            "type": "table"
           }
          ]
         },
         "layout": {
          "annotationdefaults": {
           "arrowcolor": "#2a3f5f",
           "arrowhead": 0,
           "arrowwidth": 1
          },
          "autotypenumbers": "strict",
          "coloraxis": {
           "colorbar": {
            "outlinewidth": 0,
            "ticks": ""
           }
          },
          "colorscale": {
           "diverging": [
            [
             0,
             "#8e0152"
            ],
            [
             0.1,
             "#c51b7d"
            ],
            [
             0.2,
             "#de77ae"
            ],
            [
             0.3,
             "#f1b6da"
            ],
            [
             0.4,
             "#fde0ef"
            ],
            [
             0.5,
             "#f7f7f7"
            ],
            [
             0.6,
             "#e6f5d0"
            ],
            [
             0.7,
             "#b8e186"
            ],
            [
             0.8,
             "#7fbc41"
            ],
            [
             0.9,
             "#4d9221"
            ],
            [
             1,
             "#276419"
            ]
           ],
           "sequential": [
            [
             0,
             "#0d0887"
            ],
            [
             0.1111111111111111,
             "#46039f"
            ],
            [
             0.2222222222222222,
             "#7201a8"
            ],
            [
             0.3333333333333333,
             "#9c179e"
            ],
            [
             0.4444444444444444,
             "#bd3786"
            ],
            [
             0.5555555555555556,
             "#d8576b"
            ],
            [
             0.6666666666666666,
             "#ed7953"
            ],
            [
             0.7777777777777778,
             "#fb9f3a"
            ],
            [
             0.8888888888888888,
             "#fdca26"
            ],
            [
             1,
             "#f0f921"
            ]
           ],
           "sequentialminus": [
            [
             0,
             "#0d0887"
            ],
            [
             0.1111111111111111,
             "#46039f"
            ],
            [
             0.2222222222222222,
             "#7201a8"
            ],
            [
             0.3333333333333333,
             "#9c179e"
            ],
            [
             0.4444444444444444,
             "#bd3786"
            ],
            [
             0.5555555555555556,
             "#d8576b"
            ],
            [
             0.6666666666666666,
             "#ed7953"
            ],
            [
             0.7777777777777778,
             "#fb9f3a"
            ],
            [
             0.8888888888888888,
             "#fdca26"
            ],
            [
             1,
             "#f0f921"
            ]
           ]
          },
          "colorway": [
           "#636efa",
           "#EF553B",
           "#00cc96",
           "#ab63fa",
           "#FFA15A",
           "#19d3f3",
           "#FF6692",
           "#B6E880",
           "#FF97FF",
           "#FECB52"
          ],
          "font": {
           "color": "#2a3f5f"
          },
          "geo": {
           "bgcolor": "white",
           "lakecolor": "white",
           "landcolor": "#E5ECF6",
           "showlakes": true,
           "showland": true,
           "subunitcolor": "white"
          },
          "hoverlabel": {
           "align": "left"
          },
          "hovermode": "closest",
          "mapbox": {
           "style": "light"
          },
          "paper_bgcolor": "white",
          "plot_bgcolor": "#E5ECF6",
          "polar": {
           "angularaxis": {
            "gridcolor": "white",
            "linecolor": "white",
            "ticks": ""
           },
           "bgcolor": "#E5ECF6",
           "radialaxis": {
            "gridcolor": "white",
            "linecolor": "white",
            "ticks": ""
           }
          },
          "scene": {
           "xaxis": {
            "backgroundcolor": "#E5ECF6",
            "gridcolor": "white",
            "gridwidth": 2,
            "linecolor": "white",
            "showbackground": true,
            "ticks": "",
            "zerolinecolor": "white"
           },
           "yaxis": {
            "backgroundcolor": "#E5ECF6",
            "gridcolor": "white",
            "gridwidth": 2,
            "linecolor": "white",
            "showbackground": true,
            "ticks": "",
            "zerolinecolor": "white"
           },
           "zaxis": {
            "backgroundcolor": "#E5ECF6",
            "gridcolor": "white",
            "gridwidth": 2,
            "linecolor": "white",
            "showbackground": true,
            "ticks": "",
            "zerolinecolor": "white"
           }
          },
          "shapedefaults": {
           "line": {
            "color": "#2a3f5f"
           }
          },
          "ternary": {
           "aaxis": {
            "gridcolor": "white",
            "linecolor": "white",
            "ticks": ""
           },
           "baxis": {
            "gridcolor": "white",
            "linecolor": "white",
            "ticks": ""
           },
           "bgcolor": "#E5ECF6",
           "caxis": {
            "gridcolor": "white",
            "linecolor": "white",
            "ticks": ""
           }
          },
          "title": {
           "x": 0.05
          },
          "xaxis": {
           "automargin": true,
           "gridcolor": "white",
           "linecolor": "white",
           "ticks": "",
           "title": {
            "standoff": 15
           },
           "zerolinecolor": "white",
           "zerolinewidth": 2
          },
          "yaxis": {
           "automargin": true,
           "gridcolor": "white",
           "linecolor": "white",
           "ticks": "",
           "title": {
            "standoff": 15
           },
           "zerolinecolor": "white",
           "zerolinewidth": 2
          }
         }
        },
        "xaxis": {
         "anchor": "y",
         "domain": [
          0,
          0.04666666666666666
         ],
         "title": {
          "text": "x"
         }
        },
        "xaxis10": {
         "anchor": "y10",
         "domain": [
          0.5999999999999999,
          0.6466666666666665
         ],
         "matches": "x",
         "title": {
          "text": "x"
         }
        },
        "xaxis11": {
         "anchor": "y11",
         "domain": [
          0.6666666666666665,
          0.7133333333333332
         ],
         "matches": "x",
         "title": {
          "text": "x"
         }
        },
        "xaxis12": {
         "anchor": "y12",
         "domain": [
          0.7333333333333332,
          0.7799999999999998
         ],
         "matches": "x",
         "title": {
          "text": "x"
         }
        },
        "xaxis13": {
         "anchor": "y13",
         "domain": [
          0.7999999999999998,
          0.8466666666666665
         ],
         "matches": "x",
         "title": {
          "text": "x"
         }
        },
        "xaxis14": {
         "anchor": "y14",
         "domain": [
          0.8666666666666665,
          0.9133333333333331
         ],
         "matches": "x",
         "title": {
          "text": "x"
         }
        },
        "xaxis15": {
         "anchor": "y15",
         "domain": [
          0.9333333333333331,
          0.9799999999999998
         ],
         "matches": "x",
         "title": {
          "text": "x"
         }
        },
        "xaxis16": {
         "anchor": "y16",
         "domain": [
          0,
          0.04666666666666666
         ],
         "matches": "x",
         "showticklabels": false
        },
        "xaxis17": {
         "anchor": "y17",
         "domain": [
          0.06666666666666667,
          0.11333333333333333
         ],
         "matches": "x",
         "showticklabels": false
        },
        "xaxis18": {
         "anchor": "y18",
         "domain": [
          0.13333333333333333,
          0.18
         ],
         "matches": "x",
         "showticklabels": false
        },
        "xaxis19": {
         "anchor": "y19",
         "domain": [
          0.19999999999999998,
          0.24666666666666665
         ],
         "matches": "x",
         "showticklabels": false
        },
        "xaxis2": {
         "anchor": "y2",
         "domain": [
          0.06666666666666667,
          0.11333333333333333
         ],
         "matches": "x",
         "title": {
          "text": "x"
         }
        },
        "xaxis20": {
         "anchor": "y20",
         "domain": [
          0.26666666666666666,
          0.31333333333333335
         ],
         "matches": "x",
         "showticklabels": false
        },
        "xaxis21": {
         "anchor": "y21",
         "domain": [
          0.3333333333333333,
          0.38
         ],
         "matches": "x",
         "showticklabels": false
        },
        "xaxis22": {
         "anchor": "y22",
         "domain": [
          0.39999999999999997,
          0.44666666666666666
         ],
         "matches": "x",
         "showticklabels": false
        },
        "xaxis23": {
         "anchor": "y23",
         "domain": [
          0.4666666666666667,
          0.5133333333333333
         ],
         "matches": "x",
         "showticklabels": false
        },
        "xaxis24": {
         "anchor": "y24",
         "domain": [
          0.5333333333333333,
          0.58
         ],
         "matches": "x",
         "showticklabels": false
        },
        "xaxis25": {
         "anchor": "y25",
         "domain": [
          0.5999999999999999,
          0.6466666666666665
         ],
         "matches": "x",
         "showticklabels": false
        },
        "xaxis26": {
         "anchor": "y26",
         "domain": [
          0.6666666666666665,
          0.7133333333333332
         ],
         "matches": "x",
         "showticklabels": false
        },
        "xaxis27": {
         "anchor": "y27",
         "domain": [
          0.7333333333333332,
          0.7799999999999998
         ],
         "matches": "x",
         "showticklabels": false
        },
        "xaxis28": {
         "anchor": "y28",
         "domain": [
          0.7999999999999998,
          0.8466666666666665
         ],
         "matches": "x",
         "showticklabels": false
        },
        "xaxis29": {
         "anchor": "y29",
         "domain": [
          0.8666666666666665,
          0.9133333333333331
         ],
         "matches": "x",
         "showticklabels": false
        },
        "xaxis3": {
         "anchor": "y3",
         "domain": [
          0.13333333333333333,
          0.18
         ],
         "matches": "x",
         "title": {
          "text": "x"
         }
        },
        "xaxis30": {
         "anchor": "y30",
         "domain": [
          0.9333333333333331,
          0.9799999999999998
         ],
         "matches": "x",
         "showticklabels": false
        },
        "xaxis4": {
         "anchor": "y4",
         "domain": [
          0.19999999999999998,
          0.24666666666666665
         ],
         "matches": "x",
         "title": {
          "text": "x"
         }
        },
        "xaxis5": {
         "anchor": "y5",
         "domain": [
          0.26666666666666666,
          0.31333333333333335
         ],
         "matches": "x",
         "title": {
          "text": "x"
         }
        },
        "xaxis6": {
         "anchor": "y6",
         "domain": [
          0.3333333333333333,
          0.38
         ],
         "matches": "x",
         "title": {
          "text": "x"
         }
        },
        "xaxis7": {
         "anchor": "y7",
         "domain": [
          0.39999999999999997,
          0.44666666666666666
         ],
         "matches": "x",
         "title": {
          "text": "x"
         }
        },
        "xaxis8": {
         "anchor": "y8",
         "domain": [
          0.4666666666666667,
          0.5133333333333333
         ],
         "matches": "x",
         "title": {
          "text": "x"
         }
        },
        "xaxis9": {
         "anchor": "y9",
         "domain": [
          0.5333333333333333,
          0.58
         ],
         "matches": "x",
         "title": {
          "text": "x"
         }
        },
        "yaxis": {
         "anchor": "x",
         "domain": [
          0,
          0.485
         ],
         "title": {
          "text": "y"
         }
        },
        "yaxis10": {
         "anchor": "x10",
         "domain": [
          0,
          0.485
         ],
         "matches": "y",
         "showticklabels": false
        },
        "yaxis11": {
         "anchor": "x11",
         "domain": [
          0,
          0.485
         ],
         "matches": "y",
         "showticklabels": false
        },
        "yaxis12": {
         "anchor": "x12",
         "domain": [
          0,
          0.485
         ],
         "matches": "y",
         "showticklabels": false
        },
        "yaxis13": {
         "anchor": "x13",
         "domain": [
          0,
          0.485
         ],
         "matches": "y",
         "showticklabels": false
        },
        "yaxis14": {
         "anchor": "x14",
         "domain": [
          0,
          0.485
         ],
         "matches": "y",
         "showticklabels": false
        },
        "yaxis15": {
         "anchor": "x15",
         "domain": [
          0,
          0.485
         ],
         "matches": "y",
         "showticklabels": false
        },
        "yaxis16": {
         "anchor": "x16",
         "domain": [
          0.515,
          1
         ],
         "matches": "y",
         "title": {
          "text": "y"
         }
        },
        "yaxis17": {
         "anchor": "x17",
         "domain": [
          0.515,
          1
         ],
         "matches": "y",
         "showticklabels": false
        },
        "yaxis18": {
         "anchor": "x18",
         "domain": [
          0.515,
          1
         ],
         "matches": "y",
         "showticklabels": false
        },
        "yaxis19": {
         "anchor": "x19",
         "domain": [
          0.515,
          1
         ],
         "matches": "y",
         "showticklabels": false
        },
        "yaxis2": {
         "anchor": "x2",
         "domain": [
          0,
          0.485
         ],
         "matches": "y",
         "showticklabels": false
        },
        "yaxis20": {
         "anchor": "x20",
         "domain": [
          0.515,
          1
         ],
         "matches": "y",
         "showticklabels": false
        },
        "yaxis21": {
         "anchor": "x21",
         "domain": [
          0.515,
          1
         ],
         "matches": "y",
         "showticklabels": false
        },
        "yaxis22": {
         "anchor": "x22",
         "domain": [
          0.515,
          1
         ],
         "matches": "y",
         "showticklabels": false
        },
        "yaxis23": {
         "anchor": "x23",
         "domain": [
          0.515,
          1
         ],
         "matches": "y",
         "showticklabels": false
        },
        "yaxis24": {
         "anchor": "x24",
         "domain": [
          0.515,
          1
         ],
         "matches": "y",
         "showticklabels": false
        },
        "yaxis25": {
         "anchor": "x25",
         "domain": [
          0.515,
          1
         ],
         "matches": "y",
         "showticklabels": false
        },
        "yaxis26": {
         "anchor": "x26",
         "domain": [
          0.515,
          1
         ],
         "matches": "y",
         "showticklabels": false
        },
        "yaxis27": {
         "anchor": "x27",
         "domain": [
          0.515,
          1
         ],
         "matches": "y",
         "showticklabels": false
        },
        "yaxis28": {
         "anchor": "x28",
         "domain": [
          0.515,
          1
         ],
         "matches": "y",
         "showticklabels": false
        },
        "yaxis29": {
         "anchor": "x29",
         "domain": [
          0.515,
          1
         ],
         "matches": "y",
         "showticklabels": false
        },
        "yaxis3": {
         "anchor": "x3",
         "domain": [
          0,
          0.485
         ],
         "matches": "y",
         "showticklabels": false
        },
        "yaxis30": {
         "anchor": "x30",
         "domain": [
          0.515,
          1
         ],
         "matches": "y",
         "showticklabels": false
        },
        "yaxis4": {
         "anchor": "x4",
         "domain": [
          0,
          0.485
         ],
         "matches": "y",
         "showticklabels": false
        },
        "yaxis5": {
         "anchor": "x5",
         "domain": [
          0,
          0.485
         ],
         "matches": "y",
         "showticklabels": false
        },
        "yaxis6": {
         "anchor": "x6",
         "domain": [
          0,
          0.485
         ],
         "matches": "y",
         "showticklabels": false
        },
        "yaxis7": {
         "anchor": "x7",
         "domain": [
          0,
          0.485
         ],
         "matches": "y",
         "showticklabels": false
        },
        "yaxis8": {
         "anchor": "x8",
         "domain": [
          0,
          0.485
         ],
         "matches": "y",
         "showticklabels": false
        },
        "yaxis9": {
         "anchor": "x9",
         "domain": [
          0,
          0.485
         ],
         "matches": "y",
         "showticklabels": false
        }
       }
      }
     },
     "metadata": {},
     "output_type": "display_data"
    }
   ],
   "source": [
    "def update_output(family):\n",
    "    df_spec = pd.DataFrame(columns = ['Name', 'x', 'y', 'Category'])\n",
    "    df_spec2 = pd.DataFrame(columns = ['Name', 'x', 'y', 'Category'])\n",
    "    df_spec3 = pd.DataFrame(columns = ['Name', 'x', 'y', 'Category'])\n",
    "    df_spec4 = pd.DataFrame(columns = ['Name', 'x', 'y', 'Category'])\n",
    "    new_lst = structure[family]\n",
    "\n",
    "    for el in new_lst:\n",
    "        df_temp = df1.loc[df1['Name'].isin([el])]\n",
    "        frames = [df_spec, df_temp]\n",
    "        df_spec = pd.concat(frames)\n",
    "\n",
    "    for cat in df_spec['Category'].unique().tolist():\n",
    "        a = df_spec.loc[df_spec['Category'].isin([cat])]\n",
    "        \n",
    "        if len(a['Name'].unique().tolist()) > 2:\n",
    "            curves = {}\n",
    "\n",
    "            for index, raw in df_spec.iterrows():\n",
    "                if raw['Category'] not in curves.keys():\n",
    "                    curves[raw['Category']] = {}\n",
    "                if raw['Name'] not in curves[raw['Category']].keys():\n",
    "                    curves[raw['Category']][raw['Name']] = []\n",
    "                point = (raw['x'], raw['y'])\n",
    "                curves[raw['Category']][raw['Name']].append(point)\n",
    "\n",
    "            distances = {}\n",
    "            distances[cat] = {}\n",
    "            nam_line = list(curves[cat].keys())\n",
    "            for b in range(len(curves[cat].keys())):\n",
    "                nam_line_spec = list(curves[cat].keys())\n",
    "                del nam_line_spec[b]\n",
    "                line_1 = curves[cat][nam_line[b]]\n",
    "                lang_1 = nam_line[b]\n",
    "                for name in nam_line_spec:\n",
    "                    line_2 = curves[cat][name]\n",
    "                    lang_2 = name\n",
    "                    compar_name1 = f'{lang_1}:{lang_2}'\n",
    "                    compar_name2 = f'{lang_2}:{lang_1}'\n",
    "                    if compar_name1 and compar_name2 not in distances[cat].keys():\n",
    "                        distances[cat][compar_name1] = frechet_distance(line_1, line_2)\n",
    "\n",
    "            distances = dict(sorted(distances[cat].items(), key=lambda x: -x[1]))\n",
    "            compar_distances = {}\n",
    "            count = 0\n",
    "            dist_len = 0.8*len(distances.keys())\n",
    "            pattern1 = int()\n",
    "            for k in distances.keys():\n",
    "                count += 1\n",
    "                if pattern1 == 0:\n",
    "                    pattern1 =  1.2*distances[k]\n",
    "                n_index = k.index(':')\n",
    "                lang1 = k[0:n_index]\n",
    "                lang2 = k[n_index+1:]\n",
    "                if distances[k] <= pattern1:\n",
    "                    if count <= dist_len:\n",
    "                        if lang1 not in compar_distances.keys():\n",
    "                            compar_distances[lang1] = []\n",
    "                            compar_distances[lang1].append(lang1)\n",
    "                            compar_distances[lang1].append(lang2)\n",
    "                        else:\n",
    "                            compar_distances[lang1].append(lang2)\n",
    "                        if lang2 not in compar_distances.keys():\n",
    "                            compar_distances[lang2] = []\n",
    "                            compar_distances[lang2].append(lang2)\n",
    "                            compar_distances[lang2].append(lang1)\n",
    "                        else:\n",
    "                            compar_distances[lang2].append(lang1)\n",
    "            compar_distances = dict(sorted(compar_distances.items(), key=lambda item: len(item[1])))\n",
    "            [last] = collections.deque(compar_distances, maxlen=1)\n",
    "            need_lang = compar_distances[last]\n",
    "            \n",
    "            if len(need_lang) >= 6:\n",
    "                need_lang = need_lang[:6]\n",
    "\n",
    "            for el in need_lang:\n",
    "                b = df_spec2.loc[df_spec2['Category'].isin([cat])]\n",
    "                b = b['Name'].unique().tolist()\n",
    "                if el not in b:\n",
    "                    df_temp = df_spec.loc[df_spec['Name'].isin([el])]\n",
    "                    df_temp = df_temp.loc[df_temp['Category'].isin([cat])]\n",
    "                    frames = [df_spec2, df_temp]\n",
    "                    df_spec2 = pd.concat(frames)\n",
    "\n",
    "            \n",
    "            distances = dict(sorted(distances.items(), key=lambda x: -x[1], reverse=True))\n",
    "            df_spec3 = pd.DataFrame(columns = ['Name', 'x', 'y', 'Category'])\n",
    "            compar_distances2 = {}\n",
    "            dist_len = 0.8*len(distances.keys())\n",
    "            pattern2 = int()\n",
    "            count = 0\n",
    "            for k in distances.keys():\n",
    "                count += 1\n",
    "        \n",
    "                if pattern2 == 0:\n",
    "                    pattern2 =  0.8*distances[k]\n",
    "                n = k.index(':')\n",
    "                lang1 = k[0:n]\n",
    "                lang2 = k[n+1:]\n",
    "\n",
    "                if distances[k] >= pattern2:\n",
    "                    if count <= dist_len:\n",
    "                        if lang1 not in compar_distances2.keys():\n",
    "                            compar_distances2[lang1] = []\n",
    "                            compar_distances2[lang1].append(lang1)\n",
    "                            compar_distances2[lang1].append(lang2)\n",
    "                        else:\n",
    "                            if lang2 not in compar_distances2[lang1]:\n",
    "                                compar_distances2[lang1].append(lang2)\n",
    "                        if lang2 not in compar_distances2.keys():\n",
    "                            compar_distances2[lang2] = []\n",
    "                            compar_distances2[lang2].append(lang2)\n",
    "                            compar_distances2[lang2].append(lang1)\n",
    "                        else:\n",
    "                            if lang1 not in compar_distances2[lang2]:\n",
    "                                compar_distances2[lang2].append(lang1)\n",
    "            \n",
    "            compar_distances2 = dict(sorted(compar_distances2.items(), key=lambda item: len(item[1])))\n",
    "            if compar_distances2 == {}:\n",
    "                b = df_spec.loc[df_spec['Category'].isin(['Definite'])]\n",
    "                print(distances)\n",
    "            [last] = collections.deque(compar_distances2, maxlen=1)\n",
    "            need_lang = compar_distances2[last]\n",
    "            if len(need_lang) >= 6:\n",
    "                need_lang = need_lang[:6]\n",
    "\n",
    "            for el in need_lang:\n",
    "                b = df_spec3.loc[df_spec3['Category'].isin([cat])]\n",
    "                b = b['Name'].unique().tolist()\n",
    "                if el not in b:\n",
    "                    df_temp = df_spec.loc[df_spec['Name'].isin([el])]\n",
    "                    df_temp = df_temp.loc[df_temp['Category'].isin([cat])]\n",
    "                    frames = [df_spec3, df_temp]\n",
    "                    df_spec3 = pd.concat(frames)\n",
    "                \n",
    "                \n",
    "        else:\n",
    "            df_temp = df_spec[df_spec['Category'].isin([cat])]\n",
    "            frames = [df_spec2, df_temp]\n",
    "            df_spec2 = pd.concat(frames)\n",
    "            frames = [df_spec3, df_temp]\n",
    "            df_spec3 = pd.concat(frames)\n",
    "\n",
    "    min = len(df_spec2['Name'].tolist())\n",
    "    min = ['min' for i in range(min)]\n",
    "    df_spec2['Parameter'] = min\n",
    "\n",
    "    max = len(df_spec3['Name'].tolist())\n",
    "    max = ['max' for i in range(max)]\n",
    "    df_spec3['Parameter'] = max\n",
    "\n",
    "    frames = [df_spec2, df_spec3]\n",
    "    df_new = pd.concat(frames)\n",
    "    \n",
    "    fig = px.line(df_new, x='x', y='y', color='Name', facet_col='Category', facet_row = 'Parameter', facet_col_wrap=3)\n",
    "    # fig = px.line(df_spec2, x='x', y='y', color='Name', facet_col='Category', facet_col_wrap=3)\n",
    "    # fig1 = px.line(df_spec3, x='x', y='y', color='Name', facet_col='Category', facet_col_wrap=3)\n",
    "    # return fig1, fig2, fig3\n",
    "    return fig\n",
    "f = update_output('Atlantic-Congo')\n",
    "f.show()\n"
   ]
  },
  {
   "cell_type": "code",
   "execution_count": 21,
   "metadata": {},
   "outputs": [
    {
     "name": "stdout",
     "output_type": "stream",
     "text": [
      "     Name  x    y Category\n",
      "0  Arabic  0  0.6   Aspect\n",
      "1  Arabic  1  0.6   Aspect\n",
      "2  Arabic  2  0.6   Aspect\n",
      "3  Arabic  3  0.6   Aspect\n",
      "4  Arabic  4  0.6   Aspect\n",
      "['Arabic', 'Beja']\n"
     ]
    },
    {
     "data": {
      "application/vnd.plotly.v1+json": {
       "config": {
        "plotlyServerURL": "https://plot.ly"
       },
       "data": [
        {
         "hovertemplate": "Name=Arabic<br>x=%{x}<br>y=%{y}<extra></extra>",
         "legendgroup": "Arabic",
         "line": {
          "color": "#636efa",
          "dash": "solid"
         },
         "marker": {
          "symbol": "circle"
         },
         "mode": "lines",
         "name": "Arabic",
         "orientation": "v",
         "showlegend": true,
         "type": "scatter",
         "x": [
          0,
          1,
          2,
          3,
          4,
          5,
          6,
          7,
          8,
          9,
          10,
          11,
          12,
          13,
          14,
          15,
          16,
          17,
          18,
          19,
          20,
          21,
          22,
          23
         ],
         "xaxis": "x",
         "y": [
          0.6,
          0.6,
          0.6,
          0.6,
          0.6,
          0.6,
          0.124,
          0.6,
          0.6,
          0.124,
          0.6,
          0.124,
          0.6,
          0.124,
          0.6,
          0.6,
          0.124,
          0.6,
          0.124,
          0.124,
          0.124,
          0.124,
          0.124,
          0.124
         ],
         "yaxis": "y"
        },
        {
         "hovertemplate": "Name=Beja<br>x=%{x}<br>y=%{y}<extra></extra>",
         "legendgroup": "Beja",
         "line": {
          "color": "#EF553B",
          "dash": "solid"
         },
         "marker": {
          "symbol": "circle"
         },
         "mode": "lines",
         "name": "Beja",
         "orientation": "v",
         "showlegend": true,
         "type": "scatter",
         "x": [
          0,
          1,
          2,
          3,
          4,
          5,
          6,
          7,
          8,
          9,
          10,
          11,
          12,
          13,
          14,
          15,
          16,
          17,
          18,
          19,
          20,
          21,
          22,
          23
         ],
         "xaxis": "x",
         "y": [
          0.45,
          0.45,
          0.45,
          0.45,
          0.781,
          0.45,
          0.45,
          0.45,
          0.781,
          0.781,
          0.781,
          0.45,
          0.45,
          0.45,
          0.45,
          0.45,
          0.45,
          0.45,
          0.781,
          0.781,
          0.781,
          0.45,
          0.45,
          0.45
         ],
         "yaxis": "y"
        }
       ],
       "layout": {
        "legend": {
         "title": {
          "text": "Name"
         },
         "tracegroupgap": 0
        },
        "margin": {
         "t": 60
        },
        "template": {
         "data": {
          "bar": [
           {
            "error_x": {
             "color": "#2a3f5f"
            },
            "error_y": {
             "color": "#2a3f5f"
            },
            "marker": {
             "line": {
              "color": "#E5ECF6",
              "width": 0.5
             },
             "pattern": {
              "fillmode": "overlay",
              "size": 10,
              "solidity": 0.2
             }
            },
            "type": "bar"
           }
          ],
          "barpolar": [
           {
            "marker": {
             "line": {
              "color": "#E5ECF6",
              "width": 0.5
             },
             "pattern": {
              "fillmode": "overlay",
              "size": 10,
              "solidity": 0.2
             }
            },
            "type": "barpolar"
           }
          ],
          "carpet": [
           {
            "aaxis": {
             "endlinecolor": "#2a3f5f",
             "gridcolor": "white",
             "linecolor": "white",
             "minorgridcolor": "white",
             "startlinecolor": "#2a3f5f"
            },
            "baxis": {
             "endlinecolor": "#2a3f5f",
             "gridcolor": "white",
             "linecolor": "white",
             "minorgridcolor": "white",
             "startlinecolor": "#2a3f5f"
            },
            "type": "carpet"
           }
          ],
          "choropleth": [
           {
            "colorbar": {
             "outlinewidth": 0,
             "ticks": ""
            },
            "type": "choropleth"
           }
          ],
          "contour": [
           {
            "colorbar": {
             "outlinewidth": 0,
             "ticks": ""
            },
            "colorscale": [
             [
              0,
              "#0d0887"
             ],
             [
              0.1111111111111111,
              "#46039f"
             ],
             [
              0.2222222222222222,
              "#7201a8"
             ],
             [
              0.3333333333333333,
              "#9c179e"
             ],
             [
              0.4444444444444444,
              "#bd3786"
             ],
             [
              0.5555555555555556,
              "#d8576b"
             ],
             [
              0.6666666666666666,
              "#ed7953"
             ],
             [
              0.7777777777777778,
              "#fb9f3a"
             ],
             [
              0.8888888888888888,
              "#fdca26"
             ],
             [
              1,
              "#f0f921"
             ]
            ],
            "type": "contour"
           }
          ],
          "contourcarpet": [
           {
            "colorbar": {
             "outlinewidth": 0,
             "ticks": ""
            },
            "type": "contourcarpet"
           }
          ],
          "heatmap": [
           {
            "colorbar": {
             "outlinewidth": 0,
             "ticks": ""
            },
            "colorscale": [
             [
              0,
              "#0d0887"
             ],
             [
              0.1111111111111111,
              "#46039f"
             ],
             [
              0.2222222222222222,
              "#7201a8"
             ],
             [
              0.3333333333333333,
              "#9c179e"
             ],
             [
              0.4444444444444444,
              "#bd3786"
             ],
             [
              0.5555555555555556,
              "#d8576b"
             ],
             [
              0.6666666666666666,
              "#ed7953"
             ],
             [
              0.7777777777777778,
              "#fb9f3a"
             ],
             [
              0.8888888888888888,
              "#fdca26"
             ],
             [
              1,
              "#f0f921"
             ]
            ],
            "type": "heatmap"
           }
          ],
          "heatmapgl": [
           {
            "colorbar": {
             "outlinewidth": 0,
             "ticks": ""
            },
            "colorscale": [
             [
              0,
              "#0d0887"
             ],
             [
              0.1111111111111111,
              "#46039f"
             ],
             [
              0.2222222222222222,
              "#7201a8"
             ],
             [
              0.3333333333333333,
              "#9c179e"
             ],
             [
              0.4444444444444444,
              "#bd3786"
             ],
             [
              0.5555555555555556,
              "#d8576b"
             ],
             [
              0.6666666666666666,
              "#ed7953"
             ],
             [
              0.7777777777777778,
              "#fb9f3a"
             ],
             [
              0.8888888888888888,
              "#fdca26"
             ],
             [
              1,
              "#f0f921"
             ]
            ],
            "type": "heatmapgl"
           }
          ],
          "histogram": [
           {
            "marker": {
             "pattern": {
              "fillmode": "overlay",
              "size": 10,
              "solidity": 0.2
             }
            },
            "type": "histogram"
           }
          ],
          "histogram2d": [
           {
            "colorbar": {
             "outlinewidth": 0,
             "ticks": ""
            },
            "colorscale": [
             [
              0,
              "#0d0887"
             ],
             [
              0.1111111111111111,
              "#46039f"
             ],
             [
              0.2222222222222222,
              "#7201a8"
             ],
             [
              0.3333333333333333,
              "#9c179e"
             ],
             [
              0.4444444444444444,
              "#bd3786"
             ],
             [
              0.5555555555555556,
              "#d8576b"
             ],
             [
              0.6666666666666666,
              "#ed7953"
             ],
             [
              0.7777777777777778,
              "#fb9f3a"
             ],
             [
              0.8888888888888888,
              "#fdca26"
             ],
             [
              1,
              "#f0f921"
             ]
            ],
            "type": "histogram2d"
           }
          ],
          "histogram2dcontour": [
           {
            "colorbar": {
             "outlinewidth": 0,
             "ticks": ""
            },
            "colorscale": [
             [
              0,
              "#0d0887"
             ],
             [
              0.1111111111111111,
              "#46039f"
             ],
             [
              0.2222222222222222,
              "#7201a8"
             ],
             [
              0.3333333333333333,
              "#9c179e"
             ],
             [
              0.4444444444444444,
              "#bd3786"
             ],
             [
              0.5555555555555556,
              "#d8576b"
             ],
             [
              0.6666666666666666,
              "#ed7953"
             ],
             [
              0.7777777777777778,
              "#fb9f3a"
             ],
             [
              0.8888888888888888,
              "#fdca26"
             ],
             [
              1,
              "#f0f921"
             ]
            ],
            "type": "histogram2dcontour"
           }
          ],
          "mesh3d": [
           {
            "colorbar": {
             "outlinewidth": 0,
             "ticks": ""
            },
            "type": "mesh3d"
           }
          ],
          "parcoords": [
           {
            "line": {
             "colorbar": {
              "outlinewidth": 0,
              "ticks": ""
             }
            },
            "type": "parcoords"
           }
          ],
          "pie": [
           {
            "automargin": true,
            "type": "pie"
           }
          ],
          "scatter": [
           {
            "fillpattern": {
             "fillmode": "overlay",
             "size": 10,
             "solidity": 0.2
            },
            "type": "scatter"
           }
          ],
          "scatter3d": [
           {
            "line": {
             "colorbar": {
              "outlinewidth": 0,
              "ticks": ""
             }
            },
            "marker": {
             "colorbar": {
              "outlinewidth": 0,
              "ticks": ""
             }
            },
            "type": "scatter3d"
           }
          ],
          "scattercarpet": [
           {
            "marker": {
             "colorbar": {
              "outlinewidth": 0,
              "ticks": ""
             }
            },
            "type": "scattercarpet"
           }
          ],
          "scattergeo": [
           {
            "marker": {
             "colorbar": {
              "outlinewidth": 0,
              "ticks": ""
             }
            },
            "type": "scattergeo"
           }
          ],
          "scattergl": [
           {
            "marker": {
             "colorbar": {
              "outlinewidth": 0,
              "ticks": ""
             }
            },
            "type": "scattergl"
           }
          ],
          "scattermapbox": [
           {
            "marker": {
             "colorbar": {
              "outlinewidth": 0,
              "ticks": ""
             }
            },
            "type": "scattermapbox"
           }
          ],
          "scatterpolar": [
           {
            "marker": {
             "colorbar": {
              "outlinewidth": 0,
              "ticks": ""
             }
            },
            "type": "scatterpolar"
           }
          ],
          "scatterpolargl": [
           {
            "marker": {
             "colorbar": {
              "outlinewidth": 0,
              "ticks": ""
             }
            },
            "type": "scatterpolargl"
           }
          ],
          "scatterternary": [
           {
            "marker": {
             "colorbar": {
              "outlinewidth": 0,
              "ticks": ""
             }
            },
            "type": "scatterternary"
           }
          ],
          "surface": [
           {
            "colorbar": {
             "outlinewidth": 0,
             "ticks": ""
            },
            "colorscale": [
             [
              0,
              "#0d0887"
             ],
             [
              0.1111111111111111,
              "#46039f"
             ],
             [
              0.2222222222222222,
              "#7201a8"
             ],
             [
              0.3333333333333333,
              "#9c179e"
             ],
             [
              0.4444444444444444,
              "#bd3786"
             ],
             [
              0.5555555555555556,
              "#d8576b"
             ],
             [
              0.6666666666666666,
              "#ed7953"
             ],
             [
              0.7777777777777778,
              "#fb9f3a"
             ],
             [
              0.8888888888888888,
              "#fdca26"
             ],
             [
              1,
              "#f0f921"
             ]
            ],
            "type": "surface"
           }
          ],
          "table": [
           {
            "cells": {
             "fill": {
              "color": "#EBF0F8"
             },
             "line": {
              "color": "white"
             }
            },
            "header": {
             "fill": {
              "color": "#C8D4E3"
             },
             "line": {
              "color": "white"
             }
            },
            "type": "table"
           }
          ]
         },
         "layout": {
          "annotationdefaults": {
           "arrowcolor": "#2a3f5f",
           "arrowhead": 0,
           "arrowwidth": 1
          },
          "autotypenumbers": "strict",
          "coloraxis": {
           "colorbar": {
            "outlinewidth": 0,
            "ticks": ""
           }
          },
          "colorscale": {
           "diverging": [
            [
             0,
             "#8e0152"
            ],
            [
             0.1,
             "#c51b7d"
            ],
            [
             0.2,
             "#de77ae"
            ],
            [
             0.3,
             "#f1b6da"
            ],
            [
             0.4,
             "#fde0ef"
            ],
            [
             0.5,
             "#f7f7f7"
            ],
            [
             0.6,
             "#e6f5d0"
            ],
            [
             0.7,
             "#b8e186"
            ],
            [
             0.8,
             "#7fbc41"
            ],
            [
             0.9,
             "#4d9221"
            ],
            [
             1,
             "#276419"
            ]
           ],
           "sequential": [
            [
             0,
             "#0d0887"
            ],
            [
             0.1111111111111111,
             "#46039f"
            ],
            [
             0.2222222222222222,
             "#7201a8"
            ],
            [
             0.3333333333333333,
             "#9c179e"
            ],
            [
             0.4444444444444444,
             "#bd3786"
            ],
            [
             0.5555555555555556,
             "#d8576b"
            ],
            [
             0.6666666666666666,
             "#ed7953"
            ],
            [
             0.7777777777777778,
             "#fb9f3a"
            ],
            [
             0.8888888888888888,
             "#fdca26"
            ],
            [
             1,
             "#f0f921"
            ]
           ],
           "sequentialminus": [
            [
             0,
             "#0d0887"
            ],
            [
             0.1111111111111111,
             "#46039f"
            ],
            [
             0.2222222222222222,
             "#7201a8"
            ],
            [
             0.3333333333333333,
             "#9c179e"
            ],
            [
             0.4444444444444444,
             "#bd3786"
            ],
            [
             0.5555555555555556,
             "#d8576b"
            ],
            [
             0.6666666666666666,
             "#ed7953"
            ],
            [
             0.7777777777777778,
             "#fb9f3a"
            ],
            [
             0.8888888888888888,
             "#fdca26"
            ],
            [
             1,
             "#f0f921"
            ]
           ]
          },
          "colorway": [
           "#636efa",
           "#EF553B",
           "#00cc96",
           "#ab63fa",
           "#FFA15A",
           "#19d3f3",
           "#FF6692",
           "#B6E880",
           "#FF97FF",
           "#FECB52"
          ],
          "font": {
           "color": "#2a3f5f"
          },
          "geo": {
           "bgcolor": "white",
           "lakecolor": "white",
           "landcolor": "#E5ECF6",
           "showlakes": true,
           "showland": true,
           "subunitcolor": "white"
          },
          "hoverlabel": {
           "align": "left"
          },
          "hovermode": "closest",
          "mapbox": {
           "style": "light"
          },
          "paper_bgcolor": "white",
          "plot_bgcolor": "#E5ECF6",
          "polar": {
           "angularaxis": {
            "gridcolor": "white",
            "linecolor": "white",
            "ticks": ""
           },
           "bgcolor": "#E5ECF6",
           "radialaxis": {
            "gridcolor": "white",
            "linecolor": "white",
            "ticks": ""
           }
          },
          "scene": {
           "xaxis": {
            "backgroundcolor": "#E5ECF6",
            "gridcolor": "white",
            "gridwidth": 2,
            "linecolor": "white",
            "showbackground": true,
            "ticks": "",
            "zerolinecolor": "white"
           },
           "yaxis": {
            "backgroundcolor": "#E5ECF6",
            "gridcolor": "white",
            "gridwidth": 2,
            "linecolor": "white",
            "showbackground": true,
            "ticks": "",
            "zerolinecolor": "white"
           },
           "zaxis": {
            "backgroundcolor": "#E5ECF6",
            "gridcolor": "white",
            "gridwidth": 2,
            "linecolor": "white",
            "showbackground": true,
            "ticks": "",
            "zerolinecolor": "white"
           }
          },
          "shapedefaults": {
           "line": {
            "color": "#2a3f5f"
           }
          },
          "ternary": {
           "aaxis": {
            "gridcolor": "white",
            "linecolor": "white",
            "ticks": ""
           },
           "baxis": {
            "gridcolor": "white",
            "linecolor": "white",
            "ticks": ""
           },
           "bgcolor": "#E5ECF6",
           "caxis": {
            "gridcolor": "white",
            "linecolor": "white",
            "ticks": ""
           }
          },
          "title": {
           "x": 0.05
          },
          "xaxis": {
           "automargin": true,
           "gridcolor": "white",
           "linecolor": "white",
           "ticks": "",
           "title": {
            "standoff": 15
           },
           "zerolinecolor": "white",
           "zerolinewidth": 2
          },
          "yaxis": {
           "automargin": true,
           "gridcolor": "white",
           "linecolor": "white",
           "ticks": "",
           "title": {
            "standoff": 15
           },
           "zerolinecolor": "white",
           "zerolinewidth": 2
          }
         }
        },
        "xaxis": {
         "anchor": "y",
         "domain": [
          0,
          1
         ],
         "title": {
          "text": "x"
         }
        },
        "yaxis": {
         "anchor": "x",
         "domain": [
          0,
          1
         ],
         "title": {
          "text": "y"
         }
        }
       }
      }
     },
     "metadata": {},
     "output_type": "display_data"
    }
   ],
   "source": [
    "def update_output(family, cat): \n",
    "    df_spec = pd.DataFrame(columns = ['Name', 'x', 'y', 'Category'])\n",
    "    new_lst = structure[family]\n",
    "    for el in new_lst:\n",
    "        a = df1.loc[df1['Name'].isin([el])]\n",
    "        a = a.loc[a['Category'].isin([cat])]\n",
    "        df_temp = pd.DataFrame(columns = ['Name', 'x', 'y'])\n",
    "        df_temp['Name'] = a['Name'].tolist()\n",
    "        df_temp['x'] = a['x'].tolist()\n",
    "        df_temp['y'] = a['y'].tolist()\n",
    "        df_temp['Category'] = a['Category'].tolist()\n",
    "        frames = [df_spec, df_temp]\n",
    "        df_spec = pd.concat(frames)\n",
    "    print(df_spec.head())\n",
    "    print(df_spec['Name'].unique().tolist())\n",
    "    if len(df_spec['Name'].unique().tolist()) > 2:\n",
    "\n",
    "        curves = {}\n",
    "\n",
    "        for index, raw in df_spec.iterrows():\n",
    "            if raw['Category'] not in curves.keys():\n",
    "                curves[raw['Category']] = {}\n",
    "            if raw['Name'] not in curves[raw['Category']].keys():\n",
    "                curves[raw['Category']][raw['Name']] = []\n",
    "            point = (raw['x'], raw['y'])\n",
    "            curves[raw['Category']][raw['Name']].append(point)\n",
    "\n",
    "        distances = {}\n",
    "        distances[cat] = {}\n",
    "        nam_line = list(curves[cat].keys())\n",
    "        for b in range(len(curves[cat].keys())):\n",
    "            nam_line_spec = list(curves[cat].keys())\n",
    "            del nam_line_spec[b]\n",
    "            line_1 = curves[cat][nam_line[b]]\n",
    "            lang_1 = nam_line[b]\n",
    "            for name in nam_line_spec:\n",
    "                line_2 = curves[cat][name]\n",
    "                lang_2 = name\n",
    "                compar_name1 = f'{lang_1}:{lang_2}'\n",
    "                compar_name2 = f'{lang_2}:{lang_1}'\n",
    "                if compar_name1 and compar_name2 not in distances[cat].keys():\n",
    "                    distances[cat][compar_name1] = frechet_distance(line_1, line_2)\n",
    "\n",
    "        distances = dict(sorted(distances[cat].items(), key=lambda x: -x[1], reverse=True))\n",
    "        print(distances)\n",
    "        compar_distances2 = {}\n",
    "        count = 0\n",
    "        dist_len = 0.8*len(distances.keys())\n",
    "        pattern2 = int()\n",
    "        for k in distances.keys():\n",
    "            count += 1\n",
    "            if pattern2 == 0:\n",
    "                pattern2 =  800*distances[k]\n",
    "            n = k.index(':')\n",
    "            lang1 = k[0:n]\n",
    "            lang2 = k[n+1:]\n",
    "            if distances[k] <= pattern2:\n",
    "                if count <= dist_len:\n",
    "                    if lang1 not in compar_distances2.keys():\n",
    "                        compar_distances2[lang1] = []\n",
    "                        compar_distances2[lang1].append(lang1)\n",
    "                        compar_distances2[lang1].append(lang2)\n",
    "                    else:\n",
    "                        if lang2 not in compar_distances2[lang1]:\n",
    "                            compar_distances2[lang1].append(lang2)\n",
    "                    if lang2 not in compar_distances2.keys():\n",
    "                        compar_distances2[lang2] = []\n",
    "                        compar_distances2[lang2].append(lang2)\n",
    "                        compar_distances2[lang2].append(lang1)\n",
    "                    else:\n",
    "                        if lang1 not in compar_distances2[lang2]:\n",
    "                            compar_distances2[lang2].append(lang1)\n",
    "        compar_distances2 = dict(sorted(compar_distances2.items(), key=lambda item: len(item[1])))\n",
    "        [last] = collections.deque(compar_distances2, maxlen=1)\n",
    "        need_lang = compar_distances2[last]\n",
    "        if len(need_lang) >= 6:\n",
    "            need_lang = need_lang[:6]\n",
    "\n",
    "        df_spec3 = pd.DataFrame(columns = ['Name', 'x', 'y', 'Categores'])\n",
    "        for el in need_lang:\n",
    "            if el not in df_spec3['Name']:\n",
    "                a = df_spec.loc[df_spec['Name'].isin([el])]\n",
    "                a = a.loc[a['Category'].isin([cat])]\n",
    "                df_temp = pd.DataFrame(columns = ['Name', 'x', 'y', 'Category'])\n",
    "                df_temp['Name'] = a['Name'].tolist()\n",
    "                df_temp['x'] = a['x'].tolist()\n",
    "                df_temp['y'] = a['y'].tolist()\n",
    "                df_temp['Category'] = a['Category'].tolist()\n",
    "                frames = [df_spec3, df_temp]\n",
    "                df_spec3 = pd.concat(frames)\n",
    "\n",
    "        fig = px.line(df_spec3, x = 'x', y = 'y', color='Name')\n",
    "    else:\n",
    "        df_spec = pd.DataFrame(columns = ['Name', 'x', 'y', 'Category'])\n",
    "        lst = all_layers_lang_middle.keys()\n",
    "        new_lst = structure[family]\n",
    "        if new_lst:\n",
    "            for el in new_lst:\n",
    "                a = df1.loc[df1['Name'].isin([el])]\n",
    "                a = a.loc[a['Category'].isin([cat])]\n",
    "                df_temp = pd.DataFrame(columns = ['Name', 'x', 'y'])\n",
    "                df_temp['Name'] = a['Name'].tolist()\n",
    "                df_temp['x'] = a['x'].tolist()\n",
    "                df_temp['y'] = a['y'].tolist()\n",
    "                df_temp['Category'] = a['Category'].tolist()\n",
    "                frames = [df_spec, df_temp]\n",
    "                df_spec = pd.concat(frames)\n",
    "        fig = px.line(df_spec, x = 'x', y = 'y', color='Name')\n",
    "    return fig\n",
    "update_output('Afro-Asiatic', 'Aspect')"
   ]
  },
  {
   "cell_type": "code",
   "execution_count": 134,
   "metadata": {},
   "outputs": [
    {
     "data": {
      "application/vnd.plotly.v1+json": {
       "config": {
        "plotlyServerURL": "https://plot.ly"
       },
       "data": [
        {
         "hovertemplate": "Name=Beja<br>Category=Case<br>x=%{x}<br>y=%{y}<extra></extra>",
         "legendgroup": "Beja",
         "line": {
          "color": "#636efa",
          "dash": "solid"
         },
         "marker": {
          "symbol": "circle"
         },
         "mode": "lines",
         "name": "Beja",
         "orientation": "v",
         "showlegend": true,
         "type": "scatter",
         "x": [
          0,
          1,
          2,
          3,
          4,
          5,
          6,
          7,
          8,
          9,
          10,
          11,
          12,
          13,
          14,
          15,
          16,
          17,
          18,
          19,
          20,
          21,
          22,
          23
         ],
         "xaxis": "x17",
         "y": [
          0.733,
          0.333,
          0.333,
          0.733,
          0.333,
          0.333,
          0.333,
          0.333,
          0.333,
          0.733,
          0.333,
          0.333,
          0.333,
          0.333,
          0.333,
          0.733,
          0.733,
          0.333,
          0.2,
          0.333,
          0.733,
          0.333,
          0.733,
          0.333
         ],
         "yaxis": "y17"
        },
        {
         "hovertemplate": "Name=Beja<br>Category=Gender<br>x=%{x}<br>y=%{y}<extra></extra>",
         "legendgroup": "Beja",
         "line": {
          "color": "#636efa",
          "dash": "solid"
         },
         "marker": {
          "symbol": "circle"
         },
         "mode": "lines",
         "name": "Beja",
         "orientation": "v",
         "showlegend": false,
         "type": "scatter",
         "x": [
          0,
          1,
          2,
          3,
          4,
          5,
          6,
          7,
          8,
          9,
          10,
          11,
          12,
          13,
          14,
          15,
          16,
          17,
          18,
          19,
          20,
          21,
          22,
          23
         ],
         "xaxis": "x18",
         "y": [
          0.711,
          0.711,
          0.711,
          0.711,
          0.711,
          0.711,
          0.711,
          0.711,
          0.711,
          0.711,
          0.711,
          0.6,
          0.711,
          0.711,
          0.711,
          0.711,
          0.711,
          0.711,
          0.711,
          0.711,
          0.711,
          0.711,
          0.711,
          0.711
         ],
         "yaxis": "y18"
        },
        {
         "hovertemplate": "Name=Beja<br>Category=Number<br>x=%{x}<br>y=%{y}<extra></extra>",
         "legendgroup": "Beja",
         "line": {
          "color": "#636efa",
          "dash": "solid"
         },
         "marker": {
          "symbol": "circle"
         },
         "mode": "lines",
         "name": "Beja",
         "orientation": "v",
         "showlegend": false,
         "type": "scatter",
         "x": [
          0,
          1,
          2,
          3,
          4,
          5,
          6,
          7,
          8,
          9,
          10,
          11,
          12,
          13,
          14,
          15,
          16,
          17,
          18,
          19,
          20,
          21,
          22,
          23
         ],
         "xaxis": "x15",
         "y": [
          0.758,
          0.758,
          0.758,
          0.758,
          0.667,
          0.758,
          0.758,
          0.758,
          0.667,
          0.758,
          0.758,
          0.667,
          0.758,
          0.758,
          0.758,
          0.758,
          0.667,
          0.758,
          0.667,
          0.667,
          0.667,
          0.758,
          0.758,
          0.758
         ],
         "yaxis": "y15"
        },
        {
         "hovertemplate": "Name=Beja<br>Category=Person<br>x=%{x}<br>y=%{y}<extra></extra>",
         "legendgroup": "Beja",
         "line": {
          "color": "#636efa",
          "dash": "solid"
         },
         "marker": {
          "symbol": "circle"
         },
         "mode": "lines",
         "name": "Beja",
         "orientation": "v",
         "showlegend": false,
         "type": "scatter",
         "x": [
          0,
          1,
          2,
          3,
          4,
          5,
          6,
          7,
          8,
          9,
          10,
          11,
          12,
          13,
          14,
          15,
          16,
          17,
          18,
          19,
          20,
          21,
          22,
          23
         ],
         "xaxis": "x16",
         "y": [
          0.45,
          0.45,
          0.45,
          0.45,
          0.45,
          0.45,
          0.45,
          0.45,
          0.343,
          0.45,
          0.45,
          0.45,
          0.45,
          0.45,
          0.45,
          0.45,
          0.343,
          0.45,
          0.343,
          0.343,
          0.343,
          0.45,
          0.45,
          0.45
         ],
         "yaxis": "y16"
        },
        {
         "hovertemplate": "Name=Beja<br>Category=Definite<br>x=%{x}<br>y=%{y}<extra></extra>",
         "legendgroup": "Beja",
         "line": {
          "color": "#636efa",
          "dash": "solid"
         },
         "marker": {
          "symbol": "circle"
         },
         "mode": "lines",
         "name": "Beja",
         "orientation": "v",
         "showlegend": false,
         "type": "scatter",
         "x": [
          0,
          1,
          2,
          3,
          4,
          5,
          6,
          7,
          8,
          9,
          10,
          11,
          12,
          13,
          14,
          15,
          16,
          17,
          18,
          19,
          20,
          21,
          22,
          23
         ],
         "xaxis": "x11",
         "y": [
          0.711,
          0.711,
          0.711,
          0.711,
          0.711,
          0.711,
          0.711,
          0.711,
          0.711,
          0.711,
          0.711,
          0.711,
          0.711,
          0.711,
          0.711,
          0.711,
          0.711,
          0.711,
          0.6,
          0.6,
          0.6,
          0.711,
          0.711,
          0.711
         ],
         "yaxis": "y11"
        },
        {
         "hovertemplate": "Name=Beja<br>Category=Aspect<br>x=%{x}<br>y=%{y}<extra></extra>",
         "legendgroup": "Beja",
         "line": {
          "color": "#636efa",
          "dash": "solid"
         },
         "marker": {
          "symbol": "circle"
         },
         "mode": "lines",
         "name": "Beja",
         "orientation": "v",
         "showlegend": false,
         "type": "scatter",
         "x": [
          0,
          1,
          2,
          3,
          4,
          5,
          6,
          7,
          8,
          9,
          10,
          11,
          12,
          13,
          14,
          15,
          16,
          17,
          18,
          19,
          20,
          21,
          22,
          23
         ],
         "xaxis": "x9",
         "y": [
          0.45,
          0.45,
          0.45,
          0.45,
          0.781,
          0.45,
          0.45,
          0.45,
          0.781,
          0.781,
          0.781,
          0.45,
          0.45,
          0.45,
          0.45,
          0.45,
          0.45,
          0.45,
          0.781,
          0.781,
          0.781,
          0.45,
          0.45,
          0.45
         ],
         "yaxis": "y9"
        },
        {
         "hovertemplate": "Name=Beja<br>Category=VerbClass<br>x=%{x}<br>y=%{y}<extra></extra>",
         "legendgroup": "Beja",
         "line": {
          "color": "#636efa",
          "dash": "solid"
         },
         "marker": {
          "symbol": "circle"
         },
         "mode": "lines",
         "name": "Beja",
         "orientation": "v",
         "showlegend": false,
         "type": "scatter",
         "x": [
          0,
          1,
          2,
          3,
          4,
          5,
          6,
          7,
          8,
          9,
          10,
          11,
          12,
          13,
          14,
          15,
          16,
          17,
          18,
          19,
          20,
          21,
          22,
          23
         ],
         "xaxis": "x3",
         "y": [
          0.711,
          0.711,
          0.711,
          0.711,
          0.711,
          0.711,
          0.711,
          0.711,
          0.711,
          0.711,
          0.711,
          1,
          1,
          0.711,
          0.711,
          0.711,
          1,
          1,
          1,
          1,
          1,
          0.711,
          0.711,
          0.711
         ],
         "yaxis": "y3"
        },
        {
         "hovertemplate": "Name=Arabic<br>Category=Case<br>x=%{x}<br>y=%{y}<extra></extra>",
         "legendgroup": "Arabic",
         "line": {
          "color": "#EF553B",
          "dash": "solid"
         },
         "marker": {
          "symbol": "circle"
         },
         "mode": "lines",
         "name": "Arabic",
         "orientation": "v",
         "showlegend": true,
         "type": "scatter",
         "x": [
          0,
          1,
          2,
          3,
          4,
          5,
          6,
          7,
          8,
          9,
          10,
          11,
          12,
          13,
          14,
          15,
          16,
          17,
          18,
          19,
          20,
          21,
          22,
          23
         ],
         "xaxis": "x17",
         "y": [
          0.051,
          0.048,
          0.051,
          0.051,
          0.524,
          0.524,
          0.051,
          0.524,
          0.524,
          0.524,
          0.524,
          0.051,
          0.524,
          0.524,
          0.524,
          0.524,
          0.051,
          0.524,
          0.524,
          0.524,
          0.048,
          0.048,
          0.524,
          0.524
         ],
         "yaxis": "y17"
        },
        {
         "hovertemplate": "Name=Arabic<br>Category=Gender<br>x=%{x}<br>y=%{y}<extra></extra>",
         "legendgroup": "Arabic",
         "line": {
          "color": "#EF553B",
          "dash": "solid"
         },
         "marker": {
          "symbol": "circle"
         },
         "mode": "lines",
         "name": "Arabic",
         "orientation": "v",
         "showlegend": false,
         "type": "scatter",
         "x": [
          0,
          1,
          2,
          3,
          4,
          5,
          6,
          7,
          8,
          9,
          10,
          11,
          12,
          13,
          14,
          15,
          16,
          17,
          18,
          19,
          20,
          21,
          22,
          23
         ],
         "xaxis": "x18",
         "y": [
          0.629,
          0.108,
          0.629,
          0.629,
          0.108,
          0.629,
          0.108,
          0.629,
          0.629,
          0.108,
          0.629,
          0.629,
          0.629,
          0.629,
          0.629,
          0.629,
          0.108,
          0.108,
          0.108,
          0.629,
          0.629,
          0.108,
          0.628,
          0.628
         ],
         "yaxis": "y18"
        },
        {
         "hovertemplate": "Name=Arabic<br>Category=Number<br>x=%{x}<br>y=%{y}<extra></extra>",
         "legendgroup": "Arabic",
         "line": {
          "color": "#EF553B",
          "dash": "solid"
         },
         "marker": {
          "symbol": "circle"
         },
         "mode": "lines",
         "name": "Arabic",
         "orientation": "v",
         "showlegend": false,
         "type": "scatter",
         "x": [
          0,
          1,
          2,
          3,
          4,
          5,
          6,
          7,
          8,
          9,
          10,
          11,
          12,
          13,
          14,
          15,
          16,
          17,
          18,
          19,
          20,
          21,
          22,
          23
         ],
         "xaxis": "x15",
         "y": [
          0.942,
          0.942,
          0.942,
          0.942,
          0.942,
          0.942,
          0.942,
          0.942,
          0.942,
          0.942,
          0.942,
          0.942,
          0.942,
          0.942,
          0.942,
          0.942,
          0.942,
          0.942,
          0.942,
          0.942,
          0.942,
          0.942,
          0.942,
          0.942
         ],
         "yaxis": "y15"
        },
        {
         "hovertemplate": "Name=Arabic<br>Category=Person<br>x=%{x}<br>y=%{y}<extra></extra>",
         "legendgroup": "Arabic",
         "line": {
          "color": "#EF553B",
          "dash": "solid"
         },
         "marker": {
          "symbol": "circle"
         },
         "mode": "lines",
         "name": "Arabic",
         "orientation": "v",
         "showlegend": false,
         "type": "scatter",
         "x": [
          0,
          1,
          2,
          3,
          4,
          5,
          6,
          7,
          8,
          9,
          10,
          11,
          12,
          13,
          14,
          15,
          16,
          17,
          18,
          19,
          20,
          21,
          22,
          23
         ],
         "xaxis": "x16",
         "y": [
          0.933,
          0.933,
          0.933,
          0.933,
          0.933,
          0.933,
          0.933,
          0.933,
          0.933,
          0.933,
          0.933,
          0.933,
          0.933,
          0.933,
          0.933,
          0.933,
          0.933,
          0.933,
          0.933,
          0.933,
          0.933,
          0.933,
          0.933,
          0.933
         ],
         "yaxis": "y16"
        },
        {
         "hovertemplate": "Name=Arabic<br>Category=Voice<br>x=%{x}<br>y=%{y}<extra></extra>",
         "legendgroup": "Arabic",
         "line": {
          "color": "#EF553B",
          "dash": "solid"
         },
         "marker": {
          "symbol": "circle"
         },
         "mode": "lines",
         "name": "Arabic",
         "orientation": "v",
         "showlegend": false,
         "type": "scatter",
         "x": [
          0,
          1,
          2,
          3,
          4,
          5,
          6,
          7,
          8,
          9,
          10,
          11,
          12,
          13,
          14,
          15,
          16,
          17,
          18,
          19,
          20,
          21,
          22,
          23
         ],
         "xaxis": "x14",
         "y": [
          0.924,
          0.924,
          0.924,
          0.924,
          0.924,
          0.924,
          0.924,
          0.924,
          0.924,
          0.924,
          0.924,
          0.924,
          0.924,
          0.924,
          0.924,
          0.924,
          0.924,
          0.924,
          0.924,
          0.924,
          0.924,
          0.924,
          0.924,
          0.924
         ],
         "yaxis": "y14"
        },
        {
         "hovertemplate": "Name=Arabic<br>Category=Definite<br>x=%{x}<br>y=%{y}<extra></extra>",
         "legendgroup": "Arabic",
         "line": {
          "color": "#EF553B",
          "dash": "solid"
         },
         "marker": {
          "symbol": "circle"
         },
         "mode": "lines",
         "name": "Arabic",
         "orientation": "v",
         "showlegend": false,
         "type": "scatter",
         "x": [
          0,
          1,
          2,
          3,
          4,
          5,
          6,
          7,
          8,
          9,
          10,
          11,
          12,
          13,
          14,
          15,
          16,
          17,
          18,
          19,
          20,
          21,
          22,
          23
         ],
         "xaxis": "x11",
         "y": [
          0.118,
          0.216,
          0.118,
          0.118,
          0.118,
          0.118,
          0.216,
          0.216,
          0.216,
          0.216,
          0.118,
          0.174,
          0.118,
          0.118,
          0.118,
          0.118,
          0.118,
          0.216,
          0.118,
          0.118,
          0.216,
          0.216,
          0.117,
          0.216
         ],
         "yaxis": "y11"
        },
        {
         "hovertemplate": "Name=Arabic<br>Category=Animacy<br>x=%{x}<br>y=%{y}<extra></extra>",
         "legendgroup": "Arabic",
         "line": {
          "color": "#EF553B",
          "dash": "solid"
         },
         "marker": {
          "symbol": "circle"
         },
         "mode": "lines",
         "name": "Arabic",
         "orientation": "v",
         "showlegend": false,
         "type": "scatter",
         "x": [
          0,
          1,
          2,
          3,
          4,
          5,
          6,
          7,
          8,
          9,
          10,
          11,
          12,
          13,
          14,
          15,
          16,
          17,
          18,
          19,
          20,
          21,
          22,
          23
         ],
         "xaxis": "x12",
         "y": [
          0.681,
          0.681,
          0.681,
          0.681,
          0.681,
          0.681,
          0.681,
          0.681,
          0.681,
          0.681,
          0.681,
          0.681,
          0.681,
          0.101,
          0.681,
          0.681,
          0.681,
          0.681,
          0.681,
          0.681,
          0.681,
          0.681,
          0.681,
          0.681
         ],
         "yaxis": "y12"
        },
        {
         "hovertemplate": "Name=Arabic<br>Category=Aspect<br>x=%{x}<br>y=%{y}<extra></extra>",
         "legendgroup": "Arabic",
         "line": {
          "color": "#EF553B",
          "dash": "solid"
         },
         "marker": {
          "symbol": "circle"
         },
         "mode": "lines",
         "name": "Arabic",
         "orientation": "v",
         "showlegend": false,
         "type": "scatter",
         "x": [
          0,
          1,
          2,
          3,
          4,
          5,
          6,
          7,
          8,
          9,
          10,
          11,
          12,
          13,
          14,
          15,
          16,
          17,
          18,
          19,
          20,
          21,
          22,
          23
         ],
         "xaxis": "x9",
         "y": [
          0.6,
          0.6,
          0.6,
          0.6,
          0.6,
          0.6,
          0.124,
          0.6,
          0.6,
          0.124,
          0.6,
          0.124,
          0.6,
          0.124,
          0.6,
          0.6,
          0.124,
          0.6,
          0.124,
          0.124,
          0.124,
          0.124,
          0.124,
          0.124
         ],
         "yaxis": "y9"
        },
        {
         "hovertemplate": "Name=Arabic<br>Category=Mood<br>x=%{x}<br>y=%{y}<extra></extra>",
         "legendgroup": "Arabic",
         "line": {
          "color": "#EF553B",
          "dash": "solid"
         },
         "marker": {
          "symbol": "circle"
         },
         "mode": "lines",
         "name": "Arabic",
         "orientation": "v",
         "showlegend": false,
         "type": "scatter",
         "x": [
          0,
          1,
          2,
          3,
          4,
          5,
          6,
          7,
          8,
          9,
          10,
          11,
          12,
          13,
          14,
          15,
          16,
          17,
          18,
          19,
          20,
          21,
          22,
          23
         ],
         "xaxis": "x10",
         "y": [
          0.945,
          0.945,
          0.945,
          0.945,
          0.945,
          0.945,
          0.945,
          0.945,
          0.945,
          0.945,
          0.945,
          0.945,
          0.945,
          0.945,
          0.945,
          0.945,
          0.945,
          0.945,
          0.945,
          0.945,
          0.945,
          0.945,
          0.945,
          0.945
         ],
         "yaxis": "y10"
        },
        {
         "hovertemplate": "Name=Arabic<br>Category=Tense<br>x=%{x}<br>y=%{y}<extra></extra>",
         "legendgroup": "Arabic",
         "line": {
          "color": "#EF553B",
          "dash": "solid"
         },
         "marker": {
          "symbol": "circle"
         },
         "mode": "lines",
         "name": "Arabic",
         "orientation": "v",
         "showlegend": false,
         "type": "scatter",
         "x": [
          0,
          1,
          2,
          3,
          4,
          5,
          6,
          7,
          8,
          9,
          10,
          11,
          12,
          13,
          14,
          15,
          16,
          17,
          18,
          19,
          20,
          21,
          22,
          23
         ],
         "xaxis": "x7",
         "y": [
          0.499,
          0.499,
          0.022,
          0.476,
          0.499,
          0.476,
          0.476,
          0.476,
          0.499,
          0.175,
          0.499,
          0.499,
          0.499,
          0.499,
          0.476,
          0.499,
          0.499,
          0.476,
          0.476,
          0.499,
          0.476,
          0.476,
          0.476,
          0.476
         ],
         "yaxis": "y7"
        },
        {
         "hovertemplate": "Name=Arabic<br>Category=NumForm<br>x=%{x}<br>y=%{y}<extra></extra>",
         "legendgroup": "Arabic",
         "line": {
          "color": "#EF553B",
          "dash": "solid"
         },
         "marker": {
          "symbol": "circle"
         },
         "mode": "lines",
         "name": "Arabic",
         "orientation": "v",
         "showlegend": false,
         "type": "scatter",
         "x": [
          0,
          1,
          2,
          3,
          4,
          5,
          6,
          7,
          8,
          9,
          10,
          11,
          12,
          13,
          14,
          15,
          16,
          17,
          18,
          19,
          20,
          21,
          22,
          23
         ],
         "xaxis": "x8",
         "y": [
          0.812,
          0.812,
          0.812,
          0.812,
          0.812,
          0.812,
          0.029,
          0.812,
          0.812,
          0.812,
          0.029,
          0.812,
          0.812,
          0.812,
          0.812,
          0.812,
          0.812,
          0.812,
          0.812,
          0.812,
          0.812,
          0.812,
          0.812,
          0.812
         ],
         "yaxis": "y8"
        },
        {
         "hovertemplate": "Name=Arabic<br>Category=NumValue<br>x=%{x}<br>y=%{y}<extra></extra>",
         "legendgroup": "Arabic",
         "line": {
          "color": "#EF553B",
          "dash": "solid"
         },
         "marker": {
          "symbol": "circle"
         },
         "mode": "lines",
         "name": "Arabic",
         "orientation": "v",
         "showlegend": false,
         "type": "scatter",
         "x": [
          0,
          1,
          2,
          3,
          4,
          5,
          6,
          7,
          8,
          9,
          10,
          11,
          12,
          13,
          14,
          15,
          16,
          17,
          18,
          19,
          20,
          21,
          22,
          23
         ],
         "xaxis": "x5",
         "y": [
          0.897,
          0.897,
          0.897,
          0.897,
          0.897,
          0.897,
          0,
          0.897,
          0.897,
          0.897,
          0.897,
          0.897,
          0.897,
          0.897,
          0.897,
          0.897,
          0.897,
          0.897,
          0.897,
          0.897,
          0.897,
          0.897,
          0.897,
          0.897
         ],
         "yaxis": "y5"
        },
        {
         "hovertemplate": "Name=Arabic<br>Category=PronType<br>x=%{x}<br>y=%{y}<extra></extra>",
         "legendgroup": "Arabic",
         "line": {
          "color": "#EF553B",
          "dash": "solid"
         },
         "marker": {
          "symbol": "circle"
         },
         "mode": "lines",
         "name": "Arabic",
         "orientation": "v",
         "showlegend": false,
         "type": "scatter",
         "x": [
          0,
          1,
          2,
          3,
          4,
          5,
          6,
          7,
          8,
          9,
          10,
          11,
          12,
          13,
          14,
          15,
          16,
          17,
          18,
          19,
          20,
          21,
          22,
          23
         ],
         "xaxis": "x6",
         "y": [
          0.991,
          0.991,
          0.991,
          0.991,
          0.991,
          0.991,
          0.991,
          0.991,
          0.991,
          0.991,
          0.991,
          0.991,
          0.991,
          0.991,
          0.991,
          0.991,
          0.991,
          0.991,
          0.991,
          0.991,
          0.991,
          0.991,
          0.991,
          0.991
         ],
         "yaxis": "y6"
        },
        {
         "hovertemplate": "Name=Amharic<br>Category=Case<br>x=%{x}<br>y=%{y}<extra></extra>",
         "legendgroup": "Amharic",
         "line": {
          "color": "#00cc96",
          "dash": "solid"
         },
         "marker": {
          "symbol": "circle"
         },
         "mode": "lines",
         "name": "Amharic",
         "orientation": "v",
         "showlegend": true,
         "type": "scatter",
         "x": [
          0,
          1,
          2,
          3,
          4,
          5,
          6,
          7,
          8,
          9,
          10,
          11,
          12,
          13,
          14,
          15,
          16,
          17,
          18,
          19,
          20,
          21,
          22,
          23
         ],
         "xaxis": "x17",
         "y": [
          0.31,
          0.31,
          0.229,
          0.31,
          0.138,
          0.31,
          0.229,
          0.31,
          0.31,
          0.31,
          0.31,
          0.31,
          0.31,
          0.31,
          0.31,
          0.31,
          0.229,
          0.31,
          0.31,
          0.31,
          0.229,
          0.31,
          0.138,
          0.31
         ],
         "yaxis": "y17"
        },
        {
         "hovertemplate": "Name=Amharic<br>Category=Gender<br>x=%{x}<br>y=%{y}<extra></extra>",
         "legendgroup": "Amharic",
         "line": {
          "color": "#00cc96",
          "dash": "solid"
         },
         "marker": {
          "symbol": "circle"
         },
         "mode": "lines",
         "name": "Amharic",
         "orientation": "v",
         "showlegend": false,
         "type": "scatter",
         "x": [
          0,
          1,
          2,
          3,
          4,
          5,
          6,
          7,
          8,
          9,
          10,
          11,
          12,
          13,
          14,
          15,
          16,
          17,
          18,
          19,
          20,
          21,
          22,
          23
         ],
         "xaxis": "x18",
         "y": [
          0.112,
          0.618,
          0.618,
          0.091,
          0.112,
          0.112,
          0.618,
          0.618,
          0.112,
          0.112,
          0.112,
          0.091,
          0.618,
          0.618,
          0.112,
          0.618,
          0.618,
          0.618,
          0.618,
          0.112,
          0.618,
          0.112,
          0.618,
          0.618
         ],
         "yaxis": "y18"
        },
        {
         "hovertemplate": "Name=Amharic<br>Category=Number<br>x=%{x}<br>y=%{y}<extra></extra>",
         "legendgroup": "Amharic",
         "line": {
          "color": "#00cc96",
          "dash": "solid"
         },
         "marker": {
          "symbol": "circle"
         },
         "mode": "lines",
         "name": "Amharic",
         "orientation": "v",
         "showlegend": false,
         "type": "scatter",
         "x": [
          0,
          1,
          2,
          3,
          4,
          5,
          6,
          7,
          8,
          9,
          10,
          11,
          12,
          13,
          14,
          15,
          16,
          17,
          18,
          19,
          20,
          21,
          22,
          23
         ],
         "xaxis": "x15",
         "y": [
          0.834,
          0.834,
          0.834,
          0.834,
          0.834,
          0.834,
          0.834,
          0.834,
          0.834,
          0.834,
          0.834,
          0.834,
          0.834,
          0.834,
          0.834,
          0.834,
          0.834,
          0.834,
          0.834,
          0.834,
          0.834,
          0.023,
          0.834,
          0.834
         ],
         "yaxis": "y15"
        },
        {
         "hovertemplate": "Name=Amharic<br>Category=Person<br>x=%{x}<br>y=%{y}<extra></extra>",
         "legendgroup": "Amharic",
         "line": {
          "color": "#00cc96",
          "dash": "solid"
         },
         "marker": {
          "symbol": "circle"
         },
         "mode": "lines",
         "name": "Amharic",
         "orientation": "v",
         "showlegend": false,
         "type": "scatter",
         "x": [
          0,
          1,
          2,
          3,
          4,
          5,
          6,
          7,
          8,
          9,
          10,
          11,
          12,
          13,
          14,
          15,
          16,
          17,
          18,
          19,
          20,
          21,
          22,
          23
         ],
         "xaxis": "x16",
         "y": [
          0.714,
          0.714,
          0.714,
          0.714,
          0.714,
          0.714,
          0.714,
          0.714,
          0.714,
          0.714,
          0.714,
          0.714,
          0.714,
          0.05,
          0.714,
          0.714,
          0.714,
          0.714,
          0.714,
          0.714,
          0.714,
          0.714,
          0.714,
          0.031
         ],
         "yaxis": "y16"
        },
        {
         "hovertemplate": "Name=Amharic<br>Category=VerbForm<br>x=%{x}<br>y=%{y}<extra></extra>",
         "legendgroup": "Amharic",
         "line": {
          "color": "#00cc96",
          "dash": "solid"
         },
         "marker": {
          "symbol": "circle"
         },
         "mode": "lines",
         "name": "Amharic",
         "orientation": "v",
         "showlegend": false,
         "type": "scatter",
         "x": [
          0,
          1,
          2,
          3,
          4,
          5,
          6,
          7,
          8,
          9,
          10,
          11,
          12,
          13,
          14,
          15,
          16,
          17,
          18,
          19,
          20,
          21,
          22,
          23
         ],
         "xaxis": "x13",
         "y": [
          0.811,
          0.067,
          0.811,
          0.811,
          0.811,
          0.811,
          0.811,
          0.811,
          0.811,
          0.811,
          0.811,
          0.811,
          0.811,
          0.067,
          0.811,
          0.811,
          0.811,
          0.811,
          0.811,
          0.811,
          0.811,
          0.711,
          0.711,
          0.811
         ],
         "yaxis": "y13"
        },
        {
         "hovertemplate": "Name=Amharic<br>Category=Voice<br>x=%{x}<br>y=%{y}<extra></extra>",
         "legendgroup": "Amharic",
         "line": {
          "color": "#00cc96",
          "dash": "solid"
         },
         "marker": {
          "symbol": "circle"
         },
         "mode": "lines",
         "name": "Amharic",
         "orientation": "v",
         "showlegend": false,
         "type": "scatter",
         "x": [
          0,
          1,
          2,
          3,
          4,
          5,
          6,
          7,
          8,
          9,
          10,
          11,
          12,
          13,
          14,
          15,
          16,
          17,
          18,
          19,
          20,
          21,
          22,
          23
         ],
         "xaxis": "x14",
         "y": [
          0.196,
          0.271,
          0.271,
          0.271,
          0.271,
          0.271,
          0.271,
          0.271,
          0.271,
          0.271,
          0.271,
          0.271,
          0.271,
          0.271,
          0.383,
          0.402,
          0.271,
          0.271,
          0.196,
          0.196,
          0.196,
          0.271,
          0.402,
          0.191
         ],
         "yaxis": "y14"
        },
        {
         "hovertemplate": "Name=Coptic<br>Category=Gender<br>x=%{x}<br>y=%{y}<extra></extra>",
         "legendgroup": "Coptic",
         "line": {
          "color": "#ab63fa",
          "dash": "solid"
         },
         "marker": {
          "symbol": "circle"
         },
         "mode": "lines",
         "name": "Coptic",
         "orientation": "v",
         "showlegend": true,
         "type": "scatter",
         "x": [
          0,
          1,
          2,
          3,
          4,
          5,
          6,
          7,
          8,
          9,
          10,
          11,
          12,
          13,
          14,
          15,
          16,
          17,
          18,
          19,
          20,
          21,
          22,
          23
         ],
         "xaxis": "x18",
         "y": [
          0.075,
          0.692,
          0.692,
          0.692,
          0.692,
          0.692,
          0.075,
          0.692,
          0.081,
          0.692,
          0.692,
          0.692,
          0.692,
          0.692,
          0.692,
          0.692,
          0.692,
          0.692,
          0.692,
          0.692,
          0.692,
          0.692,
          0.692,
          0.075
         ],
         "yaxis": "y18"
        },
        {
         "hovertemplate": "Name=Coptic<br>Category=Number<br>x=%{x}<br>y=%{y}<extra></extra>",
         "legendgroup": "Coptic",
         "line": {
          "color": "#ab63fa",
          "dash": "solid"
         },
         "marker": {
          "symbol": "circle"
         },
         "mode": "lines",
         "name": "Coptic",
         "orientation": "v",
         "showlegend": false,
         "type": "scatter",
         "x": [
          0,
          1,
          2,
          3,
          4,
          5,
          6,
          7,
          8,
          9,
          10,
          11,
          12,
          13,
          14,
          15,
          16,
          17,
          18,
          19,
          20,
          21,
          22,
          23
         ],
         "xaxis": "x15",
         "y": [
          0.595,
          0.595,
          0.595,
          0.595,
          0.595,
          0.595,
          0.595,
          0.595,
          0.595,
          0.595,
          0.127,
          0.127,
          0.595,
          0.595,
          0.595,
          0.595,
          0.127,
          0.127,
          0.595,
          0.595,
          0.595,
          0.595,
          0.595,
          0.595
         ],
         "yaxis": "y15"
        },
        {
         "hovertemplate": "Name=Coptic<br>Category=Person<br>x=%{x}<br>y=%{y}<extra></extra>",
         "legendgroup": "Coptic",
         "line": {
          "color": "#ab63fa",
          "dash": "solid"
         },
         "marker": {
          "symbol": "circle"
         },
         "mode": "lines",
         "name": "Coptic",
         "orientation": "v",
         "showlegend": false,
         "type": "scatter",
         "x": [
          0,
          1,
          2,
          3,
          4,
          5,
          6,
          7,
          8,
          9,
          10,
          11,
          12,
          13,
          14,
          15,
          16,
          17,
          18,
          19,
          20,
          21,
          22,
          23
         ],
         "xaxis": "x16",
         "y": [
          0.092,
          0.5,
          0.5,
          0.026,
          0.092,
          0.5,
          0.026,
          0.092,
          0.093,
          0.093,
          0.093,
          0.5,
          0.092,
          0.5,
          0.5,
          0.5,
          0.093,
          0.5,
          0.026,
          0.093,
          0.5,
          0.092,
          0.026,
          0.5
         ],
         "yaxis": "y16"
        },
        {
         "hovertemplate": "Name=Coptic<br>Category=Definite<br>x=%{x}<br>y=%{y}<extra></extra>",
         "legendgroup": "Coptic",
         "line": {
          "color": "#ab63fa",
          "dash": "solid"
         },
         "marker": {
          "symbol": "circle"
         },
         "mode": "lines",
         "name": "Coptic",
         "orientation": "v",
         "showlegend": false,
         "type": "scatter",
         "x": [
          0,
          1,
          2,
          3,
          4,
          5,
          6,
          7,
          8,
          9,
          10,
          11,
          12,
          13,
          14,
          15,
          16,
          17,
          18,
          19,
          20,
          21,
          22,
          23
         ],
         "xaxis": "x11",
         "y": [
          0.933,
          0.933,
          0.933,
          0.933,
          0.933,
          0.933,
          0.933,
          0.933,
          0.933,
          0.933,
          0.933,
          0.933,
          0.933,
          0.933,
          0.933,
          0.933,
          0.933,
          0.933,
          0.933,
          0.933,
          0.933,
          0.933,
          0.009,
          0.933
         ],
         "yaxis": "y11"
        },
        {
         "hovertemplate": "Name=Coptic<br>Category=Gender[psor]<br>x=%{x}<br>y=%{y}<extra></extra>",
         "legendgroup": "Coptic",
         "line": {
          "color": "#ab63fa",
          "dash": "solid"
         },
         "marker": {
          "symbol": "circle"
         },
         "mode": "lines",
         "name": "Coptic",
         "orientation": "v",
         "showlegend": false,
         "type": "scatter",
         "x": [
          0,
          1,
          2,
          3,
          4,
          5,
          6,
          7,
          8,
          9,
          10,
          11,
          12,
          13,
          14,
          15,
          16,
          17,
          18,
          19,
          20,
          21,
          22,
          23
         ],
         "xaxis": "x4",
         "y": [
          0.015,
          0.867,
          0.867,
          0.867,
          0.867,
          0.867,
          0.867,
          0.015,
          0.867,
          0.867,
          0.867,
          0.867,
          0.867,
          0.867,
          0.015,
          0.867,
          0.867,
          0.867,
          0.867,
          0.867,
          0.015,
          0.867,
          0.015,
          0.867
         ],
         "yaxis": "y4"
        },
        {
         "hovertemplate": "Name=Coptic<br>Category=Number[psor]<br>x=%{x}<br>y=%{y}<extra></extra>",
         "legendgroup": "Coptic",
         "line": {
          "color": "#ab63fa",
          "dash": "solid"
         },
         "marker": {
          "symbol": "circle"
         },
         "mode": "lines",
         "name": "Coptic",
         "orientation": "v",
         "showlegend": false,
         "type": "scatter",
         "x": [
          0,
          1,
          2,
          3,
          4,
          5,
          6,
          7,
          8,
          9,
          10,
          11,
          12,
          13,
          14,
          15,
          16,
          17,
          18,
          19,
          20,
          21,
          22,
          23
         ],
         "xaxis": "x",
         "y": [
          0.577,
          0.138,
          0.577,
          0.577,
          0.593,
          0.577,
          0.138,
          0.577,
          0.577,
          0.577,
          0.577,
          0.577,
          0.577,
          0.577,
          0.577,
          0.577,
          0.577,
          0.138,
          0.577,
          0.577,
          0.138,
          0.577,
          0.577,
          0.577
         ],
         "yaxis": "y"
        },
        {
         "hovertemplate": "Name=Assyrian<br>Category=Gender<br>x=%{x}<br>y=%{y}<extra></extra>",
         "legendgroup": "Assyrian",
         "line": {
          "color": "#FFA15A",
          "dash": "solid"
         },
         "marker": {
          "symbol": "circle"
         },
         "mode": "lines",
         "name": "Assyrian",
         "orientation": "v",
         "showlegend": true,
         "type": "scatter",
         "x": [
          0,
          1,
          2,
          3,
          4,
          5,
          6,
          7,
          8,
          9,
          10,
          11,
          12,
          13,
          14,
          15,
          16,
          17,
          18,
          19,
          20,
          21,
          22,
          23
         ],
         "xaxis": "x18",
         "y": [
          0.643,
          0.643,
          0.643,
          0.643,
          0.643,
          0.5,
          0.643,
          0.643,
          0.643,
          0.643,
          0.643,
          0.643,
          0.643,
          0.643,
          0.643,
          0.643,
          0.643,
          0.643,
          0.643,
          0.643,
          0.643,
          0.643,
          0.643,
          0.643
         ],
         "yaxis": "y18"
        },
        {
         "hovertemplate": "Name=Assyrian<br>Category=Number<br>x=%{x}<br>y=%{y}<extra></extra>",
         "legendgroup": "Assyrian",
         "line": {
          "color": "#FFA15A",
          "dash": "solid"
         },
         "marker": {
          "symbol": "circle"
         },
         "mode": "lines",
         "name": "Assyrian",
         "orientation": "v",
         "showlegend": false,
         "type": "scatter",
         "x": [
          0,
          1,
          2,
          3,
          4,
          5,
          6,
          7,
          8,
          9,
          10,
          11,
          12,
          13,
          14,
          15,
          16,
          17,
          18,
          19,
          20,
          21,
          22,
          23
         ],
         "xaxis": "x15",
         "y": [
          0.711,
          0.711,
          0.711,
          0.711,
          0.711,
          0.067,
          0.711,
          0.711,
          0.711,
          0.711,
          0,
          0.711,
          0.711,
          0.711,
          0.711,
          0.711,
          0.711,
          0.711,
          0.711,
          0.711,
          0.711,
          0.711,
          0.711,
          0.711
         ],
         "yaxis": "y15"
        },
        {
         "hovertemplate": "Name=Assyrian<br>Category=Person<br>x=%{x}<br>y=%{y}<extra></extra>",
         "legendgroup": "Assyrian",
         "line": {
          "color": "#FFA15A",
          "dash": "solid"
         },
         "marker": {
          "symbol": "circle"
         },
         "mode": "lines",
         "name": "Assyrian",
         "orientation": "v",
         "showlegend": false,
         "type": "scatter",
         "x": [
          0,
          1,
          2,
          3,
          4,
          5,
          6,
          7,
          8,
          9,
          10,
          11,
          12,
          13,
          14,
          15,
          16,
          17,
          18,
          19,
          20,
          21,
          22,
          23
         ],
         "xaxis": "x16",
         "y": [
          0.08,
          0.08,
          0.343,
          0.343,
          0.343,
          0.343,
          0.343,
          0.343,
          0.08,
          0.343,
          0.343,
          0.343,
          0.08,
          0.343,
          0.343,
          0.343,
          0.08,
          0.343,
          0.08,
          0.08,
          0.08,
          0.45,
          0.343,
          0.45
         ],
         "yaxis": "y16"
        }
       ],
       "layout": {
        "annotations": [
         {
          "font": {
           "size": 14
          },
          "showarrow": false,
          "text": "Category=Number[psor]",
          "textangle": 0,
          "x": 0.225,
          "xanchor": "center",
          "xref": "paper",
          "y": 0.07655555555555554,
          "yanchor": "bottom",
          "yref": "paper"
         },
         {
          "font": {
           "size": 14
          },
          "showarrow": false,
          "text": "Category=VerbClass",
          "textangle": 0,
          "x": 0.225,
          "xanchor": "center",
          "xref": "paper",
          "y": 0.1921111111111111,
          "yanchor": "bottom",
          "yref": "paper"
         },
         {
          "font": {
           "size": 14
          },
          "showarrow": false,
          "text": "Category=Gender[psor]",
          "textangle": 0,
          "x": 0.735,
          "xanchor": "center",
          "xref": "paper",
          "y": 0.1921111111111111,
          "yanchor": "bottom",
          "yref": "paper"
         },
         {
          "font": {
           "size": 14
          },
          "showarrow": false,
          "text": "Category=NumValue",
          "textangle": 0,
          "x": 0.225,
          "xanchor": "center",
          "xref": "paper",
          "y": 0.30766666666666664,
          "yanchor": "bottom",
          "yref": "paper"
         },
         {
          "font": {
           "size": 14
          },
          "showarrow": false,
          "text": "Category=PronType",
          "textangle": 0,
          "x": 0.735,
          "xanchor": "center",
          "xref": "paper",
          "y": 0.30766666666666664,
          "yanchor": "bottom",
          "yref": "paper"
         },
         {
          "font": {
           "size": 14
          },
          "showarrow": false,
          "text": "Category=Tense",
          "textangle": 0,
          "x": 0.225,
          "xanchor": "center",
          "xref": "paper",
          "y": 0.42322222222222217,
          "yanchor": "bottom",
          "yref": "paper"
         },
         {
          "font": {
           "size": 14
          },
          "showarrow": false,
          "text": "Category=NumForm",
          "textangle": 0,
          "x": 0.735,
          "xanchor": "center",
          "xref": "paper",
          "y": 0.42322222222222217,
          "yanchor": "bottom",
          "yref": "paper"
         },
         {
          "font": {
           "size": 14
          },
          "showarrow": false,
          "text": "Category=Aspect",
          "textangle": 0,
          "x": 0.225,
          "xanchor": "center",
          "xref": "paper",
          "y": 0.5387777777777777,
          "yanchor": "bottom",
          "yref": "paper"
         },
         {
          "font": {
           "size": 14
          },
          "showarrow": false,
          "text": "Category=Mood",
          "textangle": 0,
          "x": 0.735,
          "xanchor": "center",
          "xref": "paper",
          "y": 0.5387777777777777,
          "yanchor": "bottom",
          "yref": "paper"
         },
         {
          "font": {
           "size": 14
          },
          "showarrow": false,
          "text": "Category=Definite",
          "textangle": 0,
          "x": 0.225,
          "xanchor": "center",
          "xref": "paper",
          "y": 0.6543333333333333,
          "yanchor": "bottom",
          "yref": "paper"
         },
         {
          "font": {
           "size": 14
          },
          "showarrow": false,
          "text": "Category=Animacy",
          "textangle": 0,
          "x": 0.735,
          "xanchor": "center",
          "xref": "paper",
          "y": 0.6543333333333333,
          "yanchor": "bottom",
          "yref": "paper"
         },
         {
          "font": {
           "size": 14
          },
          "showarrow": false,
          "text": "Category=VerbForm",
          "textangle": 0,
          "x": 0.225,
          "xanchor": "center",
          "xref": "paper",
          "y": 0.7698888888888887,
          "yanchor": "bottom",
          "yref": "paper"
         },
         {
          "font": {
           "size": 14
          },
          "showarrow": false,
          "text": "Category=Voice",
          "textangle": 0,
          "x": 0.735,
          "xanchor": "center",
          "xref": "paper",
          "y": 0.7698888888888887,
          "yanchor": "bottom",
          "yref": "paper"
         },
         {
          "font": {
           "size": 14
          },
          "showarrow": false,
          "text": "Category=Number",
          "textangle": 0,
          "x": 0.225,
          "xanchor": "center",
          "xref": "paper",
          "y": 0.8854444444444444,
          "yanchor": "bottom",
          "yref": "paper"
         },
         {
          "font": {
           "size": 14
          },
          "showarrow": false,
          "text": "Category=Person",
          "textangle": 0,
          "x": 0.735,
          "xanchor": "center",
          "xref": "paper",
          "y": 0.8854444444444444,
          "yanchor": "bottom",
          "yref": "paper"
         },
         {
          "font": {
           "size": 14
          },
          "showarrow": false,
          "text": "Category=Case",
          "textangle": 0,
          "x": 0.225,
          "xanchor": "center",
          "xref": "paper",
          "y": 1.001,
          "yanchor": "bottom",
          "yref": "paper"
         },
         {
          "font": {
           "size": 14
          },
          "showarrow": false,
          "text": "Category=Gender",
          "textangle": 0,
          "x": 0.735,
          "xanchor": "center",
          "xref": "paper",
          "y": 1.001,
          "yanchor": "bottom",
          "yref": "paper"
         }
        ],
        "height": 1000,
        "legend": {
         "title": {
          "text": "Name"
         },
         "tracegroupgap": 0
        },
        "margin": {
         "t": 60
        },
        "template": {
         "data": {
          "bar": [
           {
            "error_x": {
             "color": "#2a3f5f"
            },
            "error_y": {
             "color": "#2a3f5f"
            },
            "marker": {
             "line": {
              "color": "#E5ECF6",
              "width": 0.5
             },
             "pattern": {
              "fillmode": "overlay",
              "size": 10,
              "solidity": 0.2
             }
            },
            "type": "bar"
           }
          ],
          "barpolar": [
           {
            "marker": {
             "line": {
              "color": "#E5ECF6",
              "width": 0.5
             },
             "pattern": {
              "fillmode": "overlay",
              "size": 10,
              "solidity": 0.2
             }
            },
            "type": "barpolar"
           }
          ],
          "carpet": [
           {
            "aaxis": {
             "endlinecolor": "#2a3f5f",
             "gridcolor": "white",
             "linecolor": "white",
             "minorgridcolor": "white",
             "startlinecolor": "#2a3f5f"
            },
            "baxis": {
             "endlinecolor": "#2a3f5f",
             "gridcolor": "white",
             "linecolor": "white",
             "minorgridcolor": "white",
             "startlinecolor": "#2a3f5f"
            },
            "type": "carpet"
           }
          ],
          "choropleth": [
           {
            "colorbar": {
             "outlinewidth": 0,
             "ticks": ""
            },
            "type": "choropleth"
           }
          ],
          "contour": [
           {
            "colorbar": {
             "outlinewidth": 0,
             "ticks": ""
            },
            "colorscale": [
             [
              0,
              "#0d0887"
             ],
             [
              0.1111111111111111,
              "#46039f"
             ],
             [
              0.2222222222222222,
              "#7201a8"
             ],
             [
              0.3333333333333333,
              "#9c179e"
             ],
             [
              0.4444444444444444,
              "#bd3786"
             ],
             [
              0.5555555555555556,
              "#d8576b"
             ],
             [
              0.6666666666666666,
              "#ed7953"
             ],
             [
              0.7777777777777778,
              "#fb9f3a"
             ],
             [
              0.8888888888888888,
              "#fdca26"
             ],
             [
              1,
              "#f0f921"
             ]
            ],
            "type": "contour"
           }
          ],
          "contourcarpet": [
           {
            "colorbar": {
             "outlinewidth": 0,
             "ticks": ""
            },
            "type": "contourcarpet"
           }
          ],
          "heatmap": [
           {
            "colorbar": {
             "outlinewidth": 0,
             "ticks": ""
            },
            "colorscale": [
             [
              0,
              "#0d0887"
             ],
             [
              0.1111111111111111,
              "#46039f"
             ],
             [
              0.2222222222222222,
              "#7201a8"
             ],
             [
              0.3333333333333333,
              "#9c179e"
             ],
             [
              0.4444444444444444,
              "#bd3786"
             ],
             [
              0.5555555555555556,
              "#d8576b"
             ],
             [
              0.6666666666666666,
              "#ed7953"
             ],
             [
              0.7777777777777778,
              "#fb9f3a"
             ],
             [
              0.8888888888888888,
              "#fdca26"
             ],
             [
              1,
              "#f0f921"
             ]
            ],
            "type": "heatmap"
           }
          ],
          "heatmapgl": [
           {
            "colorbar": {
             "outlinewidth": 0,
             "ticks": ""
            },
            "colorscale": [
             [
              0,
              "#0d0887"
             ],
             [
              0.1111111111111111,
              "#46039f"
             ],
             [
              0.2222222222222222,
              "#7201a8"
             ],
             [
              0.3333333333333333,
              "#9c179e"
             ],
             [
              0.4444444444444444,
              "#bd3786"
             ],
             [
              0.5555555555555556,
              "#d8576b"
             ],
             [
              0.6666666666666666,
              "#ed7953"
             ],
             [
              0.7777777777777778,
              "#fb9f3a"
             ],
             [
              0.8888888888888888,
              "#fdca26"
             ],
             [
              1,
              "#f0f921"
             ]
            ],
            "type": "heatmapgl"
           }
          ],
          "histogram": [
           {
            "marker": {
             "pattern": {
              "fillmode": "overlay",
              "size": 10,
              "solidity": 0.2
             }
            },
            "type": "histogram"
           }
          ],
          "histogram2d": [
           {
            "colorbar": {
             "outlinewidth": 0,
             "ticks": ""
            },
            "colorscale": [
             [
              0,
              "#0d0887"
             ],
             [
              0.1111111111111111,
              "#46039f"
             ],
             [
              0.2222222222222222,
              "#7201a8"
             ],
             [
              0.3333333333333333,
              "#9c179e"
             ],
             [
              0.4444444444444444,
              "#bd3786"
             ],
             [
              0.5555555555555556,
              "#d8576b"
             ],
             [
              0.6666666666666666,
              "#ed7953"
             ],
             [
              0.7777777777777778,
              "#fb9f3a"
             ],
             [
              0.8888888888888888,
              "#fdca26"
             ],
             [
              1,
              "#f0f921"
             ]
            ],
            "type": "histogram2d"
           }
          ],
          "histogram2dcontour": [
           {
            "colorbar": {
             "outlinewidth": 0,
             "ticks": ""
            },
            "colorscale": [
             [
              0,
              "#0d0887"
             ],
             [
              0.1111111111111111,
              "#46039f"
             ],
             [
              0.2222222222222222,
              "#7201a8"
             ],
             [
              0.3333333333333333,
              "#9c179e"
             ],
             [
              0.4444444444444444,
              "#bd3786"
             ],
             [
              0.5555555555555556,
              "#d8576b"
             ],
             [
              0.6666666666666666,
              "#ed7953"
             ],
             [
              0.7777777777777778,
              "#fb9f3a"
             ],
             [
              0.8888888888888888,
              "#fdca26"
             ],
             [
              1,
              "#f0f921"
             ]
            ],
            "type": "histogram2dcontour"
           }
          ],
          "mesh3d": [
           {
            "colorbar": {
             "outlinewidth": 0,
             "ticks": ""
            },
            "type": "mesh3d"
           }
          ],
          "parcoords": [
           {
            "line": {
             "colorbar": {
              "outlinewidth": 0,
              "ticks": ""
             }
            },
            "type": "parcoords"
           }
          ],
          "pie": [
           {
            "automargin": true,
            "type": "pie"
           }
          ],
          "scatter": [
           {
            "fillpattern": {
             "fillmode": "overlay",
             "size": 10,
             "solidity": 0.2
            },
            "type": "scatter"
           }
          ],
          "scatter3d": [
           {
            "line": {
             "colorbar": {
              "outlinewidth": 0,
              "ticks": ""
             }
            },
            "marker": {
             "colorbar": {
              "outlinewidth": 0,
              "ticks": ""
             }
            },
            "type": "scatter3d"
           }
          ],
          "scattercarpet": [
           {
            "marker": {
             "colorbar": {
              "outlinewidth": 0,
              "ticks": ""
             }
            },
            "type": "scattercarpet"
           }
          ],
          "scattergeo": [
           {
            "marker": {
             "colorbar": {
              "outlinewidth": 0,
              "ticks": ""
             }
            },
            "type": "scattergeo"
           }
          ],
          "scattergl": [
           {
            "marker": {
             "colorbar": {
              "outlinewidth": 0,
              "ticks": ""
             }
            },
            "type": "scattergl"
           }
          ],
          "scattermapbox": [
           {
            "marker": {
             "colorbar": {
              "outlinewidth": 0,
              "ticks": ""
             }
            },
            "type": "scattermapbox"
           }
          ],
          "scatterpolar": [
           {
            "marker": {
             "colorbar": {
              "outlinewidth": 0,
              "ticks": ""
             }
            },
            "type": "scatterpolar"
           }
          ],
          "scatterpolargl": [
           {
            "marker": {
             "colorbar": {
              "outlinewidth": 0,
              "ticks": ""
             }
            },
            "type": "scatterpolargl"
           }
          ],
          "scatterternary": [
           {
            "marker": {
             "colorbar": {
              "outlinewidth": 0,
              "ticks": ""
             }
            },
            "type": "scatterternary"
           }
          ],
          "surface": [
           {
            "colorbar": {
             "outlinewidth": 0,
             "ticks": ""
            },
            "colorscale": [
             [
              0,
              "#0d0887"
             ],
             [
              0.1111111111111111,
              "#46039f"
             ],
             [
              0.2222222222222222,
              "#7201a8"
             ],
             [
              0.3333333333333333,
              "#9c179e"
             ],
             [
              0.4444444444444444,
              "#bd3786"
             ],
             [
              0.5555555555555556,
              "#d8576b"
             ],
             [
              0.6666666666666666,
              "#ed7953"
             ],
             [
              0.7777777777777778,
              "#fb9f3a"
             ],
             [
              0.8888888888888888,
              "#fdca26"
             ],
             [
              1,
              "#f0f921"
             ]
            ],
            "type": "surface"
           }
          ],
          "table": [
           {
            "cells": {
             "fill": {
              "color": "#EBF0F8"
             },
             "line": {
              "color": "white"
             }
            },
            "header": {
             "fill": {
              "color": "#C8D4E3"
             },
             "line": {
              "color": "white"
             }
            },
            "type": "table"
           }
          ]
         },
         "layout": {
          "annotationdefaults": {
           "arrowcolor": "#2a3f5f",
           "arrowhead": 0,
           "arrowwidth": 1
          },
          "autotypenumbers": "strict",
          "coloraxis": {
           "colorbar": {
            "outlinewidth": 0,
            "ticks": ""
           }
          },
          "colorscale": {
           "diverging": [
            [
             0,
             "#8e0152"
            ],
            [
             0.1,
             "#c51b7d"
            ],
            [
             0.2,
             "#de77ae"
            ],
            [
             0.3,
             "#f1b6da"
            ],
            [
             0.4,
             "#fde0ef"
            ],
            [
             0.5,
             "#f7f7f7"
            ],
            [
             0.6,
             "#e6f5d0"
            ],
            [
             0.7,
             "#b8e186"
            ],
            [
             0.8,
             "#7fbc41"
            ],
            [
             0.9,
             "#4d9221"
            ],
            [
             1,
             "#276419"
            ]
           ],
           "sequential": [
            [
             0,
             "#0d0887"
            ],
            [
             0.1111111111111111,
             "#46039f"
            ],
            [
             0.2222222222222222,
             "#7201a8"
            ],
            [
             0.3333333333333333,
             "#9c179e"
            ],
            [
             0.4444444444444444,
             "#bd3786"
            ],
            [
             0.5555555555555556,
             "#d8576b"
            ],
            [
             0.6666666666666666,
             "#ed7953"
            ],
            [
             0.7777777777777778,
             "#fb9f3a"
            ],
            [
             0.8888888888888888,
             "#fdca26"
            ],
            [
             1,
             "#f0f921"
            ]
           ],
           "sequentialminus": [
            [
             0,
             "#0d0887"
            ],
            [
             0.1111111111111111,
             "#46039f"
            ],
            [
             0.2222222222222222,
             "#7201a8"
            ],
            [
             0.3333333333333333,
             "#9c179e"
            ],
            [
             0.4444444444444444,
             "#bd3786"
            ],
            [
             0.5555555555555556,
             "#d8576b"
            ],
            [
             0.6666666666666666,
             "#ed7953"
            ],
            [
             0.7777777777777778,
             "#fb9f3a"
            ],
            [
             0.8888888888888888,
             "#fdca26"
            ],
            [
             1,
             "#f0f921"
            ]
           ]
          },
          "colorway": [
           "#636efa",
           "#EF553B",
           "#00cc96",
           "#ab63fa",
           "#FFA15A",
           "#19d3f3",
           "#FF6692",
           "#B6E880",
           "#FF97FF",
           "#FECB52"
          ],
          "font": {
           "color": "#2a3f5f"
          },
          "geo": {
           "bgcolor": "white",
           "lakecolor": "white",
           "landcolor": "#E5ECF6",
           "showlakes": true,
           "showland": true,
           "subunitcolor": "white"
          },
          "hoverlabel": {
           "align": "left"
          },
          "hovermode": "closest",
          "mapbox": {
           "style": "light"
          },
          "paper_bgcolor": "white",
          "plot_bgcolor": "#E5ECF6",
          "polar": {
           "angularaxis": {
            "gridcolor": "white",
            "linecolor": "white",
            "ticks": ""
           },
           "bgcolor": "#E5ECF6",
           "radialaxis": {
            "gridcolor": "white",
            "linecolor": "white",
            "ticks": ""
           }
          },
          "scene": {
           "xaxis": {
            "backgroundcolor": "#E5ECF6",
            "gridcolor": "white",
            "gridwidth": 2,
            "linecolor": "white",
            "showbackground": true,
            "ticks": "",
            "zerolinecolor": "white"
           },
           "yaxis": {
            "backgroundcolor": "#E5ECF6",
            "gridcolor": "white",
            "gridwidth": 2,
            "linecolor": "white",
            "showbackground": true,
            "ticks": "",
            "zerolinecolor": "white"
           },
           "zaxis": {
            "backgroundcolor": "#E5ECF6",
            "gridcolor": "white",
            "gridwidth": 2,
            "linecolor": "white",
            "showbackground": true,
            "ticks": "",
            "zerolinecolor": "white"
           }
          },
          "shapedefaults": {
           "line": {
            "color": "#2a3f5f"
           }
          },
          "ternary": {
           "aaxis": {
            "gridcolor": "white",
            "linecolor": "white",
            "ticks": ""
           },
           "baxis": {
            "gridcolor": "white",
            "linecolor": "white",
            "ticks": ""
           },
           "bgcolor": "#E5ECF6",
           "caxis": {
            "gridcolor": "white",
            "linecolor": "white",
            "ticks": ""
           }
          },
          "title": {
           "x": 0.05
          },
          "xaxis": {
           "automargin": true,
           "gridcolor": "white",
           "linecolor": "white",
           "ticks": "",
           "title": {
            "standoff": 15
           },
           "zerolinecolor": "white",
           "zerolinewidth": 2
          },
          "yaxis": {
           "automargin": true,
           "gridcolor": "white",
           "linecolor": "white",
           "ticks": "",
           "title": {
            "standoff": 15
           },
           "zerolinecolor": "white",
           "zerolinewidth": 2
          }
         }
        },
        "width": 1000,
        "xaxis": {
         "anchor": "y",
         "domain": [
          0,
          0.49
         ],
         "title": {
          "text": "x"
         }
        },
        "xaxis10": {
         "anchor": "y10",
         "domain": [
          0.51,
          1
         ],
         "matches": "x",
         "showticklabels": false
        },
        "xaxis11": {
         "anchor": "y11",
         "domain": [
          0,
          0.49
         ],
         "matches": "x",
         "showticklabels": false
        },
        "xaxis12": {
         "anchor": "y12",
         "domain": [
          0.51,
          1
         ],
         "matches": "x",
         "showticklabels": false
        },
        "xaxis13": {
         "anchor": "y13",
         "domain": [
          0,
          0.49
         ],
         "matches": "x",
         "showticklabels": false
        },
        "xaxis14": {
         "anchor": "y14",
         "domain": [
          0.51,
          1
         ],
         "matches": "x",
         "showticklabels": false
        },
        "xaxis15": {
         "anchor": "y15",
         "domain": [
          0,
          0.49
         ],
         "matches": "x",
         "showticklabels": false
        },
        "xaxis16": {
         "anchor": "y16",
         "domain": [
          0.51,
          1
         ],
         "matches": "x",
         "showticklabels": false
        },
        "xaxis17": {
         "anchor": "y17",
         "domain": [
          0,
          0.49
         ],
         "matches": "x",
         "showticklabels": false
        },
        "xaxis18": {
         "anchor": "y18",
         "domain": [
          0.51,
          1
         ],
         "matches": "x",
         "showticklabels": false
        },
        "xaxis2": {
         "anchor": "y2",
         "domain": [
          0.51,
          1
         ],
         "matches": "x",
         "title": {
          "text": "x"
         }
        },
        "xaxis3": {
         "anchor": "y3",
         "domain": [
          0,
          0.49
         ],
         "matches": "x",
         "showticklabels": false
        },
        "xaxis4": {
         "anchor": "y4",
         "domain": [
          0.51,
          1
         ],
         "matches": "x",
         "showticklabels": false
        },
        "xaxis5": {
         "anchor": "y5",
         "domain": [
          0,
          0.49
         ],
         "matches": "x",
         "showticklabels": false
        },
        "xaxis6": {
         "anchor": "y6",
         "domain": [
          0.51,
          1
         ],
         "matches": "x",
         "showticklabels": false
        },
        "xaxis7": {
         "anchor": "y7",
         "domain": [
          0,
          0.49
         ],
         "matches": "x",
         "showticklabels": false
        },
        "xaxis8": {
         "anchor": "y8",
         "domain": [
          0.51,
          1
         ],
         "matches": "x",
         "showticklabels": false
        },
        "xaxis9": {
         "anchor": "y9",
         "domain": [
          0,
          0.49
         ],
         "matches": "x",
         "showticklabels": false
        },
        "yaxis": {
         "anchor": "x",
         "domain": [
          0,
          0.07555555555555554
         ],
         "title": {
          "text": "y"
         }
        },
        "yaxis10": {
         "anchor": "x10",
         "domain": [
          0.4622222222222222,
          0.5377777777777777
         ],
         "matches": "y",
         "showticklabels": false
        },
        "yaxis11": {
         "anchor": "x11",
         "domain": [
          0.5777777777777777,
          0.6533333333333333
         ],
         "matches": "y",
         "title": {
          "text": "y"
         }
        },
        "yaxis12": {
         "anchor": "x12",
         "domain": [
          0.5777777777777777,
          0.6533333333333333
         ],
         "matches": "y",
         "showticklabels": false
        },
        "yaxis13": {
         "anchor": "x13",
         "domain": [
          0.6933333333333332,
          0.7688888888888887
         ],
         "matches": "y",
         "title": {
          "text": "y"
         }
        },
        "yaxis14": {
         "anchor": "x14",
         "domain": [
          0.6933333333333332,
          0.7688888888888887
         ],
         "matches": "y",
         "showticklabels": false
        },
        "yaxis15": {
         "anchor": "x15",
         "domain": [
          0.8088888888888888,
          0.8844444444444444
         ],
         "matches": "y",
         "title": {
          "text": "y"
         }
        },
        "yaxis16": {
         "anchor": "x16",
         "domain": [
          0.8088888888888888,
          0.8844444444444444
         ],
         "matches": "y",
         "showticklabels": false
        },
        "yaxis17": {
         "anchor": "x17",
         "domain": [
          0.9244444444444444,
          1
         ],
         "matches": "y",
         "title": {
          "text": "y"
         }
        },
        "yaxis18": {
         "anchor": "x18",
         "domain": [
          0.9244444444444444,
          1
         ],
         "matches": "y",
         "showticklabels": false
        },
        "yaxis2": {
         "anchor": "x2",
         "domain": [
          0,
          0.07555555555555554
         ],
         "matches": "y",
         "showticklabels": false
        },
        "yaxis3": {
         "anchor": "x3",
         "domain": [
          0.11555555555555555,
          0.1911111111111111
         ],
         "matches": "y",
         "title": {
          "text": "y"
         }
        },
        "yaxis4": {
         "anchor": "x4",
         "domain": [
          0.11555555555555555,
          0.1911111111111111
         ],
         "matches": "y",
         "showticklabels": false
        },
        "yaxis5": {
         "anchor": "x5",
         "domain": [
          0.2311111111111111,
          0.30666666666666664
         ],
         "matches": "y",
         "title": {
          "text": "y"
         }
        },
        "yaxis6": {
         "anchor": "x6",
         "domain": [
          0.2311111111111111,
          0.30666666666666664
         ],
         "matches": "y",
         "showticklabels": false
        },
        "yaxis7": {
         "anchor": "x7",
         "domain": [
          0.3466666666666666,
          0.42222222222222217
         ],
         "matches": "y",
         "title": {
          "text": "y"
         }
        },
        "yaxis8": {
         "anchor": "x8",
         "domain": [
          0.3466666666666666,
          0.42222222222222217
         ],
         "matches": "y",
         "showticklabels": false
        },
        "yaxis9": {
         "anchor": "x9",
         "domain": [
          0.4622222222222222,
          0.5377777777777777
         ],
         "matches": "y",
         "title": {
          "text": "y"
         }
        }
       }
      }
     },
     "metadata": {},
     "output_type": "display_data"
    }
   ],
   "source": [
    "def update_output(family):\n",
    "    df_spec = pd.DataFrame(columns = ['Name', 'x', 'y', 'Category'])\n",
    "    df_spec2 = pd.DataFrame(columns = ['Name', 'x', 'y', 'Category'])\n",
    "    new_lst = structure[family]\n",
    "\n",
    "    for el in new_lst:\n",
    "        df_temp = df1.loc[df1['Name'].isin([el])]\n",
    "        frames = [df_spec, df_temp]\n",
    "        df_spec = pd.concat(frames)\n",
    "\n",
    "    for cat in df_spec['Category'].unique().tolist():\n",
    "        a = df_spec.loc[df_spec['Category'].isin([cat])]\n",
    "        \n",
    "        if len(a['Name'].unique().tolist()) > 2:\n",
    "            curves = {}\n",
    "\n",
    "            for index, raw in df_spec.iterrows():\n",
    "                if raw['Category'] not in curves.keys():\n",
    "                    curves[raw['Category']] = {}\n",
    "                if raw['Name'] not in curves[raw['Category']].keys():\n",
    "                    curves[raw['Category']][raw['Name']] = []\n",
    "                point = (raw['x'], raw['y'])\n",
    "                curves[raw['Category']][raw['Name']].append(point)\n",
    "\n",
    "            distances = {}\n",
    "            distances[cat] = {}\n",
    "            nam_line = list(curves[cat].keys())\n",
    "            for b in range(len(curves[cat].keys())):\n",
    "                nam_line_spec = list(curves[cat].keys())\n",
    "                del nam_line_spec[b]\n",
    "                line_1 = curves[cat][nam_line[b]]\n",
    "                lang_1 = nam_line[b]\n",
    "                for name in nam_line_spec:\n",
    "                    line_2 = curves[cat][name]\n",
    "                    lang_2 = name\n",
    "                    compar_name1 = f'{lang_1}:{lang_2}'\n",
    "                    compar_name2 = f'{lang_2}:{lang_1}'\n",
    "                    if compar_name1 and compar_name2 not in distances[cat].keys():\n",
    "                        distances[cat][compar_name1] = frechet_distance(line_1, line_2)\n",
    "\n",
    "            distances = dict(sorted(distances[cat].items(), key=lambda x: -x[1]))\n",
    "            compar_distances = {}\n",
    "            count = 0\n",
    "            dist_len = 0.8*len(distances.keys())\n",
    "            pattern1 = int()\n",
    "            for k in distances.keys():\n",
    "                count += 1\n",
    "                if pattern1 == 0:\n",
    "                    pattern1 =  1.2*distances[k]\n",
    "                n_index = k.index(':')\n",
    "                lang1 = k[0:n_index]\n",
    "                lang2 = k[n_index+1:]\n",
    "                if distances[k] <= pattern1:\n",
    "                    if count <= dist_len:\n",
    "                        if lang1 not in compar_distances.keys():\n",
    "                            compar_distances[lang1] = []\n",
    "                            compar_distances[lang1].append(lang1)\n",
    "                            compar_distances[lang1].append(lang2)\n",
    "                        else:\n",
    "                            compar_distances[lang1].append(lang2)\n",
    "                        if lang2 not in compar_distances.keys():\n",
    "                            compar_distances[lang2] = []\n",
    "                            compar_distances[lang2].append(lang2)\n",
    "                            compar_distances[lang2].append(lang1)\n",
    "                        else:\n",
    "                            compar_distances[lang2].append(lang1)\n",
    "            compar_distances = dict(sorted(compar_distances.items(), key=lambda item: len(item[1])))\n",
    "            [last] = collections.deque(compar_distances, maxlen=1)\n",
    "            need_lang = compar_distances[last]\n",
    "            \n",
    "            if len(need_lang) >= 6:\n",
    "                need_lang = need_lang[:6]\n",
    "\n",
    "            for el in need_lang:\n",
    "                b = df_spec2.loc[df_spec2['Category'].isin([cat])]\n",
    "                b = b['Name'].unique().tolist()\n",
    "                if el not in b:\n",
    "                    df_temp = df_spec.loc[df_spec['Name'].isin([el])]\n",
    "                    df_temp = df_temp.loc[df_temp['Category'].isin([cat])]\n",
    "                    frames = [df_spec2, df_temp]\n",
    "                    df_spec2 = pd.concat(frames)\n",
    "             \n",
    "        else:\n",
    "            df_temp = df_spec[df_spec['Category'].isin([cat])]\n",
    "            frames = [df_spec2, df_temp]\n",
    "            df_spec2 = pd.concat(frames)\n",
    "\n",
    "\n",
    "    fig = px.line(df_spec2, x='x', y='y', color='Name', facet_col='Category', facet_col_wrap=2, facet_row_spacing=0.04)\n",
    "    fig['layout'].update(height=1000, width=1000)\n",
    "    for annotation in fig['layout']['annotations']: \n",
    "        annotation['textangle']= 0\n",
    "        annotation['x']= annotation['x'] - 0.02\n",
    "        annotation['y'] += 0.001\n",
    "        annotation['font']=dict(size = 14)\n",
    "        \n",
    "    return fig\n",
    "update_output('Afro-Asiatic')"
   ]
  },
  {
   "cell_type": "code",
   "execution_count": 166,
   "metadata": {},
   "outputs": [
    {
     "data": {
      "application/vnd.plotly.v1+json": {
       "config": {
        "plotlyServerURL": "https://plot.ly"
       },
       "data": [
        {
         "hovertemplate": "Name=Amharic<br>Category=Case<br>x=%{x}<br>y=%{y}<extra></extra>",
         "legendgroup": "Amharic",
         "line": {
          "color": "#636efa",
          "dash": "solid"
         },
         "marker": {
          "symbol": "circle"
         },
         "mode": "lines",
         "name": "Amharic",
         "orientation": "v",
         "showlegend": true,
         "type": "scatter",
         "x": [
          0,
          1,
          2,
          3,
          4,
          5,
          6,
          7,
          8,
          9,
          10,
          11,
          12,
          13,
          14,
          15,
          16,
          17,
          18,
          19,
          20,
          21,
          22,
          23
         ],
         "xaxis": "x17",
         "y": [
          0.31,
          0.31,
          0.229,
          0.31,
          0.138,
          0.31,
          0.229,
          0.31,
          0.31,
          0.31,
          0.31,
          0.31,
          0.31,
          0.31,
          0.31,
          0.31,
          0.229,
          0.31,
          0.31,
          0.31,
          0.229,
          0.31,
          0.138,
          0.31
         ],
         "yaxis": "y17"
        },
        {
         "hovertemplate": "Name=Amharic<br>Category=Gender<br>x=%{x}<br>y=%{y}<extra></extra>",
         "legendgroup": "Amharic",
         "line": {
          "color": "#636efa",
          "dash": "solid"
         },
         "marker": {
          "symbol": "circle"
         },
         "mode": "lines",
         "name": "Amharic",
         "orientation": "v",
         "showlegend": false,
         "type": "scatter",
         "x": [
          0,
          1,
          2,
          3,
          4,
          5,
          6,
          7,
          8,
          9,
          10,
          11,
          12,
          13,
          14,
          15,
          16,
          17,
          18,
          19,
          20,
          21,
          22,
          23
         ],
         "xaxis": "x16",
         "y": [
          0.112,
          0.618,
          0.618,
          0.091,
          0.112,
          0.112,
          0.618,
          0.618,
          0.112,
          0.112,
          0.112,
          0.091,
          0.618,
          0.618,
          0.112,
          0.618,
          0.618,
          0.618,
          0.618,
          0.112,
          0.618,
          0.112,
          0.618,
          0.618
         ],
         "yaxis": "y16"
        },
        {
         "hovertemplate": "Name=Amharic<br>Category=Number<br>x=%{x}<br>y=%{y}<extra></extra>",
         "legendgroup": "Amharic",
         "line": {
          "color": "#636efa",
          "dash": "solid"
         },
         "marker": {
          "symbol": "circle"
         },
         "mode": "lines",
         "name": "Amharic",
         "orientation": "v",
         "showlegend": false,
         "type": "scatter",
         "x": [
          0,
          1,
          2,
          3,
          4,
          5,
          6,
          7,
          8,
          9,
          10,
          11,
          12,
          13,
          14,
          15,
          16,
          17,
          18,
          19,
          20,
          21,
          22,
          23
         ],
         "xaxis": "x15",
         "y": [
          0.834,
          0.834,
          0.834,
          0.834,
          0.834,
          0.834,
          0.834,
          0.834,
          0.834,
          0.834,
          0.834,
          0.834,
          0.834,
          0.834,
          0.834,
          0.834,
          0.834,
          0.834,
          0.834,
          0.834,
          0.834,
          0.023,
          0.834,
          0.834
         ],
         "yaxis": "y15"
        },
        {
         "hovertemplate": "Name=Amharic<br>Category=Person<br>x=%{x}<br>y=%{y}<extra></extra>",
         "legendgroup": "Amharic",
         "line": {
          "color": "#636efa",
          "dash": "solid"
         },
         "marker": {
          "symbol": "circle"
         },
         "mode": "lines",
         "name": "Amharic",
         "orientation": "v",
         "showlegend": false,
         "type": "scatter",
         "x": [
          0,
          1,
          2,
          3,
          4,
          5,
          6,
          7,
          8,
          9,
          10,
          11,
          12,
          13,
          14,
          15,
          16,
          17,
          18,
          19,
          20,
          21,
          22,
          23
         ],
         "xaxis": "x14",
         "y": [
          0.714,
          0.714,
          0.714,
          0.714,
          0.714,
          0.714,
          0.714,
          0.714,
          0.714,
          0.714,
          0.714,
          0.714,
          0.714,
          0.05,
          0.714,
          0.714,
          0.714,
          0.714,
          0.714,
          0.714,
          0.714,
          0.714,
          0.714,
          0.031
         ],
         "yaxis": "y14"
        },
        {
         "hovertemplate": "Name=Amharic<br>Category=VerbForm<br>x=%{x}<br>y=%{y}<extra></extra>",
         "legendgroup": "Amharic",
         "line": {
          "color": "#636efa",
          "dash": "solid"
         },
         "marker": {
          "symbol": "circle"
         },
         "mode": "lines",
         "name": "Amharic",
         "orientation": "v",
         "showlegend": false,
         "type": "scatter",
         "x": [
          0,
          1,
          2,
          3,
          4,
          5,
          6,
          7,
          8,
          9,
          10,
          11,
          12,
          13,
          14,
          15,
          16,
          17,
          18,
          19,
          20,
          21,
          22,
          23
         ],
         "xaxis": "x13",
         "y": [
          0.811,
          0.067,
          0.811,
          0.811,
          0.811,
          0.811,
          0.811,
          0.811,
          0.811,
          0.811,
          0.811,
          0.811,
          0.811,
          0.067,
          0.811,
          0.811,
          0.811,
          0.811,
          0.811,
          0.811,
          0.811,
          0.711,
          0.711,
          0.811
         ],
         "yaxis": "y13"
        },
        {
         "hovertemplate": "Name=Amharic<br>Category=Voice<br>x=%{x}<br>y=%{y}<extra></extra>",
         "legendgroup": "Amharic",
         "line": {
          "color": "#636efa",
          "dash": "solid"
         },
         "marker": {
          "symbol": "circle"
         },
         "mode": "lines",
         "name": "Amharic",
         "orientation": "v",
         "showlegend": false,
         "type": "scatter",
         "x": [
          0,
          1,
          2,
          3,
          4,
          5,
          6,
          7,
          8,
          9,
          10,
          11,
          12,
          13,
          14,
          15,
          16,
          17,
          18,
          19,
          20,
          21,
          22,
          23
         ],
         "xaxis": "x12",
         "y": [
          0.196,
          0.271,
          0.271,
          0.271,
          0.271,
          0.271,
          0.271,
          0.271,
          0.271,
          0.271,
          0.271,
          0.271,
          0.271,
          0.271,
          0.383,
          0.402,
          0.271,
          0.271,
          0.196,
          0.196,
          0.196,
          0.271,
          0.402,
          0.191
         ],
         "yaxis": "y12"
        },
        {
         "hovertemplate": "Name=Arabic<br>Category=Case<br>x=%{x}<br>y=%{y}<extra></extra>",
         "legendgroup": "Arabic",
         "line": {
          "color": "#EF553B",
          "dash": "solid"
         },
         "marker": {
          "symbol": "circle"
         },
         "mode": "lines",
         "name": "Arabic",
         "orientation": "v",
         "showlegend": true,
         "type": "scatter",
         "x": [
          0,
          1,
          2,
          3,
          4,
          5,
          6,
          7,
          8,
          9,
          10,
          11,
          12,
          13,
          14,
          15,
          16,
          17,
          18,
          19,
          20,
          21,
          22,
          23
         ],
         "xaxis": "x17",
         "y": [
          0.051,
          0.048,
          0.051,
          0.051,
          0.524,
          0.524,
          0.051,
          0.524,
          0.524,
          0.524,
          0.524,
          0.051,
          0.524,
          0.524,
          0.524,
          0.524,
          0.051,
          0.524,
          0.524,
          0.524,
          0.048,
          0.048,
          0.524,
          0.524
         ],
         "yaxis": "y17"
        },
        {
         "hovertemplate": "Name=Arabic<br>Category=Gender<br>x=%{x}<br>y=%{y}<extra></extra>",
         "legendgroup": "Arabic",
         "line": {
          "color": "#EF553B",
          "dash": "solid"
         },
         "marker": {
          "symbol": "circle"
         },
         "mode": "lines",
         "name": "Arabic",
         "orientation": "v",
         "showlegend": false,
         "type": "scatter",
         "x": [
          0,
          1,
          2,
          3,
          4,
          5,
          6,
          7,
          8,
          9,
          10,
          11,
          12,
          13,
          14,
          15,
          16,
          17,
          18,
          19,
          20,
          21,
          22,
          23
         ],
         "xaxis": "x16",
         "y": [
          0.629,
          0.108,
          0.629,
          0.629,
          0.108,
          0.629,
          0.108,
          0.629,
          0.629,
          0.108,
          0.629,
          0.629,
          0.629,
          0.629,
          0.629,
          0.629,
          0.108,
          0.108,
          0.108,
          0.629,
          0.629,
          0.108,
          0.628,
          0.628
         ],
         "yaxis": "y16"
        },
        {
         "hovertemplate": "Name=Arabic<br>Category=Number<br>x=%{x}<br>y=%{y}<extra></extra>",
         "legendgroup": "Arabic",
         "line": {
          "color": "#EF553B",
          "dash": "solid"
         },
         "marker": {
          "symbol": "circle"
         },
         "mode": "lines",
         "name": "Arabic",
         "orientation": "v",
         "showlegend": false,
         "type": "scatter",
         "x": [
          0,
          1,
          2,
          3,
          4,
          5,
          6,
          7,
          8,
          9,
          10,
          11,
          12,
          13,
          14,
          15,
          16,
          17,
          18,
          19,
          20,
          21,
          22,
          23
         ],
         "xaxis": "x15",
         "y": [
          0.942,
          0.942,
          0.942,
          0.942,
          0.942,
          0.942,
          0.942,
          0.942,
          0.942,
          0.942,
          0.942,
          0.942,
          0.942,
          0.942,
          0.942,
          0.942,
          0.942,
          0.942,
          0.942,
          0.942,
          0.942,
          0.942,
          0.942,
          0.942
         ],
         "yaxis": "y15"
        },
        {
         "hovertemplate": "Name=Arabic<br>Category=Person<br>x=%{x}<br>y=%{y}<extra></extra>",
         "legendgroup": "Arabic",
         "line": {
          "color": "#EF553B",
          "dash": "solid"
         },
         "marker": {
          "symbol": "circle"
         },
         "mode": "lines",
         "name": "Arabic",
         "orientation": "v",
         "showlegend": false,
         "type": "scatter",
         "x": [
          0,
          1,
          2,
          3,
          4,
          5,
          6,
          7,
          8,
          9,
          10,
          11,
          12,
          13,
          14,
          15,
          16,
          17,
          18,
          19,
          20,
          21,
          22,
          23
         ],
         "xaxis": "x14",
         "y": [
          0.933,
          0.933,
          0.933,
          0.933,
          0.933,
          0.933,
          0.933,
          0.933,
          0.933,
          0.933,
          0.933,
          0.933,
          0.933,
          0.933,
          0.933,
          0.933,
          0.933,
          0.933,
          0.933,
          0.933,
          0.933,
          0.933,
          0.933,
          0.933
         ],
         "yaxis": "y14"
        },
        {
         "hovertemplate": "Name=Arabic<br>Category=Voice<br>x=%{x}<br>y=%{y}<extra></extra>",
         "legendgroup": "Arabic",
         "line": {
          "color": "#EF553B",
          "dash": "solid"
         },
         "marker": {
          "symbol": "circle"
         },
         "mode": "lines",
         "name": "Arabic",
         "orientation": "v",
         "showlegend": false,
         "type": "scatter",
         "x": [
          0,
          1,
          2,
          3,
          4,
          5,
          6,
          7,
          8,
          9,
          10,
          11,
          12,
          13,
          14,
          15,
          16,
          17,
          18,
          19,
          20,
          21,
          22,
          23
         ],
         "xaxis": "x12",
         "y": [
          0.924,
          0.924,
          0.924,
          0.924,
          0.924,
          0.924,
          0.924,
          0.924,
          0.924,
          0.924,
          0.924,
          0.924,
          0.924,
          0.924,
          0.924,
          0.924,
          0.924,
          0.924,
          0.924,
          0.924,
          0.924,
          0.924,
          0.924,
          0.924
         ],
         "yaxis": "y12"
        },
        {
         "hovertemplate": "Name=Arabic<br>Category=Definite<br>x=%{x}<br>y=%{y}<extra></extra>",
         "legendgroup": "Arabic",
         "line": {
          "color": "#EF553B",
          "dash": "solid"
         },
         "marker": {
          "symbol": "circle"
         },
         "mode": "lines",
         "name": "Arabic",
         "orientation": "v",
         "showlegend": false,
         "type": "scatter",
         "x": [
          0,
          1,
          2,
          3,
          4,
          5,
          6,
          7,
          8,
          9,
          10,
          11,
          12,
          13,
          14,
          15,
          16,
          17,
          18,
          19,
          20,
          21,
          22,
          23
         ],
         "xaxis": "x11",
         "y": [
          0.118,
          0.216,
          0.118,
          0.118,
          0.118,
          0.118,
          0.216,
          0.216,
          0.216,
          0.216,
          0.118,
          0.174,
          0.118,
          0.118,
          0.118,
          0.118,
          0.118,
          0.216,
          0.118,
          0.118,
          0.216,
          0.216,
          0.117,
          0.216
         ],
         "yaxis": "y11"
        },
        {
         "hovertemplate": "Name=Arabic<br>Category=Animacy<br>x=%{x}<br>y=%{y}<extra></extra>",
         "legendgroup": "Arabic",
         "line": {
          "color": "#EF553B",
          "dash": "solid"
         },
         "marker": {
          "symbol": "circle"
         },
         "mode": "lines",
         "name": "Arabic",
         "orientation": "v",
         "showlegend": false,
         "type": "scatter",
         "x": [
          0,
          1,
          2,
          3,
          4,
          5,
          6,
          7,
          8,
          9,
          10,
          11,
          12,
          13,
          14,
          15,
          16,
          17,
          18,
          19,
          20,
          21,
          22,
          23
         ],
         "xaxis": "x10",
         "y": [
          0.681,
          0.681,
          0.681,
          0.681,
          0.681,
          0.681,
          0.681,
          0.681,
          0.681,
          0.681,
          0.681,
          0.681,
          0.681,
          0.101,
          0.681,
          0.681,
          0.681,
          0.681,
          0.681,
          0.681,
          0.681,
          0.681,
          0.681,
          0.681
         ],
         "yaxis": "y10"
        },
        {
         "hovertemplate": "Name=Arabic<br>Category=Aspect<br>x=%{x}<br>y=%{y}<extra></extra>",
         "legendgroup": "Arabic",
         "line": {
          "color": "#EF553B",
          "dash": "solid"
         },
         "marker": {
          "symbol": "circle"
         },
         "mode": "lines",
         "name": "Arabic",
         "orientation": "v",
         "showlegend": false,
         "type": "scatter",
         "x": [
          0,
          1,
          2,
          3,
          4,
          5,
          6,
          7,
          8,
          9,
          10,
          11,
          12,
          13,
          14,
          15,
          16,
          17,
          18,
          19,
          20,
          21,
          22,
          23
         ],
         "xaxis": "x9",
         "y": [
          0.6,
          0.6,
          0.6,
          0.6,
          0.6,
          0.6,
          0.124,
          0.6,
          0.6,
          0.124,
          0.6,
          0.124,
          0.6,
          0.124,
          0.6,
          0.6,
          0.124,
          0.6,
          0.124,
          0.124,
          0.124,
          0.124,
          0.124,
          0.124
         ],
         "yaxis": "y9"
        },
        {
         "hovertemplate": "Name=Arabic<br>Category=Mood<br>x=%{x}<br>y=%{y}<extra></extra>",
         "legendgroup": "Arabic",
         "line": {
          "color": "#EF553B",
          "dash": "solid"
         },
         "marker": {
          "symbol": "circle"
         },
         "mode": "lines",
         "name": "Arabic",
         "orientation": "v",
         "showlegend": false,
         "type": "scatter",
         "x": [
          0,
          1,
          2,
          3,
          4,
          5,
          6,
          7,
          8,
          9,
          10,
          11,
          12,
          13,
          14,
          15,
          16,
          17,
          18,
          19,
          20,
          21,
          22,
          23
         ],
         "xaxis": "x8",
         "y": [
          0.945,
          0.945,
          0.945,
          0.945,
          0.945,
          0.945,
          0.945,
          0.945,
          0.945,
          0.945,
          0.945,
          0.945,
          0.945,
          0.945,
          0.945,
          0.945,
          0.945,
          0.945,
          0.945,
          0.945,
          0.945,
          0.945,
          0.945,
          0.945
         ],
         "yaxis": "y8"
        },
        {
         "hovertemplate": "Name=Arabic<br>Category=Tense<br>x=%{x}<br>y=%{y}<extra></extra>",
         "legendgroup": "Arabic",
         "line": {
          "color": "#EF553B",
          "dash": "solid"
         },
         "marker": {
          "symbol": "circle"
         },
         "mode": "lines",
         "name": "Arabic",
         "orientation": "v",
         "showlegend": false,
         "type": "scatter",
         "x": [
          0,
          1,
          2,
          3,
          4,
          5,
          6,
          7,
          8,
          9,
          10,
          11,
          12,
          13,
          14,
          15,
          16,
          17,
          18,
          19,
          20,
          21,
          22,
          23
         ],
         "xaxis": "x7",
         "y": [
          0.499,
          0.499,
          0.022,
          0.476,
          0.499,
          0.476,
          0.476,
          0.476,
          0.499,
          0.175,
          0.499,
          0.499,
          0.499,
          0.499,
          0.476,
          0.499,
          0.499,
          0.476,
          0.476,
          0.499,
          0.476,
          0.476,
          0.476,
          0.476
         ],
         "yaxis": "y7"
        },
        {
         "hovertemplate": "Name=Arabic<br>Category=NumForm<br>x=%{x}<br>y=%{y}<extra></extra>",
         "legendgroup": "Arabic",
         "line": {
          "color": "#EF553B",
          "dash": "solid"
         },
         "marker": {
          "symbol": "circle"
         },
         "mode": "lines",
         "name": "Arabic",
         "orientation": "v",
         "showlegend": false,
         "type": "scatter",
         "x": [
          0,
          1,
          2,
          3,
          4,
          5,
          6,
          7,
          8,
          9,
          10,
          11,
          12,
          13,
          14,
          15,
          16,
          17,
          18,
          19,
          20,
          21,
          22,
          23
         ],
         "xaxis": "x6",
         "y": [
          0.812,
          0.812,
          0.812,
          0.812,
          0.812,
          0.812,
          0.029,
          0.812,
          0.812,
          0.812,
          0.029,
          0.812,
          0.812,
          0.812,
          0.812,
          0.812,
          0.812,
          0.812,
          0.812,
          0.812,
          0.812,
          0.812,
          0.812,
          0.812
         ],
         "yaxis": "y6"
        },
        {
         "hovertemplate": "Name=Arabic<br>Category=NumValue<br>x=%{x}<br>y=%{y}<extra></extra>",
         "legendgroup": "Arabic",
         "line": {
          "color": "#EF553B",
          "dash": "solid"
         },
         "marker": {
          "symbol": "circle"
         },
         "mode": "lines",
         "name": "Arabic",
         "orientation": "v",
         "showlegend": false,
         "type": "scatter",
         "x": [
          0,
          1,
          2,
          3,
          4,
          5,
          6,
          7,
          8,
          9,
          10,
          11,
          12,
          13,
          14,
          15,
          16,
          17,
          18,
          19,
          20,
          21,
          22,
          23
         ],
         "xaxis": "x5",
         "y": [
          0.897,
          0.897,
          0.897,
          0.897,
          0.897,
          0.897,
          0,
          0.897,
          0.897,
          0.897,
          0.897,
          0.897,
          0.897,
          0.897,
          0.897,
          0.897,
          0.897,
          0.897,
          0.897,
          0.897,
          0.897,
          0.897,
          0.897,
          0.897
         ],
         "yaxis": "y5"
        },
        {
         "hovertemplate": "Name=Arabic<br>Category=PronType<br>x=%{x}<br>y=%{y}<extra></extra>",
         "legendgroup": "Arabic",
         "line": {
          "color": "#EF553B",
          "dash": "solid"
         },
         "marker": {
          "symbol": "circle"
         },
         "mode": "lines",
         "name": "Arabic",
         "orientation": "v",
         "showlegend": false,
         "type": "scatter",
         "x": [
          0,
          1,
          2,
          3,
          4,
          5,
          6,
          7,
          8,
          9,
          10,
          11,
          12,
          13,
          14,
          15,
          16,
          17,
          18,
          19,
          20,
          21,
          22,
          23
         ],
         "xaxis": "x4",
         "y": [
          0.991,
          0.991,
          0.991,
          0.991,
          0.991,
          0.991,
          0.991,
          0.991,
          0.991,
          0.991,
          0.991,
          0.991,
          0.991,
          0.991,
          0.991,
          0.991,
          0.991,
          0.991,
          0.991,
          0.991,
          0.991,
          0.991,
          0.991,
          0.991
         ],
         "yaxis": "y4"
        },
        {
         "hovertemplate": "Name=Beja<br>Category=Case<br>x=%{x}<br>y=%{y}<extra></extra>",
         "legendgroup": "Beja",
         "line": {
          "color": "#00cc96",
          "dash": "solid"
         },
         "marker": {
          "symbol": "circle"
         },
         "mode": "lines",
         "name": "Beja",
         "orientation": "v",
         "showlegend": true,
         "type": "scatter",
         "x": [
          0,
          1,
          2,
          3,
          4,
          5,
          6,
          7,
          8,
          9,
          10,
          11,
          12,
          13,
          14,
          15,
          16,
          17,
          18,
          19,
          20,
          21,
          22,
          23
         ],
         "xaxis": "x17",
         "y": [
          0.733,
          0.333,
          0.333,
          0.733,
          0.333,
          0.333,
          0.333,
          0.333,
          0.333,
          0.733,
          0.333,
          0.333,
          0.333,
          0.333,
          0.333,
          0.733,
          0.733,
          0.333,
          0.2,
          0.333,
          0.733,
          0.333,
          0.733,
          0.333
         ],
         "yaxis": "y17"
        },
        {
         "hovertemplate": "Name=Beja<br>Category=Gender<br>x=%{x}<br>y=%{y}<extra></extra>",
         "legendgroup": "Beja",
         "line": {
          "color": "#00cc96",
          "dash": "solid"
         },
         "marker": {
          "symbol": "circle"
         },
         "mode": "lines",
         "name": "Beja",
         "orientation": "v",
         "showlegend": false,
         "type": "scatter",
         "x": [
          0,
          1,
          2,
          3,
          4,
          5,
          6,
          7,
          8,
          9,
          10,
          11,
          12,
          13,
          14,
          15,
          16,
          17,
          18,
          19,
          20,
          21,
          22,
          23
         ],
         "xaxis": "x16",
         "y": [
          0.711,
          0.711,
          0.711,
          0.711,
          0.711,
          0.711,
          0.711,
          0.711,
          0.711,
          0.711,
          0.711,
          0.6,
          0.711,
          0.711,
          0.711,
          0.711,
          0.711,
          0.711,
          0.711,
          0.711,
          0.711,
          0.711,
          0.711,
          0.711
         ],
         "yaxis": "y16"
        },
        {
         "hovertemplate": "Name=Beja<br>Category=Number<br>x=%{x}<br>y=%{y}<extra></extra>",
         "legendgroup": "Beja",
         "line": {
          "color": "#00cc96",
          "dash": "solid"
         },
         "marker": {
          "symbol": "circle"
         },
         "mode": "lines",
         "name": "Beja",
         "orientation": "v",
         "showlegend": false,
         "type": "scatter",
         "x": [
          0,
          1,
          2,
          3,
          4,
          5,
          6,
          7,
          8,
          9,
          10,
          11,
          12,
          13,
          14,
          15,
          16,
          17,
          18,
          19,
          20,
          21,
          22,
          23
         ],
         "xaxis": "x15",
         "y": [
          0.758,
          0.758,
          0.758,
          0.758,
          0.667,
          0.758,
          0.758,
          0.758,
          0.667,
          0.758,
          0.758,
          0.667,
          0.758,
          0.758,
          0.758,
          0.758,
          0.667,
          0.758,
          0.667,
          0.667,
          0.667,
          0.758,
          0.758,
          0.758
         ],
         "yaxis": "y15"
        },
        {
         "hovertemplate": "Name=Beja<br>Category=Person<br>x=%{x}<br>y=%{y}<extra></extra>",
         "legendgroup": "Beja",
         "line": {
          "color": "#00cc96",
          "dash": "solid"
         },
         "marker": {
          "symbol": "circle"
         },
         "mode": "lines",
         "name": "Beja",
         "orientation": "v",
         "showlegend": false,
         "type": "scatter",
         "x": [
          0,
          1,
          2,
          3,
          4,
          5,
          6,
          7,
          8,
          9,
          10,
          11,
          12,
          13,
          14,
          15,
          16,
          17,
          18,
          19,
          20,
          21,
          22,
          23
         ],
         "xaxis": "x14",
         "y": [
          0.45,
          0.45,
          0.45,
          0.45,
          0.45,
          0.45,
          0.45,
          0.45,
          0.343,
          0.45,
          0.45,
          0.45,
          0.45,
          0.45,
          0.45,
          0.45,
          0.343,
          0.45,
          0.343,
          0.343,
          0.343,
          0.45,
          0.45,
          0.45
         ],
         "yaxis": "y14"
        },
        {
         "hovertemplate": "Name=Beja<br>Category=Definite<br>x=%{x}<br>y=%{y}<extra></extra>",
         "legendgroup": "Beja",
         "line": {
          "color": "#00cc96",
          "dash": "solid"
         },
         "marker": {
          "symbol": "circle"
         },
         "mode": "lines",
         "name": "Beja",
         "orientation": "v",
         "showlegend": false,
         "type": "scatter",
         "x": [
          0,
          1,
          2,
          3,
          4,
          5,
          6,
          7,
          8,
          9,
          10,
          11,
          12,
          13,
          14,
          15,
          16,
          17,
          18,
          19,
          20,
          21,
          22,
          23
         ],
         "xaxis": "x11",
         "y": [
          0.711,
          0.711,
          0.711,
          0.711,
          0.711,
          0.711,
          0.711,
          0.711,
          0.711,
          0.711,
          0.711,
          0.711,
          0.711,
          0.711,
          0.711,
          0.711,
          0.711,
          0.711,
          0.6,
          0.6,
          0.6,
          0.711,
          0.711,
          0.711
         ],
         "yaxis": "y11"
        },
        {
         "hovertemplate": "Name=Beja<br>Category=Aspect<br>x=%{x}<br>y=%{y}<extra></extra>",
         "legendgroup": "Beja",
         "line": {
          "color": "#00cc96",
          "dash": "solid"
         },
         "marker": {
          "symbol": "circle"
         },
         "mode": "lines",
         "name": "Beja",
         "orientation": "v",
         "showlegend": false,
         "type": "scatter",
         "x": [
          0,
          1,
          2,
          3,
          4,
          5,
          6,
          7,
          8,
          9,
          10,
          11,
          12,
          13,
          14,
          15,
          16,
          17,
          18,
          19,
          20,
          21,
          22,
          23
         ],
         "xaxis": "x9",
         "y": [
          0.45,
          0.45,
          0.45,
          0.45,
          0.781,
          0.45,
          0.45,
          0.45,
          0.781,
          0.781,
          0.781,
          0.45,
          0.45,
          0.45,
          0.45,
          0.45,
          0.45,
          0.45,
          0.781,
          0.781,
          0.781,
          0.45,
          0.45,
          0.45
         ],
         "yaxis": "y9"
        },
        {
         "hovertemplate": "Name=Beja<br>Category=VerbClass<br>x=%{x}<br>y=%{y}<extra></extra>",
         "legendgroup": "Beja",
         "line": {
          "color": "#00cc96",
          "dash": "solid"
         },
         "marker": {
          "symbol": "circle"
         },
         "mode": "lines",
         "name": "Beja",
         "orientation": "v",
         "showlegend": false,
         "type": "scatter",
         "x": [
          0,
          1,
          2,
          3,
          4,
          5,
          6,
          7,
          8,
          9,
          10,
          11,
          12,
          13,
          14,
          15,
          16,
          17,
          18,
          19,
          20,
          21,
          22,
          23
         ],
         "xaxis": "x3",
         "y": [
          0.711,
          0.711,
          0.711,
          0.711,
          0.711,
          0.711,
          0.711,
          0.711,
          0.711,
          0.711,
          0.711,
          1,
          1,
          0.711,
          0.711,
          0.711,
          1,
          1,
          1,
          1,
          1,
          0.711,
          0.711,
          0.711
         ],
         "yaxis": "y3"
        },
        {
         "hovertemplate": "Name=Assyrian<br>Category=Gender<br>x=%{x}<br>y=%{y}<extra></extra>",
         "legendgroup": "Assyrian",
         "line": {
          "color": "#ab63fa",
          "dash": "solid"
         },
         "marker": {
          "symbol": "circle"
         },
         "mode": "lines",
         "name": "Assyrian",
         "orientation": "v",
         "showlegend": true,
         "type": "scatter",
         "x": [
          0,
          1,
          2,
          3,
          4,
          5,
          6,
          7,
          8,
          9,
          10,
          11,
          12,
          13,
          14,
          15,
          16,
          17,
          18,
          19,
          20,
          21,
          22,
          23
         ],
         "xaxis": "x16",
         "y": [
          0.643,
          0.643,
          0.643,
          0.643,
          0.643,
          0.5,
          0.643,
          0.643,
          0.643,
          0.643,
          0.643,
          0.643,
          0.643,
          0.643,
          0.643,
          0.643,
          0.643,
          0.643,
          0.643,
          0.643,
          0.643,
          0.643,
          0.643,
          0.643
         ],
         "yaxis": "y16"
        },
        {
         "hovertemplate": "Name=Assyrian<br>Category=Number<br>x=%{x}<br>y=%{y}<extra></extra>",
         "legendgroup": "Assyrian",
         "line": {
          "color": "#ab63fa",
          "dash": "solid"
         },
         "marker": {
          "symbol": "circle"
         },
         "mode": "lines",
         "name": "Assyrian",
         "orientation": "v",
         "showlegend": false,
         "type": "scatter",
         "x": [
          0,
          1,
          2,
          3,
          4,
          5,
          6,
          7,
          8,
          9,
          10,
          11,
          12,
          13,
          14,
          15,
          16,
          17,
          18,
          19,
          20,
          21,
          22,
          23
         ],
         "xaxis": "x15",
         "y": [
          0.711,
          0.711,
          0.711,
          0.711,
          0.711,
          0.067,
          0.711,
          0.711,
          0.711,
          0.711,
          0,
          0.711,
          0.711,
          0.711,
          0.711,
          0.711,
          0.711,
          0.711,
          0.711,
          0.711,
          0.711,
          0.711,
          0.711,
          0.711
         ],
         "yaxis": "y15"
        },
        {
         "hovertemplate": "Name=Assyrian<br>Category=Person<br>x=%{x}<br>y=%{y}<extra></extra>",
         "legendgroup": "Assyrian",
         "line": {
          "color": "#ab63fa",
          "dash": "solid"
         },
         "marker": {
          "symbol": "circle"
         },
         "mode": "lines",
         "name": "Assyrian",
         "orientation": "v",
         "showlegend": false,
         "type": "scatter",
         "x": [
          0,
          1,
          2,
          3,
          4,
          5,
          6,
          7,
          8,
          9,
          10,
          11,
          12,
          13,
          14,
          15,
          16,
          17,
          18,
          19,
          20,
          21,
          22,
          23
         ],
         "xaxis": "x14",
         "y": [
          0.08,
          0.08,
          0.343,
          0.343,
          0.343,
          0.343,
          0.343,
          0.343,
          0.08,
          0.343,
          0.343,
          0.343,
          0.08,
          0.343,
          0.343,
          0.343,
          0.08,
          0.343,
          0.08,
          0.08,
          0.08,
          0.45,
          0.343,
          0.45
         ],
         "yaxis": "y14"
        },
        {
         "hovertemplate": "Name=Coptic<br>Category=Gender<br>x=%{x}<br>y=%{y}<extra></extra>",
         "legendgroup": "Coptic",
         "line": {
          "color": "#FFA15A",
          "dash": "solid"
         },
         "marker": {
          "symbol": "circle"
         },
         "mode": "lines",
         "name": "Coptic",
         "orientation": "v",
         "showlegend": true,
         "type": "scatter",
         "x": [
          0,
          1,
          2,
          3,
          4,
          5,
          6,
          7,
          8,
          9,
          10,
          11,
          12,
          13,
          14,
          15,
          16,
          17,
          18,
          19,
          20,
          21,
          22,
          23
         ],
         "xaxis": "x16",
         "y": [
          0.075,
          0.692,
          0.692,
          0.692,
          0.692,
          0.692,
          0.075,
          0.692,
          0.081,
          0.692,
          0.692,
          0.692,
          0.692,
          0.692,
          0.692,
          0.692,
          0.692,
          0.692,
          0.692,
          0.692,
          0.692,
          0.692,
          0.692,
          0.075
         ],
         "yaxis": "y16"
        },
        {
         "hovertemplate": "Name=Coptic<br>Category=Number<br>x=%{x}<br>y=%{y}<extra></extra>",
         "legendgroup": "Coptic",
         "line": {
          "color": "#FFA15A",
          "dash": "solid"
         },
         "marker": {
          "symbol": "circle"
         },
         "mode": "lines",
         "name": "Coptic",
         "orientation": "v",
         "showlegend": false,
         "type": "scatter",
         "x": [
          0,
          1,
          2,
          3,
          4,
          5,
          6,
          7,
          8,
          9,
          10,
          11,
          12,
          13,
          14,
          15,
          16,
          17,
          18,
          19,
          20,
          21,
          22,
          23
         ],
         "xaxis": "x15",
         "y": [
          0.595,
          0.595,
          0.595,
          0.595,
          0.595,
          0.595,
          0.595,
          0.595,
          0.595,
          0.595,
          0.127,
          0.127,
          0.595,
          0.595,
          0.595,
          0.595,
          0.127,
          0.127,
          0.595,
          0.595,
          0.595,
          0.595,
          0.595,
          0.595
         ],
         "yaxis": "y15"
        },
        {
         "hovertemplate": "Name=Coptic<br>Category=Person<br>x=%{x}<br>y=%{y}<extra></extra>",
         "legendgroup": "Coptic",
         "line": {
          "color": "#FFA15A",
          "dash": "solid"
         },
         "marker": {
          "symbol": "circle"
         },
         "mode": "lines",
         "name": "Coptic",
         "orientation": "v",
         "showlegend": false,
         "type": "scatter",
         "x": [
          0,
          1,
          2,
          3,
          4,
          5,
          6,
          7,
          8,
          9,
          10,
          11,
          12,
          13,
          14,
          15,
          16,
          17,
          18,
          19,
          20,
          21,
          22,
          23
         ],
         "xaxis": "x14",
         "y": [
          0.092,
          0.5,
          0.5,
          0.026,
          0.092,
          0.5,
          0.026,
          0.092,
          0.093,
          0.093,
          0.093,
          0.5,
          0.092,
          0.5,
          0.5,
          0.5,
          0.093,
          0.5,
          0.026,
          0.093,
          0.5,
          0.092,
          0.026,
          0.5
         ],
         "yaxis": "y14"
        },
        {
         "hovertemplate": "Name=Coptic<br>Category=Definite<br>x=%{x}<br>y=%{y}<extra></extra>",
         "legendgroup": "Coptic",
         "line": {
          "color": "#FFA15A",
          "dash": "solid"
         },
         "marker": {
          "symbol": "circle"
         },
         "mode": "lines",
         "name": "Coptic",
         "orientation": "v",
         "showlegend": false,
         "type": "scatter",
         "x": [
          0,
          1,
          2,
          3,
          4,
          5,
          6,
          7,
          8,
          9,
          10,
          11,
          12,
          13,
          14,
          15,
          16,
          17,
          18,
          19,
          20,
          21,
          22,
          23
         ],
         "xaxis": "x11",
         "y": [
          0.933,
          0.933,
          0.933,
          0.933,
          0.933,
          0.933,
          0.933,
          0.933,
          0.933,
          0.933,
          0.933,
          0.933,
          0.933,
          0.933,
          0.933,
          0.933,
          0.933,
          0.933,
          0.933,
          0.933,
          0.933,
          0.933,
          0.009,
          0.933
         ],
         "yaxis": "y11"
        },
        {
         "hovertemplate": "Name=Coptic<br>Category=Gender[psor]<br>x=%{x}<br>y=%{y}<extra></extra>",
         "legendgroup": "Coptic",
         "line": {
          "color": "#FFA15A",
          "dash": "solid"
         },
         "marker": {
          "symbol": "circle"
         },
         "mode": "lines",
         "name": "Coptic",
         "orientation": "v",
         "showlegend": false,
         "type": "scatter",
         "x": [
          0,
          1,
          2,
          3,
          4,
          5,
          6,
          7,
          8,
          9,
          10,
          11,
          12,
          13,
          14,
          15,
          16,
          17,
          18,
          19,
          20,
          21,
          22,
          23
         ],
         "xaxis": "x2",
         "y": [
          0.015,
          0.867,
          0.867,
          0.867,
          0.867,
          0.867,
          0.867,
          0.015,
          0.867,
          0.867,
          0.867,
          0.867,
          0.867,
          0.867,
          0.015,
          0.867,
          0.867,
          0.867,
          0.867,
          0.867,
          0.015,
          0.867,
          0.015,
          0.867
         ],
         "yaxis": "y2"
        },
        {
         "hovertemplate": "Name=Coptic<br>Category=Number[psor]<br>x=%{x}<br>y=%{y}<extra></extra>",
         "legendgroup": "Coptic",
         "line": {
          "color": "#FFA15A",
          "dash": "solid"
         },
         "marker": {
          "symbol": "circle"
         },
         "mode": "lines",
         "name": "Coptic",
         "orientation": "v",
         "showlegend": false,
         "type": "scatter",
         "x": [
          0,
          1,
          2,
          3,
          4,
          5,
          6,
          7,
          8,
          9,
          10,
          11,
          12,
          13,
          14,
          15,
          16,
          17,
          18,
          19,
          20,
          21,
          22,
          23
         ],
         "xaxis": "x",
         "y": [
          0.577,
          0.138,
          0.577,
          0.577,
          0.593,
          0.577,
          0.138,
          0.577,
          0.577,
          0.577,
          0.577,
          0.577,
          0.577,
          0.577,
          0.577,
          0.577,
          0.577,
          0.138,
          0.577,
          0.577,
          0.138,
          0.577,
          0.577,
          0.577
         ],
         "yaxis": "y"
        }
       ],
       "layout": {
        "annotations": [
         {
          "font": {
           "size": 14
          },
          "showarrow": false,
          "text": "Category=Number[psor]",
          "textangle": 0,
          "x": 0.38,
          "xanchor": "left",
          "xref": "paper",
          "y": 0.04305882352941176,
          "yanchor": "middle",
          "yref": "paper"
         },
         {
          "font": {
           "size": 14
          },
          "showarrow": false,
          "text": "Category=Gender[psor]",
          "textangle": 0,
          "x": 0.38,
          "xanchor": "left",
          "xref": "paper",
          "y": 0.10317647058823529,
          "yanchor": "middle",
          "yref": "paper"
         },
         {
          "font": {
           "size": 14
          },
          "showarrow": false,
          "text": "Category=VerbClass",
          "textangle": 0,
          "x": 0.38,
          "xanchor": "left",
          "xref": "paper",
          "y": 0.1632941176470588,
          "yanchor": "middle",
          "yref": "paper"
         },
         {
          "font": {
           "size": 14
          },
          "showarrow": false,
          "text": "Category=PronType",
          "textangle": 0,
          "x": 0.38,
          "xanchor": "left",
          "xref": "paper",
          "y": 0.22341176470588234,
          "yanchor": "middle",
          "yref": "paper"
         },
         {
          "font": {
           "size": 14
          },
          "showarrow": false,
          "text": "Category=NumValue",
          "textangle": 0,
          "x": 0.38,
          "xanchor": "left",
          "xref": "paper",
          "y": 0.2835294117647059,
          "yanchor": "middle",
          "yref": "paper"
         },
         {
          "font": {
           "size": 14
          },
          "showarrow": false,
          "text": "Category=NumForm",
          "textangle": 0,
          "x": 0.38,
          "xanchor": "left",
          "xref": "paper",
          "y": 0.3436470588235294,
          "yanchor": "middle",
          "yref": "paper"
         },
         {
          "font": {
           "size": 14
          },
          "showarrow": false,
          "text": "Category=Tense",
          "textangle": 0,
          "x": 0.38,
          "xanchor": "left",
          "xref": "paper",
          "y": 0.403764705882353,
          "yanchor": "middle",
          "yref": "paper"
         },
         {
          "font": {
           "size": 14
          },
          "showarrow": false,
          "text": "Category=Mood",
          "textangle": 0,
          "x": 0.38,
          "xanchor": "left",
          "xref": "paper",
          "y": 0.4638823529411765,
          "yanchor": "middle",
          "yref": "paper"
         },
         {
          "font": {
           "size": 14
          },
          "showarrow": false,
          "text": "Category=Aspect",
          "textangle": 0,
          "x": 0.38,
          "xanchor": "left",
          "xref": "paper",
          "y": 0.5239999999999999,
          "yanchor": "middle",
          "yref": "paper"
         },
         {
          "font": {
           "size": 14
          },
          "showarrow": false,
          "text": "Category=Animacy",
          "textangle": 0,
          "x": 0.38,
          "xanchor": "left",
          "xref": "paper",
          "y": 0.5841176470588234,
          "yanchor": "middle",
          "yref": "paper"
         },
         {
          "font": {
           "size": 14
          },
          "showarrow": false,
          "text": "Category=Definite",
          "textangle": 0,
          "x": 0.38,
          "xanchor": "left",
          "xref": "paper",
          "y": 0.644235294117647,
          "yanchor": "middle",
          "yref": "paper"
         },
         {
          "font": {
           "size": 14
          },
          "showarrow": false,
          "text": "Category=Voice",
          "textangle": 0,
          "x": 0.38,
          "xanchor": "left",
          "xref": "paper",
          "y": 0.7043529411764706,
          "yanchor": "middle",
          "yref": "paper"
         },
         {
          "font": {
           "size": 14
          },
          "showarrow": false,
          "text": "Category=VerbForm",
          "textangle": 0,
          "x": 0.38,
          "xanchor": "left",
          "xref": "paper",
          "y": 0.7644705882352942,
          "yanchor": "middle",
          "yref": "paper"
         },
         {
          "font": {
           "size": 14
          },
          "showarrow": false,
          "text": "Category=Person",
          "textangle": 0,
          "x": 0.38,
          "xanchor": "left",
          "xref": "paper",
          "y": 0.8245882352941176,
          "yanchor": "middle",
          "yref": "paper"
         },
         {
          "font": {
           "size": 14
          },
          "showarrow": false,
          "text": "Category=Number",
          "textangle": 0,
          "x": 0.38,
          "xanchor": "left",
          "xref": "paper",
          "y": 0.8847058823529412,
          "yanchor": "middle",
          "yref": "paper"
         },
         {
          "font": {
           "size": 14
          },
          "showarrow": false,
          "text": "Category=Gender",
          "textangle": 0,
          "x": 0.38,
          "xanchor": "left",
          "xref": "paper",
          "y": 0.9448235294117646,
          "yanchor": "middle",
          "yref": "paper"
         },
         {
          "font": {
           "size": 14
          },
          "showarrow": false,
          "text": "Category=Case",
          "textangle": 0,
          "x": 0.38,
          "xanchor": "left",
          "xref": "paper",
          "y": 1.004941176470588,
          "yanchor": "middle",
          "yref": "paper"
         }
        ],
        "height": 2000,
        "legend": {
         "title": {
          "text": "Name"
         },
         "tracegroupgap": 0
        },
        "margin": {
         "t": 60
        },
        "template": {
         "data": {
          "bar": [
           {
            "error_x": {
             "color": "#2a3f5f"
            },
            "error_y": {
             "color": "#2a3f5f"
            },
            "marker": {
             "line": {
              "color": "#E5ECF6",
              "width": 0.5
             },
             "pattern": {
              "fillmode": "overlay",
              "size": 10,
              "solidity": 0.2
             }
            },
            "type": "bar"
           }
          ],
          "barpolar": [
           {
            "marker": {
             "line": {
              "color": "#E5ECF6",
              "width": 0.5
             },
             "pattern": {
              "fillmode": "overlay",
              "size": 10,
              "solidity": 0.2
             }
            },
            "type": "barpolar"
           }
          ],
          "carpet": [
           {
            "aaxis": {
             "endlinecolor": "#2a3f5f",
             "gridcolor": "white",
             "linecolor": "white",
             "minorgridcolor": "white",
             "startlinecolor": "#2a3f5f"
            },
            "baxis": {
             "endlinecolor": "#2a3f5f",
             "gridcolor": "white",
             "linecolor": "white",
             "minorgridcolor": "white",
             "startlinecolor": "#2a3f5f"
            },
            "type": "carpet"
           }
          ],
          "choropleth": [
           {
            "colorbar": {
             "outlinewidth": 0,
             "ticks": ""
            },
            "type": "choropleth"
           }
          ],
          "contour": [
           {
            "colorbar": {
             "outlinewidth": 0,
             "ticks": ""
            },
            "colorscale": [
             [
              0,
              "#0d0887"
             ],
             [
              0.1111111111111111,
              "#46039f"
             ],
             [
              0.2222222222222222,
              "#7201a8"
             ],
             [
              0.3333333333333333,
              "#9c179e"
             ],
             [
              0.4444444444444444,
              "#bd3786"
             ],
             [
              0.5555555555555556,
              "#d8576b"
             ],
             [
              0.6666666666666666,
              "#ed7953"
             ],
             [
              0.7777777777777778,
              "#fb9f3a"
             ],
             [
              0.8888888888888888,
              "#fdca26"
             ],
             [
              1,
              "#f0f921"
             ]
            ],
            "type": "contour"
           }
          ],
          "contourcarpet": [
           {
            "colorbar": {
             "outlinewidth": 0,
             "ticks": ""
            },
            "type": "contourcarpet"
           }
          ],
          "heatmap": [
           {
            "colorbar": {
             "outlinewidth": 0,
             "ticks": ""
            },
            "colorscale": [
             [
              0,
              "#0d0887"
             ],
             [
              0.1111111111111111,
              "#46039f"
             ],
             [
              0.2222222222222222,
              "#7201a8"
             ],
             [
              0.3333333333333333,
              "#9c179e"
             ],
             [
              0.4444444444444444,
              "#bd3786"
             ],
             [
              0.5555555555555556,
              "#d8576b"
             ],
             [
              0.6666666666666666,
              "#ed7953"
             ],
             [
              0.7777777777777778,
              "#fb9f3a"
             ],
             [
              0.8888888888888888,
              "#fdca26"
             ],
             [
              1,
              "#f0f921"
             ]
            ],
            "type": "heatmap"
           }
          ],
          "heatmapgl": [
           {
            "colorbar": {
             "outlinewidth": 0,
             "ticks": ""
            },
            "colorscale": [
             [
              0,
              "#0d0887"
             ],
             [
              0.1111111111111111,
              "#46039f"
             ],
             [
              0.2222222222222222,
              "#7201a8"
             ],
             [
              0.3333333333333333,
              "#9c179e"
             ],
             [
              0.4444444444444444,
              "#bd3786"
             ],
             [
              0.5555555555555556,
              "#d8576b"
             ],
             [
              0.6666666666666666,
              "#ed7953"
             ],
             [
              0.7777777777777778,
              "#fb9f3a"
             ],
             [
              0.8888888888888888,
              "#fdca26"
             ],
             [
              1,
              "#f0f921"
             ]
            ],
            "type": "heatmapgl"
           }
          ],
          "histogram": [
           {
            "marker": {
             "pattern": {
              "fillmode": "overlay",
              "size": 10,
              "solidity": 0.2
             }
            },
            "type": "histogram"
           }
          ],
          "histogram2d": [
           {
            "colorbar": {
             "outlinewidth": 0,
             "ticks": ""
            },
            "colorscale": [
             [
              0,
              "#0d0887"
             ],
             [
              0.1111111111111111,
              "#46039f"
             ],
             [
              0.2222222222222222,
              "#7201a8"
             ],
             [
              0.3333333333333333,
              "#9c179e"
             ],
             [
              0.4444444444444444,
              "#bd3786"
             ],
             [
              0.5555555555555556,
              "#d8576b"
             ],
             [
              0.6666666666666666,
              "#ed7953"
             ],
             [
              0.7777777777777778,
              "#fb9f3a"
             ],
             [
              0.8888888888888888,
              "#fdca26"
             ],
             [
              1,
              "#f0f921"
             ]
            ],
            "type": "histogram2d"
           }
          ],
          "histogram2dcontour": [
           {
            "colorbar": {
             "outlinewidth": 0,
             "ticks": ""
            },
            "colorscale": [
             [
              0,
              "#0d0887"
             ],
             [
              0.1111111111111111,
              "#46039f"
             ],
             [
              0.2222222222222222,
              "#7201a8"
             ],
             [
              0.3333333333333333,
              "#9c179e"
             ],
             [
              0.4444444444444444,
              "#bd3786"
             ],
             [
              0.5555555555555556,
              "#d8576b"
             ],
             [
              0.6666666666666666,
              "#ed7953"
             ],
             [
              0.7777777777777778,
              "#fb9f3a"
             ],
             [
              0.8888888888888888,
              "#fdca26"
             ],
             [
              1,
              "#f0f921"
             ]
            ],
            "type": "histogram2dcontour"
           }
          ],
          "mesh3d": [
           {
            "colorbar": {
             "outlinewidth": 0,
             "ticks": ""
            },
            "type": "mesh3d"
           }
          ],
          "parcoords": [
           {
            "line": {
             "colorbar": {
              "outlinewidth": 0,
              "ticks": ""
             }
            },
            "type": "parcoords"
           }
          ],
          "pie": [
           {
            "automargin": true,
            "type": "pie"
           }
          ],
          "scatter": [
           {
            "fillpattern": {
             "fillmode": "overlay",
             "size": 10,
             "solidity": 0.2
            },
            "type": "scatter"
           }
          ],
          "scatter3d": [
           {
            "line": {
             "colorbar": {
              "outlinewidth": 0,
              "ticks": ""
             }
            },
            "marker": {
             "colorbar": {
              "outlinewidth": 0,
              "ticks": ""
             }
            },
            "type": "scatter3d"
           }
          ],
          "scattercarpet": [
           {
            "marker": {
             "colorbar": {
              "outlinewidth": 0,
              "ticks": ""
             }
            },
            "type": "scattercarpet"
           }
          ],
          "scattergeo": [
           {
            "marker": {
             "colorbar": {
              "outlinewidth": 0,
              "ticks": ""
             }
            },
            "type": "scattergeo"
           }
          ],
          "scattergl": [
           {
            "marker": {
             "colorbar": {
              "outlinewidth": 0,
              "ticks": ""
             }
            },
            "type": "scattergl"
           }
          ],
          "scattermapbox": [
           {
            "marker": {
             "colorbar": {
              "outlinewidth": 0,
              "ticks": ""
             }
            },
            "type": "scattermapbox"
           }
          ],
          "scatterpolar": [
           {
            "marker": {
             "colorbar": {
              "outlinewidth": 0,
              "ticks": ""
             }
            },
            "type": "scatterpolar"
           }
          ],
          "scatterpolargl": [
           {
            "marker": {
             "colorbar": {
              "outlinewidth": 0,
              "ticks": ""
             }
            },
            "type": "scatterpolargl"
           }
          ],
          "scatterternary": [
           {
            "marker": {
             "colorbar": {
              "outlinewidth": 0,
              "ticks": ""
             }
            },
            "type": "scatterternary"
           }
          ],
          "surface": [
           {
            "colorbar": {
             "outlinewidth": 0,
             "ticks": ""
            },
            "colorscale": [
             [
              0,
              "#0d0887"
             ],
             [
              0.1111111111111111,
              "#46039f"
             ],
             [
              0.2222222222222222,
              "#7201a8"
             ],
             [
              0.3333333333333333,
              "#9c179e"
             ],
             [
              0.4444444444444444,
              "#bd3786"
             ],
             [
              0.5555555555555556,
              "#d8576b"
             ],
             [
              0.6666666666666666,
              "#ed7953"
             ],
             [
              0.7777777777777778,
              "#fb9f3a"
             ],
             [
              0.8888888888888888,
              "#fdca26"
             ],
             [
              1,
              "#f0f921"
             ]
            ],
            "type": "surface"
           }
          ],
          "table": [
           {
            "cells": {
             "fill": {
              "color": "#EBF0F8"
             },
             "line": {
              "color": "white"
             }
            },
            "header": {
             "fill": {
              "color": "#C8D4E3"
             },
             "line": {
              "color": "white"
             }
            },
            "type": "table"
           }
          ]
         },
         "layout": {
          "annotationdefaults": {
           "arrowcolor": "#2a3f5f",
           "arrowhead": 0,
           "arrowwidth": 1
          },
          "autotypenumbers": "strict",
          "coloraxis": {
           "colorbar": {
            "outlinewidth": 0,
            "ticks": ""
           }
          },
          "colorscale": {
           "diverging": [
            [
             0,
             "#8e0152"
            ],
            [
             0.1,
             "#c51b7d"
            ],
            [
             0.2,
             "#de77ae"
            ],
            [
             0.3,
             "#f1b6da"
            ],
            [
             0.4,
             "#fde0ef"
            ],
            [
             0.5,
             "#f7f7f7"
            ],
            [
             0.6,
             "#e6f5d0"
            ],
            [
             0.7,
             "#b8e186"
            ],
            [
             0.8,
             "#7fbc41"
            ],
            [
             0.9,
             "#4d9221"
            ],
            [
             1,
             "#276419"
            ]
           ],
           "sequential": [
            [
             0,
             "#0d0887"
            ],
            [
             0.1111111111111111,
             "#46039f"
            ],
            [
             0.2222222222222222,
             "#7201a8"
            ],
            [
             0.3333333333333333,
             "#9c179e"
            ],
            [
             0.4444444444444444,
             "#bd3786"
            ],
            [
             0.5555555555555556,
             "#d8576b"
            ],
            [
             0.6666666666666666,
             "#ed7953"
            ],
            [
             0.7777777777777778,
             "#fb9f3a"
            ],
            [
             0.8888888888888888,
             "#fdca26"
            ],
            [
             1,
             "#f0f921"
            ]
           ],
           "sequentialminus": [
            [
             0,
             "#0d0887"
            ],
            [
             0.1111111111111111,
             "#46039f"
            ],
            [
             0.2222222222222222,
             "#7201a8"
            ],
            [
             0.3333333333333333,
             "#9c179e"
            ],
            [
             0.4444444444444444,
             "#bd3786"
            ],
            [
             0.5555555555555556,
             "#d8576b"
            ],
            [
             0.6666666666666666,
             "#ed7953"
            ],
            [
             0.7777777777777778,
             "#fb9f3a"
            ],
            [
             0.8888888888888888,
             "#fdca26"
            ],
            [
             1,
             "#f0f921"
            ]
           ]
          },
          "colorway": [
           "#636efa",
           "#EF553B",
           "#00cc96",
           "#ab63fa",
           "#FFA15A",
           "#19d3f3",
           "#FF6692",
           "#B6E880",
           "#FF97FF",
           "#FECB52"
          ],
          "font": {
           "color": "#2a3f5f"
          },
          "geo": {
           "bgcolor": "white",
           "lakecolor": "white",
           "landcolor": "#E5ECF6",
           "showlakes": true,
           "showland": true,
           "subunitcolor": "white"
          },
          "hoverlabel": {
           "align": "left"
          },
          "hovermode": "closest",
          "mapbox": {
           "style": "light"
          },
          "paper_bgcolor": "white",
          "plot_bgcolor": "#E5ECF6",
          "polar": {
           "angularaxis": {
            "gridcolor": "white",
            "linecolor": "white",
            "ticks": ""
           },
           "bgcolor": "#E5ECF6",
           "radialaxis": {
            "gridcolor": "white",
            "linecolor": "white",
            "ticks": ""
           }
          },
          "scene": {
           "xaxis": {
            "backgroundcolor": "#E5ECF6",
            "gridcolor": "white",
            "gridwidth": 2,
            "linecolor": "white",
            "showbackground": true,
            "ticks": "",
            "zerolinecolor": "white"
           },
           "yaxis": {
            "backgroundcolor": "#E5ECF6",
            "gridcolor": "white",
            "gridwidth": 2,
            "linecolor": "white",
            "showbackground": true,
            "ticks": "",
            "zerolinecolor": "white"
           },
           "zaxis": {
            "backgroundcolor": "#E5ECF6",
            "gridcolor": "white",
            "gridwidth": 2,
            "linecolor": "white",
            "showbackground": true,
            "ticks": "",
            "zerolinecolor": "white"
           }
          },
          "shapedefaults": {
           "line": {
            "color": "#2a3f5f"
           }
          },
          "ternary": {
           "aaxis": {
            "gridcolor": "white",
            "linecolor": "white",
            "ticks": ""
           },
           "baxis": {
            "gridcolor": "white",
            "linecolor": "white",
            "ticks": ""
           },
           "bgcolor": "#E5ECF6",
           "caxis": {
            "gridcolor": "white",
            "linecolor": "white",
            "ticks": ""
           }
          },
          "title": {
           "x": 0.05
          },
          "xaxis": {
           "automargin": true,
           "gridcolor": "white",
           "linecolor": "white",
           "ticks": "",
           "title": {
            "standoff": 15
           },
           "zerolinecolor": "white",
           "zerolinewidth": 2
          },
          "yaxis": {
           "automargin": true,
           "gridcolor": "white",
           "linecolor": "white",
           "ticks": "",
           "title": {
            "standoff": 15
           },
           "zerolinecolor": "white",
           "zerolinewidth": 2
          }
         }
        },
        "xaxis": {
         "anchor": "y",
         "domain": [
          0,
          0.98
         ],
         "title": {
          "text": "x"
         }
        },
        "xaxis10": {
         "anchor": "y10",
         "domain": [
          0,
          0.98
         ],
         "matches": "x",
         "showticklabels": false
        },
        "xaxis11": {
         "anchor": "y11",
         "domain": [
          0,
          0.98
         ],
         "matches": "x",
         "showticklabels": false
        },
        "xaxis12": {
         "anchor": "y12",
         "domain": [
          0,
          0.98
         ],
         "matches": "x",
         "showticklabels": false
        },
        "xaxis13": {
         "anchor": "y13",
         "domain": [
          0,
          0.98
         ],
         "matches": "x",
         "showticklabels": false
        },
        "xaxis14": {
         "anchor": "y14",
         "domain": [
          0,
          0.98
         ],
         "matches": "x",
         "showticklabels": false
        },
        "xaxis15": {
         "anchor": "y15",
         "domain": [
          0,
          0.98
         ],
         "matches": "x",
         "showticklabels": false
        },
        "xaxis16": {
         "anchor": "y16",
         "domain": [
          0,
          0.98
         ],
         "matches": "x",
         "showticklabels": false
        },
        "xaxis17": {
         "anchor": "y17",
         "domain": [
          0,
          0.98
         ],
         "matches": "x",
         "showticklabels": false
        },
        "xaxis2": {
         "anchor": "y2",
         "domain": [
          0,
          0.98
         ],
         "matches": "x",
         "showticklabels": false
        },
        "xaxis3": {
         "anchor": "y3",
         "domain": [
          0,
          0.98
         ],
         "matches": "x",
         "showticklabels": false
        },
        "xaxis4": {
         "anchor": "y4",
         "domain": [
          0,
          0.98
         ],
         "matches": "x",
         "showticklabels": false
        },
        "xaxis5": {
         "anchor": "y5",
         "domain": [
          0,
          0.98
         ],
         "matches": "x",
         "showticklabels": false
        },
        "xaxis6": {
         "anchor": "y6",
         "domain": [
          0,
          0.98
         ],
         "matches": "x",
         "showticklabels": false
        },
        "xaxis7": {
         "anchor": "y7",
         "domain": [
          0,
          0.98
         ],
         "matches": "x",
         "showticklabels": false
        },
        "xaxis8": {
         "anchor": "y8",
         "domain": [
          0,
          0.98
         ],
         "matches": "x",
         "showticklabels": false
        },
        "xaxis9": {
         "anchor": "y9",
         "domain": [
          0,
          0.98
         ],
         "matches": "x",
         "showticklabels": false
        },
        "yaxis": {
         "anchor": "x",
         "domain": [
          0,
          0.03811764705882353
         ],
         "title": {
          "text": "y"
         }
        },
        "yaxis10": {
         "anchor": "x10",
         "domain": [
          0.5410588235294117,
          0.5791764705882352
         ],
         "matches": "y",
         "title": {
          "text": "y"
         }
        },
        "yaxis11": {
         "anchor": "x11",
         "domain": [
          0.6011764705882352,
          0.6392941176470587
         ],
         "matches": "y",
         "title": {
          "text": "y"
         }
        },
        "yaxis12": {
         "anchor": "x12",
         "domain": [
          0.6612941176470588,
          0.6994117647058823
         ],
         "matches": "y",
         "title": {
          "text": "y"
         }
        },
        "yaxis13": {
         "anchor": "x13",
         "domain": [
          0.7214117647058824,
          0.7595294117647059
         ],
         "matches": "y",
         "title": {
          "text": "y"
         }
        },
        "yaxis14": {
         "anchor": "x14",
         "domain": [
          0.7815294117647058,
          0.8196470588235293
         ],
         "matches": "y",
         "title": {
          "text": "y"
         }
        },
        "yaxis15": {
         "anchor": "x15",
         "domain": [
          0.8416470588235294,
          0.8797647058823529
         ],
         "matches": "y",
         "title": {
          "text": "y"
         }
        },
        "yaxis16": {
         "anchor": "x16",
         "domain": [
          0.9017647058823528,
          0.9398823529411763
         ],
         "matches": "y",
         "title": {
          "text": "y"
         }
        },
        "yaxis17": {
         "anchor": "x17",
         "domain": [
          0.9618823529411763,
          0.9999999999999998
         ],
         "matches": "y",
         "title": {
          "text": "y"
         }
        },
        "yaxis2": {
         "anchor": "x2",
         "domain": [
          0.060117647058823526,
          0.09823529411764706
         ],
         "matches": "y",
         "title": {
          "text": "y"
         }
        },
        "yaxis3": {
         "anchor": "x3",
         "domain": [
          0.12023529411764705,
          0.15835294117647059
         ],
         "matches": "y",
         "title": {
          "text": "y"
         }
        },
        "yaxis4": {
         "anchor": "x4",
         "domain": [
          0.18035294117647058,
          0.2184705882352941
         ],
         "matches": "y",
         "title": {
          "text": "y"
         }
        },
        "yaxis5": {
         "anchor": "x5",
         "domain": [
          0.2404705882352941,
          0.27858823529411764
         ],
         "matches": "y",
         "title": {
          "text": "y"
         }
        },
        "yaxis6": {
         "anchor": "x6",
         "domain": [
          0.3005882352941176,
          0.33870588235294113
         ],
         "matches": "y",
         "title": {
          "text": "y"
         }
        },
        "yaxis7": {
         "anchor": "x7",
         "domain": [
          0.3607058823529412,
          0.39882352941176474
         ],
         "matches": "y",
         "title": {
          "text": "y"
         }
        },
        "yaxis8": {
         "anchor": "x8",
         "domain": [
          0.4208235294117647,
          0.45894117647058824
         ],
         "matches": "y",
         "title": {
          "text": "y"
         }
        },
        "yaxis9": {
         "anchor": "x9",
         "domain": [
          0.4809411764705882,
          0.5190588235294117
         ],
         "matches": "y",
         "title": {
          "text": "y"
         }
        }
       }
      }
     },
     "metadata": {},
     "output_type": "display_data"
    }
   ],
   "source": [
    "def update_output(family):\n",
    "    df_spec = pd.DataFrame(columns = ['Name', 'x', 'y', 'Category'])\n",
    "    df_spec3 = pd.DataFrame(columns = ['Name', 'x', 'y', 'Category'])\n",
    "    new_lst = structure[family]\n",
    "\n",
    "    for el in new_lst:\n",
    "        df_temp = df1.loc[df1['Name'].isin([el])]\n",
    "        frames = [df_spec, df_temp]\n",
    "        df_spec = pd.concat(frames)\n",
    "\n",
    "    for cat in df_spec['Category'].unique().tolist():\n",
    "        a = df_spec.loc[df_spec['Category'].isin([cat])]\n",
    "        \n",
    "        if len(a['Name'].unique().tolist()) > 2:\n",
    "            curves = {}\n",
    "\n",
    "            for index, raw in df_spec.iterrows():\n",
    "                if raw['Category'] not in curves.keys():\n",
    "                    curves[raw['Category']] = {}\n",
    "                if raw['Name'] not in curves[raw['Category']].keys():\n",
    "                    curves[raw['Category']][raw['Name']] = []\n",
    "                point = (raw['x'], raw['y'])\n",
    "                curves[raw['Category']][raw['Name']].append(point)\n",
    "\n",
    "            distances = {}\n",
    "            distances[cat] = {}\n",
    "            nam_line = list(curves[cat].keys())\n",
    "            for b in range(len(curves[cat].keys())):\n",
    "                nam_line_spec = list(curves[cat].keys())\n",
    "                del nam_line_spec[b]\n",
    "                line_1 = curves[cat][nam_line[b]]\n",
    "                lang_1 = nam_line[b]\n",
    "                for name in nam_line_spec:\n",
    "                    line_2 = curves[cat][name]\n",
    "                    lang_2 = name\n",
    "                    compar_name1 = f'{lang_1}:{lang_2}'\n",
    "                    compar_name2 = f'{lang_2}:{lang_1}'\n",
    "                    if compar_name1 and compar_name2 not in distances[cat].keys():\n",
    "                        distances[cat][compar_name1] = frechet_distance(line_1, line_2)\n",
    "            \n",
    "            distances = dict(sorted(distances[cat].items(), key=lambda x: -x[1], reverse=True))\n",
    "            compar_distances2 = {}\n",
    "            dist_len = 0.8*len(distances.keys())\n",
    "            pattern2 = int()\n",
    "            count = 0\n",
    "            for k in distances.keys():\n",
    "                count += 1\n",
    "        \n",
    "                if pattern2 == 0:\n",
    "                    pattern2 =  0.8*distances[k]\n",
    "                n = k.index(':')\n",
    "                lang1 = k[0:n]\n",
    "                lang2 = k[n+1:]\n",
    "\n",
    "                if distances[k] >= pattern2:\n",
    "                    if count <= dist_len:\n",
    "                        if lang1 not in compar_distances2.keys():\n",
    "                            compar_distances2[lang1] = []\n",
    "                            compar_distances2[lang1].append(lang1)\n",
    "                            compar_distances2[lang1].append(lang2)\n",
    "                        else:\n",
    "                            if lang2 not in compar_distances2[lang1]:\n",
    "                                compar_distances2[lang1].append(lang2)\n",
    "                        if lang2 not in compar_distances2.keys():\n",
    "                            compar_distances2[lang2] = []\n",
    "                            compar_distances2[lang2].append(lang2)\n",
    "                            compar_distances2[lang2].append(lang1)\n",
    "                        else:\n",
    "                            if lang1 not in compar_distances2[lang2]:\n",
    "                                compar_distances2[lang2].append(lang1)\n",
    "            \n",
    "            compar_distances2 = dict(sorted(compar_distances2.items(), key=lambda item: len(item[1])))\n",
    "            [last] = collections.deque(compar_distances2, maxlen=1)\n",
    "            need_lang = compar_distances2[last]\n",
    "            if len(need_lang) >= 6:\n",
    "                need_lang = need_lang[:6]\n",
    "\n",
    "            for el in need_lang:\n",
    "                b = df_spec3.loc[df_spec3['Category'].isin([cat])]\n",
    "                b = b['Name'].unique().tolist()\n",
    "                if el not in b:\n",
    "                    df_temp = df_spec.loc[df_spec['Name'].isin([el])]\n",
    "                    df_temp = df_temp.loc[df_temp['Category'].isin([cat])]\n",
    "                    frames = [df_spec3, df_temp]\n",
    "                    df_spec3 = pd.concat(frames)\n",
    "                \n",
    "        else:\n",
    "            df_temp = df_spec[df_spec['Category'].isin([cat])]\n",
    "            frames = [df_spec3, df_temp]\n",
    "            df_spec3 = pd.concat(frames)\n",
    "\n",
    "    fig = px.line(df_spec3, x='x', y='y', color='Name', facet_row='Category', facet_row_spacing=0.022)\n",
    "    fig['layout'].update(height=2000)\n",
    "    for annotation in fig['layout']['annotations']: \n",
    "        annotation['textangle']= 0\n",
    "        # annotation['x']=0.4\n",
    "        # annotation['y'] += 0.03\n",
    "        annotation['x']-= 0.6\n",
    "        annotation['y'] += 0.024\n",
    "        annotation['font']=dict(size = 14)\n",
    "        \n",
    "\n",
    "    return fig\n",
    "update_output('Afro-Asiatic')"
   ]
  },
  {
   "cell_type": "code",
   "execution_count": 20,
   "metadata": {},
   "outputs": [],
   "source": [
    "fig1 = px.scatter(df,\n",
    "    x='Family', \n",
    "    y='Middle', \n",
    "    size='Size'\n",
    ")\n",
    "\n",
    "\n",
    "def graph1(k):\n",
    "    rows = df2.loc[df2['Языковая семья'].isin([k])]\n",
    "    a = rows['Категория']\n",
    "    b = rows['Минимальное значение']\n",
    "    c = rows['Максимальное значение']\n",
    "\n",
    "    fig1 = go.Figure(data=[go.Table(header=dict(values=['Категория', 'Минимальное значение', 'Максимальное значение']),\n",
    "                    cells=dict(values=[a, b, c]))\n",
    "                        ])\n",
    "    fig1.update_layout(margin=dict(l=20, r=20, t=20, b=20),)\n",
    "\n",
    "    return fig1"
   ]
  },
  {
   "cell_type": "code",
   "execution_count": 26,
   "metadata": {},
   "outputs": [
    {
     "data": {
      "application/vnd.plotly.v1+json": {
       "config": {
        "plotlyServerURL": "https://plot.ly"
       },
       "data": [
        {
         "hovertemplate": "Family=%{x}<br>Middle=%{y}<br>Size=%{marker.size}<extra></extra>",
         "legendgroup": "",
         "marker": {
          "color": "#636efa",
          "size": [
           1,
           3,
           56,
           1,
           1,
           3,
           7,
           7,
           2,
           11,
           1,
           1,
           5,
           1,
           1
          ],
          "sizemode": "area",
          "sizeref": 0.14,
          "symbol": "circle"
         },
         "mode": "markers",
         "name": "",
         "orientation": "v",
         "showlegend": false,
         "type": "scatter",
         "x": [
          "Mande",
          "Atlantic-Congo",
          "Indo-European",
          "Dravidian",
          "Austronesian",
          "Afro-Asiatic",
          "Tupian",
          "Sino-Tibetan",
          "Uralic",
          "Eskimo-Aleut",
          "Pama-Nyungan",
          "Turkic",
          "Arawakan",
          "Tungusic",
          "[Basque]*"
         ],
         "xaxis": "x",
         "y": [
          0.639,
          0.49,
          0.604,
          0.555,
          0.52,
          0.684,
          0.596,
          0.61,
          0.634,
          0.467,
          0.446,
          0.574,
          0.623,
          0.483,
          0.62
         ],
         "yaxis": "y"
        }
       ],
       "layout": {
        "legend": {
         "itemsizing": "constant",
         "tracegroupgap": 0
        },
        "margin": {
         "t": 60
        },
        "template": {
         "data": {
          "bar": [
           {
            "error_x": {
             "color": "#2a3f5f"
            },
            "error_y": {
             "color": "#2a3f5f"
            },
            "marker": {
             "line": {
              "color": "#E5ECF6",
              "width": 0.5
             },
             "pattern": {
              "fillmode": "overlay",
              "size": 10,
              "solidity": 0.2
             }
            },
            "type": "bar"
           }
          ],
          "barpolar": [
           {
            "marker": {
             "line": {
              "color": "#E5ECF6",
              "width": 0.5
             },
             "pattern": {
              "fillmode": "overlay",
              "size": 10,
              "solidity": 0.2
             }
            },
            "type": "barpolar"
           }
          ],
          "carpet": [
           {
            "aaxis": {
             "endlinecolor": "#2a3f5f",
             "gridcolor": "white",
             "linecolor": "white",
             "minorgridcolor": "white",
             "startlinecolor": "#2a3f5f"
            },
            "baxis": {
             "endlinecolor": "#2a3f5f",
             "gridcolor": "white",
             "linecolor": "white",
             "minorgridcolor": "white",
             "startlinecolor": "#2a3f5f"
            },
            "type": "carpet"
           }
          ],
          "choropleth": [
           {
            "colorbar": {
             "outlinewidth": 0,
             "ticks": ""
            },
            "type": "choropleth"
           }
          ],
          "contour": [
           {
            "colorbar": {
             "outlinewidth": 0,
             "ticks": ""
            },
            "colorscale": [
             [
              0,
              "#0d0887"
             ],
             [
              0.1111111111111111,
              "#46039f"
             ],
             [
              0.2222222222222222,
              "#7201a8"
             ],
             [
              0.3333333333333333,
              "#9c179e"
             ],
             [
              0.4444444444444444,
              "#bd3786"
             ],
             [
              0.5555555555555556,
              "#d8576b"
             ],
             [
              0.6666666666666666,
              "#ed7953"
             ],
             [
              0.7777777777777778,
              "#fb9f3a"
             ],
             [
              0.8888888888888888,
              "#fdca26"
             ],
             [
              1,
              "#f0f921"
             ]
            ],
            "type": "contour"
           }
          ],
          "contourcarpet": [
           {
            "colorbar": {
             "outlinewidth": 0,
             "ticks": ""
            },
            "type": "contourcarpet"
           }
          ],
          "heatmap": [
           {
            "colorbar": {
             "outlinewidth": 0,
             "ticks": ""
            },
            "colorscale": [
             [
              0,
              "#0d0887"
             ],
             [
              0.1111111111111111,
              "#46039f"
             ],
             [
              0.2222222222222222,
              "#7201a8"
             ],
             [
              0.3333333333333333,
              "#9c179e"
             ],
             [
              0.4444444444444444,
              "#bd3786"
             ],
             [
              0.5555555555555556,
              "#d8576b"
             ],
             [
              0.6666666666666666,
              "#ed7953"
             ],
             [
              0.7777777777777778,
              "#fb9f3a"
             ],
             [
              0.8888888888888888,
              "#fdca26"
             ],
             [
              1,
              "#f0f921"
             ]
            ],
            "type": "heatmap"
           }
          ],
          "heatmapgl": [
           {
            "colorbar": {
             "outlinewidth": 0,
             "ticks": ""
            },
            "colorscale": [
             [
              0,
              "#0d0887"
             ],
             [
              0.1111111111111111,
              "#46039f"
             ],
             [
              0.2222222222222222,
              "#7201a8"
             ],
             [
              0.3333333333333333,
              "#9c179e"
             ],
             [
              0.4444444444444444,
              "#bd3786"
             ],
             [
              0.5555555555555556,
              "#d8576b"
             ],
             [
              0.6666666666666666,
              "#ed7953"
             ],
             [
              0.7777777777777778,
              "#fb9f3a"
             ],
             [
              0.8888888888888888,
              "#fdca26"
             ],
             [
              1,
              "#f0f921"
             ]
            ],
            "type": "heatmapgl"
           }
          ],
          "histogram": [
           {
            "marker": {
             "pattern": {
              "fillmode": "overlay",
              "size": 10,
              "solidity": 0.2
             }
            },
            "type": "histogram"
           }
          ],
          "histogram2d": [
           {
            "colorbar": {
             "outlinewidth": 0,
             "ticks": ""
            },
            "colorscale": [
             [
              0,
              "#0d0887"
             ],
             [
              0.1111111111111111,
              "#46039f"
             ],
             [
              0.2222222222222222,
              "#7201a8"
             ],
             [
              0.3333333333333333,
              "#9c179e"
             ],
             [
              0.4444444444444444,
              "#bd3786"
             ],
             [
              0.5555555555555556,
              "#d8576b"
             ],
             [
              0.6666666666666666,
              "#ed7953"
             ],
             [
              0.7777777777777778,
              "#fb9f3a"
             ],
             [
              0.8888888888888888,
              "#fdca26"
             ],
             [
              1,
              "#f0f921"
             ]
            ],
            "type": "histogram2d"
           }
          ],
          "histogram2dcontour": [
           {
            "colorbar": {
             "outlinewidth": 0,
             "ticks": ""
            },
            "colorscale": [
             [
              0,
              "#0d0887"
             ],
             [
              0.1111111111111111,
              "#46039f"
             ],
             [
              0.2222222222222222,
              "#7201a8"
             ],
             [
              0.3333333333333333,
              "#9c179e"
             ],
             [
              0.4444444444444444,
              "#bd3786"
             ],
             [
              0.5555555555555556,
              "#d8576b"
             ],
             [
              0.6666666666666666,
              "#ed7953"
             ],
             [
              0.7777777777777778,
              "#fb9f3a"
             ],
             [
              0.8888888888888888,
              "#fdca26"
             ],
             [
              1,
              "#f0f921"
             ]
            ],
            "type": "histogram2dcontour"
           }
          ],
          "mesh3d": [
           {
            "colorbar": {
             "outlinewidth": 0,
             "ticks": ""
            },
            "type": "mesh3d"
           }
          ],
          "parcoords": [
           {
            "line": {
             "colorbar": {
              "outlinewidth": 0,
              "ticks": ""
             }
            },
            "type": "parcoords"
           }
          ],
          "pie": [
           {
            "automargin": true,
            "type": "pie"
           }
          ],
          "scatter": [
           {
            "fillpattern": {
             "fillmode": "overlay",
             "size": 10,
             "solidity": 0.2
            },
            "type": "scatter"
           }
          ],
          "scatter3d": [
           {
            "line": {
             "colorbar": {
              "outlinewidth": 0,
              "ticks": ""
             }
            },
            "marker": {
             "colorbar": {
              "outlinewidth": 0,
              "ticks": ""
             }
            },
            "type": "scatter3d"
           }
          ],
          "scattercarpet": [
           {
            "marker": {
             "colorbar": {
              "outlinewidth": 0,
              "ticks": ""
             }
            },
            "type": "scattercarpet"
           }
          ],
          "scattergeo": [
           {
            "marker": {
             "colorbar": {
              "outlinewidth": 0,
              "ticks": ""
             }
            },
            "type": "scattergeo"
           }
          ],
          "scattergl": [
           {
            "marker": {
             "colorbar": {
              "outlinewidth": 0,
              "ticks": ""
             }
            },
            "type": "scattergl"
           }
          ],
          "scattermapbox": [
           {
            "marker": {
             "colorbar": {
              "outlinewidth": 0,
              "ticks": ""
             }
            },
            "type": "scattermapbox"
           }
          ],
          "scatterpolar": [
           {
            "marker": {
             "colorbar": {
              "outlinewidth": 0,
              "ticks": ""
             }
            },
            "type": "scatterpolar"
           }
          ],
          "scatterpolargl": [
           {
            "marker": {
             "colorbar": {
              "outlinewidth": 0,
              "ticks": ""
             }
            },
            "type": "scatterpolargl"
           }
          ],
          "scatterternary": [
           {
            "marker": {
             "colorbar": {
              "outlinewidth": 0,
              "ticks": ""
             }
            },
            "type": "scatterternary"
           }
          ],
          "surface": [
           {
            "colorbar": {
             "outlinewidth": 0,
             "ticks": ""
            },
            "colorscale": [
             [
              0,
              "#0d0887"
             ],
             [
              0.1111111111111111,
              "#46039f"
             ],
             [
              0.2222222222222222,
              "#7201a8"
             ],
             [
              0.3333333333333333,
              "#9c179e"
             ],
             [
              0.4444444444444444,
              "#bd3786"
             ],
             [
              0.5555555555555556,
              "#d8576b"
             ],
             [
              0.6666666666666666,
              "#ed7953"
             ],
             [
              0.7777777777777778,
              "#fb9f3a"
             ],
             [
              0.8888888888888888,
              "#fdca26"
             ],
             [
              1,
              "#f0f921"
             ]
            ],
            "type": "surface"
           }
          ],
          "table": [
           {
            "cells": {
             "fill": {
              "color": "#EBF0F8"
             },
             "line": {
              "color": "white"
             }
            },
            "header": {
             "fill": {
              "color": "#C8D4E3"
             },
             "line": {
              "color": "white"
             }
            },
            "type": "table"
           }
          ]
         },
         "layout": {
          "annotationdefaults": {
           "arrowcolor": "#2a3f5f",
           "arrowhead": 0,
           "arrowwidth": 1
          },
          "autotypenumbers": "strict",
          "coloraxis": {
           "colorbar": {
            "outlinewidth": 0,
            "ticks": ""
           }
          },
          "colorscale": {
           "diverging": [
            [
             0,
             "#8e0152"
            ],
            [
             0.1,
             "#c51b7d"
            ],
            [
             0.2,
             "#de77ae"
            ],
            [
             0.3,
             "#f1b6da"
            ],
            [
             0.4,
             "#fde0ef"
            ],
            [
             0.5,
             "#f7f7f7"
            ],
            [
             0.6,
             "#e6f5d0"
            ],
            [
             0.7,
             "#b8e186"
            ],
            [
             0.8,
             "#7fbc41"
            ],
            [
             0.9,
             "#4d9221"
            ],
            [
             1,
             "#276419"
            ]
           ],
           "sequential": [
            [
             0,
             "#0d0887"
            ],
            [
             0.1111111111111111,
             "#46039f"
            ],
            [
             0.2222222222222222,
             "#7201a8"
            ],
            [
             0.3333333333333333,
             "#9c179e"
            ],
            [
             0.4444444444444444,
             "#bd3786"
            ],
            [
             0.5555555555555556,
             "#d8576b"
            ],
            [
             0.6666666666666666,
             "#ed7953"
            ],
            [
             0.7777777777777778,
             "#fb9f3a"
            ],
            [
             0.8888888888888888,
             "#fdca26"
            ],
            [
             1,
             "#f0f921"
            ]
           ],
           "sequentialminus": [
            [
             0,
             "#0d0887"
            ],
            [
             0.1111111111111111,
             "#46039f"
            ],
            [
             0.2222222222222222,
             "#7201a8"
            ],
            [
             0.3333333333333333,
             "#9c179e"
            ],
            [
             0.4444444444444444,
             "#bd3786"
            ],
            [
             0.5555555555555556,
             "#d8576b"
            ],
            [
             0.6666666666666666,
             "#ed7953"
            ],
            [
             0.7777777777777778,
             "#fb9f3a"
            ],
            [
             0.8888888888888888,
             "#fdca26"
            ],
            [
             1,
             "#f0f921"
            ]
           ]
          },
          "colorway": [
           "#636efa",
           "#EF553B",
           "#00cc96",
           "#ab63fa",
           "#FFA15A",
           "#19d3f3",
           "#FF6692",
           "#B6E880",
           "#FF97FF",
           "#FECB52"
          ],
          "font": {
           "color": "#2a3f5f"
          },
          "geo": {
           "bgcolor": "white",
           "lakecolor": "white",
           "landcolor": "#E5ECF6",
           "showlakes": true,
           "showland": true,
           "subunitcolor": "white"
          },
          "hoverlabel": {
           "align": "left"
          },
          "hovermode": "closest",
          "mapbox": {
           "style": "light"
          },
          "paper_bgcolor": "white",
          "plot_bgcolor": "#E5ECF6",
          "polar": {
           "angularaxis": {
            "gridcolor": "white",
            "linecolor": "white",
            "ticks": ""
           },
           "bgcolor": "#E5ECF6",
           "radialaxis": {
            "gridcolor": "white",
            "linecolor": "white",
            "ticks": ""
           }
          },
          "scene": {
           "xaxis": {
            "backgroundcolor": "#E5ECF6",
            "gridcolor": "white",
            "gridwidth": 2,
            "linecolor": "white",
            "showbackground": true,
            "ticks": "",
            "zerolinecolor": "white"
           },
           "yaxis": {
            "backgroundcolor": "#E5ECF6",
            "gridcolor": "white",
            "gridwidth": 2,
            "linecolor": "white",
            "showbackground": true,
            "ticks": "",
            "zerolinecolor": "white"
           },
           "zaxis": {
            "backgroundcolor": "#E5ECF6",
            "gridcolor": "white",
            "gridwidth": 2,
            "linecolor": "white",
            "showbackground": true,
            "ticks": "",
            "zerolinecolor": "white"
           }
          },
          "shapedefaults": {
           "line": {
            "color": "#2a3f5f"
           }
          },
          "ternary": {
           "aaxis": {
            "gridcolor": "white",
            "linecolor": "white",
            "ticks": ""
           },
           "baxis": {
            "gridcolor": "white",
            "linecolor": "white",
            "ticks": ""
           },
           "bgcolor": "#E5ECF6",
           "caxis": {
            "gridcolor": "white",
            "linecolor": "white",
            "ticks": ""
           }
          },
          "title": {
           "x": 0.05
          },
          "xaxis": {
           "automargin": true,
           "gridcolor": "white",
           "linecolor": "white",
           "ticks": "",
           "title": {
            "standoff": 15
           },
           "zerolinecolor": "white",
           "zerolinewidth": 2
          },
          "yaxis": {
           "automargin": true,
           "gridcolor": "white",
           "linecolor": "white",
           "ticks": "",
           "title": {
            "standoff": 15
           },
           "zerolinecolor": "white",
           "zerolinewidth": 2
          }
         }
        },
        "xaxis": {
         "anchor": "y",
         "domain": [
          0,
          1
         ],
         "title": {
          "text": "Family"
         }
        },
        "yaxis": {
         "anchor": "x",
         "domain": [
          0,
          1
         ],
         "title": {
          "text": "Middle"
         }
        }
       }
      }
     },
     "metadata": {},
     "output_type": "display_data"
    }
   ],
   "source": [
    "fig1.show()"
   ]
  },
  {
   "cell_type": "code",
   "execution_count": 30,
   "metadata": {},
   "outputs": [
    {
     "data": {
      "application/vnd.plotly.v1+json": {
       "config": {
        "plotlyServerURL": "https://plot.ly"
       },
       "data": [
        {
         "cells": {
          "values": [
           [
            "Aspect",
            "Case",
            "Definite",
            "Deixis",
            "DeixisRef",
            "FocusType",
            "Gender",
            "Mood",
            "NounClass",
            "NumType",
            "Number",
            "Person",
            "PronType",
            "Tense",
            "VerbForm"
           ],
           [
            "Категория в данной языковой семье представлена (или проверена) только в одном языке - Wolof - 0.282",
            [
             "Wolof",
             0.174
            ],
            "Категория в данной языковой семье представлена (или проверена) только в одном языке - Wolof - 0.659",
            "Категория в данной языковой семье представлена (или проверена) только в одном языке - Wolof - 0.828",
            "Категория в данной языковой семье представлена (или проверена) только в одном языке - Wolof - 0.346",
            "Категория в данной языковой семье представлена (или проверена) только в одном языке - Wolof - 0.224",
            "Категория в данной языковой семье представлена (или проверена) только в одном языке - Wolof - 0.259",
            "Категория в данной языковой семье представлена (или проверена) только в одном языке - Wolof - 0.972",
            "Категория в данной языковой семье представлена (или проверена) только в одном языке - Wolof - 0.01",
            "Категория в данной языковой семье представлена (или проверена) только в одном языке - Wolof - 0.823",
            [
             "Yoruba",
             0.337
            ],
            [
             "Yoruba",
             0.272
            ],
            [
             "Wolof",
             0.062
            ],
            "Категория в данной языковой семье представлена (или проверена) только в одном языке - Wolof - 0.258",
            "Категория в данной языковой семье представлена (или проверена) только в одном языке - Wolof - 0.968"
           ],
           [
            "Категория в данной языковой семье представлена (или проверена) только в одном языке - Wolof - 0.282",
            [
             "Yoruba",
             0.445
            ],
            "Категория в данной языковой семье представлена (или проверена) только в одном языке - Wolof - 0.659",
            "Категория в данной языковой семье представлена (или проверена) только в одном языке - Wolof - 0.828",
            "Категория в данной языковой семье представлена (или проверена) только в одном языке - Wolof - 0.346",
            "Категория в данной языковой семье представлена (или проверена) только в одном языке - Wolof - 0.224",
            "Категория в данной языковой семье представлена (или проверена) только в одном языке - Wolof - 0.259",
            "Категория в данной языковой семье представлена (или проверена) только в одном языке - Wolof - 0.972",
            "Категория в данной языковой семье представлена (или проверена) только в одном языке - Wolof - 0.01",
            "Категория в данной языковой семье представлена (или проверена) только в одном языке - Wolof - 0.823",
            [
             "Wolof",
             0.649
            ],
            [
             "Wolof",
             0.39
            ],
            [
             "Yoruba",
             0.381
            ],
            "Категория в данной языковой семье представлена (или проверена) только в одном языке - Wolof - 0.258",
            "Категория в данной языковой семье представлена (или проверена) только в одном языке - Wolof - 0.968"
           ]
          ]
         },
         "header": {
          "values": [
           "Категория",
           "Минимальное значение",
           "Максимальное значение"
          ]
         },
         "type": "table"
        }
       ],
       "layout": {
        "margin": {
         "b": 20,
         "l": 20,
         "r": 20,
         "t": 20
        },
        "template": {
         "data": {
          "bar": [
           {
            "error_x": {
             "color": "#2a3f5f"
            },
            "error_y": {
             "color": "#2a3f5f"
            },
            "marker": {
             "line": {
              "color": "#E5ECF6",
              "width": 0.5
             },
             "pattern": {
              "fillmode": "overlay",
              "size": 10,
              "solidity": 0.2
             }
            },
            "type": "bar"
           }
          ],
          "barpolar": [
           {
            "marker": {
             "line": {
              "color": "#E5ECF6",
              "width": 0.5
             },
             "pattern": {
              "fillmode": "overlay",
              "size": 10,
              "solidity": 0.2
             }
            },
            "type": "barpolar"
           }
          ],
          "carpet": [
           {
            "aaxis": {
             "endlinecolor": "#2a3f5f",
             "gridcolor": "white",
             "linecolor": "white",
             "minorgridcolor": "white",
             "startlinecolor": "#2a3f5f"
            },
            "baxis": {
             "endlinecolor": "#2a3f5f",
             "gridcolor": "white",
             "linecolor": "white",
             "minorgridcolor": "white",
             "startlinecolor": "#2a3f5f"
            },
            "type": "carpet"
           }
          ],
          "choropleth": [
           {
            "colorbar": {
             "outlinewidth": 0,
             "ticks": ""
            },
            "type": "choropleth"
           }
          ],
          "contour": [
           {
            "colorbar": {
             "outlinewidth": 0,
             "ticks": ""
            },
            "colorscale": [
             [
              0,
              "#0d0887"
             ],
             [
              0.1111111111111111,
              "#46039f"
             ],
             [
              0.2222222222222222,
              "#7201a8"
             ],
             [
              0.3333333333333333,
              "#9c179e"
             ],
             [
              0.4444444444444444,
              "#bd3786"
             ],
             [
              0.5555555555555556,
              "#d8576b"
             ],
             [
              0.6666666666666666,
              "#ed7953"
             ],
             [
              0.7777777777777778,
              "#fb9f3a"
             ],
             [
              0.8888888888888888,
              "#fdca26"
             ],
             [
              1,
              "#f0f921"
             ]
            ],
            "type": "contour"
           }
          ],
          "contourcarpet": [
           {
            "colorbar": {
             "outlinewidth": 0,
             "ticks": ""
            },
            "type": "contourcarpet"
           }
          ],
          "heatmap": [
           {
            "colorbar": {
             "outlinewidth": 0,
             "ticks": ""
            },
            "colorscale": [
             [
              0,
              "#0d0887"
             ],
             [
              0.1111111111111111,
              "#46039f"
             ],
             [
              0.2222222222222222,
              "#7201a8"
             ],
             [
              0.3333333333333333,
              "#9c179e"
             ],
             [
              0.4444444444444444,
              "#bd3786"
             ],
             [
              0.5555555555555556,
              "#d8576b"
             ],
             [
              0.6666666666666666,
              "#ed7953"
             ],
             [
              0.7777777777777778,
              "#fb9f3a"
             ],
             [
              0.8888888888888888,
              "#fdca26"
             ],
             [
              1,
              "#f0f921"
             ]
            ],
            "type": "heatmap"
           }
          ],
          "heatmapgl": [
           {
            "colorbar": {
             "outlinewidth": 0,
             "ticks": ""
            },
            "colorscale": [
             [
              0,
              "#0d0887"
             ],
             [
              0.1111111111111111,
              "#46039f"
             ],
             [
              0.2222222222222222,
              "#7201a8"
             ],
             [
              0.3333333333333333,
              "#9c179e"
             ],
             [
              0.4444444444444444,
              "#bd3786"
             ],
             [
              0.5555555555555556,
              "#d8576b"
             ],
             [
              0.6666666666666666,
              "#ed7953"
             ],
             [
              0.7777777777777778,
              "#fb9f3a"
             ],
             [
              0.8888888888888888,
              "#fdca26"
             ],
             [
              1,
              "#f0f921"
             ]
            ],
            "type": "heatmapgl"
           }
          ],
          "histogram": [
           {
            "marker": {
             "pattern": {
              "fillmode": "overlay",
              "size": 10,
              "solidity": 0.2
             }
            },
            "type": "histogram"
           }
          ],
          "histogram2d": [
           {
            "colorbar": {
             "outlinewidth": 0,
             "ticks": ""
            },
            "colorscale": [
             [
              0,
              "#0d0887"
             ],
             [
              0.1111111111111111,
              "#46039f"
             ],
             [
              0.2222222222222222,
              "#7201a8"
             ],
             [
              0.3333333333333333,
              "#9c179e"
             ],
             [
              0.4444444444444444,
              "#bd3786"
             ],
             [
              0.5555555555555556,
              "#d8576b"
             ],
             [
              0.6666666666666666,
              "#ed7953"
             ],
             [
              0.7777777777777778,
              "#fb9f3a"
             ],
             [
              0.8888888888888888,
              "#fdca26"
             ],
             [
              1,
              "#f0f921"
             ]
            ],
            "type": "histogram2d"
           }
          ],
          "histogram2dcontour": [
           {
            "colorbar": {
             "outlinewidth": 0,
             "ticks": ""
            },
            "colorscale": [
             [
              0,
              "#0d0887"
             ],
             [
              0.1111111111111111,
              "#46039f"
             ],
             [
              0.2222222222222222,
              "#7201a8"
             ],
             [
              0.3333333333333333,
              "#9c179e"
             ],
             [
              0.4444444444444444,
              "#bd3786"
             ],
             [
              0.5555555555555556,
              "#d8576b"
             ],
             [
              0.6666666666666666,
              "#ed7953"
             ],
             [
              0.7777777777777778,
              "#fb9f3a"
             ],
             [
              0.8888888888888888,
              "#fdca26"
             ],
             [
              1,
              "#f0f921"
             ]
            ],
            "type": "histogram2dcontour"
           }
          ],
          "mesh3d": [
           {
            "colorbar": {
             "outlinewidth": 0,
             "ticks": ""
            },
            "type": "mesh3d"
           }
          ],
          "parcoords": [
           {
            "line": {
             "colorbar": {
              "outlinewidth": 0,
              "ticks": ""
             }
            },
            "type": "parcoords"
           }
          ],
          "pie": [
           {
            "automargin": true,
            "type": "pie"
           }
          ],
          "scatter": [
           {
            "fillpattern": {
             "fillmode": "overlay",
             "size": 10,
             "solidity": 0.2
            },
            "type": "scatter"
           }
          ],
          "scatter3d": [
           {
            "line": {
             "colorbar": {
              "outlinewidth": 0,
              "ticks": ""
             }
            },
            "marker": {
             "colorbar": {
              "outlinewidth": 0,
              "ticks": ""
             }
            },
            "type": "scatter3d"
           }
          ],
          "scattercarpet": [
           {
            "marker": {
             "colorbar": {
              "outlinewidth": 0,
              "ticks": ""
             }
            },
            "type": "scattercarpet"
           }
          ],
          "scattergeo": [
           {
            "marker": {
             "colorbar": {
              "outlinewidth": 0,
              "ticks": ""
             }
            },
            "type": "scattergeo"
           }
          ],
          "scattergl": [
           {
            "marker": {
             "colorbar": {
              "outlinewidth": 0,
              "ticks": ""
             }
            },
            "type": "scattergl"
           }
          ],
          "scattermapbox": [
           {
            "marker": {
             "colorbar": {
              "outlinewidth": 0,
              "ticks": ""
             }
            },
            "type": "scattermapbox"
           }
          ],
          "scatterpolar": [
           {
            "marker": {
             "colorbar": {
              "outlinewidth": 0,
              "ticks": ""
             }
            },
            "type": "scatterpolar"
           }
          ],
          "scatterpolargl": [
           {
            "marker": {
             "colorbar": {
              "outlinewidth": 0,
              "ticks": ""
             }
            },
            "type": "scatterpolargl"
           }
          ],
          "scatterternary": [
           {
            "marker": {
             "colorbar": {
              "outlinewidth": 0,
              "ticks": ""
             }
            },
            "type": "scatterternary"
           }
          ],
          "surface": [
           {
            "colorbar": {
             "outlinewidth": 0,
             "ticks": ""
            },
            "colorscale": [
             [
              0,
              "#0d0887"
             ],
             [
              0.1111111111111111,
              "#46039f"
             ],
             [
              0.2222222222222222,
              "#7201a8"
             ],
             [
              0.3333333333333333,
              "#9c179e"
             ],
             [
              0.4444444444444444,
              "#bd3786"
             ],
             [
              0.5555555555555556,
              "#d8576b"
             ],
             [
              0.6666666666666666,
              "#ed7953"
             ],
             [
              0.7777777777777778,
              "#fb9f3a"
             ],
             [
              0.8888888888888888,
              "#fdca26"
             ],
             [
              1,
              "#f0f921"
             ]
            ],
            "type": "surface"
           }
          ],
          "table": [
           {
            "cells": {
             "fill": {
              "color": "#EBF0F8"
             },
             "line": {
              "color": "white"
             }
            },
            "header": {
             "fill": {
              "color": "#C8D4E3"
             },
             "line": {
              "color": "white"
             }
            },
            "type": "table"
           }
          ]
         },
         "layout": {
          "annotationdefaults": {
           "arrowcolor": "#2a3f5f",
           "arrowhead": 0,
           "arrowwidth": 1
          },
          "autotypenumbers": "strict",
          "coloraxis": {
           "colorbar": {
            "outlinewidth": 0,
            "ticks": ""
           }
          },
          "colorscale": {
           "diverging": [
            [
             0,
             "#8e0152"
            ],
            [
             0.1,
             "#c51b7d"
            ],
            [
             0.2,
             "#de77ae"
            ],
            [
             0.3,
             "#f1b6da"
            ],
            [
             0.4,
             "#fde0ef"
            ],
            [
             0.5,
             "#f7f7f7"
            ],
            [
             0.6,
             "#e6f5d0"
            ],
            [
             0.7,
             "#b8e186"
            ],
            [
             0.8,
             "#7fbc41"
            ],
            [
             0.9,
             "#4d9221"
            ],
            [
             1,
             "#276419"
            ]
           ],
           "sequential": [
            [
             0,
             "#0d0887"
            ],
            [
             0.1111111111111111,
             "#46039f"
            ],
            [
             0.2222222222222222,
             "#7201a8"
            ],
            [
             0.3333333333333333,
             "#9c179e"
            ],
            [
             0.4444444444444444,
             "#bd3786"
            ],
            [
             0.5555555555555556,
             "#d8576b"
            ],
            [
             0.6666666666666666,
             "#ed7953"
            ],
            [
             0.7777777777777778,
             "#fb9f3a"
            ],
            [
             0.8888888888888888,
             "#fdca26"
            ],
            [
             1,
             "#f0f921"
            ]
           ],
           "sequentialminus": [
            [
             0,
             "#0d0887"
            ],
            [
             0.1111111111111111,
             "#46039f"
            ],
            [
             0.2222222222222222,
             "#7201a8"
            ],
            [
             0.3333333333333333,
             "#9c179e"
            ],
            [
             0.4444444444444444,
             "#bd3786"
            ],
            [
             0.5555555555555556,
             "#d8576b"
            ],
            [
             0.6666666666666666,
             "#ed7953"
            ],
            [
             0.7777777777777778,
             "#fb9f3a"
            ],
            [
             0.8888888888888888,
             "#fdca26"
            ],
            [
             1,
             "#f0f921"
            ]
           ]
          },
          "colorway": [
           "#636efa",
           "#EF553B",
           "#00cc96",
           "#ab63fa",
           "#FFA15A",
           "#19d3f3",
           "#FF6692",
           "#B6E880",
           "#FF97FF",
           "#FECB52"
          ],
          "font": {
           "color": "#2a3f5f"
          },
          "geo": {
           "bgcolor": "white",
           "lakecolor": "white",
           "landcolor": "#E5ECF6",
           "showlakes": true,
           "showland": true,
           "subunitcolor": "white"
          },
          "hoverlabel": {
           "align": "left"
          },
          "hovermode": "closest",
          "mapbox": {
           "style": "light"
          },
          "paper_bgcolor": "white",
          "plot_bgcolor": "#E5ECF6",
          "polar": {
           "angularaxis": {
            "gridcolor": "white",
            "linecolor": "white",
            "ticks": ""
           },
           "bgcolor": "#E5ECF6",
           "radialaxis": {
            "gridcolor": "white",
            "linecolor": "white",
            "ticks": ""
           }
          },
          "scene": {
           "xaxis": {
            "backgroundcolor": "#E5ECF6",
            "gridcolor": "white",
            "gridwidth": 2,
            "linecolor": "white",
            "showbackground": true,
            "ticks": "",
            "zerolinecolor": "white"
           },
           "yaxis": {
            "backgroundcolor": "#E5ECF6",
            "gridcolor": "white",
            "gridwidth": 2,
            "linecolor": "white",
            "showbackground": true,
            "ticks": "",
            "zerolinecolor": "white"
           },
           "zaxis": {
            "backgroundcolor": "#E5ECF6",
            "gridcolor": "white",
            "gridwidth": 2,
            "linecolor": "white",
            "showbackground": true,
            "ticks": "",
            "zerolinecolor": "white"
           }
          },
          "shapedefaults": {
           "line": {
            "color": "#2a3f5f"
           }
          },
          "ternary": {
           "aaxis": {
            "gridcolor": "white",
            "linecolor": "white",
            "ticks": ""
           },
           "baxis": {
            "gridcolor": "white",
            "linecolor": "white",
            "ticks": ""
           },
           "bgcolor": "#E5ECF6",
           "caxis": {
            "gridcolor": "white",
            "linecolor": "white",
            "ticks": ""
           }
          },
          "title": {
           "x": 0.05
          },
          "xaxis": {
           "automargin": true,
           "gridcolor": "white",
           "linecolor": "white",
           "ticks": "",
           "title": {
            "standoff": 15
           },
           "zerolinecolor": "white",
           "zerolinewidth": 2
          },
          "yaxis": {
           "automargin": true,
           "gridcolor": "white",
           "linecolor": "white",
           "ticks": "",
           "title": {
            "standoff": 15
           },
           "zerolinecolor": "white",
           "zerolinewidth": 2
          }
         }
        }
       }
      }
     },
     "metadata": {},
     "output_type": "display_data"
    }
   ],
   "source": [
    "graph1('Atlantic-Congo')"
   ]
  },
  {
   "cell_type": "code",
   "execution_count": 31,
   "metadata": {},
   "outputs": [],
   "source": [
    "def graph2(k):\n",
    "    family = k\n",
    "    labels = []\n",
    "    labels.append(family)\n",
    "    parents = []\n",
    "    parents.append('')\n",
    "    values = []\n",
    "    values.append(0)\n",
    "\n",
    "\n",
    "    for k in structure[family]:\n",
    "        try:\n",
    "            labels.append(k)\n",
    "            parents.append(family)\n",
    "\n",
    "            code = lang_file.loc[lang_file['Language'].isin([k])]\n",
    "            code = code.iloc[0]['Codes']\n",
    "            \n",
    "            count = len(lang_files[family][code])\n",
    "            values.append(count)\n",
    "        except:\n",
    "            value = f'Язык {k} входит в языковую семью, но не представлен в файлах с результатами пробинга'\n",
    "\n",
    "    values[0] = sum(values)\n",
    "\n",
    "    fig2 =go.Figure(go.Treemap(\n",
    "        labels = labels,\n",
    "        parents= parents,\n",
    "        values= values,\n",
    "        root = None,\n",
    "    ))\n",
    "\n",
    "    fig2.update_layout(\n",
    "        font_size=20,\n",
    "        margin = dict(t=20, l=15, r=20, b=20)\n",
    "    )\n",
    "\n",
    "    return fig2"
   ]
  },
  {
   "cell_type": "code",
   "execution_count": 33,
   "metadata": {},
   "outputs": [
    {
     "data": {
      "application/vnd.plotly.v1+json": {
       "config": {
        "plotlyServerURL": "https://plot.ly"
       },
       "data": [
        {
         "labels": [
          "Indo-European",
          "Afrikaans",
          "Albanian",
          "Ancient Greek",
          "Armenian",
          "Belarusian",
          "Bengali",
          "Bhojpuri",
          "Breton",
          "Bulgarian",
          "Catalan",
          "Croatian",
          "Czech",
          "Danish",
          "Dutch",
          "English",
          "Faroese",
          "French",
          "Galician",
          "German",
          "Gothic",
          "Greek",
          "Hindi",
          "Icelandic",
          "Irish",
          "Italian",
          "Kiche",
          "Kurmanji",
          "Latin",
          "Latvian",
          "Ligurian",
          "Lithuanian",
          "Low Saxon",
          "Manx",
          "Marathi",
          "Norwegian",
          "Old Church Slavonic",
          "Old East Slavic",
          "Old French",
          "Persian",
          "Polish",
          "Portuguese",
          "Romanian",
          "Russian",
          "Sanskrit",
          "Scottish Gaelic",
          "Serbian",
          "Slovak",
          "Slovenian",
          "Spanish",
          "Swedish",
          "Turkish German",
          "Ukrainian",
          "Upper Sorbian",
          "Urdu",
          "Welsh",
          "Western Armenian"
         ],
         "parents": [
          "",
          "Indo-European",
          "Indo-European",
          "Indo-European",
          "Indo-European",
          "Indo-European",
          "Indo-European",
          "Indo-European",
          "Indo-European",
          "Indo-European",
          "Indo-European",
          "Indo-European",
          "Indo-European",
          "Indo-European",
          "Indo-European",
          "Indo-European",
          "Indo-European",
          "Indo-European",
          "Indo-European",
          "Indo-European",
          "Indo-European",
          "Indo-European",
          "Indo-European",
          "Indo-European",
          "Indo-European",
          "Indo-European",
          "Indo-European",
          "Indo-European",
          "Indo-European",
          "Indo-European",
          "Indo-European",
          "Indo-European",
          "Indo-European",
          "Indo-European",
          "Indo-European",
          "Indo-European",
          "Indo-European",
          "Indo-European",
          "Indo-European",
          "Indo-European",
          "Indo-European",
          "Indo-European",
          "Indo-European",
          "Indo-European",
          "Indo-European",
          "Indo-European",
          "Indo-European",
          "Indo-European",
          "Indo-European",
          "Indo-European",
          "Indo-European",
          "Indo-European",
          "Indo-European",
          "Indo-European",
          "Indo-European",
          "Indo-European",
          "Indo-European"
         ],
         "type": "treemap",
         "values": [
          2807,
          44,
          28,
          35,
          20,
          10,
          39,
          91,
          30,
          130,
          72,
          200,
          13,
          331,
          12,
          1,
          102,
          69,
          30,
          339,
          76,
          5,
          126,
          24,
          26,
          8,
          40,
          11,
          20,
          15,
          10,
          2,
          139,
          79,
          47,
          80,
          54,
          15,
          26,
          1,
          249,
          44,
          5,
          55,
          32,
          22
         ]
        }
       ],
       "layout": {
        "font": {
         "size": 20
        },
        "margin": {
         "b": 20,
         "l": 15,
         "r": 20,
         "t": 20
        },
        "template": {
         "data": {
          "bar": [
           {
            "error_x": {
             "color": "#2a3f5f"
            },
            "error_y": {
             "color": "#2a3f5f"
            },
            "marker": {
             "line": {
              "color": "#E5ECF6",
              "width": 0.5
             },
             "pattern": {
              "fillmode": "overlay",
              "size": 10,
              "solidity": 0.2
             }
            },
            "type": "bar"
           }
          ],
          "barpolar": [
           {
            "marker": {
             "line": {
              "color": "#E5ECF6",
              "width": 0.5
             },
             "pattern": {
              "fillmode": "overlay",
              "size": 10,
              "solidity": 0.2
             }
            },
            "type": "barpolar"
           }
          ],
          "carpet": [
           {
            "aaxis": {
             "endlinecolor": "#2a3f5f",
             "gridcolor": "white",
             "linecolor": "white",
             "minorgridcolor": "white",
             "startlinecolor": "#2a3f5f"
            },
            "baxis": {
             "endlinecolor": "#2a3f5f",
             "gridcolor": "white",
             "linecolor": "white",
             "minorgridcolor": "white",
             "startlinecolor": "#2a3f5f"
            },
            "type": "carpet"
           }
          ],
          "choropleth": [
           {
            "colorbar": {
             "outlinewidth": 0,
             "ticks": ""
            },
            "type": "choropleth"
           }
          ],
          "contour": [
           {
            "colorbar": {
             "outlinewidth": 0,
             "ticks": ""
            },
            "colorscale": [
             [
              0,
              "#0d0887"
             ],
             [
              0.1111111111111111,
              "#46039f"
             ],
             [
              0.2222222222222222,
              "#7201a8"
             ],
             [
              0.3333333333333333,
              "#9c179e"
             ],
             [
              0.4444444444444444,
              "#bd3786"
             ],
             [
              0.5555555555555556,
              "#d8576b"
             ],
             [
              0.6666666666666666,
              "#ed7953"
             ],
             [
              0.7777777777777778,
              "#fb9f3a"
             ],
             [
              0.8888888888888888,
              "#fdca26"
             ],
             [
              1,
              "#f0f921"
             ]
            ],
            "type": "contour"
           }
          ],
          "contourcarpet": [
           {
            "colorbar": {
             "outlinewidth": 0,
             "ticks": ""
            },
            "type": "contourcarpet"
           }
          ],
          "heatmap": [
           {
            "colorbar": {
             "outlinewidth": 0,
             "ticks": ""
            },
            "colorscale": [
             [
              0,
              "#0d0887"
             ],
             [
              0.1111111111111111,
              "#46039f"
             ],
             [
              0.2222222222222222,
              "#7201a8"
             ],
             [
              0.3333333333333333,
              "#9c179e"
             ],
             [
              0.4444444444444444,
              "#bd3786"
             ],
             [
              0.5555555555555556,
              "#d8576b"
             ],
             [
              0.6666666666666666,
              "#ed7953"
             ],
             [
              0.7777777777777778,
              "#fb9f3a"
             ],
             [
              0.8888888888888888,
              "#fdca26"
             ],
             [
              1,
              "#f0f921"
             ]
            ],
            "type": "heatmap"
           }
          ],
          "heatmapgl": [
           {
            "colorbar": {
             "outlinewidth": 0,
             "ticks": ""
            },
            "colorscale": [
             [
              0,
              "#0d0887"
             ],
             [
              0.1111111111111111,
              "#46039f"
             ],
             [
              0.2222222222222222,
              "#7201a8"
             ],
             [
              0.3333333333333333,
              "#9c179e"
             ],
             [
              0.4444444444444444,
              "#bd3786"
             ],
             [
              0.5555555555555556,
              "#d8576b"
             ],
             [
              0.6666666666666666,
              "#ed7953"
             ],
             [
              0.7777777777777778,
              "#fb9f3a"
             ],
             [
              0.8888888888888888,
              "#fdca26"
             ],
             [
              1,
              "#f0f921"
             ]
            ],
            "type": "heatmapgl"
           }
          ],
          "histogram": [
           {
            "marker": {
             "pattern": {
              "fillmode": "overlay",
              "size": 10,
              "solidity": 0.2
             }
            },
            "type": "histogram"
           }
          ],
          "histogram2d": [
           {
            "colorbar": {
             "outlinewidth": 0,
             "ticks": ""
            },
            "colorscale": [
             [
              0,
              "#0d0887"
             ],
             [
              0.1111111111111111,
              "#46039f"
             ],
             [
              0.2222222222222222,
              "#7201a8"
             ],
             [
              0.3333333333333333,
              "#9c179e"
             ],
             [
              0.4444444444444444,
              "#bd3786"
             ],
             [
              0.5555555555555556,
              "#d8576b"
             ],
             [
              0.6666666666666666,
              "#ed7953"
             ],
             [
              0.7777777777777778,
              "#fb9f3a"
             ],
             [
              0.8888888888888888,
              "#fdca26"
             ],
             [
              1,
              "#f0f921"
             ]
            ],
            "type": "histogram2d"
           }
          ],
          "histogram2dcontour": [
           {
            "colorbar": {
             "outlinewidth": 0,
             "ticks": ""
            },
            "colorscale": [
             [
              0,
              "#0d0887"
             ],
             [
              0.1111111111111111,
              "#46039f"
             ],
             [
              0.2222222222222222,
              "#7201a8"
             ],
             [
              0.3333333333333333,
              "#9c179e"
             ],
             [
              0.4444444444444444,
              "#bd3786"
             ],
             [
              0.5555555555555556,
              "#d8576b"
             ],
             [
              0.6666666666666666,
              "#ed7953"
             ],
             [
              0.7777777777777778,
              "#fb9f3a"
             ],
             [
              0.8888888888888888,
              "#fdca26"
             ],
             [
              1,
              "#f0f921"
             ]
            ],
            "type": "histogram2dcontour"
           }
          ],
          "mesh3d": [
           {
            "colorbar": {
             "outlinewidth": 0,
             "ticks": ""
            },
            "type": "mesh3d"
           }
          ],
          "parcoords": [
           {
            "line": {
             "colorbar": {
              "outlinewidth": 0,
              "ticks": ""
             }
            },
            "type": "parcoords"
           }
          ],
          "pie": [
           {
            "automargin": true,
            "type": "pie"
           }
          ],
          "scatter": [
           {
            "fillpattern": {
             "fillmode": "overlay",
             "size": 10,
             "solidity": 0.2
            },
            "type": "scatter"
           }
          ],
          "scatter3d": [
           {
            "line": {
             "colorbar": {
              "outlinewidth": 0,
              "ticks": ""
             }
            },
            "marker": {
             "colorbar": {
              "outlinewidth": 0,
              "ticks": ""
             }
            },
            "type": "scatter3d"
           }
          ],
          "scattercarpet": [
           {
            "marker": {
             "colorbar": {
              "outlinewidth": 0,
              "ticks": ""
             }
            },
            "type": "scattercarpet"
           }
          ],
          "scattergeo": [
           {
            "marker": {
             "colorbar": {
              "outlinewidth": 0,
              "ticks": ""
             }
            },
            "type": "scattergeo"
           }
          ],
          "scattergl": [
           {
            "marker": {
             "colorbar": {
              "outlinewidth": 0,
              "ticks": ""
             }
            },
            "type": "scattergl"
           }
          ],
          "scattermapbox": [
           {
            "marker": {
             "colorbar": {
              "outlinewidth": 0,
              "ticks": ""
             }
            },
            "type": "scattermapbox"
           }
          ],
          "scatterpolar": [
           {
            "marker": {
             "colorbar": {
              "outlinewidth": 0,
              "ticks": ""
             }
            },
            "type": "scatterpolar"
           }
          ],
          "scatterpolargl": [
           {
            "marker": {
             "colorbar": {
              "outlinewidth": 0,
              "ticks": ""
             }
            },
            "type": "scatterpolargl"
           }
          ],
          "scatterternary": [
           {
            "marker": {
             "colorbar": {
              "outlinewidth": 0,
              "ticks": ""
             }
            },
            "type": "scatterternary"
           }
          ],
          "surface": [
           {
            "colorbar": {
             "outlinewidth": 0,
             "ticks": ""
            },
            "colorscale": [
             [
              0,
              "#0d0887"
             ],
             [
              0.1111111111111111,
              "#46039f"
             ],
             [
              0.2222222222222222,
              "#7201a8"
             ],
             [
              0.3333333333333333,
              "#9c179e"
             ],
             [
              0.4444444444444444,
              "#bd3786"
             ],
             [
              0.5555555555555556,
              "#d8576b"
             ],
             [
              0.6666666666666666,
              "#ed7953"
             ],
             [
              0.7777777777777778,
              "#fb9f3a"
             ],
             [
              0.8888888888888888,
              "#fdca26"
             ],
             [
              1,
              "#f0f921"
             ]
            ],
            "type": "surface"
           }
          ],
          "table": [
           {
            "cells": {
             "fill": {
              "color": "#EBF0F8"
             },
             "line": {
              "color": "white"
             }
            },
            "header": {
             "fill": {
              "color": "#C8D4E3"
             },
             "line": {
              "color": "white"
             }
            },
            "type": "table"
           }
          ]
         },
         "layout": {
          "annotationdefaults": {
           "arrowcolor": "#2a3f5f",
           "arrowhead": 0,
           "arrowwidth": 1
          },
          "autotypenumbers": "strict",
          "coloraxis": {
           "colorbar": {
            "outlinewidth": 0,
            "ticks": ""
           }
          },
          "colorscale": {
           "diverging": [
            [
             0,
             "#8e0152"
            ],
            [
             0.1,
             "#c51b7d"
            ],
            [
             0.2,
             "#de77ae"
            ],
            [
             0.3,
             "#f1b6da"
            ],
            [
             0.4,
             "#fde0ef"
            ],
            [
             0.5,
             "#f7f7f7"
            ],
            [
             0.6,
             "#e6f5d0"
            ],
            [
             0.7,
             "#b8e186"
            ],
            [
             0.8,
             "#7fbc41"
            ],
            [
             0.9,
             "#4d9221"
            ],
            [
             1,
             "#276419"
            ]
           ],
           "sequential": [
            [
             0,
             "#0d0887"
            ],
            [
             0.1111111111111111,
             "#46039f"
            ],
            [
             0.2222222222222222,
             "#7201a8"
            ],
            [
             0.3333333333333333,
             "#9c179e"
            ],
            [
             0.4444444444444444,
             "#bd3786"
            ],
            [
             0.5555555555555556,
             "#d8576b"
            ],
            [
             0.6666666666666666,
             "#ed7953"
            ],
            [
             0.7777777777777778,
             "#fb9f3a"
            ],
            [
             0.8888888888888888,
             "#fdca26"
            ],
            [
             1,
             "#f0f921"
            ]
           ],
           "sequentialminus": [
            [
             0,
             "#0d0887"
            ],
            [
             0.1111111111111111,
             "#46039f"
            ],
            [
             0.2222222222222222,
             "#7201a8"
            ],
            [
             0.3333333333333333,
             "#9c179e"
            ],
            [
             0.4444444444444444,
             "#bd3786"
            ],
            [
             0.5555555555555556,
             "#d8576b"
            ],
            [
             0.6666666666666666,
             "#ed7953"
            ],
            [
             0.7777777777777778,
             "#fb9f3a"
            ],
            [
             0.8888888888888888,
             "#fdca26"
            ],
            [
             1,
             "#f0f921"
            ]
           ]
          },
          "colorway": [
           "#636efa",
           "#EF553B",
           "#00cc96",
           "#ab63fa",
           "#FFA15A",
           "#19d3f3",
           "#FF6692",
           "#B6E880",
           "#FF97FF",
           "#FECB52"
          ],
          "font": {
           "color": "#2a3f5f"
          },
          "geo": {
           "bgcolor": "white",
           "lakecolor": "white",
           "landcolor": "#E5ECF6",
           "showlakes": true,
           "showland": true,
           "subunitcolor": "white"
          },
          "hoverlabel": {
           "align": "left"
          },
          "hovermode": "closest",
          "mapbox": {
           "style": "light"
          },
          "paper_bgcolor": "white",
          "plot_bgcolor": "#E5ECF6",
          "polar": {
           "angularaxis": {
            "gridcolor": "white",
            "linecolor": "white",
            "ticks": ""
           },
           "bgcolor": "#E5ECF6",
           "radialaxis": {
            "gridcolor": "white",
            "linecolor": "white",
            "ticks": ""
           }
          },
          "scene": {
           "xaxis": {
            "backgroundcolor": "#E5ECF6",
            "gridcolor": "white",
            "gridwidth": 2,
            "linecolor": "white",
            "showbackground": true,
            "ticks": "",
            "zerolinecolor": "white"
           },
           "yaxis": {
            "backgroundcolor": "#E5ECF6",
            "gridcolor": "white",
            "gridwidth": 2,
            "linecolor": "white",
            "showbackground": true,
            "ticks": "",
            "zerolinecolor": "white"
           },
           "zaxis": {
            "backgroundcolor": "#E5ECF6",
            "gridcolor": "white",
            "gridwidth": 2,
            "linecolor": "white",
            "showbackground": true,
            "ticks": "",
            "zerolinecolor": "white"
           }
          },
          "shapedefaults": {
           "line": {
            "color": "#2a3f5f"
           }
          },
          "ternary": {
           "aaxis": {
            "gridcolor": "white",
            "linecolor": "white",
            "ticks": ""
           },
           "baxis": {
            "gridcolor": "white",
            "linecolor": "white",
            "ticks": ""
           },
           "bgcolor": "#E5ECF6",
           "caxis": {
            "gridcolor": "white",
            "linecolor": "white",
            "ticks": ""
           }
          },
          "title": {
           "x": 0.05
          },
          "xaxis": {
           "automargin": true,
           "gridcolor": "white",
           "linecolor": "white",
           "ticks": "",
           "title": {
            "standoff": 15
           },
           "zerolinecolor": "white",
           "zerolinewidth": 2
          },
          "yaxis": {
           "automargin": true,
           "gridcolor": "white",
           "linecolor": "white",
           "ticks": "",
           "title": {
            "standoff": 15
           },
           "zerolinecolor": "white",
           "zerolinewidth": 2
          }
         }
        }
       }
      }
     },
     "metadata": {},
     "output_type": "display_data"
    }
   ],
   "source": [
    "graph2('Indo-European')"
   ]
  },
  {
   "cell_type": "code",
   "execution_count": 36,
   "metadata": {},
   "outputs": [],
   "source": [
    "def update_output(value):\n",
    "    df1 = pd.DataFrame(columns = ['Name', 'x', 'y'])\n",
    "    if isinstance(value, list):\n",
    "        for element in value:\n",
    "            name = []\n",
    "            layers = all_layers[str(element)]['f1']\n",
    "            graph_data = {'Layers': list(layers.keys()), \n",
    "                'Middle': list(layers.values())}\n",
    "            graph_data = pd.DataFrame(graph_data)\n",
    "            x = graph_data['Layers']\n",
    "            y = graph_data['Middle']\n",
    "            for i in x:\n",
    "                name.append(element)\n",
    "            df = pd.DataFrame(columns = ['Name', 'x', 'y'])\n",
    "            df['Name'] = name\n",
    "            df['x'] = x\n",
    "            df['y'] = y\n",
    "            frames = [df1, df]\n",
    "            df1 = pd.concat(frames)\n",
    "            fig = px.line(df1, x = 'x', y = 'y', color='Name')\n",
    "    elif value == ['']:\n",
    "        fig = go.Figure()\n",
    "    else:\n",
    "        name = []\n",
    "        layers = all_layers[value]['f1']\n",
    "        graph_data = {'Layers': list(layers.keys()), \n",
    "            'Middle': list(layers.values())}\n",
    "        graph_data = pd.DataFrame(graph_data)\n",
    "        x = graph_data['Layers']\n",
    "        y = graph_data['Middle']\n",
    "        for i in x:\n",
    "            name.append(value)\n",
    "        df = pd.DataFrame(columns = ['Name', 'x', 'y'])\n",
    "        df['Name'] = name\n",
    "        df['x'] = x\n",
    "        df['y'] = y\n",
    "        frames = [df1, df]\n",
    "        df1 = pd.concat(frames)\n",
    "        fig = px.line(df1, x = 'x', y = 'y', color='Name')\n",
    "    return fig"
   ]
  },
  {
   "cell_type": "code",
   "execution_count": 39,
   "metadata": {},
   "outputs": [
    {
     "data": {
      "application/vnd.plotly.v1+json": {
       "config": {
        "plotlyServerURL": "https://plot.ly"
       },
       "data": [
        {
         "hovertemplate": "Name=Atlantic-Congo<br>x=%{x}<br>y=%{y}<extra></extra>",
         "legendgroup": "Atlantic-Congo",
         "line": {
          "color": "#636efa",
          "dash": "solid"
         },
         "marker": {
          "symbol": "circle"
         },
         "mode": "lines",
         "name": "Atlantic-Congo",
         "orientation": "v",
         "showlegend": true,
         "type": "scatter",
         "x": [
          0,
          1,
          2,
          3,
          4,
          5,
          6,
          7,
          8,
          9,
          10,
          11,
          12,
          13,
          14,
          15,
          16,
          17,
          18,
          19,
          20,
          21,
          22,
          23
         ],
         "xaxis": "x",
         "y": [
          0.376,
          0.428,
          0.422,
          0.428,
          0.472,
          0.425,
          0.455,
          0.455,
          0.467,
          0.442,
          0.45,
          0.454,
          0.466,
          0.45,
          0.457,
          0.455,
          0.462,
          0.442,
          0.423,
          0.413,
          0.41,
          0.46,
          0.447,
          0.453
         ],
         "yaxis": "y"
        },
        {
         "hovertemplate": "Name=Indo-European<br>x=%{x}<br>y=%{y}<extra></extra>",
         "legendgroup": "Indo-European",
         "line": {
          "color": "#EF553B",
          "dash": "solid"
         },
         "marker": {
          "symbol": "circle"
         },
         "mode": "lines",
         "name": "Indo-European",
         "orientation": "v",
         "showlegend": true,
         "type": "scatter",
         "x": [
          0,
          1,
          2,
          3,
          4,
          5,
          6,
          7,
          8,
          9,
          10,
          11,
          12,
          13,
          14,
          15,
          16,
          17,
          18,
          19,
          20,
          21,
          22,
          23
         ],
         "xaxis": "x",
         "y": [
          0.571,
          0.562,
          0.571,
          0.565,
          0.573,
          0.576,
          0.574,
          0.574,
          0.574,
          0.575,
          0.574,
          0.576,
          0.574,
          0.575,
          0.578,
          0.577,
          0.571,
          0.582,
          0.582,
          0.575,
          0.573,
          0.574,
          0.58,
          0.57
         ],
         "yaxis": "y"
        },
        {
         "hovertemplate": "Name=Turkic<br>x=%{x}<br>y=%{y}<extra></extra>",
         "legendgroup": "Turkic",
         "line": {
          "color": "#00cc96",
          "dash": "solid"
         },
         "marker": {
          "symbol": "circle"
         },
         "mode": "lines",
         "name": "Turkic",
         "orientation": "v",
         "showlegend": true,
         "type": "scatter",
         "x": [
          0,
          1,
          2,
          3,
          4,
          5,
          6,
          7,
          8,
          9,
          10,
          11,
          12,
          13,
          14,
          15,
          16,
          17,
          18,
          19,
          20,
          21,
          22,
          23
         ],
         "xaxis": "x",
         "y": [
          0.558,
          0.543,
          0.553,
          0.592,
          0.574,
          0.568,
          0.57,
          0.578,
          0.597,
          0.573,
          0.565,
          0.588,
          0.589,
          0.59,
          0.573,
          0.571,
          0.588,
          0.575,
          0.576,
          0.591,
          0.575,
          0.567,
          0.539,
          0.538
         ],
         "yaxis": "y"
        }
       ],
       "layout": {
        "legend": {
         "title": {
          "text": "Name"
         },
         "tracegroupgap": 0
        },
        "margin": {
         "t": 60
        },
        "template": {
         "data": {
          "bar": [
           {
            "error_x": {
             "color": "#2a3f5f"
            },
            "error_y": {
             "color": "#2a3f5f"
            },
            "marker": {
             "line": {
              "color": "#E5ECF6",
              "width": 0.5
             },
             "pattern": {
              "fillmode": "overlay",
              "size": 10,
              "solidity": 0.2
             }
            },
            "type": "bar"
           }
          ],
          "barpolar": [
           {
            "marker": {
             "line": {
              "color": "#E5ECF6",
              "width": 0.5
             },
             "pattern": {
              "fillmode": "overlay",
              "size": 10,
              "solidity": 0.2
             }
            },
            "type": "barpolar"
           }
          ],
          "carpet": [
           {
            "aaxis": {
             "endlinecolor": "#2a3f5f",
             "gridcolor": "white",
             "linecolor": "white",
             "minorgridcolor": "white",
             "startlinecolor": "#2a3f5f"
            },
            "baxis": {
             "endlinecolor": "#2a3f5f",
             "gridcolor": "white",
             "linecolor": "white",
             "minorgridcolor": "white",
             "startlinecolor": "#2a3f5f"
            },
            "type": "carpet"
           }
          ],
          "choropleth": [
           {
            "colorbar": {
             "outlinewidth": 0,
             "ticks": ""
            },
            "type": "choropleth"
           }
          ],
          "contour": [
           {
            "colorbar": {
             "outlinewidth": 0,
             "ticks": ""
            },
            "colorscale": [
             [
              0,
              "#0d0887"
             ],
             [
              0.1111111111111111,
              "#46039f"
             ],
             [
              0.2222222222222222,
              "#7201a8"
             ],
             [
              0.3333333333333333,
              "#9c179e"
             ],
             [
              0.4444444444444444,
              "#bd3786"
             ],
             [
              0.5555555555555556,
              "#d8576b"
             ],
             [
              0.6666666666666666,
              "#ed7953"
             ],
             [
              0.7777777777777778,
              "#fb9f3a"
             ],
             [
              0.8888888888888888,
              "#fdca26"
             ],
             [
              1,
              "#f0f921"
             ]
            ],
            "type": "contour"
           }
          ],
          "contourcarpet": [
           {
            "colorbar": {
             "outlinewidth": 0,
             "ticks": ""
            },
            "type": "contourcarpet"
           }
          ],
          "heatmap": [
           {
            "colorbar": {
             "outlinewidth": 0,
             "ticks": ""
            },
            "colorscale": [
             [
              0,
              "#0d0887"
             ],
             [
              0.1111111111111111,
              "#46039f"
             ],
             [
              0.2222222222222222,
              "#7201a8"
             ],
             [
              0.3333333333333333,
              "#9c179e"
             ],
             [
              0.4444444444444444,
              "#bd3786"
             ],
             [
              0.5555555555555556,
              "#d8576b"
             ],
             [
              0.6666666666666666,
              "#ed7953"
             ],
             [
              0.7777777777777778,
              "#fb9f3a"
             ],
             [
              0.8888888888888888,
              "#fdca26"
             ],
             [
              1,
              "#f0f921"
             ]
            ],
            "type": "heatmap"
           }
          ],
          "heatmapgl": [
           {
            "colorbar": {
             "outlinewidth": 0,
             "ticks": ""
            },
            "colorscale": [
             [
              0,
              "#0d0887"
             ],
             [
              0.1111111111111111,
              "#46039f"
             ],
             [
              0.2222222222222222,
              "#7201a8"
             ],
             [
              0.3333333333333333,
              "#9c179e"
             ],
             [
              0.4444444444444444,
              "#bd3786"
             ],
             [
              0.5555555555555556,
              "#d8576b"
             ],
             [
              0.6666666666666666,
              "#ed7953"
             ],
             [
              0.7777777777777778,
              "#fb9f3a"
             ],
             [
              0.8888888888888888,
              "#fdca26"
             ],
             [
              1,
              "#f0f921"
             ]
            ],
            "type": "heatmapgl"
           }
          ],
          "histogram": [
           {
            "marker": {
             "pattern": {
              "fillmode": "overlay",
              "size": 10,
              "solidity": 0.2
             }
            },
            "type": "histogram"
           }
          ],
          "histogram2d": [
           {
            "colorbar": {
             "outlinewidth": 0,
             "ticks": ""
            },
            "colorscale": [
             [
              0,
              "#0d0887"
             ],
             [
              0.1111111111111111,
              "#46039f"
             ],
             [
              0.2222222222222222,
              "#7201a8"
             ],
             [
              0.3333333333333333,
              "#9c179e"
             ],
             [
              0.4444444444444444,
              "#bd3786"
             ],
             [
              0.5555555555555556,
              "#d8576b"
             ],
             [
              0.6666666666666666,
              "#ed7953"
             ],
             [
              0.7777777777777778,
              "#fb9f3a"
             ],
             [
              0.8888888888888888,
              "#fdca26"
             ],
             [
              1,
              "#f0f921"
             ]
            ],
            "type": "histogram2d"
           }
          ],
          "histogram2dcontour": [
           {
            "colorbar": {
             "outlinewidth": 0,
             "ticks": ""
            },
            "colorscale": [
             [
              0,
              "#0d0887"
             ],
             [
              0.1111111111111111,
              "#46039f"
             ],
             [
              0.2222222222222222,
              "#7201a8"
             ],
             [
              0.3333333333333333,
              "#9c179e"
             ],
             [
              0.4444444444444444,
              "#bd3786"
             ],
             [
              0.5555555555555556,
              "#d8576b"
             ],
             [
              0.6666666666666666,
              "#ed7953"
             ],
             [
              0.7777777777777778,
              "#fb9f3a"
             ],
             [
              0.8888888888888888,
              "#fdca26"
             ],
             [
              1,
              "#f0f921"
             ]
            ],
            "type": "histogram2dcontour"
           }
          ],
          "mesh3d": [
           {
            "colorbar": {
             "outlinewidth": 0,
             "ticks": ""
            },
            "type": "mesh3d"
           }
          ],
          "parcoords": [
           {
            "line": {
             "colorbar": {
              "outlinewidth": 0,
              "ticks": ""
             }
            },
            "type": "parcoords"
           }
          ],
          "pie": [
           {
            "automargin": true,
            "type": "pie"
           }
          ],
          "scatter": [
           {
            "fillpattern": {
             "fillmode": "overlay",
             "size": 10,
             "solidity": 0.2
            },
            "type": "scatter"
           }
          ],
          "scatter3d": [
           {
            "line": {
             "colorbar": {
              "outlinewidth": 0,
              "ticks": ""
             }
            },
            "marker": {
             "colorbar": {
              "outlinewidth": 0,
              "ticks": ""
             }
            },
            "type": "scatter3d"
           }
          ],
          "scattercarpet": [
           {
            "marker": {
             "colorbar": {
              "outlinewidth": 0,
              "ticks": ""
             }
            },
            "type": "scattercarpet"
           }
          ],
          "scattergeo": [
           {
            "marker": {
             "colorbar": {
              "outlinewidth": 0,
              "ticks": ""
             }
            },
            "type": "scattergeo"
           }
          ],
          "scattergl": [
           {
            "marker": {
             "colorbar": {
              "outlinewidth": 0,
              "ticks": ""
             }
            },
            "type": "scattergl"
           }
          ],
          "scattermapbox": [
           {
            "marker": {
             "colorbar": {
              "outlinewidth": 0,
              "ticks": ""
             }
            },
            "type": "scattermapbox"
           }
          ],
          "scatterpolar": [
           {
            "marker": {
             "colorbar": {
              "outlinewidth": 0,
              "ticks": ""
             }
            },
            "type": "scatterpolar"
           }
          ],
          "scatterpolargl": [
           {
            "marker": {
             "colorbar": {
              "outlinewidth": 0,
              "ticks": ""
             }
            },
            "type": "scatterpolargl"
           }
          ],
          "scatterternary": [
           {
            "marker": {
             "colorbar": {
              "outlinewidth": 0,
              "ticks": ""
             }
            },
            "type": "scatterternary"
           }
          ],
          "surface": [
           {
            "colorbar": {
             "outlinewidth": 0,
             "ticks": ""
            },
            "colorscale": [
             [
              0,
              "#0d0887"
             ],
             [
              0.1111111111111111,
              "#46039f"
             ],
             [
              0.2222222222222222,
              "#7201a8"
             ],
             [
              0.3333333333333333,
              "#9c179e"
             ],
             [
              0.4444444444444444,
              "#bd3786"
             ],
             [
              0.5555555555555556,
              "#d8576b"
             ],
             [
              0.6666666666666666,
              "#ed7953"
             ],
             [
              0.7777777777777778,
              "#fb9f3a"
             ],
             [
              0.8888888888888888,
              "#fdca26"
             ],
             [
              1,
              "#f0f921"
             ]
            ],
            "type": "surface"
           }
          ],
          "table": [
           {
            "cells": {
             "fill": {
              "color": "#EBF0F8"
             },
             "line": {
              "color": "white"
             }
            },
            "header": {
             "fill": {
              "color": "#C8D4E3"
             },
             "line": {
              "color": "white"
             }
            },
            "type": "table"
           }
          ]
         },
         "layout": {
          "annotationdefaults": {
           "arrowcolor": "#2a3f5f",
           "arrowhead": 0,
           "arrowwidth": 1
          },
          "autotypenumbers": "strict",
          "coloraxis": {
           "colorbar": {
            "outlinewidth": 0,
            "ticks": ""
           }
          },
          "colorscale": {
           "diverging": [
            [
             0,
             "#8e0152"
            ],
            [
             0.1,
             "#c51b7d"
            ],
            [
             0.2,
             "#de77ae"
            ],
            [
             0.3,
             "#f1b6da"
            ],
            [
             0.4,
             "#fde0ef"
            ],
            [
             0.5,
             "#f7f7f7"
            ],
            [
             0.6,
             "#e6f5d0"
            ],
            [
             0.7,
             "#b8e186"
            ],
            [
             0.8,
             "#7fbc41"
            ],
            [
             0.9,
             "#4d9221"
            ],
            [
             1,
             "#276419"
            ]
           ],
           "sequential": [
            [
             0,
             "#0d0887"
            ],
            [
             0.1111111111111111,
             "#46039f"
            ],
            [
             0.2222222222222222,
             "#7201a8"
            ],
            [
             0.3333333333333333,
             "#9c179e"
            ],
            [
             0.4444444444444444,
             "#bd3786"
            ],
            [
             0.5555555555555556,
             "#d8576b"
            ],
            [
             0.6666666666666666,
             "#ed7953"
            ],
            [
             0.7777777777777778,
             "#fb9f3a"
            ],
            [
             0.8888888888888888,
             "#fdca26"
            ],
            [
             1,
             "#f0f921"
            ]
           ],
           "sequentialminus": [
            [
             0,
             "#0d0887"
            ],
            [
             0.1111111111111111,
             "#46039f"
            ],
            [
             0.2222222222222222,
             "#7201a8"
            ],
            [
             0.3333333333333333,
             "#9c179e"
            ],
            [
             0.4444444444444444,
             "#bd3786"
            ],
            [
             0.5555555555555556,
             "#d8576b"
            ],
            [
             0.6666666666666666,
             "#ed7953"
            ],
            [
             0.7777777777777778,
             "#fb9f3a"
            ],
            [
             0.8888888888888888,
             "#fdca26"
            ],
            [
             1,
             "#f0f921"
            ]
           ]
          },
          "colorway": [
           "#636efa",
           "#EF553B",
           "#00cc96",
           "#ab63fa",
           "#FFA15A",
           "#19d3f3",
           "#FF6692",
           "#B6E880",
           "#FF97FF",
           "#FECB52"
          ],
          "font": {
           "color": "#2a3f5f"
          },
          "geo": {
           "bgcolor": "white",
           "lakecolor": "white",
           "landcolor": "#E5ECF6",
           "showlakes": true,
           "showland": true,
           "subunitcolor": "white"
          },
          "hoverlabel": {
           "align": "left"
          },
          "hovermode": "closest",
          "mapbox": {
           "style": "light"
          },
          "paper_bgcolor": "white",
          "plot_bgcolor": "#E5ECF6",
          "polar": {
           "angularaxis": {
            "gridcolor": "white",
            "linecolor": "white",
            "ticks": ""
           },
           "bgcolor": "#E5ECF6",
           "radialaxis": {
            "gridcolor": "white",
            "linecolor": "white",
            "ticks": ""
           }
          },
          "scene": {
           "xaxis": {
            "backgroundcolor": "#E5ECF6",
            "gridcolor": "white",
            "gridwidth": 2,
            "linecolor": "white",
            "showbackground": true,
            "ticks": "",
            "zerolinecolor": "white"
           },
           "yaxis": {
            "backgroundcolor": "#E5ECF6",
            "gridcolor": "white",
            "gridwidth": 2,
            "linecolor": "white",
            "showbackground": true,
            "ticks": "",
            "zerolinecolor": "white"
           },
           "zaxis": {
            "backgroundcolor": "#E5ECF6",
            "gridcolor": "white",
            "gridwidth": 2,
            "linecolor": "white",
            "showbackground": true,
            "ticks": "",
            "zerolinecolor": "white"
           }
          },
          "shapedefaults": {
           "line": {
            "color": "#2a3f5f"
           }
          },
          "ternary": {
           "aaxis": {
            "gridcolor": "white",
            "linecolor": "white",
            "ticks": ""
           },
           "baxis": {
            "gridcolor": "white",
            "linecolor": "white",
            "ticks": ""
           },
           "bgcolor": "#E5ECF6",
           "caxis": {
            "gridcolor": "white",
            "linecolor": "white",
            "ticks": ""
           }
          },
          "title": {
           "x": 0.05
          },
          "xaxis": {
           "automargin": true,
           "gridcolor": "white",
           "linecolor": "white",
           "ticks": "",
           "title": {
            "standoff": 15
           },
           "zerolinecolor": "white",
           "zerolinewidth": 2
          },
          "yaxis": {
           "automargin": true,
           "gridcolor": "white",
           "linecolor": "white",
           "ticks": "",
           "title": {
            "standoff": 15
           },
           "zerolinecolor": "white",
           "zerolinewidth": 2
          }
         }
        },
        "xaxis": {
         "anchor": "y",
         "domain": [
          0,
          1
         ],
         "title": {
          "text": "x"
         }
        },
        "yaxis": {
         "anchor": "x",
         "domain": [
          0,
          1
         ],
         "title": {
          "text": "y"
         }
        }
       }
      }
     },
     "metadata": {},
     "output_type": "display_data"
    }
   ],
   "source": [
    "update_output(['Atlantic-Congo', 'Indo-European', 'Turkic'])"
   ]
  },
  {
   "cell_type": "code",
   "execution_count": 150,
   "metadata": {},
   "outputs": [
    {
     "data": {
      "application/vnd.plotly.v1+json": {
       "config": {
        "plotlyServerURL": "https://plot.ly"
       },
       "data": [
        {
         "hovertemplate": "Name=French<br>x=%{x}<br>y=%{y}<extra></extra>",
         "legendgroup": "French",
         "line": {
          "color": "#636efa",
          "dash": "solid"
         },
         "marker": {
          "symbol": "circle"
         },
         "mode": "lines",
         "name": "French",
         "orientation": "v",
         "showlegend": true,
         "type": "scatter",
         "x": [
          0,
          1,
          2,
          3,
          4,
          5,
          6,
          7,
          8,
          9,
          10,
          11,
          12,
          13,
          14,
          15,
          16,
          17,
          18,
          19,
          20,
          21,
          22,
          23
         ],
         "xaxis": "x",
         "y": [
          0.143,
          0.55,
          0.143,
          0.55,
          0.143,
          0.143,
          0.55,
          0.142,
          0.143,
          0.55,
          0.143,
          0.55,
          0.55,
          0.55,
          0.55,
          0.55,
          0.143,
          0.55,
          0.55,
          0.143,
          0.55,
          0.55,
          0.55,
          0.55
         ],
         "yaxis": "y"
        }
       ],
       "layout": {
        "legend": {
         "title": {
          "text": "Name"
         },
         "tracegroupgap": 0
        },
        "margin": {
         "t": 60
        },
        "template": {
         "data": {
          "bar": [
           {
            "error_x": {
             "color": "#2a3f5f"
            },
            "error_y": {
             "color": "#2a3f5f"
            },
            "marker": {
             "line": {
              "color": "#E5ECF6",
              "width": 0.5
             },
             "pattern": {
              "fillmode": "overlay",
              "size": 10,
              "solidity": 0.2
             }
            },
            "type": "bar"
           }
          ],
          "barpolar": [
           {
            "marker": {
             "line": {
              "color": "#E5ECF6",
              "width": 0.5
             },
             "pattern": {
              "fillmode": "overlay",
              "size": 10,
              "solidity": 0.2
             }
            },
            "type": "barpolar"
           }
          ],
          "carpet": [
           {
            "aaxis": {
             "endlinecolor": "#2a3f5f",
             "gridcolor": "white",
             "linecolor": "white",
             "minorgridcolor": "white",
             "startlinecolor": "#2a3f5f"
            },
            "baxis": {
             "endlinecolor": "#2a3f5f",
             "gridcolor": "white",
             "linecolor": "white",
             "minorgridcolor": "white",
             "startlinecolor": "#2a3f5f"
            },
            "type": "carpet"
           }
          ],
          "choropleth": [
           {
            "colorbar": {
             "outlinewidth": 0,
             "ticks": ""
            },
            "type": "choropleth"
           }
          ],
          "contour": [
           {
            "colorbar": {
             "outlinewidth": 0,
             "ticks": ""
            },
            "colorscale": [
             [
              0,
              "#0d0887"
             ],
             [
              0.1111111111111111,
              "#46039f"
             ],
             [
              0.2222222222222222,
              "#7201a8"
             ],
             [
              0.3333333333333333,
              "#9c179e"
             ],
             [
              0.4444444444444444,
              "#bd3786"
             ],
             [
              0.5555555555555556,
              "#d8576b"
             ],
             [
              0.6666666666666666,
              "#ed7953"
             ],
             [
              0.7777777777777778,
              "#fb9f3a"
             ],
             [
              0.8888888888888888,
              "#fdca26"
             ],
             [
              1,
              "#f0f921"
             ]
            ],
            "type": "contour"
           }
          ],
          "contourcarpet": [
           {
            "colorbar": {
             "outlinewidth": 0,
             "ticks": ""
            },
            "type": "contourcarpet"
           }
          ],
          "heatmap": [
           {
            "colorbar": {
             "outlinewidth": 0,
             "ticks": ""
            },
            "colorscale": [
             [
              0,
              "#0d0887"
             ],
             [
              0.1111111111111111,
              "#46039f"
             ],
             [
              0.2222222222222222,
              "#7201a8"
             ],
             [
              0.3333333333333333,
              "#9c179e"
             ],
             [
              0.4444444444444444,
              "#bd3786"
             ],
             [
              0.5555555555555556,
              "#d8576b"
             ],
             [
              0.6666666666666666,
              "#ed7953"
             ],
             [
              0.7777777777777778,
              "#fb9f3a"
             ],
             [
              0.8888888888888888,
              "#fdca26"
             ],
             [
              1,
              "#f0f921"
             ]
            ],
            "type": "heatmap"
           }
          ],
          "heatmapgl": [
           {
            "colorbar": {
             "outlinewidth": 0,
             "ticks": ""
            },
            "colorscale": [
             [
              0,
              "#0d0887"
             ],
             [
              0.1111111111111111,
              "#46039f"
             ],
             [
              0.2222222222222222,
              "#7201a8"
             ],
             [
              0.3333333333333333,
              "#9c179e"
             ],
             [
              0.4444444444444444,
              "#bd3786"
             ],
             [
              0.5555555555555556,
              "#d8576b"
             ],
             [
              0.6666666666666666,
              "#ed7953"
             ],
             [
              0.7777777777777778,
              "#fb9f3a"
             ],
             [
              0.8888888888888888,
              "#fdca26"
             ],
             [
              1,
              "#f0f921"
             ]
            ],
            "type": "heatmapgl"
           }
          ],
          "histogram": [
           {
            "marker": {
             "pattern": {
              "fillmode": "overlay",
              "size": 10,
              "solidity": 0.2
             }
            },
            "type": "histogram"
           }
          ],
          "histogram2d": [
           {
            "colorbar": {
             "outlinewidth": 0,
             "ticks": ""
            },
            "colorscale": [
             [
              0,
              "#0d0887"
             ],
             [
              0.1111111111111111,
              "#46039f"
             ],
             [
              0.2222222222222222,
              "#7201a8"
             ],
             [
              0.3333333333333333,
              "#9c179e"
             ],
             [
              0.4444444444444444,
              "#bd3786"
             ],
             [
              0.5555555555555556,
              "#d8576b"
             ],
             [
              0.6666666666666666,
              "#ed7953"
             ],
             [
              0.7777777777777778,
              "#fb9f3a"
             ],
             [
              0.8888888888888888,
              "#fdca26"
             ],
             [
              1,
              "#f0f921"
             ]
            ],
            "type": "histogram2d"
           }
          ],
          "histogram2dcontour": [
           {
            "colorbar": {
             "outlinewidth": 0,
             "ticks": ""
            },
            "colorscale": [
             [
              0,
              "#0d0887"
             ],
             [
              0.1111111111111111,
              "#46039f"
             ],
             [
              0.2222222222222222,
              "#7201a8"
             ],
             [
              0.3333333333333333,
              "#9c179e"
             ],
             [
              0.4444444444444444,
              "#bd3786"
             ],
             [
              0.5555555555555556,
              "#d8576b"
             ],
             [
              0.6666666666666666,
              "#ed7953"
             ],
             [
              0.7777777777777778,
              "#fb9f3a"
             ],
             [
              0.8888888888888888,
              "#fdca26"
             ],
             [
              1,
              "#f0f921"
             ]
            ],
            "type": "histogram2dcontour"
           }
          ],
          "mesh3d": [
           {
            "colorbar": {
             "outlinewidth": 0,
             "ticks": ""
            },
            "type": "mesh3d"
           }
          ],
          "parcoords": [
           {
            "line": {
             "colorbar": {
              "outlinewidth": 0,
              "ticks": ""
             }
            },
            "type": "parcoords"
           }
          ],
          "pie": [
           {
            "automargin": true,
            "type": "pie"
           }
          ],
          "scatter": [
           {
            "fillpattern": {
             "fillmode": "overlay",
             "size": 10,
             "solidity": 0.2
            },
            "type": "scatter"
           }
          ],
          "scatter3d": [
           {
            "line": {
             "colorbar": {
              "outlinewidth": 0,
              "ticks": ""
             }
            },
            "marker": {
             "colorbar": {
              "outlinewidth": 0,
              "ticks": ""
             }
            },
            "type": "scatter3d"
           }
          ],
          "scattercarpet": [
           {
            "marker": {
             "colorbar": {
              "outlinewidth": 0,
              "ticks": ""
             }
            },
            "type": "scattercarpet"
           }
          ],
          "scattergeo": [
           {
            "marker": {
             "colorbar": {
              "outlinewidth": 0,
              "ticks": ""
             }
            },
            "type": "scattergeo"
           }
          ],
          "scattergl": [
           {
            "marker": {
             "colorbar": {
              "outlinewidth": 0,
              "ticks": ""
             }
            },
            "type": "scattergl"
           }
          ],
          "scattermapbox": [
           {
            "marker": {
             "colorbar": {
              "outlinewidth": 0,
              "ticks": ""
             }
            },
            "type": "scattermapbox"
           }
          ],
          "scatterpolar": [
           {
            "marker": {
             "colorbar": {
              "outlinewidth": 0,
              "ticks": ""
             }
            },
            "type": "scatterpolar"
           }
          ],
          "scatterpolargl": [
           {
            "marker": {
             "colorbar": {
              "outlinewidth": 0,
              "ticks": ""
             }
            },
            "type": "scatterpolargl"
           }
          ],
          "scatterternary": [
           {
            "marker": {
             "colorbar": {
              "outlinewidth": 0,
              "ticks": ""
             }
            },
            "type": "scatterternary"
           }
          ],
          "surface": [
           {
            "colorbar": {
             "outlinewidth": 0,
             "ticks": ""
            },
            "colorscale": [
             [
              0,
              "#0d0887"
             ],
             [
              0.1111111111111111,
              "#46039f"
             ],
             [
              0.2222222222222222,
              "#7201a8"
             ],
             [
              0.3333333333333333,
              "#9c179e"
             ],
             [
              0.4444444444444444,
              "#bd3786"
             ],
             [
              0.5555555555555556,
              "#d8576b"
             ],
             [
              0.6666666666666666,
              "#ed7953"
             ],
             [
              0.7777777777777778,
              "#fb9f3a"
             ],
             [
              0.8888888888888888,
              "#fdca26"
             ],
             [
              1,
              "#f0f921"
             ]
            ],
            "type": "surface"
           }
          ],
          "table": [
           {
            "cells": {
             "fill": {
              "color": "#EBF0F8"
             },
             "line": {
              "color": "white"
             }
            },
            "header": {
             "fill": {
              "color": "#C8D4E3"
             },
             "line": {
              "color": "white"
             }
            },
            "type": "table"
           }
          ]
         },
         "layout": {
          "annotationdefaults": {
           "arrowcolor": "#2a3f5f",
           "arrowhead": 0,
           "arrowwidth": 1
          },
          "autotypenumbers": "strict",
          "coloraxis": {
           "colorbar": {
            "outlinewidth": 0,
            "ticks": ""
           }
          },
          "colorscale": {
           "diverging": [
            [
             0,
             "#8e0152"
            ],
            [
             0.1,
             "#c51b7d"
            ],
            [
             0.2,
             "#de77ae"
            ],
            [
             0.3,
             "#f1b6da"
            ],
            [
             0.4,
             "#fde0ef"
            ],
            [
             0.5,
             "#f7f7f7"
            ],
            [
             0.6,
             "#e6f5d0"
            ],
            [
             0.7,
             "#b8e186"
            ],
            [
             0.8,
             "#7fbc41"
            ],
            [
             0.9,
             "#4d9221"
            ],
            [
             1,
             "#276419"
            ]
           ],
           "sequential": [
            [
             0,
             "#0d0887"
            ],
            [
             0.1111111111111111,
             "#46039f"
            ],
            [
             0.2222222222222222,
             "#7201a8"
            ],
            [
             0.3333333333333333,
             "#9c179e"
            ],
            [
             0.4444444444444444,
             "#bd3786"
            ],
            [
             0.5555555555555556,
             "#d8576b"
            ],
            [
             0.6666666666666666,
             "#ed7953"
            ],
            [
             0.7777777777777778,
             "#fb9f3a"
            ],
            [
             0.8888888888888888,
             "#fdca26"
            ],
            [
             1,
             "#f0f921"
            ]
           ],
           "sequentialminus": [
            [
             0,
             "#0d0887"
            ],
            [
             0.1111111111111111,
             "#46039f"
            ],
            [
             0.2222222222222222,
             "#7201a8"
            ],
            [
             0.3333333333333333,
             "#9c179e"
            ],
            [
             0.4444444444444444,
             "#bd3786"
            ],
            [
             0.5555555555555556,
             "#d8576b"
            ],
            [
             0.6666666666666666,
             "#ed7953"
            ],
            [
             0.7777777777777778,
             "#fb9f3a"
            ],
            [
             0.8888888888888888,
             "#fdca26"
            ],
            [
             1,
             "#f0f921"
            ]
           ]
          },
          "colorway": [
           "#636efa",
           "#EF553B",
           "#00cc96",
           "#ab63fa",
           "#FFA15A",
           "#19d3f3",
           "#FF6692",
           "#B6E880",
           "#FF97FF",
           "#FECB52"
          ],
          "font": {
           "color": "#2a3f5f"
          },
          "geo": {
           "bgcolor": "white",
           "lakecolor": "white",
           "landcolor": "#E5ECF6",
           "showlakes": true,
           "showland": true,
           "subunitcolor": "white"
          },
          "hoverlabel": {
           "align": "left"
          },
          "hovermode": "closest",
          "mapbox": {
           "style": "light"
          },
          "paper_bgcolor": "white",
          "plot_bgcolor": "#E5ECF6",
          "polar": {
           "angularaxis": {
            "gridcolor": "white",
            "linecolor": "white",
            "ticks": ""
           },
           "bgcolor": "#E5ECF6",
           "radialaxis": {
            "gridcolor": "white",
            "linecolor": "white",
            "ticks": ""
           }
          },
          "scene": {
           "xaxis": {
            "backgroundcolor": "#E5ECF6",
            "gridcolor": "white",
            "gridwidth": 2,
            "linecolor": "white",
            "showbackground": true,
            "ticks": "",
            "zerolinecolor": "white"
           },
           "yaxis": {
            "backgroundcolor": "#E5ECF6",
            "gridcolor": "white",
            "gridwidth": 2,
            "linecolor": "white",
            "showbackground": true,
            "ticks": "",
            "zerolinecolor": "white"
           },
           "zaxis": {
            "backgroundcolor": "#E5ECF6",
            "gridcolor": "white",
            "gridwidth": 2,
            "linecolor": "white",
            "showbackground": true,
            "ticks": "",
            "zerolinecolor": "white"
           }
          },
          "shapedefaults": {
           "line": {
            "color": "#2a3f5f"
           }
          },
          "ternary": {
           "aaxis": {
            "gridcolor": "white",
            "linecolor": "white",
            "ticks": ""
           },
           "baxis": {
            "gridcolor": "white",
            "linecolor": "white",
            "ticks": ""
           },
           "bgcolor": "#E5ECF6",
           "caxis": {
            "gridcolor": "white",
            "linecolor": "white",
            "ticks": ""
           }
          },
          "title": {
           "x": 0.05
          },
          "xaxis": {
           "automargin": true,
           "gridcolor": "white",
           "linecolor": "white",
           "ticks": "",
           "title": {
            "standoff": 15
           },
           "zerolinecolor": "white",
           "zerolinewidth": 2
          },
          "yaxis": {
           "automargin": true,
           "gridcolor": "white",
           "linecolor": "white",
           "ticks": "",
           "title": {
            "standoff": 15
           },
           "zerolinecolor": "white",
           "zerolinewidth": 2
          }
         }
        },
        "xaxis": {
         "anchor": "y",
         "domain": [
          0,
          1
         ],
         "title": {
          "text": "x"
         }
        },
        "yaxis": {
         "anchor": "x",
         "domain": [
          0,
          1
         ],
         "title": {
          "text": "y"
         }
        }
       }
      }
     },
     "metadata": {},
     "output_type": "display_data"
    }
   ],
   "source": [
    "def every_language(languages, category):\n",
    "    df = pd.DataFrame(columns = ['Name', 'x', 'y'])\n",
    "    if isinstance(languages, list):\n",
    "        count = -1\n",
    "        for element in languages:\n",
    "            count += 1\n",
    "            df_temp = df1[df1['Name'].isin([element])]\n",
    "            df_temp = df_temp[df_temp['Category'].isin([category[count]])]\n",
    "            frames = [df_temp, df]\n",
    "            df = pd.concat(frames)\n",
    "        fig = px.line(df, x = 'x', y = 'y', color='Name')\n",
    "    else:\n",
    "        df_temp = df1[df1['Name'].isin([languages])]\n",
    "        df_temp = df_temp[df_temp['Category'].isin([category])]\n",
    "        frames = [df_temp, df]\n",
    "        df = pd.concat(frames)\n",
    "        fig = px.line(df, x = 'x', y = 'y', color='Name')\n",
    "    return fig\n",
    "# every_language(['French', 'Spanish'], ['VerbForm', 'Definite'])\n",
    "every_language('French', 'VerbForm')"
   ]
  }
 ],
 "metadata": {
  "kernelspec": {
   "display_name": "Python 3",
   "language": "python",
   "name": "python3"
  },
  "language_info": {
   "codemirror_mode": {
    "name": "ipython",
    "version": 3
   },
   "file_extension": ".py",
   "mimetype": "text/x-python",
   "name": "python",
   "nbconvert_exporter": "python",
   "pygments_lexer": "ipython3",
   "version": "3.9.13"
  },
  "orig_nbformat": 4,
  "vscode": {
   "interpreter": {
    "hash": "8e284ee3255a07ad8bf76694974743c4c81cb57e7c969474d752d949b11d721e"
   }
  }
 },
 "nbformat": 4,
 "nbformat_minor": 2
}
